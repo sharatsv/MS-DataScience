{
 "cells": [
  {
   "cell_type": "code",
   "execution_count": 1,
   "metadata": {},
   "outputs": [],
   "source": [
    "# Program to connect to the tweeter api and collect tweets\n",
    "# related to AI. For the sake of this experiment \n",
    "import tweepy as tw\n",
    "\n",
    "# Important tweeter tokens for auth\n",
    "consumer_key= ''\n",
    "consumer_secret= ''\n",
    "access_token= ''\n",
    "access_token_secret= ''\n",
    "\n",
    "auth = tw.OAuthHandler(consumer_key, consumer_secret)\n",
    "auth.set_access_token(access_token, access_token_secret)\n",
    "api = tw.API(auth, wait_on_rate_limit=True)\n"
   ]
  },
  {
   "cell_type": "code",
   "execution_count": 2,
   "metadata": {},
   "outputs": [
    {
     "name": "stdout",
     "output_type": "stream",
     "text": [
      "['Reliable with excellent characteristics&amp;a unique idea I am very thankful to the team,because You created a very exc… https://t.co/MaohelVOFj', 'RT @_M_Dey: Researchers use AI to empower environmental regulators | #AI #Environment #Regulation #Pollution #Health #Sustainability #Machi…', 'RT @DVGallery: Deep Vision #00569\\n\\n#DeepVision #DeepVisionAI #CNFT #CNFTs #Cardano #CardanoCommunity #NFT #NFTs #NFTArt #AI #ArtificialInte…', 'RT @PrimeClasses_: Explore Our 100% Job Guarantee Programs by Prime Classes @ https://t.co/HLk8d1Sspt\\n\\nData Science Glossary -Representatio…', 'RT @Foxmental_X: This Article Was Written by Artificial Intelligence: How Do You Have a Better Relationship? | by I am Valerio | ILLUMINATI…', '#Microsoft Becomes World’s Most Valuable Stock as #Apple Drops https://t.co/QUYhYluq0w via @business #azure #cloud… https://t.co/mG1Wp9BGJX', 'This Article Was Written by Artificial Intelligence: How Do You Have a Better Relationship? | by I am Valerio | ILL… https://t.co/IWjTenJyLj', 'Explore Our 100% Job Guarantee Programs by Prime Classes @ https://t.co/HLk8d1Sspt\\n\\nData Science Glossary -Represen… https://t.co/qwbgvG7VbL', 'RT @future_of_AI: AI projects to tackle racial health inequalities get £1.4M boost https://t.co/c5XOR7NFOn #AI #healthcare #DigitalTransfor…', 'The latest The Lilach Bullock Daily! https://t.co/BFbAAlZUtl Thanks to @missjoy1965 @charlie_tango98 @Aschettino #ai #machinelearning', 'RT @jblefevre60: 💥 The 100 Biggest Companies in the World in 2021!\\n\\n#AI #MachineLearning #DeepLearning #coding #Python #100DaysOfCode @Visu…', 'RT @Strat_AI: #CyberSecurity: Top #Linux Vulnerabilities Exploited by Hackers #5G #100DaysOfCode #AI #Analytics #AR #ArtificialIntelligence…', 'RT @Strat_AI: #CyberSecurity: Top #Linux Vulnerabilities Exploited by Hackers #5G #100DaysOfCode #AI #Analytics #AR #ArtificialIntelligence…', 'RT @Strat_AI: #CyberSecurity: Top 30 Critical Security Flaws Most Used by Cybercriminals || #5G #100DaysOfCode #AI #Analytics #ArtificialIn…', 'RT @Uaxy2: Service by #Nikseam\\n#MachineLearning #5G #DataScience #startup #100DaysOfCode #mumbai #Python #Cybersecurity #BigData #IoT #Deep…', 'RT @Uaxy2: Service by #Nikseam\\n#MachineLearning #5G #DataScience #startup #100DaysOfCode #mumbai #Python #Cybersecurity #BigData #IoT #Deep…', 'RT @Uaxy2: Service by #Nikseam\\n#MachineLearning #5G #DataScience #startup #100DaysOfCode #mumbai #Python #Cybersecurity #BigData #IoT #Deep…', 'RT @jblefevre60: 💥 The 100 Biggest Companies in the World in 2021!\\n\\n#AI #MachineLearning #DeepLearning #coding #Python #100DaysOfCode @Visu…', 'RT @pfitzart: Someday soon the only respectable academic field of study will be historian. Don’t worry, it won’t happen in your generation.…', \"RT @ST_World: 🆕🆕The #STM32 Virtual Seminar will introduce ST's complete STM32 product solution for #wireless connectivity, #AI, digital pow…\", 'Someday soon the only respectable academic field of study will be historian. Don’t worry, it won’t happen in your generation. #AI', 'RT @HaleChris: How artificial intelligence is infiltrating the DJ booth. https://t.co/c5e4m6tTb3 #ai #music', 'RT @JobPreference: NEED a JOB?\\nSign up now https://t.co/rMErDK45VP\\nFREE. NO MIDDLEMEN\\n#innoavtion #VR #AR #DigitalMarketing #AI #Artificial…', 'RT @AutomationAnywh: By integrating machine learning (#ML) and artificial intelligence (#AI) into Robotic Process Automation (#RPA) you can…', 'RT @JobPreference: NEED a JOB?\\nSign up now https://t.co/rMErDK45VP\\nFREE. NO MIDDLEMEN\\n#innoavtion #VR #AR #DigitalMarketing #AI #Artificial…', 'How artificial intelligence is infiltrating the DJ booth. https://t.co/c5e4m6tTb3 #ai #music', 'RT @MargaretSiegien: 30 brushstrokes plunge into the abstract; 300 brushstrokes etch into the ultra-realistic\\n#AI #Robotics #art #painting…', 'RT @future_of_AI: 2021 Survey of Evolving Cyber Threats in the Public Sector: Key Takeaways https://t.co/bhzcGflDvI #AI #cybersecurity #Cyb…', 'RT @Sharleneisenia: Check out the Infiniti QX90 concept car \\n🎥 @DigitalTrends #AI #semiautonomous #ElectricVehicles \\n\\n@mvollmer1 @TheAditya…', 'RT @New081082: Python data structure cheat sheet 📝\\n#NumPy #100DaysOfCode\\n#AI #blog #OpenSource #Python #programming #stackoverflow  #Algori…', 'RT @ingliguori: Common #sensor categories including magnetic sensors in #IoT applications. \\nhttps://t.co/02CsTP1UkF via @ingliguori #Digita…', 'RT @AutomationAnywh: By integrating machine learning (#ML) and artificial intelligence (#AI) into Robotic Process Automation (#RPA) you can…', 'Join us on Azure IaaS Day: Learn to increase agility and resiliency of your infrastructure | #AI #Cloud https://t.co/qmH6xeCEpl', 'RT @Fabriziobustama: Visit the Meca500 robotic arm at the @centresciences\\nBy @Mecademic \\n#Robotics #AI #IoT #IIoT #5G #RPA #100DaysOfCode #…', 'RT @asmakhan_345: Recover Deleted Messages- Save  \\n\\n#100DaysOfCode #Python #AI #DataScience #WomenInSTEM #Cloud #IoT #DigitalMarketing #fin…', 'RT @KirkDBorne: From @Gartner_inc Insights &gt;&gt; See how @ModelOp_Co is a key #ModelOps vendor: https://t.co/zSZwR4Bvau\\n\\nSee why: https://t.co…', 'Service by #Nikseam\\n#MachineLearning #5G #DataScience #startup #100DaysOfCode #mumbai #Python #Cybersecurity… https://t.co/S7RpUnk3o1', 'RT @KirkDBorne: 5 Ways IoT Can Help Save Our Planet: https://t.co/r4wVZHbN8s by @mariarosil \\n———\\n#IoT #IIoT #IoTPL #IoTCommunity #DigitalTr…', 'RT @KirkDBorne: Comparing Model Evaluation Techniques, Part 3 — Regression Models: https://t.co/Pue3biS7v1\\n———————\\n#BigData #DataScience #S…', 'Comparing Model Evaluation Techniques, Part 3 — Regression Models: https://t.co/Pue3biS7v1\\n———————\\n#BigData… https://t.co/x2a2jaYWvO', 'RT @asmakhan_345: Recover Deleted Messages- Save  \\n\\n#100DaysOfCode #Python #AI #DataScience #WomenInSTEM #Cloud #IoT #DigitalMarketing #fin…', 'RT @akbarth3great: #digitalart #ai #artificialintelligence #abstract #artist Today’s Abstracts https://t.co/gWsljhroSN', 'RT @DeepLearn007: Gartner Top Strategic Tech Trends for 2022\\n\\nhttps://t.co/XelRxi71o3\\n\\n@pierrepinna @sallyeaves @Xbond49 @SpirosMargaris @H…', 'RT @steube: Augmented Reality Credit Card\\n\\n#AugmentedReality #MR #MixedReality #AI #MachineLearning #AR #fintech #iot #Ml #vr MT @jblefevre…', 'RT @Ronald_vanLoon: This machine eliminates 100,000 weeds per hour using powerful lasers\\nby @gigadgets_\\n\\n#AI #ArtificialIntelligence #RPA #…', 'RT @PawlowskiMario: Oil industry #workers?#Spot The #RoboDog transforming how the #energy industry operates\\n\\n@jamesvgingerich #Oil #AI #Rob…', 'RT @bj99911: #Bitcoin is likely to burn,\\nIt was part of a patient plan.\\n\\nStore of wealth represents greed,\\nAnd that is vile while people st…', 'RT @jblefevre60: 💥Advanced AI allows the sharing of emotions with humans!\\n\\n#AI #MachineLearning #neuroscience @Seeker\\n\\n@SpirosMargaris @Dee…', \"RT @JeroenBartelse: The electric-powered ferry 'Roboat' is being developed by Amsterdam's @amsinstitute and @MIT\\n\\nhttps://t.co/8bdELA6pke\\nh…\", 'Just works in progress\\n\\n@ivonatau @TormanJeremy @NerdyRodent @NFTrippy @CarlaSaFe @IvonaAya @pinar_demirdag… https://t.co/afcB0XwiYx', 'RT @milocamj: UNESCO Conducts a Training on Artificial Intelligence for Disaster Response in Tanzania - Africanews English https://t.co/qtp…', 'Hardly Boys - Wet Water Drops Variation\\nUsing best current #Ai #StyleTransfer with my #hummingbird artwork series -… https://t.co/8yvxRSkmNL', 'RT @future_of_AI: A Complete Machine Learning Package https://t.co/9XWUfmMPPj #ai #machinelearning #artificialintelligence via @fchollet', \"RT @Raymond_Norman: '5⭐️...elements of thrilling mystery, suspense, dystopian fantasy and science fiction.'\\n\\nThe Lenders Saga from @Travis_…\", 'Umm... not sure I like where this is going; #AI #digitalpeople This company is making digital humans to serve the m… https://t.co/4BsuP0tv3e', 'RT @_AskSid: Discover more about the world of AskSid in today’s blog!\\nhttps://t.co/Yvx3myvswb\\n\\n#chatbots #technology #artificialintelligenc…', 'RT @le_busta: DM for help\\nExams\\nEssays,\\nMath\\nEnglish\\n#Newyork\\nAlgebra\\nEcology,\\nHistory,\\nPsychology,\\n#WomenWhoCode \\n#MachineLearning  #DataS…', 'RT @le_busta: DM for help\\nExams\\nEssays,\\nMath\\nEnglish\\n#Newyork\\nAlgebra\\nEcology,\\nHistory,\\nPsychology,\\n#WomenWhoCode \\n#MachineLearning  #DataS…', 'RT @KressHeiko: Infographic: The most in demand tech skills.\\n\\n#DataScience #Coding #Programming #AI #ML #Python #bigdata #softwaredevelopme…', 'RT @le_busta: DM for help\\nExams\\nEssays,\\nMath\\nEnglish\\n#Newyork\\nAlgebra\\nEcology,\\nHistory,\\nBiostatistics\\nPsychology,\\n#WomenWhoCode \\n#MachineLe…', 'RT @globaliqx: The Verbit Model For The Future Of Work With #AI\\n\\nhttps://t.co/Z7Q0AML5ve\\n\\n#IIoT #IoT #MachineLearning #DeepLearning #Finser…', \"RT @SpirosMargaris: Boston Dynamic's robot perfectly mimics \\n\\n#MickJagger's dance moves\\n\\nhttps://t.co/YaRbUiJrqU #fintech #AI #ArtificialIn…\", 'Healthcare Industry Trends Post Covid: Telemedicine, #AI, Big Data, #Blockchain, #IoT, #AR &amp; #VR https://t.co/4fJQaHSaEJ', 'RT @HeinzVHoenen: #Robots #AI #vehicles \\n\\nRobots Will Build Next-generation Vehicles\\n\\nby @Nissan via @IntEngineering ty, rt @mvollmer1 http…', 'RT @cousesites1: Feature Selection for Machine Learning #udemycoupon\\n\\n=&gt; https://t.co/BoUvh2SGJY\\n\\n#datascience #MachineLearning #python #De…', 'RT @amankk_9: 10 End-to-End Machine Learning Projects with Source Code\\nhttps://t.co/cE9DMy3owq\\n\\n#python #programming #coding #javascript #p…', 'RT @globaliqx: What does artificial intelligence mean for our world?\\n\\nhttps://t.co/pBr89g4Nqv\\n\\n#AI #IoT #IIoT #MachineLearning #DeepLearnin…', 'RT @gp_pulipaka: AI Best: Machine Learning Math. #BigData #Analytics #DataScience #AI #MachineLearning #IoT #IIoT #PyTorch #Python #RStats…', 'RT @CatherineAdenle: Infographic: What can you do with a career as a Data Scientist?\\n\\n#Data #DataScience #AI #ML #Statistics #Algorithm #da…', 'RT @mvollmer1: Common #sensor categories including magnetic sensors in #IoT applications. \\nhttps://t.co/dztZGJemDY via @ingliguori #Digital…', 'RT @jblefevre60: 💥Advanced AI allows the sharing of emotions with humans!\\n\\n#AI #MachineLearning #neuroscience @Seeker\\n\\n@SpirosMargaris @Dee…', 'RT @JobPreference: NEED a JOB?\\nSign up now https://t.co/rMErDJMv4h\\nFREE. NO MIDDLEMEN\\n#innoavtion #VR #AR #DigitalMarketing #AI #Artificial…', 'RT @Khulood_Almani: Data Mesh➡️a New #Paradigm for #Data #Management\\n\\nhttps://t.co/a5y2x5IlHI\\n\\n#DataScience #BigData #AI #MachineLearning #…', 'RT @AI_Miami: @Strat_AI #CyberSecurity: Top 30 Critical Security Flaws Used Most by Cybercriminals || #5G #100DaysOfCode #AI #Analytics #Ar…', 'RT @AI_Miami: @Strat_AI #CyberSecurity: Top 30 Critical Security Flaws Used Most by Cybercriminals || #5G #100DaysOfCode #AI #Analytics #Ar…', 'RT @GhioLena: The quest for artificial intelligence- https://t.co/QDzbXPfYiy  #artificialintelligence #google #AI https://t.co/z4lH5bkuRp', 'RT @UCSDJacobs: When #AI takes over, it will want hot wings &amp; non-perfumed water at Taco Bell and also bats on YouTube, according to this #…', '@Strat_AI #CyberSecurity: Top 30 Critical Security Flaws Used Most by Cybercriminals || #5G #100DaysOfCode #AI… https://t.co/iidySWjy9F', 'The #AI #GPT3 opines on #judgment in an #AgeOfCheapAndAccuratePrediction:  https://t.co/HSo2VmxFTK', 'RT @DeepLearn007: Gartner Top Strategic Tech Trends for 2022\\n\\nhttps://t.co/XelRxi71o3\\n\\n@pierrepinna @sallyeaves @Xbond49 @SpirosMargaris @H…', 'RT @PawlowskiMario: Oil industry #workers?#Spot The #RoboDog transforming how the #energy industry operates\\n\\n@jamesvgingerich #Oil #AI #Rob…', 'RT @mc_stocktrader: $ENZC = Excitement!  We have been able to fast-track our Monoclonal Antibodies for HIV and SARS-CoV-2.\"  @drgauravchand…', 'RT @RedNation_HQ: @Meta What are the shortcomings and effectiveness of these new technologies? #AI #cloud #climatechange', 'RT @SurgJournal: Application of an artificial neural network for predicting the potential chemotherapy benefit of patients with gastric can…', '@Meta What are the shortcomings and effectiveness of these new technologies? #AI #cloud #climatechange', 'RT @AllscopeMedia: \"The high-level use case for #AI in #marketing is that it improves ROI by making your marketing – often one of a company…', 'Announcing the 2021 recipients of research awards in misinformation and polarization | #AI #ML https://t.co/a44NBOp6n7', 'RT @CryptoListy: We earned 6 $EFX ($0.13) In just a few minutes by completing Simple tasks while we trying @effectaix , a blockchain-based…', 'RT @CryptoListy: We earned 6 $EFX ($0.13) In just a few minutes by completing Simple tasks while we trying @effectaix , a blockchain-based…', 'RT @CryptoListy: We earned 6 $EFX ($0.13) In just a few minutes by completing Simple tasks while we trying @effectaix , a blockchain-based…', 'RT @jblefevre60: 💥Meet Stretch the logistics robot!\\n\\n#AI #MachineLearning #Robotics @CNET\\n\\n@SpirosMargaris @DeepLearn007 @PawlowskiMario @m…', 'RT @CryptoListy: We earned 6 $EFX ($0.13) In just a few minutes by completing Simple tasks while we trying @effectaix , a blockchain-based…', 'RT @CryptoListy: We earned 6 $EFX ($0.13) In just a few minutes by completing Simple tasks while we trying @effectaix , a blockchain-based…', 'RT @CryptoListy: We earned 6 $EFX ($0.13) In just a few minutes by completing Simple tasks while we trying @effectaix , a blockchain-based…', 'RT @CryptoListy: We earned 6 $EFX ($0.13) In just a few minutes by completing Simple tasks while we trying @effectaix , a blockchain-based…', 'If only all #AI  was so straightforward, rhythmic and cheery...uncomplicated. @BostonDynamics @SpirosMargaris… https://t.co/GjpsrQIwWP', 'RT @jblefevre60: 💥Advanced AI allows the sharing of emotions with humans!\\n\\n#AI #MachineLearning #neuroscience @Seeker\\n\\n@SpirosMargaris @Dee…', 'RT @machinelearnflx: Linear Algebra for Machine Learning https://t.co/Nu8KOP9vwM  #machinelearning #datascience #bigdata #AI #learning #ele…', 'RT @CryptoListy: We earned 6 $EFX ($0.13) In just a few minutes by completing Simple tasks while we trying @effectaix , a blockchain-based…', 'RT @jblefevre60: 💥 The 100 Biggest Companies in the World in 2021!\\n\\n#AI #MachineLearning #DeepLearning #coding #Python #100DaysOfCode @Visu…']\n"
     ]
    }
   ],
   "source": [
    "# Collect tweets\n",
    "search_words = ['#ai', '#artificial intelligence', '#artificialintelligence']\n",
    "date_since = '2020-10-16'\n",
    "\n",
    "# Since we are purely using this to evaluate the nltk/textblob \n",
    "# for sentiment analysis let's use a sample set of 100\n",
    "sample_tweets = 100\n",
    "tweets = []\n",
    "\n",
    "for search_word in search_words:\n",
    "    _tweet_obj = tw.Cursor(api.search,\n",
    "                           q=search_word,\n",
    "                           lang=\"en\",\n",
    "                           since=date_since).items(sample_tweets)\n",
    "    for tweet in _tweet_obj:\n",
    "        tweets.append(tweet.text)\n",
    "    break\n",
    "        \n",
    "print(tweets)"
   ]
  },
  {
   "cell_type": "code",
   "execution_count": 3,
   "metadata": {},
   "outputs": [
    {
     "name": "stdout",
     "output_type": "stream",
     "text": [
      "100\n"
     ]
    }
   ],
   "source": [
    "print(len(tweets))"
   ]
  },
  {
   "cell_type": "code",
   "execution_count": 4,
   "metadata": {},
   "outputs": [
    {
     "data": {
      "text/html": [
       "<div>\n",
       "<style scoped>\n",
       "    .dataframe tbody tr th:only-of-type {\n",
       "        vertical-align: middle;\n",
       "    }\n",
       "\n",
       "    .dataframe tbody tr th {\n",
       "        vertical-align: top;\n",
       "    }\n",
       "\n",
       "    .dataframe thead th {\n",
       "        text-align: right;\n",
       "    }\n",
       "</style>\n",
       "<table border=\"1\" class=\"dataframe\">\n",
       "  <thead>\n",
       "    <tr style=\"text-align: right;\">\n",
       "      <th></th>\n",
       "      <th>Tweet</th>\n",
       "      <th>Sentiment</th>\n",
       "    </tr>\n",
       "  </thead>\n",
       "  <tbody>\n",
       "    <tr>\n",
       "      <th>0</th>\n",
       "      <td>Reliable with excellent characteristics&amp;amp;a ...</td>\n",
       "      <td>Positive</td>\n",
       "    </tr>\n",
       "    <tr>\n",
       "      <th>1</th>\n",
       "      <td>RT @_M_Dey: Researchers use AI to empower envi...</td>\n",
       "      <td>Neutral</td>\n",
       "    </tr>\n",
       "    <tr>\n",
       "      <th>2</th>\n",
       "      <td>RT @DVGallery: Deep Vision #00569\\n\\n#DeepVisi...</td>\n",
       "      <td>Positive</td>\n",
       "    </tr>\n",
       "    <tr>\n",
       "      <th>3</th>\n",
       "      <td>RT @PrimeClasses_: Explore Our 100% Job Guaran...</td>\n",
       "      <td>Positive</td>\n",
       "    </tr>\n",
       "    <tr>\n",
       "      <th>4</th>\n",
       "      <td>RT @Foxmental_X: This Article Was Written by A...</td>\n",
       "      <td>Positive</td>\n",
       "    </tr>\n",
       "  </tbody>\n",
       "</table>\n",
       "</div>"
      ],
      "text/plain": [
       "                                               Tweet Sentiment\n",
       "0  Reliable with excellent characteristics&amp;a ...  Positive\n",
       "1  RT @_M_Dey: Researchers use AI to empower envi...   Neutral\n",
       "2  RT @DVGallery: Deep Vision #00569\\n\\n#DeepVisi...  Positive\n",
       "3  RT @PrimeClasses_: Explore Our 100% Job Guaran...  Positive\n",
       "4  RT @Foxmental_X: This Article Was Written by A...  Positive"
      ]
     },
     "execution_count": 4,
     "metadata": {},
     "output_type": "execute_result"
    }
   ],
   "source": [
    "# First, let's use NLTK's sentiment-analysis across\n",
    "# collected tweets\n",
    "import pandas as pd\n",
    "import nltk\n",
    "# nltk.download('vader_lexicon')\n",
    "from nltk.sentiment import SentimentIntensityAnalyzer\n",
    "sia = SentimentIntensityAnalyzer()\n",
    "\n",
    "df = pd.DataFrame(columns=['Tweet', 'Sentiment'])\n",
    "for tweet in tweets:\n",
    "    score = sia.polarity_scores(tweet)['compound']\n",
    "    if score < 0:\n",
    "        sentiment = 'Negative'\n",
    "    elif score == 0:\n",
    "        sentiment = 'Neutral'\n",
    "    elif score > 0:\n",
    "        sentiment = 'Positive'\n",
    "        \n",
    "    df = df.append({'Tweet': tweet, 'Sentiment': sentiment}, ignore_index=True)\n",
    "\n",
    "\n",
    "df.head()"
   ]
  },
  {
   "cell_type": "code",
   "execution_count": 5,
   "metadata": {},
   "outputs": [
    {
     "data": {
      "image/png": "[encoded data removed]",
      "text/plain": [
       "<Figure size 576x360 with 1 Axes>"
      ]
     },
     "metadata": {
      "needs_background": "light"
     },
     "output_type": "display_data"
    }
   ],
   "source": [
    "# Let's do a simple plot of sentiment derived by \n",
    "# this method\n",
    "import matplotlib.pyplot as plt\n",
    "import seaborn as sns\n",
    "\n",
    "def plot_bar_graph(title, label_groups):\n",
    "    plt.figure(figsize=(8,5))\n",
    "    ax = sns.barplot(x=\"Sentiment\", y=\"counts\", data=label_groups)\n",
    "    ax.set_xticklabels(ax.get_xticklabels(), rotation=0)\n",
    "    ax.set_title(label=\"%s\" %title)\n",
    "    plt.show()\n",
    "\n",
    "\n",
    "_labels = df.groupby('Sentiment').size().reset_index(name='counts')\n",
    "plot_bar_graph('NLTK - Sentiment Analysis', _labels)"
   ]
  },
  {
   "cell_type": "code",
   "execution_count": 6,
   "metadata": {},
   "outputs": [
    {
     "data": {
      "text/html": [
       "<div>\n",
       "<style scoped>\n",
       "    .dataframe tbody tr th:only-of-type {\n",
       "        vertical-align: middle;\n",
       "    }\n",
       "\n",
       "    .dataframe tbody tr th {\n",
       "        vertical-align: top;\n",
       "    }\n",
       "\n",
       "    .dataframe thead th {\n",
       "        text-align: right;\n",
       "    }\n",
       "</style>\n",
       "<table border=\"1\" class=\"dataframe\">\n",
       "  <thead>\n",
       "    <tr style=\"text-align: right;\">\n",
       "      <th></th>\n",
       "      <th>Tweet</th>\n",
       "      <th>Sentiment</th>\n",
       "    </tr>\n",
       "  </thead>\n",
       "  <tbody>\n",
       "    <tr>\n",
       "      <th>0</th>\n",
       "      <td>Reliable with excellent characteristics&amp;amp;a ...</td>\n",
       "      <td>Positive</td>\n",
       "    </tr>\n",
       "    <tr>\n",
       "      <th>1</th>\n",
       "      <td>RT @_M_Dey: Researchers use AI to empower envi...</td>\n",
       "      <td>Neutral</td>\n",
       "    </tr>\n",
       "    <tr>\n",
       "      <th>2</th>\n",
       "      <td>RT @DVGallery: Deep Vision #00569\\n\\n#DeepVisi...</td>\n",
       "      <td>Neutral</td>\n",
       "    </tr>\n",
       "    <tr>\n",
       "      <th>3</th>\n",
       "      <td>RT @PrimeClasses_: Explore Our 100% Job Guaran...</td>\n",
       "      <td>Neutral</td>\n",
       "    </tr>\n",
       "    <tr>\n",
       "      <th>4</th>\n",
       "      <td>RT @Foxmental_X: This Article Was Written by A...</td>\n",
       "      <td>Negative</td>\n",
       "    </tr>\n",
       "  </tbody>\n",
       "</table>\n",
       "</div>"
      ],
      "text/plain": [
       "                                               Tweet Sentiment\n",
       "0  Reliable with excellent characteristics&amp;a ...  Positive\n",
       "1  RT @_M_Dey: Researchers use AI to empower envi...   Neutral\n",
       "2  RT @DVGallery: Deep Vision #00569\\n\\n#DeepVisi...   Neutral\n",
       "3  RT @PrimeClasses_: Explore Our 100% Job Guaran...   Neutral\n",
       "4  RT @Foxmental_X: This Article Was Written by A...  Negative"
      ]
     },
     "execution_count": 6,
     "metadata": {},
     "output_type": "execute_result"
    }
   ],
   "source": [
    "# Let's repeat this with textblob\n",
    "from textblob import TextBlob\n",
    "\n",
    "df_textblob = pd.DataFrame(columns=['Tweet', 'Sentiment'])\n",
    "\n",
    "for tweet in tweets:\n",
    "    score = TextBlob(tweet).sentiment.polarity\n",
    "    if score < 0:\n",
    "        sentiment = 'Negative'\n",
    "    elif score == 0:\n",
    "        sentiment = 'Neutral'\n",
    "    elif score > 0:\n",
    "        sentiment = 'Positive'\n",
    "    df_textblob = df_textblob.append({'Tweet': tweet, 'Sentiment': sentiment}, ignore_index=True)\n",
    "\n",
    "df_textblob.head()"
   ]
  },
  {
   "cell_type": "code",
   "execution_count": 7,
   "metadata": {},
   "outputs": [
    {
     "data": {
      "image/png": "[encoded data removed]",
      "text/plain": [
       "<Figure size 576x360 with 1 Axes>"
      ]
     },
     "metadata": {
      "needs_background": "light"
     },
     "output_type": "display_data"
    }
   ],
   "source": [
    "_labels = df_textblob.groupby('Sentiment').size().reset_index(name='counts')\n",
    "plot_bar_graph('TextBlob - Sentiment Analysis', _labels)"
   ]
  },
  {
   "cell_type": "code",
   "execution_count": 63,
   "metadata": {},
   "outputs": [
    {
     "name": "stdout",
     "output_type": "stream",
     "text": [
      "Size of words = 2494\n",
      "Size of words (filtered) = 1245\n",
      "['Reliable', 'excellent', 'characteristics', 'unique', 'idea', 'thankful', 'team', 'created', 'exc…', '_M_Dey']\n",
      "['Companies', 'World', '2021', 'AI', 'MachineLearning', 'DeepLearning', 'coding', 'Python', '100DaysOfCode', 'Visu…']\n"
     ]
    }
   ],
   "source": [
    "# Building on HW-1, we will use the corpus of tweets on the AI\n",
    "# tokenize, stem and lemmatize & use stop-words where neccesary\n",
    "\n",
    "# Tokenize\n",
    "from nltk.tokenize import word_tokenize\n",
    "from nltk.corpus import stopwords\n",
    "import re\n",
    "\n",
    "all_words = []\n",
    "for tweet in tweets:\n",
    "    tweet = re.sub('http\\S+', '', tweet)\n",
    "    all_words.extend(word_tokenize(tweet))\n",
    "\n",
    "print('Size of words = %d' % len(all_words))\n",
    "# print(all_words[:5])\n",
    "# print(all_words[-5:])\n",
    "\n",
    "# As a first method, we are going to clean-up all noise like\n",
    "# \\#,@,?,&,! etc.\n",
    "\n",
    "noise = ['#', '$', '&', '!', '@', 'amp', ',', ';', ':', 'RT', '.',\n",
    "        '?', '%', '|', '(', ')']\n",
    "all_words_filter = [word for word in all_words if word not in noise \\\n",
    "                    and word.lower() not in stopwords.words('english')]\n",
    "\n",
    "print('Size of words (filtered) = %d' % len(all_words_filter))\n",
    "\n",
    "print(all_words_filter[:10])\n",
    "print(all_words_filter[-10:])\n"
   ]
  },
  {
   "cell_type": "code",
   "execution_count": 64,
   "metadata": {},
   "outputs": [
    {
     "name": "stdout",
     "output_type": "stream",
     "text": [
      "Words that can be stemmed: {'created': 7, 'machinelearning': 112, 'MachineLearning': 121, 'DeepLearning': 122, 'coding': 123, 'Exploited': 132, 'Used': 160, 'infiltrating': 270, 'DigitalMarketing': 284, 'integrating': 288, 'learning': 290, 'Evolving': 335, 'programming': 371, 'including': 378, 'Deleted': 428, 'Comparing': 476, 'Augmented': 536, 'using': 559, 'transforming': 573, 'greed': 591, '💥Advanced': 596, 'sharing': 599, 'electric-powered': 609, 'developed': 613, 'Training': 631, 'Using': 647, 'Learning': 659, 'thrilling': 671, 'going': 686, 'making': 690, 'Coding': 741, 'Programming': 742, 'IntEngineering': 811, 'non-perfumed': 972, 'according': 979, 'predicting': 1051, 'marketing': 1072, 'Announcing': 1081, 'earned': 1091, 'completing': 1096, 'trying': 1099, 'uncomplicated': 1192}\n",
      "Original: created VS Stem: creat\n",
      "Original: machinelearning VS Stem: machinelearn\n",
      "Original: MachineLearning VS Stem: machinelearn\n",
      "Original: DeepLearning VS Stem: deeplearn\n",
      "Original: coding VS Stem: code\n",
      "Original: Exploited VS Stem: exploit\n",
      "Original: Used VS Stem: use\n",
      "Original: infiltrating VS Stem: infiltr\n",
      "Original: DigitalMarketing VS Stem: digitalmarket\n",
      "Original: integrating VS Stem: integr\n",
      "Original: learning VS Stem: learn\n",
      "Original: Evolving VS Stem: evolv\n",
      "Original: programming VS Stem: program\n",
      "Original: including VS Stem: includ\n",
      "Original: Deleted VS Stem: delet\n",
      "Original: Comparing VS Stem: compar\n",
      "Original: Augmented VS Stem: augment\n",
      "Original: using VS Stem: use\n",
      "Original: transforming VS Stem: transform\n",
      "Original: greed VS Stem: greed\n",
      "Original: 💥Advanced VS Stem: 💥advanc\n",
      "Original: sharing VS Stem: share\n",
      "Original: electric-powered VS Stem: electric-pow\n",
      "Original: developed VS Stem: develop\n",
      "Original: Training VS Stem: train\n",
      "Original: Using VS Stem: use\n",
      "Original: Learning VS Stem: learn\n",
      "Original: thrilling VS Stem: thrill\n",
      "Original: going VS Stem: go\n",
      "Original: making VS Stem: make\n",
      "Original: Coding VS Stem: code\n",
      "Original: Programming VS Stem: program\n",
      "Original: IntEngineering VS Stem: intengin\n",
      "Original: non-perfumed VS Stem: non-perfum\n",
      "Original: according VS Stem: accord\n",
      "Original: predicting VS Stem: predict\n",
      "Original: marketing VS Stem: market\n",
      "Original: Announcing VS Stem: announc\n",
      "Original: earned VS Stem: earn\n",
      "Original: completing VS Stem: complet\n",
      "Original: trying VS Stem: tri\n",
      "Original: uncomplicated VS Stem: uncompl\n"
     ]
    }
   ],
   "source": [
    "# Stemming\n",
    "# --------\n",
    "# Stem is part of the word to which you can add inflectional\n",
    "# affixes such as (-ed, -ize, -s, -de). Stemming is the process of removing \n",
    "# the inflectional affixes. \n",
    "# This is particularly useful in search engines and information retrieval \n",
    "# where stemming is used to index words. And therefore, instead of storing all \n",
    "# forms of words, the index can comprise merely stem words.\n",
    "\n",
    "# Comparing a couple of Stemmers:\n",
    "# 1. PorterStemmer\n",
    "from nltk.stem import PorterStemmer\n",
    "word_stemmer = PorterStemmer()\n",
    "all_stem_words_porter = []\n",
    "for word in all_words_filter:\n",
    "    all_stem_words_porter.append(word_stemmer.stem(word))\n",
    "\n",
    "# Let's look at a few instances of words that would be expected to be stemmed\n",
    "stemming_words = {}\n",
    "\n",
    "for word in all_words_filter:\n",
    "    if word.endswith('ed') or word.endswith('ing'):\n",
    "        try:\n",
    "            if stemming_words[word]:\n",
    "                continue\n",
    "        except KeyError:\n",
    "            stemming_words[word] = all_words_filter.index(word)\n",
    "\n",
    "print('Words that can be stemmed: %s' % stemming_words)\n",
    "\n",
    "# Comparing all_words_filter (comprising of all meaningful words) vs all_stem_words_porter (which \n",
    "# is all stemmed words emmanating from porterstemmer)\n",
    "for word in stemming_words:\n",
    "    _index = stemming_words[word]\n",
    "    print('Original: %s VS Stem: %s' % (word, all_stem_words_porter[_index]))"
   ]
  },
  {
   "cell_type": "code",
   "execution_count": 65,
   "metadata": {},
   "outputs": [
    {
     "name": "stdout",
     "output_type": "stream",
     "text": [
      "belief\n",
      "believ\n"
     ]
    }
   ],
   "source": [
    "# Lemmatization\n",
    "# Lemmatization looks at the meaning of a word. The output we will get \n",
    "# after lemmatization is called ‘lemma’, which is a root word rather \n",
    "# than root stem, the output of stemming. See example below:\n",
    "from nltk.stem import WordNetLemmatizer\n",
    "lemmatizer = WordNetLemmatizer()\n",
    "print(lemmatizer.lemmatize('believes'))\n",
    "print(word_stemmer.stem('believes'))\n",
    "\n",
    "# Here we get belief as the root word for believes while, we get\n",
    "# root stem believ using the stemmer"
   ]
  },
  {
   "cell_type": "code",
   "execution_count": 66,
   "metadata": {},
   "outputs": [
    {
     "name": "stdout",
     "output_type": "stream",
     "text": [
      "['Reliable', 'excellent', 'characteristic', 'unique', 'idea', 'thankful', 'team', 'created', 'exc…', '_M_Dey', 'Researchers', 'use', 'AI', 'empower', 'environmental', 'regulator', 'AI', 'Environment', 'Regulation', 'Pollution', 'Health', 'Sustainability', 'Machi…', 'DVGallery', 'Deep', 'Vision', '00569', 'DeepVision', 'DeepVisionAI', 'CNFT', 'CNFTs', 'Cardano', 'CardanoCommunity', 'NFT', 'NFTs', 'NFTArt', 'AI', 'ArtificialInte…', 'PrimeClasses_', 'Explore', '100', 'Job', 'Guarantee', 'Programs', 'Prime', 'Classes', 'Data', 'Science', 'Glossary', '-Representatio…', 'Foxmental_X', 'Article', 'Written', 'Artificial', 'Intelligence', 'Better', 'Relationship', 'Valerio', 'ILLUMINATI…', 'Microsoft', 'Becomes', 'World', '’', 'Valuable', 'Stock', 'Apple', 'Drops', 'via', 'business', 'azure', 'cloud…', 'Article', 'Written', 'Artificial', 'Intelligence', 'Better', 'Relationship', 'Valerio', 'ILL…', 'Explore', '100', 'Job', 'Guarantee', 'Programs', 'Prime', 'Classes', 'Data', 'Science', 'Glossary', '-Represen…', 'future_of_AI', 'AI', 'project', 'tackle', 'racial', 'health', 'inequality', 'get', '£1.4M', 'boost', 'AI', 'healthcare', 'DigitalTransfor…', 'latest', 'Lilach', 'Bullock', 'Daily', 'Thanks', 'missjoy1965', 'charlie_tango98', 'Aschettino', 'ai', 'machinelearning', 'jblefevre60', '💥', '100', 'Biggest', 'Companies', 'World', '2021', 'AI', 'MachineLearning', 'DeepLearning', 'coding', 'Python', '100DaysOfCode', 'Visu…', 'Strat_AI', 'CyberSecurity', 'Top', 'Linux', 'Vulnerabilities', 'Exploited', 'Hackers', '5G', '100DaysOfCode', 'AI', 'Analytics', 'AR', 'ArtificialIntelligence…', 'Strat_AI', 'CyberSecurity', 'Top', 'Linux', 'Vulnerabilities', 'Exploited', 'Hackers', '5G', '100DaysOfCode', 'AI', 'Analytics', 'AR', 'ArtificialIntelligence…', 'Strat_AI', 'CyberSecurity', 'Top', '30', 'Critical', 'Security', 'Flaws', 'Used', 'Cybercriminals', '||', '5G', '100DaysOfCode', 'AI', 'Analytics', 'ArtificialIn…', 'Uaxy2', 'Service', 'Nikseam', 'MachineLearning', '5G', 'DataScience', 'startup', '100DaysOfCode', 'mumbai', 'Python', 'Cybersecurity', 'BigData', 'IoT', 'Deep…', 'Uaxy2', 'Service', 'Nikseam', 'MachineLearning', '5G', 'DataScience', 'startup', '100DaysOfCode', 'mumbai', 'Python', 'Cybersecurity', 'BigData', 'IoT', 'Deep…', 'Uaxy2', 'Service', 'Nikseam', 'MachineLearning', '5G', 'DataScience', 'startup', '100DaysOfCode', 'mumbai', 'Python', 'Cybersecurity', 'BigData', 'IoT', 'Deep…', 'jblefevre60', '💥', '100', 'Biggest', 'Companies', 'World', '2021', 'AI', 'MachineLearning', 'DeepLearning', 'coding', 'Python', '100DaysOfCode', 'Visu…', 'pfitzart', 'Someday', 'soon', 'respectable', 'academic', 'field', 'study', 'historian', '’', 'worry', '’', 'happen', 'generation.…', 'ST_World', '🆕🆕The', 'STM32', 'Virtual', 'Seminar', 'introduce', 'ST', \"'s\", 'complete', 'STM32', 'product', 'solution', 'wireless', 'connectivity', 'AI', 'digital', 'pow…', 'Someday', 'soon', 'respectable', 'academic', 'field', 'study', 'historian', '’', 'worry', '’', 'happen', 'generation', 'AI', 'HaleChris', 'artificial', 'intelligence', 'infiltrating', 'DJ', 'booth', 'ai', 'music', 'JobPreference', 'NEED', 'JOB', 'Sign', 'FREE', 'MIDDLEMEN', 'innoavtion', 'VR', 'AR', 'DigitalMarketing', 'AI', 'Artificial…', 'AutomationAnywh', 'integrating', 'machine', 'learning', 'ML', 'artificial', 'intelligence', 'AI', 'Robotic', 'Process', 'Automation', 'RPA', 'can…', 'JobPreference', 'NEED', 'JOB', 'Sign', 'FREE', 'MIDDLEMEN', 'innoavtion', 'VR', 'AR', 'DigitalMarketing', 'AI', 'Artificial…', 'artificial', 'intelligence', 'infiltrating', 'DJ', 'booth', 'ai', 'music', 'MargaretSiegien', '30', 'brushstrokes', 'plunge', 'abstract', '300', 'brushstrokes', 'etch', 'ultra-realistic', 'AI', 'Robotics', 'art', 'painting…', 'future_of_AI', '2021', 'Survey', 'Evolving', 'Cyber', 'Threats', 'Public', 'Sector', 'Key', 'Takeaways', 'AI', 'cybersecurity', 'Cyb…', 'Sharleneisenia', 'Check', 'Infiniti', 'QX90', 'concept', 'car', '🎥', 'DigitalTrends', 'AI', 'semiautonomous', 'ElectricVehicles', 'mvollmer1', 'TheAditya…', 'New081082', 'Python', 'data', 'structure', 'cheat', 'sheet', '📝', 'NumPy', '100DaysOfCode', 'AI', 'blog', 'OpenSource', 'Python', 'programming', 'stackoverflow', 'Algori…', 'ingliguori', 'Common', 'sensor', 'category', 'including', 'magnetic', 'sensor', 'IoT', 'application', 'via', 'ingliguori', 'Digita…', 'AutomationAnywh', 'integrating', 'machine', 'learning', 'ML', 'artificial', 'intelligence', 'AI', 'Robotic', 'Process', 'Automation', 'RPA', 'can…', 'Join', 'u', 'Azure', 'IaaS', 'Day', 'Learn', 'increase', 'agility', 'resiliency', 'infrastructure', 'AI', 'Cloud', 'Fabriziobustama', 'Visit', 'Meca500', 'robotic', 'arm', 'centresciences', 'Mecademic', 'Robotics', 'AI', 'IoT', 'IIoT', '5G', 'RPA', '100DaysOfCode', '…', 'asmakhan_345', 'Recover', 'Deleted', 'Messages-', 'Save', '100DaysOfCode', 'Python', 'AI', 'DataScience', 'WomenInSTEM', 'Cloud', 'IoT', 'DigitalMarketing', 'fin…', 'KirkDBorne', 'Gartner_inc', 'Insights', 'gt', 'gt', 'See', 'ModelOp_Co', 'key', 'ModelOps', 'vendor', 'See', 'Service', 'Nikseam', 'MachineLearning', '5G', 'DataScience', 'startup', '100DaysOfCode', 'mumbai', 'Python', 'Cybersecurity…', 'KirkDBorne', '5', 'Ways', 'IoT', 'Help', 'Save', 'Planet', 'mariarosil', '———', 'IoT', 'IIoT', 'IoTPL', 'IoTCommunity', 'DigitalTr…', 'KirkDBorne', 'Comparing', 'Model', 'Evaluation', 'Techniques', 'Part', '3', '—', 'Regression', 'Models', '———————', 'BigData', 'DataScience', 'S…', 'Comparing', 'Model', 'Evaluation', 'Techniques', 'Part', '3', '—', 'Regression', 'Models', '———————', 'BigData…', 'asmakhan_345', 'Recover', 'Deleted', 'Messages-', 'Save', '100DaysOfCode', 'Python', 'AI', 'DataScience', 'WomenInSTEM', 'Cloud', 'IoT', 'DigitalMarketing', 'fin…', 'akbarth3great', 'digitalart', 'ai', 'artificialintelligence', 'abstract', 'artist', 'Today', '’', 'Abstracts', 'DeepLearn007', 'Gartner', 'Top', 'Strategic', 'Tech', 'Trends', '2022', 'pierrepinna', 'sallyeaves', 'Xbond49', 'SpirosMargaris', 'H…', 'steube', 'Augmented', 'Reality', 'Credit', 'Card', 'AugmentedReality', 'MR', 'MixedReality', 'AI', 'MachineLearning', 'AR', 'fintech', 'iot', 'Ml', 'vr', 'MT', 'jblefevre…', 'Ronald_vanLoon', 'machine', 'eliminates', '100,000', 'weed', 'per', 'hour', 'using', 'powerful', 'laser', 'gigadgets_', 'AI', 'ArtificialIntelligence', 'RPA', '…', 'PawlowskiMario', 'Oil', 'industry', 'worker', 'Spot', 'RoboDog', 'transforming', 'energy', 'industry', 'operates', 'jamesvgingerich', 'Oil', 'AI', 'Rob…', 'bj99911', 'Bitcoin', 'likely', 'burn', 'part', 'patient', 'plan', 'Store', 'wealth', 'represents', 'greed', 'vile', 'people', 'st…', 'jblefevre60', '💥Advanced', 'AI', 'allows', 'sharing', 'emotion', 'human', 'AI', 'MachineLearning', 'neuroscience', 'Seeker', 'SpirosMargaris', 'Dee…', 'JeroenBartelse', 'electric-powered', 'ferry', \"'Roboat\", \"'\", 'developed', 'Amsterdam', \"'s\", 'amsinstitute', 'MIT', 'h…', 'work', 'progress', 'ivonatau', 'TormanJeremy', 'NerdyRodent', 'NFTrippy', 'CarlaSaFe', 'IvonaAya', 'pinar_demirdag…', 'milocamj', 'UNESCO', 'Conducts', 'Training', 'Artificial', 'Intelligence', 'Disaster', 'Response', 'Tanzania', '-', 'Africanews', 'English', 'Hardly', 'Boys', '-', 'Wet', 'Water', 'Drops', 'Variation', 'Using', 'best', 'current', 'Ai', 'StyleTransfer', 'hummingbird', 'artwork', 'series', '-…', 'future_of_AI', 'Complete', 'Machine', 'Learning', 'Package', 'ai', 'machinelearning', 'artificialintelligence', 'via', 'fchollet', 'Raymond_Norman', \"'\", '5⭐️', '...', 'element', 'thrilling', 'mystery', 'suspense', 'dystopian', 'fantasy', 'science', 'fiction', \"'\", 'Lenders', 'Saga', 'Travis_…', 'Umm', '...', 'sure', 'like', 'going', 'AI', 'digitalpeople', 'company', 'making', 'digital', 'human', 'serve', 'm…', '_AskSid', 'Discover', 'world', 'AskSid', 'today', '’', 'blog', 'chatbots', 'technology', 'artificialintelligenc…', 'le_busta', 'DM', 'help', 'Exams', 'Essays', 'Math', 'English', 'Newyork', 'Algebra', 'Ecology', 'History', 'Psychology', 'WomenWhoCode', 'MachineLearning', 'DataS…', 'le_busta', 'DM', 'help', 'Exams', 'Essays', 'Math', 'English', 'Newyork', 'Algebra', 'Ecology', 'History', 'Psychology', 'WomenWhoCode', 'MachineLearning', 'DataS…', 'KressHeiko', 'Infographic', 'demand', 'tech', 'skill', 'DataScience', 'Coding', 'Programming', 'AI', 'ML', 'Python', 'bigdata', 'softwaredevelopme…', 'le_busta', 'DM', 'help', 'Exams', 'Essays', 'Math', 'English', 'Newyork', 'Algebra', 'Ecology', 'History', 'Biostatistics', 'Psychology', 'WomenWhoCode', 'MachineLe…', 'globaliqx', 'Verbit', 'Model', 'Future', 'Work', 'AI', 'IIoT', 'IoT', 'MachineLearning', 'DeepLearning', 'Finser…', 'SpirosMargaris', 'Boston', 'Dynamic', \"'s\", 'robot', 'perfectly', 'mimic', 'MickJagger', \"'s\", 'dance', 'move', 'fintech', 'AI', 'ArtificialIn…', 'Healthcare', 'Industry', 'Trends', 'Post', 'Covid', 'Telemedicine', 'AI', 'Big', 'Data', 'Blockchain', 'IoT', 'AR', 'VR', 'HeinzVHoenen', 'Robots', 'AI', 'vehicle', 'Robots', 'Build', 'Next-generation', 'Vehicles', 'Nissan', 'via', 'IntEngineering', 'ty', 'rt', 'mvollmer1', 'cousesites1', 'Feature', 'Selection', 'Machine', 'Learning', 'udemycoupon', '=', 'gt', 'datascience', 'MachineLearning', 'python', 'De…', 'amankk_9', '10', 'End-to-End', 'Machine', 'Learning', 'Projects', 'Source', 'Code', 'python', 'programming', 'coding', 'javascript', 'p…', 'globaliqx', 'artificial', 'intelligence', 'mean', 'world', 'AI', 'IoT', 'IIoT', 'MachineLearning', 'DeepLearnin…', 'gp_pulipaka', 'AI', 'Best', 'Machine', 'Learning', 'Math', 'BigData', 'Analytics', 'DataScience', 'AI', 'MachineLearning', 'IoT', 'IIoT', 'PyTorch', 'Python', 'RStats…', 'CatherineAdenle', 'Infographic', 'career', 'Data', 'Scientist', 'Data', 'DataScience', 'AI', 'ML', 'Statistics', 'Algorithm', 'da…', 'mvollmer1', 'Common', 'sensor', 'category', 'including', 'magnetic', 'sensor', 'IoT', 'application', 'via', 'ingliguori', 'Digital…', 'jblefevre60', '💥Advanced', 'AI', 'allows', 'sharing', 'emotion', 'human', 'AI', 'MachineLearning', 'neuroscience', 'Seeker', 'SpirosMargaris', 'Dee…', 'JobPreference', 'NEED', 'JOB', 'Sign', 'FREE', 'MIDDLEMEN', 'innoavtion', 'VR', 'AR', 'DigitalMarketing', 'AI', 'Artificial…', 'Khulood_Almani', 'Data', 'Mesh➡️a', 'New', 'Paradigm', 'Data', 'Management', 'DataScience', 'BigData', 'AI', 'MachineLearning', '…', 'AI_Miami', 'Strat_AI', 'CyberSecurity', 'Top', '30', 'Critical', 'Security', 'Flaws', 'Used', 'Cybercriminals', '||', '5G', '100DaysOfCode', 'AI', 'Analytics', 'Ar…', 'AI_Miami', 'Strat_AI', 'CyberSecurity', 'Top', '30', 'Critical', 'Security', 'Flaws', 'Used', 'Cybercriminals', '||', '5G', '100DaysOfCode', 'AI', 'Analytics', 'Ar…', 'GhioLena', 'quest', 'artificial', 'intelligence-', 'artificialintelligence', 'google', 'AI', 'UCSDJacobs', 'AI', 'take', 'want', 'hot', 'wing', 'non-perfumed', 'water', 'Taco', 'Bell', 'also', 'bat', 'YouTube', 'according', '…', 'Strat_AI', 'CyberSecurity', 'Top', '30', 'Critical', 'Security', 'Flaws', 'Used', 'Cybercriminals', '||', '5G', '100DaysOfCode', 'AI…', 'AI', 'GPT3', 'opines', 'judgment', 'AgeOfCheapAndAccuratePrediction', 'DeepLearn007', 'Gartner', 'Top', 'Strategic', 'Tech', 'Trends', '2022', 'pierrepinna', 'sallyeaves', 'Xbond49', 'SpirosMargaris', 'H…', 'PawlowskiMario', 'Oil', 'industry', 'worker', 'Spot', 'RoboDog', 'transforming', 'energy', 'industry', 'operates', 'jamesvgingerich', 'Oil', 'AI', 'Rob…', 'mc_stocktrader', 'ENZC', '=', 'Excitement', 'able', 'fast-track', 'Monoclonal', 'Antibodies', 'HIV', 'SARS-CoV-2', \"''\", 'drgauravchand…', 'RedNation_HQ', 'Meta', 'shortcoming', 'effectiveness', 'new', 'technology', 'AI', 'cloud', 'climatechange', 'SurgJournal', 'Application', 'artificial', 'neural', 'network', 'predicting', 'potential', 'chemotherapy', 'benefit', 'patient', 'gastric', 'can…', 'Meta', 'shortcoming', 'effectiveness', 'new', 'technology', 'AI', 'cloud', 'climatechange', 'AllscopeMedia', '``', 'high-level', 'use', 'case', 'AI', 'marketing', 'improves', 'ROI', 'making', 'marketing', '–', 'often', 'one', 'company…', 'Announcing', '2021', 'recipient', 'research', 'award', 'misinformation', 'polarization', 'AI', 'ML', 'CryptoListy', 'earned', '6', 'EFX', '0.13', 'minute', 'completing', 'Simple', 'task', 'trying', 'effectaix', 'blockchain-based…', 'CryptoListy', 'earned', '6', 'EFX', '0.13', 'minute', 'completing', 'Simple', 'task', 'trying', 'effectaix', 'blockchain-based…', 'CryptoListy', 'earned', '6', 'EFX', '0.13', 'minute', 'completing', 'Simple', 'task', 'trying', 'effectaix', 'blockchain-based…', 'jblefevre60', '💥Meet', 'Stretch', 'logistics', 'robot', 'AI', 'MachineLearning', 'Robotics', 'CNET', 'SpirosMargaris', 'DeepLearn007', 'PawlowskiMario', 'm…', 'CryptoListy', 'earned', '6', 'EFX', '0.13', 'minute', 'completing', 'Simple', 'task', 'trying', 'effectaix', 'blockchain-based…', 'CryptoListy', 'earned', '6', 'EFX', '0.13', 'minute', 'completing', 'Simple', 'task', 'trying', 'effectaix', 'blockchain-based…', 'CryptoListy', 'earned', '6', 'EFX', '0.13', 'minute', 'completing', 'Simple', 'task', 'trying', 'effectaix', 'blockchain-based…', 'CryptoListy', 'earned', '6', 'EFX', '0.13', 'minute', 'completing', 'Simple', 'task', 'trying', 'effectaix', 'blockchain-based…', 'AI', 'straightforward', 'rhythmic', 'cheery', '...', 'uncomplicated', 'BostonDynamics', 'SpirosMargaris…', 'jblefevre60', '💥Advanced', 'AI', 'allows', 'sharing', 'emotion', 'human', 'AI', 'MachineLearning', 'neuroscience', 'Seeker', 'SpirosMargaris', 'Dee…', 'machinelearnflx', 'Linear', 'Algebra', 'Machine', 'Learning', 'machinelearning', 'datascience', 'bigdata', 'AI', 'learning', 'ele…', 'CryptoListy', 'earned', '6', 'EFX', '0.13', 'minute', 'completing', 'Simple', 'task', 'trying', 'effectaix', 'blockchain-based…', 'jblefevre60', '💥', '100', 'Biggest', 'Companies', 'World', '2021', 'AI', 'MachineLearning', 'DeepLearning', 'coding', 'Python', '100DaysOfCode', 'Visu…']\n"
     ]
    }
   ],
   "source": [
    "all_lemma_words = []\n",
    "for word in all_words_filter:\n",
    "    all_lemma_words.append(lemmatizer.lemmatize(word))\n",
    "\n",
    "print(all_lemma_words)"
   ]
  },
  {
   "cell_type": "code",
   "execution_count": 125,
   "metadata": {},
   "outputs": [
    {
     "name": "stdout",
     "output_type": "stream",
     "text": [
      "['000', '00569', '10', '100', '100daysofcode', '13', '2021', '2022', '30', '300', '4m', '5g', 'able', 'abstract', 'abstracts', 'academic', 'according', 'advanced', 'africanews', 'ageofcheapandaccurateprediction', 'agility', 'ai', 'algebra', 'algori', 'algorithm', 'allows', 'also', 'amp', 'amsinstitute', 'amsterdam', 'analytics', 'and', 'announcing', 'antibodies', 'apple', 'application', 'applications', 'ar', 'arm', 'art', 'article', 'artificial', 'artificialin', 'artificialinte', 'artificialintelligenc', 'artificialintelligence', 'artist', 'artwork', 'aschettino', 'asksid', 'augmented', 'augmentedreality', 'automation', 'awards', 'azure', 'based', 'bats', 'because', 'becomes', 'bell', 'benefit', 'best', 'better', 'big', 'bigdata', 'biggest', 'biostatistics', 'bitcoin', 'blockchain', 'blog', 'boost', 'booth', 'boston', 'bostondynamics', 'boys', 'brushstrokes', 'build', 'bullock', 'burn', 'business', 'by', 'can', 'car', 'card', 'cardano', 'cardanocommunity', 'career', 'carlasafe', 'case', 'categories', 'centresciences', 'characteristics', 'charlie_tango98', 'chatbots', 'cheat', 'check', 'cheery', 'chemotherapy', 'classes', 'climatechange', 'cloud', 'cnet', 'cnft', 'cnfts', 'code', 'coding', 'common', 'companies', 'company', 'comparing', 'complete', 'completing', 'concept', 'conducts', 'connectivity', 'cov', 'covid', 'created', 'credit', 'critical', 'current', 'cyb', 'cyber', 'cybercriminals', 'cybersecurity', 'da', 'daily', 'dance', 'data', 'datas', 'datascience', 'day', 'de', 'dee', 'deep', 'deeplearn007', 'deeplearnin', 'deeplearning', 'deepvision', 'deepvisionai', 'deleted', 'demand', 'developed', 'digita', 'digital', 'digitalart', 'digitalmarketing', 'digitalpeople', 'digitaltr', 'digitaltransfor', 'digitaltrends', 'disaster', 'discover', 'dj', 'dm', 'do', 'don', 'drgauravchand', 'drops', 'dynamic', 'dystopian', 'earned', 'ecology', 'effectaix', 'effectiveness', 'efx', 'ele', 'electric', 'electricvehicles', 'elements', 'eliminates', 'emotions', 'empower', 'end', 'energy', 'english', 'environment', 'environmental', 'enzc', 'essays', 'etch', 'evaluation', 'evolving', 'exams', 'exc', 'excellent', 'excitement', 'exploited', 'explore', 'fantasy', 'fast', 'fchollet', 'feature', 'ferry', 'fiction', 'field', 'fin', 'finser', 'fintech', 'flaws', 'for', 'free', 'from', 'future', 'gartner', 'gartner_inc', 'gastric', 'generation', 'get', 'gigadgets_', 'glossary', 'going', 'google', 'gpt3', 'greed', 'gt', 'guarantee', 'hackers', 'happen', 'hardly', 'have', 'health', 'healthcare', 'help', 'high', 'historian', 'history', 'hiv', 'hot', 'hour', 'how', 'humans', 'hummingbird', 'iaas', 'idea', 'if', 'iiot', 'ill', 'illuminati', 'improves', 'in', 'including', 'increase', 'industry', 'inequalities', 'infiltrating', 'infiniti', 'infographic', 'infrastructure', 'ingliguori', 'innoavtion', 'insights', 'integrating', 'intelligence', 'intengineering', 'introduce', 'iot', 'iotcommunity', 'iotpl', 'it', 'ivonaaya', 'ivonatau', 'jamesvgingerich', 'javascript', 'jblefevre', 'job', 'join', 'judgment', 'just', 'key', 'lasers', 'latest', 'learn', 'learning', 'lenders', 'level', 'like', 'likely', 'lilach', 'linear', 'linux', 'logistics', 'machi', 'machine', 'machinele', 'machinelearning', 'magnetic', 'making', 'management', 'mariarosil', 'marketing', 'math', 'mean', 'meca500', 'mecademic', 'meet', 'mesh', 'messages', 'meta', 'mickjagger', 'microsoft', 'middlemen', 'mimics', 'minutes', 'misinformation', 'missjoy1965', 'mit', 'mixedreality', 'ml', 'model', 'modelop_co', 'modelops', 'models', 'monoclonal', 'most', 'moves', 'mr', 'mt', 'mumbai', 'music', 'mvollmer1', 'mystery', 'need', 'nerdyrodent', 'network', 'neural', 'neuroscience', 'new', 'newyork', 'next', 'nft', 'nftart', 'nftrippy', 'nfts', 'nikseam', 'nissan', 'no', 'non', 'numpy', 'of', 'often', 'oil', 'one', 'opensource', 'operates', 'opines', 'our', 'over', 'package', 'painting', 'paradigm', 'part', 'patient', 'patients', 'pawlowskimario', 'people', 'per', 'perfectly', 'perfumed', 'pierrepinna', 'pinar_demirdag', 'plan', 'planet', 'plunge', 'polarization', 'pollution', 'post', 'potential', 'pow', 'powered', 'powerful', 'predicting', 'prime', 'process', 'product', 'programming', 'programs', 'progress', 'projects', 'psychology', 'public', 'python', 'pytorch', 'quest', 'qx90', 'racial', 'realistic', 'reality', 'recipients', 'recover', 'regression', 'regulation', 'regulators', 'relationship', 'reliable', 'represen', 'representatio', 'represents', 'research', 'researchers', 'resiliency', 'respectable', 'response', 'rhythmic', 'rob', 'roboat', 'robodog', 'robot', 'robotic', 'robotics', 'robots', 'roi', 'rpa', 'rstats', 'rt', 'saga', 'sallyeaves', 'sars', 'save', 'science', 'scientist', 'sector', 'security', 'see', 'seeker', 'selection', 'semiautonomous', 'seminar', 'sensor', 'sensors', 'series', 'serve', 'service', 'sharing', 'sheet', 'shortcomings', 'sign', 'simple', 'skills', 'softwaredevelopme', 'solution', 'someday', 'soon', 'source', 'spirosmargaris', 'spot', 'st', 'stackoverflow', 'startup', 'statistics', 'stm32', 'stock', 'store', 'straightforward', 'strat_ai', 'strategic', 'stretch', 'structure', 'study', 'styletransfer', 'sure', 'survey', 'suspense', 'sustainability', 'tackle', 'taco', 'takeaways', 'takes', 'tanzania', 'tasks', 'team', 'tech', 'techniques', 'technologies', 'technology', 'telemedicine', 'thankful', 'thanks', 'the', 'theaditya', 'this', 'threats', 'thrilling', 'to', 'today', 'top', 'tormanjeremy', 'track', 'training', 'transforming', 'travis_', 'trends', 'trying', 'ty', 'udemycoupon', 'ultra', 'umm', 'uncomplicated', 'unesco', 'unique', 'us', 'use', 'used', 'using', 'valerio', 'valuable', 'variation', 'vehicles', 'vendor', 'verbit', 'via', 'vile', 'virtual', 'vision', 'visit', 'visu', 'vr', 'vulnerabilities', 'want', 'was', 'water', 'ways', 'we', 'wealth', 'weeds', 'wet', 'what', 'when', 'why', 'will', 'wings', 'wireless', 'with', 'womeninstem', 'womenwhocode', 'won', 'work', 'workers', 'works', 'world', 'worry', 'written', 'xbond49', 'you', 'youtube']\n",
      "(100, 545)\n"
     ]
    },
    {
     "data": {
      "text/plain": [
       "array([[0, 0, 0, ..., 0, 1, 0],\n",
       "       [0, 0, 0, ..., 0, 0, 0],\n",
       "       [0, 1, 0, ..., 0, 0, 0],\n",
       "       ...,\n",
       "       [0, 0, 0, ..., 0, 0, 0],\n",
       "       [0, 0, 0, ..., 0, 0, 0],\n",
       "       [0, 0, 0, ..., 0, 0, 0]])"
      ]
     },
     "execution_count": 125,
     "metadata": {},
     "output_type": "execute_result"
    }
   ],
   "source": [
    "# Vectorization\n",
    "# Let's analyse the following techniques of vectorization:\n",
    "# - Count vectorization\n",
    "# - TF-IDF\n",
    "# - N-grams\n",
    "\n",
    "# Note that when vectorizing we will treat each tweet as a document\n",
    "# and call a clean function which would remove noise chars, stop-words etc.\n",
    "\n",
    "def clean_tweet(tweet):\n",
    "    # Remove http links and RT user from tweets\n",
    "    clean_1 = re.sub('http\\S+', '', tweet)\n",
    "    clean_2 = re.sub('RT @\\S+', '', clean_1) \n",
    "    _clean_tweet = ''\n",
    "    for word in clean_2.split():\n",
    "        if word not in stopwords.words('english') and \\\n",
    "            word not in noise:\n",
    "            _clean_tweet += ' ' + word\n",
    "    #print(tweet, _clean_tweet)\n",
    "    return _clean_tweet\n",
    "\n",
    "# Count vectorization\n",
    "# This is a basic method of counting the term frequency\n",
    "# in a document\n",
    "df_clean = pd.DataFrame(columns=['Tweet'])\n",
    "for row in df['Tweet']:\n",
    "    clean = {'Tweet': clean_tweet(row)}\n",
    "    df_clean = df_clean.append(clean, ignore_index=True)\n",
    "\n",
    "#print(df_clean)\n",
    "    \n",
    "from sklearn.feature_extraction.text import CountVectorizer\n",
    "count_vectorizer = CountVectorizer()\n",
    "X = count_vectorizer.fit_transform(df_clean['Tweet'])\n",
    "print(count_vectorizer.get_feature_names())\n",
    "# Let's visualize the vectorized document\n",
    "print(X.shape)\n",
    "X.toarray()\n",
    "\n",
    "# As seen in the output, many cells would comprise zeros since the words/features\n",
    "# would not be present and this is therefore known as a Sparse Matrix. "
   ]
  },
  {
   "cell_type": "code",
   "execution_count": 126,
   "metadata": {},
   "outputs": [
    {
     "name": "stdout",
     "output_type": "stream",
     "text": [
      "['000 weeds', '00569 deepvision', '10 end', '100 000', '100 biggest', '100 job', '100daysofcode ai', '100daysofcode mumbai', '100daysofcode python', '100daysofcode visu', '13 in', '2021 ai', '2021 recipients', '2021 survey', '2022 pierrepinna', '30 brushstrokes', '30 critical', '300 brushstrokes', '4m boost', '5g 100daysofcode', '5g datascience', '5g rpa', 'able fast', 'abstract 300', 'abstract artist', 'academic field', 'advanced ai', 'africanews english', 'agility resiliency', 'ai allows', 'ai analytics', 'ai artificial', 'ai artificialin', 'ai artificialinte', 'ai artificialintelligence', 'ai best', 'ai big', 'ai blog', 'ai cloud', 'ai cybersecurity', 'ai datascience', 'ai digital', 'ai digitalpeople', 'ai empower', 'ai environment', 'ai gpt3', 'ai healthcare', 'ai iiot', 'ai iot', 'ai learning', 'ai machinelearning', 'ai marketing', 'ai ml', 'ai music', 'ai projects', 'ai rob', 'ai robotic', 'ai robotics', 'ai semiautonomous', 'ai straightforward', 'ai styletransfer', 'ai takes', 'ai vehicles', 'algebra ecology', 'algebra machine', 'algorithm da', 'allows sharing', 'also bats', 'amp non', 'amp unique', 'amp vr', 'amsinstitute mit', 'amsterdam amsinstitute', 'analytics ar', 'analytics artificialin', 'analytics datascience', 'and vile', 'announcing 2021', 'antibodies hiv', 'apple drops', 'application artificial', 'applications via', 'ar amp', 'ar artificialintelligence', 'ar digitalmarketing', 'ar fintech', 'arm centresciences', 'art painting', 'article was', 'artificial intelligence', 'artificial neural', 'artificialintelligence abstract', 'artificialintelligence google', 'artificialintelligence rpa', 'artificialintelligence via', 'artist today', 'artwork series', 'aschettino ai', 'asksid today', 'augmented reality', 'augmentedreality mr', 'automation rpa', 'awards misinformation', 'azure cloud', 'azure iaas', 'bats youtube', 'because you', 'becomes world', 'bell also', 'benefit patients', 'best current', 'best machine', 'better relationship', 'big data', 'bigdata ai', 'bigdata analytics', 'bigdata datascience', 'bigdata iot', 'bigdata softwaredevelopme', 'biggest companies', 'biostatistics psychology', 'bitcoin likely', 'blockchain based', 'blockchain iot', 'blog chatbots', 'blog opensource', 'boost ai', 'booth ai', 'boston dynamic', 'bostondynamics spirosmargaris', 'boys wet', 'brushstrokes etch', 'brushstrokes plunge', 'build next', 'bullock daily', 'burn it', 'business azure', 'by integrating', 'by mecademic', 'can help', 'car digitaltrends', 'card augmentedreality', 'cardano cardanocommunity', 'cardanocommunity nft', 'career data', 'carlasafe ivonaaya', 'case ai', 'categories including', 'centresciences by', 'characteristics amp', 'charlie_tango98 aschettino', 'chatbots technology', 'cheat sheet', 'check infiniti', 'cheery uncomplicated', 'chemotherapy benefit', 'classes data', 'cloud climatechange', 'cloud iot', 'cnet spirosmargaris', 'cnft cnfts', 'cnfts cardano', 'code python', 'coding javascript', 'coding programming', 'coding python', 'common sensor', 'companies world', 'company making', 'comparing model', 'complete machine', 'complete stm32', 'completing simple', 'concept car', 'conducts training', 'connectivity ai', 'cov drgauravchand', 'covid telemedicine', 'created exc', 'credit card', 'critical security', 'current ai', 'cyber threats', 'cybercriminals 5g', 'cybersecurity bigdata', 'cybersecurity cyb', 'cybersecurity top', 'daily thanks', 'dance moves', 'data blockchain', 'data datascience', 'data management', 'data mesh', 'data science', 'data scientist', 'data structure', 'datascience ai', 'datascience bigdata', 'datascience coding', 'datascience machinelearning', 'datascience startup', 'datascience womeninstem', 'day learn', 'deep vision', 'deeplearn007 pawlowskimario', 'deeplearning coding', 'deeplearning finser', 'deepvision deepvisionai', 'deepvisionai cnft', 'deleted messages', 'demand tech', 'developed amsterdam', 'digital humans', 'digital pow', 'digitalart ai', 'digitalmarketing ai', 'digitalmarketing fin', 'digitalpeople this', 'digitaltrends ai', 'disaster response', 'discover world', 'dj booth', 'dm help', 'do you', 'don worry', 'drops variation', 'drops via', 'dynamic robot', 'dystopian fantasy', 'earned efx', 'ecology history', 'effectaix blockchain', 'effectiveness new', 'efx 13', 'electric powered', 'electricvehicles mvollmer1', 'elements thrilling', 'eliminates 100', 'emotions humans', 'empower environmental', 'end machine', 'end to', 'energy industry', 'english newyork', 'environment regulation', 'environmental regulators', 'enzc excitement', 'essays math', 'etch ultra', 'evaluation techniques', 'evolving cyber', 'exams essays', 'excellent characteristics', 'excitement we', 'exploited hackers', 'explore our', 'fantasy science', 'fast track', 'feature selection', 'ferry roboat', 'fiction the', 'field study', 'fintech ai', 'fintech iot', 'flaws most', 'flaws used', 'for the', 'free no', 'from gartner_inc', 'future of', 'gartner top', 'gartner_inc insights', 'gastric can', 'generation ai', 'generation vehicles', 'get 4m', 'gigadgets_ ai', 'glossary represen', 'glossary representatio', 'going ai', 'google ai', 'gpt3 opines', 'greed and', 'gt datascience', 'gt gt', 'gt see', 'guarantee programs', 'hackers 5g', 'happen generation', 'hardly boys', 'have better', 'health inequalities', 'health sustainability', 'healthcare digitaltransfor', 'healthcare industry', 'help exams', 'help save', 'high level', 'historian don', 'history biostatistics', 'history psychology', 'hiv sars', 'hot wings', 'hour using', 'how artificial', 'how do', 'humans ai', 'humans serve', 'hummingbird artwork', 'iaas day', 'idea thankful', 'if ai', 'iiot 5g', 'iiot iot', 'iiot iotpl', 'iiot machinelearning', 'iiot pytorch', 'improves roi', 'in minutes', 'including magnetic', 'increase agility', 'industry operates', 'industry trends', 'industry workers', 'inequalities get', 'infiltrating dj', 'infiniti qx90', 'infographic the', 'infographic what', 'infrastructure ai', 'ingliguori digita', 'ingliguori digital', 'innoavtion vr', 'insights gt', 'integrating machine', 'intelligence ai', 'intelligence artificialintelligence', 'intelligence disaster', 'intelligence how', 'intelligence infiltrating', 'intelligence mean', 'intengineering ty', 'introduce st', 'iot applications', 'iot ar', 'iot can', 'iot deep', 'iot digitalmarketing', 'iot iiot', 'iot machinelearning', 'iot ml', 'iotcommunity digitaltr', 'iotpl iotcommunity', 'it part', 'ivonaaya pinar_demirdag', 'ivonatau tormanjeremy', 'jamesvgingerich oil', 'job guarantee', 'job sign', 'join us', 'judgment ageofcheapandaccurateprediction', 'just works', 'key modelops', 'key takeaways', 'lasers gigadgets_', 'latest the', 'learn increase', 'learning ele', 'learning machinelearning', 'learning math', 'learning ml', 'learning package', 'learning projects', 'learning udemycoupon', 'lenders saga', 'level use', 'like going', 'likely burn', 'lilach bullock', 'linear algebra', 'linux vulnerabilities', 'logistics robot', 'machine eliminates', 'machine learning', 'machinelearning 5g', 'machinelearning ar', 'machinelearning artificialintelligence', 'machinelearning datas', 'machinelearning datascience', 'machinelearning deeplearnin', 'machinelearning deeplearning', 'machinelearning iot', 'machinelearning neuroscience', 'machinelearning python', 'machinelearning robotics', 'magnetic sensors', 'making digital', 'making marketing', 'management datascience', 'mariarosil iot', 'marketing improves', 'marketing often', 'math bigdata', 'math english', 'mean world', 'meca500 robotic', 'mecademic robotics', 'meet stretch', 'mesh new', 'messages save', 'meta what', 'mickjagger dance', 'microsoft becomes', 'middlemen innoavtion', 'mimics mickjagger', 'minutes completing', 'misinformation polarization', 'missjoy1965 charlie_tango98', 'mixedreality ai', 'ml artificial', 'ml python', 'ml statistics', 'ml vr', 'model evaluation', 'model for', 'modelop_co key', 'modelops vendor', 'models bigdata', 'monoclonal antibodies', 'most cybercriminals', 'most used', 'most valuable', 'moves fintech', 'mr mixedreality', 'mt jblefevre', 'mumbai python', 'mvollmer1 theaditya', 'mystery suspense', 'need job', 'nerdyrodent nftrippy', 'network predicting', 'neural network', 'neuroscience seeker', 'new paradigm', 'new technologies', 'newyork algebra', 'next generation', 'nft nfts', 'nftart ai', 'nftrippy carlasafe', 'nfts nftart', 'nikseam machinelearning', 'nissan via', 'no middlemen', 'non perfumed', 'numpy 100daysofcode', 'of work', 'often one', 'oil ai', 'oil industry', 'one company', 'opensource python', 'operates jamesvgingerich', 'opines judgment', 'our 100', 'our planet', 'over want', 'package ai', 'paradigm data', 'part patient', 'part regression', 'patient plan', 'patients gastric', 'people st', 'per hour', 'perfectly mimics', 'perfumed water', 'pierrepinna sallyeaves', 'plan store', 'planet mariarosil', 'plunge abstract', 'polarization ai', 'pollution health', 'post covid', 'potential chemotherapy', 'powered ferry', 'powerful lasers', 'predicting potential', 'prime classes', 'process automation', 'product solution', 'programming ai', 'programming coding', 'programming stackoverflow', 'programs prime', 'progress ivonatau', 'projects source', 'projects tackle', 'psychology womenwhocode', 'public sector', 'python 100daysofcode', 'python ai', 'python bigdata', 'python cybersecurity', 'python data', 'python de', 'python programming', 'python rstats', 'pytorch python', 'quest artificial', 'qx90 concept', 'racial health', 'realistic ai', 'reality credit', 'recipients research', 'recover deleted', 'regression models', 'regulation pollution', 'regulators ai', 'relationship valerio', 'reliable excellent', 'represents greed', 'research awards', 'researchers use', 'resiliency infrastructure', 'respectable academic', 'response tanzania', 'rhythmic cheery', 'roboat developed', 'robodog transforming', 'robot ai', 'robot perfectly', 'robotic arm', 'robotic process', 'robotics ai', 'robotics art', 'robotics cnet', 'robots ai', 'robots will', 'roi making', 'rpa 100daysofcode', 'rpa can', 'rt mvollmer1', 'saga travis_', 'sallyeaves xbond49', 'sars cov', 'save 100daysofcode', 'save our', 'science fiction', 'science glossary', 'scientist data', 'sector key', 'security flaws', 'see modelop_co', 'see why', 'seeker spirosmargaris', 'selection machine', 'semiautonomous electricvehicles', 'seminar introduce', 'sensor categories', 'sensors iot', 'service nikseam', 'sharing emotions', 'sheet numpy', 'shortcomings effectiveness', 'sign free', 'simple tasks', 'skills datascience', 'solution wireless', 'someday soon', 'soon respectable', 'source code', 'spirosmargaris dee', 'spirosmargaris deeplearn007', 'spot the', 'st complete', 'stackoverflow algori', 'startup 100daysofcode', 'statistics algorithm', 'stm32 product', 'stm32 virtual', 'stock apple', 'store wealth', 'straightforward rhythmic', 'strat_ai cybersecurity', 'strategic tech', 'stretch logistics', 'structure cheat', 'study historian', 'styletransfer hummingbird', 'sure like', 'survey evolving', 'suspense dystopian', 'sustainability machi', 'tackle racial', 'taco bell', 'takeaways ai', 'takes over', 'tanzania africanews', 'tasks trying', 'team because', 'tech skills', 'tech trends', 'techniques part', 'technologies ai', 'technology artificialintelligenc', 'telemedicine ai', 'thankful team', 'thanks missjoy1965', 'the 100', 'the ai', 'the demand', 'the electric', 'the future', 'the high', 'the latest', 'the lenders', 'the lilach', 'the quest', 'the robodog', 'the stm32', 'the verbit', 'this article', 'this company', 'this machine', 'threats public', 'thrilling mystery', 'to end', 'today abstracts', 'today blog', 'top 30', 'top linux', 'top strategic', 'tormanjeremy nerdyrodent', 'track monoclonal', 'training artificial', 'transforming energy', 'trends 2022', 'trends post', 'trying effectaix', 'ty rt', 'udemycoupon gt', 'ultra realistic', 'umm sure', 'uncomplicated bostondynamics', 'unesco conducts', 'unique idea', 'us azure', 'use ai', 'use case', 'used cybercriminals', 'used most', 'using best', 'using powerful', 'valerio ill', 'valerio illuminati', 'valuable stock', 'variation using', 'vehicles nissan', 'vehicles robots', 'vendor see', 'verbit model', 'via business', 'via fchollet', 'via ingliguori', 'via intengineering', 'vile people', 'virtual seminar', 'vision 00569', 'visit meca500', 'vr ar', 'vr mt', 'vulnerabilities exploited', 'want hot', 'was written', 'water drops', 'water taco', 'ways iot', 'we able', 'we earned', 'wealth represents', 'weeds per', 'wet water', 'what artificial', 'what career', 'what shortcomings', 'when ai', 'will build', 'wings amp', 'wireless connectivity', 'with ai', 'womeninstem cloud', 'womenwhocode machinele', 'womenwhocode machinelearning', 'won happen', 'work with', 'workers spot', 'works progress', 'world 2021', 'world ai', 'world asksid', 'world most', 'worry won', 'written artificial', 'xbond49 spirosmargaris', 'you created', 'you have', 'youtube according']\n",
      "(100, 708)\n"
     ]
    },
    {
     "data": {
      "text/plain": [
       "array([[0, 0, 0, ..., 1, 0, 0],\n",
       "       [0, 0, 0, ..., 0, 0, 0],\n",
       "       [0, 1, 0, ..., 0, 0, 0],\n",
       "       ...,\n",
       "       [0, 0, 0, ..., 0, 0, 0],\n",
       "       [0, 0, 0, ..., 0, 0, 0],\n",
       "       [0, 0, 0, ..., 0, 0, 0]])"
      ]
     },
     "execution_count": 126,
     "metadata": {},
     "output_type": "execute_result"
    }
   ],
   "source": [
    "# Next, let's try an n-gram term frequency vectorization\n",
    "count_vectorizer2 = CountVectorizer(ngram_range=(2, 2))\n",
    "X2 = count_vectorizer2.fit_transform(df_clean['Tweet'])\n",
    "print(count_vectorizer2.get_feature_names())\n",
    "print(X2.shape)\n",
    "X2.toarray()"
   ]
  },
  {
   "cell_type": "code",
   "execution_count": 128,
   "metadata": {},
   "outputs": [
    {
     "name": "stdout",
     "output_type": "stream",
     "text": [
      "['000', '00569', '10', '100', '100daysofcode', '13', '2021', '2022', '30', '300', '4m', '5g', 'able', 'abstract', 'abstracts', 'academic', 'according', 'advanced', 'africanews', 'ageofcheapandaccurateprediction', 'agility', 'ai', 'algebra', 'algori', 'algorithm', 'allows', 'also', 'amp', 'amsinstitute', 'amsterdam', 'analytics', 'and', 'announcing', 'antibodies', 'apple', 'application', 'applications', 'ar', 'arm', 'art', 'article', 'artificial', 'artificialin', 'artificialinte', 'artificialintelligenc', 'artificialintelligence', 'artist', 'artwork', 'aschettino', 'asksid', 'augmented', 'augmentedreality', 'automation', 'awards', 'azure', 'based', 'bats', 'because', 'becomes', 'bell', 'benefit', 'best', 'better', 'big', 'bigdata', 'biggest', 'biostatistics', 'bitcoin', 'blockchain', 'blog', 'boost', 'booth', 'boston', 'bostondynamics', 'boys', 'brushstrokes', 'build', 'bullock', 'burn', 'business', 'by', 'can', 'car', 'card', 'cardano', 'cardanocommunity', 'career', 'carlasafe', 'case', 'categories', 'centresciences', 'characteristics', 'charlie_tango98', 'chatbots', 'cheat', 'check', 'cheery', 'chemotherapy', 'classes', 'climatechange', 'cloud', 'cnet', 'cnft', 'cnfts', 'code', 'coding', 'common', 'companies', 'company', 'comparing', 'complete', 'completing', 'concept', 'conducts', 'connectivity', 'cov', 'covid', 'created', 'credit', 'critical', 'current', 'cyb', 'cyber', 'cybercriminals', 'cybersecurity', 'da', 'daily', 'dance', 'data', 'datas', 'datascience', 'day', 'de', 'dee', 'deep', 'deeplearn007', 'deeplearnin', 'deeplearning', 'deepvision', 'deepvisionai', 'deleted', 'demand', 'developed', 'digita', 'digital', 'digitalart', 'digitalmarketing', 'digitalpeople', 'digitaltr', 'digitaltransfor', 'digitaltrends', 'disaster', 'discover', 'dj', 'dm', 'do', 'don', 'drgauravchand', 'drops', 'dynamic', 'dystopian', 'earned', 'ecology', 'effectaix', 'effectiveness', 'efx', 'ele', 'electric', 'electricvehicles', 'elements', 'eliminates', 'emotions', 'empower', 'end', 'energy', 'english', 'environment', 'environmental', 'enzc', 'essays', 'etch', 'evaluation', 'evolving', 'exams', 'exc', 'excellent', 'excitement', 'exploited', 'explore', 'fantasy', 'fast', 'fchollet', 'feature', 'ferry', 'fiction', 'field', 'fin', 'finser', 'fintech', 'flaws', 'for', 'free', 'from', 'future', 'gartner', 'gartner_inc', 'gastric', 'generation', 'get', 'gigadgets_', 'glossary', 'going', 'google', 'gpt3', 'greed', 'gt', 'guarantee', 'hackers', 'happen', 'hardly', 'have', 'health', 'healthcare', 'help', 'high', 'historian', 'history', 'hiv', 'hot', 'hour', 'how', 'humans', 'hummingbird', 'iaas', 'idea', 'if', 'iiot', 'ill', 'illuminati', 'improves', 'in', 'including', 'increase', 'industry', 'inequalities', 'infiltrating', 'infiniti', 'infographic', 'infrastructure', 'ingliguori', 'innoavtion', 'insights', 'integrating', 'intelligence', 'intengineering', 'introduce', 'iot', 'iotcommunity', 'iotpl', 'it', 'ivonaaya', 'ivonatau', 'jamesvgingerich', 'javascript', 'jblefevre', 'job', 'join', 'judgment', 'just', 'key', 'lasers', 'latest', 'learn', 'learning', 'lenders', 'level', 'like', 'likely', 'lilach', 'linear', 'linux', 'logistics', 'machi', 'machine', 'machinele', 'machinelearning', 'magnetic', 'making', 'management', 'mariarosil', 'marketing', 'math', 'mean', 'meca500', 'mecademic', 'meet', 'mesh', 'messages', 'meta', 'mickjagger', 'microsoft', 'middlemen', 'mimics', 'minutes', 'misinformation', 'missjoy1965', 'mit', 'mixedreality', 'ml', 'model', 'modelop_co', 'modelops', 'models', 'monoclonal', 'most', 'moves', 'mr', 'mt', 'mumbai', 'music', 'mvollmer1', 'mystery', 'need', 'nerdyrodent', 'network', 'neural', 'neuroscience', 'new', 'newyork', 'next', 'nft', 'nftart', 'nftrippy', 'nfts', 'nikseam', 'nissan', 'no', 'non', 'numpy', 'of', 'often', 'oil', 'one', 'opensource', 'operates', 'opines', 'our', 'over', 'package', 'painting', 'paradigm', 'part', 'patient', 'patients', 'pawlowskimario', 'people', 'per', 'perfectly', 'perfumed', 'pierrepinna', 'pinar_demirdag', 'plan', 'planet', 'plunge', 'polarization', 'pollution', 'post', 'potential', 'pow', 'powered', 'powerful', 'predicting', 'prime', 'process', 'product', 'programming', 'programs', 'progress', 'projects', 'psychology', 'public', 'python', 'pytorch', 'quest', 'qx90', 'racial', 'realistic', 'reality', 'recipients', 'recover', 'regression', 'regulation', 'regulators', 'relationship', 'reliable', 'represen', 'representatio', 'represents', 'research', 'researchers', 'resiliency', 'respectable', 'response', 'rhythmic', 'rob', 'roboat', 'robodog', 'robot', 'robotic', 'robotics', 'robots', 'roi', 'rpa', 'rstats', 'rt', 'saga', 'sallyeaves', 'sars', 'save', 'science', 'scientist', 'sector', 'security', 'see', 'seeker', 'selection', 'semiautonomous', 'seminar', 'sensor', 'sensors', 'series', 'serve', 'service', 'sharing', 'sheet', 'shortcomings', 'sign', 'simple', 'skills', 'softwaredevelopme', 'solution', 'someday', 'soon', 'source', 'spirosmargaris', 'spot', 'st', 'stackoverflow', 'startup', 'statistics', 'stm32', 'stock', 'store', 'straightforward', 'strat_ai', 'strategic', 'stretch', 'structure', 'study', 'styletransfer', 'sure', 'survey', 'suspense', 'sustainability', 'tackle', 'taco', 'takeaways', 'takes', 'tanzania', 'tasks', 'team', 'tech', 'techniques', 'technologies', 'technology', 'telemedicine', 'thankful', 'thanks', 'the', 'theaditya', 'this', 'threats', 'thrilling', 'to', 'today', 'top', 'tormanjeremy', 'track', 'training', 'transforming', 'travis_', 'trends', 'trying', 'ty', 'udemycoupon', 'ultra', 'umm', 'uncomplicated', 'unesco', 'unique', 'us', 'use', 'used', 'using', 'valerio', 'valuable', 'variation', 'vehicles', 'vendor', 'verbit', 'via', 'vile', 'virtual', 'vision', 'visit', 'visu', 'vr', 'vulnerabilities', 'want', 'was', 'water', 'ways', 'we', 'wealth', 'weeds', 'wet', 'what', 'when', 'why', 'will', 'wings', 'wireless', 'with', 'womeninstem', 'womenwhocode', 'won', 'work', 'workers', 'works', 'world', 'worry', 'written', 'xbond49', 'you', 'youtube']\n",
      "(100, 545)\n"
     ]
    },
    {
     "data": {
      "text/plain": [
       "array([[0.        , 0.        , 0.        , ..., 0.        , 0.25361712,\n",
       "        0.        ],\n",
       "       [0.        , 0.        , 0.        , ..., 0.        , 0.        ,\n",
       "        0.        ],\n",
       "       [0.        , 0.27999308, 0.        , ..., 0.        , 0.        ,\n",
       "        0.        ],\n",
       "       ...,\n",
       "       [0.        , 0.        , 0.        , ..., 0.        , 0.        ,\n",
       "        0.        ],\n",
       "       [0.        , 0.        , 0.        , ..., 0.        , 0.        ,\n",
       "        0.        ],\n",
       "       [0.        , 0.        , 0.        , ..., 0.        , 0.        ,\n",
       "        0.        ]])"
      ]
     },
     "execution_count": 128,
     "metadata": {},
     "output_type": "execute_result"
    }
   ],
   "source": [
    "# Finally, we will use the TF-IDF vectoization\n",
    "from sklearn.feature_extraction.text import TfidfVectorizer\n",
    "\n",
    "tfidf_vectorizer = TfidfVectorizer()\n",
    "X3 = tfidf_vectorizer.fit_transform(df_clean['Tweet'])\n",
    "print(tfidf_vectorizer.get_feature_names())\n",
    "print(X3.shape)\n",
    "X3.toarray()"
   ]
  },
  {
   "cell_type": "code",
   "execution_count": 134,
   "metadata": {},
   "outputs": [
    {
     "data": {
      "text/html": [
       "<div>\n",
       "<style scoped>\n",
       "    .dataframe tbody tr th:only-of-type {\n",
       "        vertical-align: middle;\n",
       "    }\n",
       "\n",
       "    .dataframe tbody tr th {\n",
       "        vertical-align: top;\n",
       "    }\n",
       "\n",
       "    .dataframe thead th {\n",
       "        text-align: right;\n",
       "    }\n",
       "</style>\n",
       "<table border=\"1\" class=\"dataframe\">\n",
       "  <thead>\n",
       "    <tr style=\"text-align: right;\">\n",
       "      <th></th>\n",
       "      <th>TF-IDF</th>\n",
       "    </tr>\n",
       "  </thead>\n",
       "  <tbody>\n",
       "    <tr>\n",
       "      <th>thankful</th>\n",
       "      <td>0.295188</td>\n",
       "    </tr>\n",
       "    <tr>\n",
       "      <th>idea</th>\n",
       "      <td>0.295188</td>\n",
       "    </tr>\n",
       "    <tr>\n",
       "      <th>because</th>\n",
       "      <td>0.295188</td>\n",
       "    </tr>\n",
       "    <tr>\n",
       "      <th>created</th>\n",
       "      <td>0.295188</td>\n",
       "    </tr>\n",
       "    <tr>\n",
       "      <th>reliable</th>\n",
       "      <td>0.295188</td>\n",
       "    </tr>\n",
       "    <tr>\n",
       "      <th>...</th>\n",
       "      <td>...</td>\n",
       "    </tr>\n",
       "    <tr>\n",
       "      <th>enzc</th>\n",
       "      <td>0.000000</td>\n",
       "    </tr>\n",
       "    <tr>\n",
       "      <th>environmental</th>\n",
       "      <td>0.000000</td>\n",
       "    </tr>\n",
       "    <tr>\n",
       "      <th>environment</th>\n",
       "      <td>0.000000</td>\n",
       "    </tr>\n",
       "    <tr>\n",
       "      <th>english</th>\n",
       "      <td>0.000000</td>\n",
       "    </tr>\n",
       "    <tr>\n",
       "      <th>youtube</th>\n",
       "      <td>0.000000</td>\n",
       "    </tr>\n",
       "  </tbody>\n",
       "</table>\n",
       "<p>545 rows × 1 columns</p>\n",
       "</div>"
      ],
      "text/plain": [
       "                 TF-IDF\n",
       "thankful       0.295188\n",
       "idea           0.295188\n",
       "because        0.295188\n",
       "created        0.295188\n",
       "reliable       0.295188\n",
       "...                 ...\n",
       "enzc           0.000000\n",
       "environmental  0.000000\n",
       "environment    0.000000\n",
       "english        0.000000\n",
       "youtube        0.000000\n",
       "\n",
       "[545 rows x 1 columns]"
      ]
     },
     "execution_count": 134,
     "metadata": {},
     "output_type": "execute_result"
    }
   ],
   "source": [
    "# Let us now sort and print a summary of the TF-IDF terms\n",
    "df_tfidf = pd.DataFrame(X3[0].T.todense(),\n",
    "                        index=tfidf_vectorizer.get_feature_names(), columns=['TF-IDF'])\n",
    "df_tfidf = df_tfidf.sort_values('TF-IDF', ascending=False)\n",
    "df_tfidf\n",
    "\n",
    "# From the results below, the important word features are thankful,\n",
    "# idea, because, created and reliable. While words like enzc, environmental, etc with\n",
    "# TF-IDF 0 are not really important words."
   ]
  },
  {
   "cell_type": "code",
   "execution_count": 135,
   "metadata": {},
   "outputs": [
    {
     "data": {
      "text/html": [
       "<div>\n",
       "<style scoped>\n",
       "    .dataframe tbody tr th:only-of-type {\n",
       "        vertical-align: middle;\n",
       "    }\n",
       "\n",
       "    .dataframe tbody tr th {\n",
       "        vertical-align: top;\n",
       "    }\n",
       "\n",
       "    .dataframe thead th {\n",
       "        text-align: right;\n",
       "    }\n",
       "</style>\n",
       "<table border=\"1\" class=\"dataframe\">\n",
       "  <thead>\n",
       "    <tr style=\"text-align: right;\">\n",
       "      <th></th>\n",
       "      <th>Review</th>\n",
       "      <th>Rating</th>\n",
       "    </tr>\n",
       "  </thead>\n",
       "  <tbody>\n",
       "    <tr>\n",
       "      <th>0</th>\n",
       "      <td>\"More has been said about Dark Side of the Moo...</td>\n",
       "      <td>4.5</td>\n",
       "    </tr>\n",
       "    <tr>\n",
       "      <th>1</th>\n",
       "      <td>What can I possibly say about an album that no...</td>\n",
       "      <td>5.0</td>\n",
       "    </tr>\n",
       "    <tr>\n",
       "      <th>2</th>\n",
       "      <td>You know for a band that spent several albums ...</td>\n",
       "      <td>2.0</td>\n",
       "    </tr>\n",
       "    <tr>\n",
       "      <th>3</th>\n",
       "      <td>Has finally clicked with me in full ...</td>\n",
       "      <td>4.0</td>\n",
       "    </tr>\n",
       "    <tr>\n",
       "      <th>4</th>\n",
       "      <td>So why are people afraid to say this...</td>\n",
       "      <td>4.5</td>\n",
       "    </tr>\n",
       "  </tbody>\n",
       "</table>\n",
       "</div>"
      ],
      "text/plain": [
       "                                              Review  Rating\n",
       "0  \"More has been said about Dark Side of the Moo...     4.5\n",
       "1  What can I possibly say about an album that no...     5.0\n",
       "2  You know for a band that spent several albums ...     2.0\n",
       "3            Has finally clicked with me in full ...     4.0\n",
       "4            So why are people afraid to say this...     4.5"
      ]
     },
     "execution_count": 135,
     "metadata": {},
     "output_type": "execute_result"
    }
   ],
   "source": [
    "# Using k-means clustering to cluster data\n",
    "# For this task, we will include a second topic related to \n",
    "# reviews. We will use a dataset from Kaggle related to Pink Floyd's\n",
    "# Dark side of the moon\n",
    "from sklearn.cluster import KMeans\n",
    "\n",
    "# Load a csv into a data-frame\n",
    "df_review = pd.read_csv('/Users/venkatasharatsripada/Downloads/dsotm_reviews.csv')\n",
    "df_review.head()"
   ]
  },
  {
   "cell_type": "code",
   "execution_count": 146,
   "metadata": {},
   "outputs": [
    {
     "name": "stdout",
     "output_type": "stream",
     "text": [
      "(100, 1)\n"
     ]
    },
    {
     "data": {
      "text/html": [
       "<div>\n",
       "<style scoped>\n",
       "    .dataframe tbody tr th:only-of-type {\n",
       "        vertical-align: middle;\n",
       "    }\n",
       "\n",
       "    .dataframe tbody tr th {\n",
       "        vertical-align: top;\n",
       "    }\n",
       "\n",
       "    .dataframe thead th {\n",
       "        text-align: right;\n",
       "    }\n",
       "</style>\n",
       "<table border=\"1\" class=\"dataframe\">\n",
       "  <thead>\n",
       "    <tr style=\"text-align: right;\">\n",
       "      <th></th>\n",
       "      <th>Review</th>\n",
       "    </tr>\n",
       "  </thead>\n",
       "  <tbody>\n",
       "    <tr>\n",
       "      <th>0</th>\n",
       "      <td>\"More said Dark Side Moon ever necessary posi...</td>\n",
       "    </tr>\n",
       "    <tr>\n",
       "      <th>1</th>\n",
       "      <td>What I possibly say album means much many inf...</td>\n",
       "    </tr>\n",
       "    <tr>\n",
       "      <th>2</th>\n",
       "      <td>You know band spent several albums trying ato...</td>\n",
       "    </tr>\n",
       "    <tr>\n",
       "      <th>3</th>\n",
       "      <td>Has finally clicked full 30 years absolutely ...</td>\n",
       "    </tr>\n",
       "    <tr>\n",
       "      <th>4</th>\n",
       "      <td>So people afraid say isnt masterpiece basical...</td>\n",
       "    </tr>\n",
       "  </tbody>\n",
       "</table>\n",
       "</div>"
      ],
      "text/plain": [
       "                                              Review\n",
       "0   \"More said Dark Side Moon ever necessary posi...\n",
       "1   What I possibly say album means much many inf...\n",
       "2   You know band spent several albums trying ato...\n",
       "3   Has finally clicked full 30 years absolutely ...\n",
       "4   So people afraid say isnt masterpiece basical..."
      ]
     },
     "execution_count": 146,
     "metadata": {},
     "output_type": "execute_result"
    }
   ],
   "source": [
    "# We will do some basic cleaning by removing stop words etc.\n",
    "df_review_clean = pd.DataFrame(columns=['Review'])\n",
    "\n",
    "for row in df_review['Review'].head(100):\n",
    "    _clean_row = ''\n",
    "    for word in row.split():\n",
    "        if word not in stopwords.words('english') and \\\n",
    "            word not in noise:\n",
    "            _clean_row += ' ' + word\n",
    "    df_review_clean = df_review_clean.append({'Review': _clean_row}, ignore_index=True)\n",
    "\n",
    "df_review_clean.head()"
   ]
  },
  {
   "cell_type": "code",
   "execution_count": 153,
   "metadata": {},
   "outputs": [
    {
     "name": "stdout",
     "output_type": "stream",
     "text": [
      "0     DM help Exams Essays, Math English #Newyork A...\n",
      "1     The best concept album date. And closest thin...\n",
      "2     Forty-three minutes pure synesthesia. Drugs o...\n",
      "3     As much I want fuck record I cant. And really...\n",
      "4     This truly quite excellent album. There whole...\n",
      "dtype: object\n"
     ]
    }
   ],
   "source": [
    "# We will form a combined dataframe with twitter and review\n",
    "frames = [df_clean['Tweet'], df_review_clean['Review']]\n",
    "df_combined = pd.concat(frames)\n",
    "\n",
    "# Shuffle the data\n",
    "df_combined = df_combined.sample(frac=1).reset_index(drop=True)\n",
    "\n",
    "print(df_combined.head())\n",
    "\n",
    "# Let's use the vectorization type TF-IDF\n",
    "X4 = tfidf_vectorizer.fit_transform(df_combined)"
   ]
  },
  {
   "cell_type": "code",
   "execution_count": 154,
   "metadata": {},
   "outputs": [
    {
     "data": {
      "text/plain": [
       "KMeans(max_iter=100, n_clusters=2, n_init=1)"
      ]
     },
     "execution_count": 154,
     "metadata": {},
     "output_type": "execute_result"
    }
   ],
   "source": [
    "# And finally run the k-means clustering\n",
    "\n",
    "# Set k = 2, since we expect two cluster topics - AI, Album review\n",
    "true_k = 2\n",
    "\n",
    "model = KMeans(n_clusters=true_k, init='k-means++', max_iter=100, n_init=1)\n",
    "model.fit(X4)"
   ]
  },
  {
   "cell_type": "code",
   "execution_count": 158,
   "metadata": {},
   "outputs": [
    {
     "name": "stdout",
     "output_type": "stream",
     "text": [
      "Cluster 0:\n",
      " album\n",
      " the\n",
      " time\n",
      " side\n",
      " one\n",
      " dark\n",
      " it\n",
      " music\n",
      " great\n",
      " moon\n",
      "Cluster 1:\n",
      " ai\n",
      " machinelearning\n",
      " 100daysofcode\n",
      " python\n",
      " iot\n",
      " datascience\n",
      " artificial\n",
      " 5g\n",
      " cybersecurity\n",
      " ar\n"
     ]
    }
   ],
   "source": [
    "# Let's derive the centroids and their features\n",
    "order_centroids = model.cluster_centers_.argsort()[:, ::-1]\n",
    "terms = tfidf_vectorizer.get_feature_names()\n",
    "\n",
    "# Print the centroids & the clusters where it belongs\n",
    "for i in range(true_k):\n",
    " print(\"Cluster %d:\" % i),\n",
    " for ind in order_centroids[i, :10]:\n",
    "     print(\" %s\" % terms[ind])\n",
    "    \n",
    "# See below a reasonably nice clustering of the words from the two topics"
   ]
  },
  {
   "cell_type": "code",
   "execution_count": 179,
   "metadata": {},
   "outputs": [
    {
     "name": "stdout",
     "output_type": "stream",
     "text": [
      "['As you know this album is highly appreciated among music lovers but I unfortunately did not like it so much. Progressive Rock has its place in music and I am sure that there are many people who would enjoy listening to it. However as far as Im concerned Pink Floyds music is nothing more than an imitation of progressive rock. It lacks originality and does not even try to be innovative. This album is just another copy of something else that was already done before. I have been listening to some progressive rock lately and I think that Pink Floyd could learn a lot from the bands like Yes King Crimson Jethro Tull or even Rush. These bands are always trying to create new sounds or at least never seem to be bored of what they are doing. \"The Dark Side Of The Moon\" is a very safe album because it does nothing to push the envelope or challenge the listener. There are good ditties like \"Time\" or \"Money\" on here but for the most part this album is just boring. I hope you do not think that I am a snob because of this. I realize that many people enjoy this album and are not likely to read this review. I also realize that it is possible that I just did not like this album for whatever reason. I am stating my case regardless. Thanks for your time.nRate: 3/5']\n",
      "0\n"
     ]
    }
   ],
   "source": [
    "# Let's pick up a sentence from the review outside the train set \n",
    "# and check the cluster prediction\n",
    "text = df_review['Review'].loc[101]\n",
    "print([text])\n",
    "\n",
    "X5 = tfidf_vectorizer.transform([text])\n",
    "\n",
    "predicted = model.predict(X5)\n",
    "print(predicted[0])\n",
    "\n",
    "# The model did a pretty nice job of classifying the text as Review (cluster-0)."
   ]
  },
  {
   "cell_type": "code",
   "execution_count": null,
   "metadata": {},
   "outputs": [],
   "source": []
  }
 ],
 "metadata": {
  "kernelspec": {
   "display_name": "Python 3",
   "language": "python",
   "name": "python3"
  },
  "language_info": {
   "codemirror_mode": {
    "name": "ipython",
    "version": 3
   },
   "file_extension": ".py",
   "mimetype": "text/x-python",
   "name": "python",
   "nbconvert_exporter": "python",
   "pygments_lexer": "ipython3",
   "version": "3.8.3"
  }
 },
 "nbformat": 4,
 "nbformat_minor": 4
}

{
 "cells": [
  {
   "cell_type": "code",
   "execution_count": 1,
   "metadata": {},
   "outputs": [],
   "source": [
    "# Program to connect to the tweeter api and collect tweets\n",
    "# related to AI. For the sake of this experiment \n",
    "import tweepy as tw\n",
    "\n",
    "# Important tweeter tokens for auth\n",
    "consumer_key= 'rtOHXdgu2S8SIFctVfF0yhXcY'\n",
    "consumer_secret= 'l8E5AIArXxZvr2idFTCzoLDkjqssLVIeo3TaUSyObqH0tQ7KsE'\n",
    "access_token= '185329008-rIYt3Y8HBkgBVSdYcy6iTMkXiUXFF3cSJkjuCZU6'\n",
    "access_token_secret= 'qKIz3VOjOus4mvNNg0JYGbaMHncPgLqajhUxJfiUBTHbL'\n",
    "\n",
    "auth = tw.OAuthHandler(consumer_key, consumer_secret)\n",
    "auth.set_access_token(access_token, access_token_secret)\n",
    "api = tw.API(auth, wait_on_rate_limit=True)\n"
   ]
  },
  {
   "cell_type": "code",
   "execution_count": 30,
   "metadata": {},
   "outputs": [
    {
     "name": "stdout",
     "output_type": "stream",
     "text": [
      "['The latest The Hacking Daily! https://t.co/FPUOLfy5le Thanks to @Lemmiwinks_III @KatiWeis #ai #machinelearning', '5 Ways Augmented Reality Apps Are Transforming Our Everyday Lives https://t.co/kqrjmhxpWB #AI #MachineLearning #DataScience #ArtificialIntelligence\\n\\nTrending AI/ML Article Identified &amp; Digested via Granola; a Machine-Driven RSS Bot by Ramsey Elbasheer https://t.co/75g99USLUl', 'RT @EasternStyle1: A robot out of control.#Programming #IoT #AI #100DaysOfCode #MachineLearning #ML #Airdrop #Python #CloudComputing #Analy…', 'RT @Everyday_MBA: [podcast] Leon Kuperman discusses AI-driven cloud optimization and how organizations can reduce their cloud spending w #A…', 'RT @spxbot: The current wave viewed by r.Virgeel  #artificialintelligence #ai #spx #sp500 a.i. for investors and traders https://t.co/3DobV…', 'RT @mvollmer1: A simulated video 🎥 of eye 👁 movements via @EasternStyle1 \\n\\n#Programming #AI #100DaysOfCode #MachineLearning #ML #Python #An…', 'RT @DarrabEducation: TechGirls Leadership Program in the #USA \\nCoverage: Fully Funded\\nLevels: Bachelors \\nNationality: All\\nDeadline 15.01.20…', 'RT @DarrabEducation: TechGirls Leadership Program in the #USA \\nCoverage: Fully Funded\\nLevels: Bachelors \\nNationality: All\\nDeadline 15.01.20…', 'RT @AIChatter: Master Kubernetes, React, AWS and more valuable cloud skills with this training | #AI #Cloud https://t.co/qYcmTYF1Xb', 'RT @JobPreference: NEED a JOB?\\nSign up now https://t.co/rMErDK45VP\\nFREE. NO MIDDLEMEN\\n#Robotics #AIEthics #MachineLearning #AI #Python #Dat…', 'RT @DVGallery: Deep Vision #01053\\n\\n#DeepVision #DeepVisionAI #CNFT #CNFTs #Cardano #CardanoCommunity #NFT #NFTs #NFTArt #AI #ArtificialInte…', 'RT @DarrabEducation: TechGirls Leadership Program in the #USA \\nCoverage: Fully Funded\\nLevels: Bachelors \\nNationality: All\\nDeadline 15.01.20…', 'RT @DarrabEducation: TechGirls Leadership Program in the #USA \\nCoverage: Fully Funded\\nLevels: Bachelors \\nNationality: All\\nDeadline 15.01.20…', 'TechGirls Leadership Program in the #USA \\nCoverage: Fully Funded\\nLevels: Bachelors \\nNationality: All\\nDeadline 15.01.2022\\nMore:\\nhttps://t.co/vX5Y8dweP3\\n#internships #darrabeducation #education #AI #Python  #java #data  #100DaysOfCode #DataScience #SaudiArabia #India #girls #women', 'RT @machinelearnflx: Machine Learning: Regression using python in Tamil() https://t.co/0A8a8J5Zyq  #machinelearning #datascience #bigdata #…', 'RT @DVGallery: Deep Vision #01053\\n\\n#DeepVision #DeepVisionAI #CNFT #CNFTs #Cardano #CardanoCommunity #NFT #NFTs #NFTArt #AI #ArtificialInte…', 'RT @BitcoinUniv3RS3: #HappyFriday💥My inBox is FuLL!!!😬ChiLLAX Guys \\nILget2everyMessage 🔜 \\nMeanTime go sign thePetition@ https://t.co/VGX32v…', 'RT @BitcoinUniv3RS3: #HappyFriday💥My inBox is FuLL!!!😬ChiLLAX Guys \\nILget2everyMessage 🔜 \\nMeanTime go sign thePetition@ https://t.co/VGX32v…', 'RT @BitcoinUniv3RS3: #HappyFriday💥My inBox is FuLL!!!😬ChiLLAX Guys \\nILget2everyMessage 🔜 \\nMeanTime go sign thePetition@ https://t.co/VGX32v…', \"RT @NeuroscienceNew: Researchers describe how specific facial features distinguish a child's face from an adult's face. The findings may he…\", 'RT @zeditip: #OMAIL PRODUCT BY ONPASSIVE\\nO-MAIL IS GOING TO OWN INTERNET SPACE WITH ITS VALUE\\nhttps://t.co/L2VnYImc11\\n#ONPASSIVE #OFounders…', '#OMAIL PRODUCT BY ONPASSIVE\\nO-MAIL IS GOING TO OWN INTERNET SPACE WITH ITS VALUE\\nhttps://t.co/L2VnYImc11\\n#ONPASSIVE #OFounders #earn #GoFounders #Business #AshMufareh #Innovation #AI #ArtificialIntelligence #Marketing #makemoneyonline #earnmoney #inspire #value #wealth #o... https://t.co/AfeoBtDPXL', \"Sumo Logic's Hiroaki Kawamura shares insights on the acceleration of AI in Japan, and how Japanese companies are utilizing data and #AI to better serve customers and business operations. @SumoLogic @VerdictUK https://t.co/5HAQ3CQ78y\", 'RT @BitcoinUniv3RS3: #HappyFriday💥My inBox is FuLL!!!😬ChiLLAX Guys \\nILget2everyMessage 🔜 \\nMeanTime go sign thePetition@ https://t.co/VGX32v…', 'RT @DigitalMasterCh: Through digital transformation enabled by artificial intelligence (AI), Healthcare companies can tap into underutilize…', 'RT @IotMore: Leveraging Analytics and Automation for key Cyber Security domains.\\n\\n@Atos Cyber Security Strategy by @ZeinaZakhour\\n\\n https://…', 'RT @labs_kp: Greetings from @SpaceTechExpoEU! Thank you all space guys for your interest in our solutions and your attendance at the panel…', 'RT @EasternStyle1: A robot out of control.#Programming #IoT #AI #100DaysOfCode #MachineLearning #ML #Airdrop #Python #CloudComputing #Analy…', 'New York City aims to be first to rein in automated hiring tools https://t.co/9BWReAkzGn #ai #ml #dl', 'RT @antgrasso: What is natural language processing (NLP) in artificial intelligence? In NLP processing, an oral speech is converted into te…', 'RT @Khulood_Almani: How will #ArtificialIntelligence &amp; #5G Impact Your Life? \\n\\n@Qualcomm \\n#innovation #NFTs #DataScience #Cloud #Metaverse…', 'RT @FuturaJoaquin: How #ArtificialIntelligence Is Revolutionizing #Retail. If you want to be successful in retail, you have to use technolo…', 'RT @KirkDBorne: 100+ Free #MachineLearning Books — Download Best #AI &amp; ML PDF: https://t.co/fOeORw7G5E via @TheInsaneApp \\n————\\n#BigData #Da…', 'RT @RitupaGhosh: #ArtificialIntelligence (#AI) and Neural Networks in a nutshell . https://t.co/QqfqJopPDY', 'RT @gp_pulipaka: #ReinforcementLearning Course! #BigData #Analytics #DataScience #AI #MachineLearning #IoT #IIoT #PyTorch #Python #RStats #…', 'RT @kaizenfactory: The Digital Transformation Daily Journal is out! https://t.co/2aAflvyvh1 Many thanks to @Ing_Martin_V #ai #machinelearni…', 'RT @RitupaGhosh: #ArtificialIntelligence (#AI) and Neural Networks in a nutshell . https://t.co/QqfqJopPDY', 'RT @KirkDBorne: How #EmergingTechnologies are impacting industries: https://t.co/NAfHYRFj6g\\n—————\\n#BigData #DataScience #AI #MachineLearnin…', 'RT @mycroft_ai: Can artificial intelligence become addicted? https://t.co/qqoLqDn3q8 #ai', 'RT @KirkDBorne: ‘Tis the season for unlimited free shipping — start here: https://t.co/hdJaXQgi1m\\n…then shop for books &amp; stuff for your fam…', 'RT @nicolecain54: Buy Phone Verified Gmail Accounts https://t.co/7z6KeLSSU8 \\n\\n#MachineLearning #DataScience #Python #AI #100DaysOfCode #IoT…', 'O-BLESS Signature OF ONPASSIVE❗️\\n🙌Do Something!\\n🙌Not Just For Yourself! \\n🙌Do For Others As Well…\\nhttps://t.co/rqH5glN8XC\\n#OBLESSWebsiteLive #OBlessProductLive #Business #GoFounders #ONPASSIVE #AshMufareh #Donate #AI https://t.co/piFdOZQmUn', 'RT @Ronald_vanLoon: Creators of this fully #Autonomous #EV call it the \"taxi of the future\"\\nby @mashable\\n\\n#AI #ArtificialIntelligence #Tech…', \"RT @AMPRobotics: On this #AmericaRecyclesDay, here's a look at one of our #AI-guided robots sorting mixed #plastics on a residue line. We h…\", 'RT @gp_pulipaka: #ReinforcementLearning Course! #BigData #Analytics #DataScience #AI #MachineLearning #IoT #IIoT #PyTorch #Python #RStats #…', 'RT @bamitav: The Promise and Challenges of AI and #MachineLearning for #Cybersecurity!\\n https://t.co/q9iZ9QjE6c\\n\\n#AI #ML #DL #NLP #ALGO #10…', 'RT @ChristophProme2: #Anonymous support legislation to force dangerous sport athletes to sign a contract on self physical and mental damage…', 'RT @Doxyaxone: A roadmap for DevOps. #Python #BigData #Analytics #AI #DataScience #IoT #IIoT #Azure #Cython #PyTorch #RStats #DotNet #CPP #…', 'RT @YuHelenYu: Learning about #Database.\\n#100DaysOfCode #DataScience #BigData #AI #womeninSTEM #MachineLearning #IoT #IIoT #PyTorch #Python…', 'RT @HUAWEI_TECH4ALL: #AI-powered #NatureGuardian are now deployed in Lake Neusiedl - Seewinkel National Park to help study local species an…', 'Fuel your passion: Living, working, and learning on the edge | #AI #Cloud https://t.co/f0Q9hBGYu9', 'RT @NandanLohitaksh: Language based uses\\n#BigData #Analytics #MachineLearning #CyberSecurity #RStats #TensorFlow #javascript #CloudComputin…', 'RT @tradingbotmaker: 🛠️Guide to Automated #NLProc\\n🔗https://t.co/D1DYEEDDqE\\n\\n#BigData #Analytics #DataScience #AI #MachineLearning #IoT #IIo…', 'RT @idalail98916215: 100 Days of Code: The Complete Python Pro Bootcamp for 2022\\n\\nhttps://t.co/GFZVQDUjXd\\n\\n#Pandas #DeepLearning #Analytics…', 'RT @PinakiLaskar: Book: Scientific Visualization: Python + Matplotlib https://t.co/s72xpdxLXc\\n#AI #DataScientist #BigData #MachineLearning…', 'RT @JeffDCorbett: $IONQ: \"Contrary to conventional wisdom that beneficial applications are years away, quantum computing in finance is here…', 'RT @PinakiLaskar: Book: Scientific Visualization: Python + Matplotlib https://t.co/s72xpdxLXc\\n#AI #DataScientist #BigData #MachineLearning…', 'RT @PinakiLaskar: Book: Scientific Visualization: Python + Matplotlib https://t.co/s72xpdxLXc\\n#AI #DataScientist #BigData #MachineLearning…', 'RT @antgrasso: What is natural language processing (NLP) in artificial intelligence? In NLP processing, an oral speech is converted into te…', 'RT @PinakiLaskar: Book: Scientific Visualization: Python + Matplotlib https://t.co/s72xpdxLXc\\n#AI #DataScientist #BigData #MachineLearning…', 'RT @JobPreference: NEED a JOB?\\nSign up now https://t.co/rMErDK45VP\\nFREE. NO MIDDLEMEN\\n#Robotics #AIEthics #MachineLearning #AI #Python #Dat…', 'RT @hfvidl122: Service by #Nikseam\\n#MachineLearning #5G #DataScience #startup #100DaysOfCode #mumbai #Python #Cybersecurity #BigData #IoT #…', 'RT @hfvidl122: Service by #Nikseam\\n#MachineLearning #5G #DataScience #startup #100DaysOfCode #mumbai #Python #Cybersecurity #BigData #IoT #…', 'RT @Shi4Tech: #AI That Can Learn Cause-and-Effect: These #NeuralNetworks Know What They’re Doing\\n\\nResults show \"how causality can emerge fr…', 'RT @hfvidl122: Service by #Nikseam\\n#MachineLearning #5G #DataScience #startup #100DaysOfCode #mumbai #Python #Cybersecurity #BigData #IoT #…', 'RT @bamitav: The Promise and Challenges of AI and #MachineLearning for #Cybersecurity!\\n https://t.co/q9iZ9QjE6c\\n\\n#AI #ML #DL #NLP #ALGO #10…', 'RT @_ArifChaudhary: Which list method is most powerful and why. \\n\\na) append()\\nb) extend()\\n\\n#knowledge #100DaysOfCode\\n#Python #Coding #code…', 'RT @JobPreference: NEED a JOB?\\nSign up now https://t.co/rMErDK45VP\\nFREE. NO MIDDLEMEN\\n#Robotics #AIEthics #MachineLearning #AI #Python #Dat…', 'RT @JobPreference: NEED a JOB?\\nSign up now https://t.co/rMErDK45VP\\nFREE. NO MIDDLEMEN\\n#Robotics #AIEthics #MachineLearning #AI #Python #Dat…', '#IT Budgets Rising at Faster Rate\\n#Cybersecurity, #analytics and #cloud top #CIO investment agenda, Gartner survey of tech executives finds\\n#tech #bigdata #AI #cloudcomputing\\nhttps://t.co/m3xMCv5EVh', 'NEED a JOB?\\nSign up now https://t.co/rMErDK45VP\\nFREE. NO MIDDLEMEN\\n#Robotics #AIEthics #MachineLearning #AI #Python #DataScience #BigData #DeepLearning #IoT #100DaysOfCode #robots #fintech #insurtech #bitcoin #cybersecurity #blockchain #bot #coding #Cryptos #NFTGame #Jobs #Job https://t.co/sgr3VD1KLT', 'RT @ipfconline1: #MachineLearning Algorithms For Beginners with Code Examples in #Python\\n\\nhttps://t.co/15espi8ANY by @towards_AI\\n\\n#Coding #…', 'Power of GPT-3 https://t.co/5JiuwHRXJv #AI #MachineLearning #DataScience #ArtificialIntelligence\\n\\nTrending AI/ML Article Identified &amp; Digested via Granola; a Machine-Driven RSS Bot by Ramsey Elbasheer https://t.co/xEUPekpMW6', 'Four More Questions You Might Get in a Data Science Interview https://t.co/V7xxZEYAmt #AI #MachineLearning #DataScience #ArtificialIntelligence\\n\\nTrending AI/ML Article Identified &amp; Digested via Granola; a Machine-Driven RSS Bot by Ramsey Elbasheer https://t.co/yMw7O1vMAb', 'Creating A Local Server From A Public Address https://t.co/4Ly5JfckBZ #AI #MachineLearning #DataScience #ArtificialIntelligence\\n\\nTrending AI/ML Article Identified &amp; Digested via Granola; a Machine-Driven RSS Bot by Ramsey Elbasheer https://t.co/65lgMsL8OQ', 'Playable Chess AI with TensorFlow https://t.co/i7fJuMMIn2 #AI #MachineLearning #DataScience #ArtificialIntelligence\\n\\nTrending AI/ML Article Identified &amp; Digested via Granola; a Machine-Driven RSS Bot by Ramsey Elbasheer https://t.co/v2heFElPe5', 'Emotional Recognition: Can AI Have Your Attention Please? https://t.co/bHxWnWmMjN #AI #MachineLearning #DataScience #ArtificialIntelligence\\n\\nTrending AI/ML Article Identified &amp; Digested via Granola; a Machine-Driven RSS Bot by Ramsey Elbasheer https://t.co/NsrVTB4Hyl', 'RT @FrRonconi: Sensing muscle movement to transform it into hand &amp; finger actions!🦾\\n\\n#AI #Robotics #Robots #WearableTech #TechForGood \\n@chb…', 'RT @genericgranola: Time-Series Analysis: Hands-On with SciKit-Learn Feature-Engineering https://t.co/rw8B5uBzk4 #AI #MachineLearning #Data…', 'Calendar Heatmaps\\xa0: A perfect way to display your time-series quantitative data https://t.co/tMKSpftKRU #AI #MachineLearning #DataScience #ArtificialIntelligence\\n\\nTrending AI/ML Article Identified &amp; Digested via Granola; a Machine-Driven RSS Bot by Ramsey Elbasheer https://t.co/8aGWOAHY8y', 'Customer-centric innovation takes centre stage at ... \\nhttps://t.co/Qprmra1VSm\\n#AI #ArtificialIntelligence #Commissioner #Communications #Environment #Government #Health #Infrastructure #Intelligence #NSWHealth #Planning #Randwick #ServiceNSW #Technology #Vaccination https://t.co/bI4JHtpgtB', 'Time-Series Analysis: Hands-On with SciKit-Learn Feature-Engineering https://t.co/rw8B5uBzk4 #AI #MachineLearning #DataScience #ArtificialIntelligence\\n\\nTrending AI/ML Article Identified &amp; Digested via Granola; a Machine-Driven RSS Bot by Ramsey Elbasheer https://t.co/SKnwmaWpRw', 'RT @MargaretSiegien: 6 Ways #AI-Based Personalization Is Improving the #CustomerExperience\\n#ML #NLP #Robotics #ArtificialIntelligence #CX…', 'Survey of the use of Artificial Intelligence in Brazilian Judiciary https://t.co/nutU2XoFkB #AI #MachineLearning #DataScience #ArtificialIntelligence\\n\\nTrending AI/ML Article Identified &amp; Digested via Granola; a Machine-Driven RSS Bot by Ramsey Elbasheer https://t.co/IO4CWinHt9', 'Who is responsible for AI? https://t.co/xZqeSSsk2H #AI #MachineLearning #DataScience #ArtificialIntelligence\\n\\nTrending AI/ML Article Identified &amp; Digested via Granola; a Machine-Driven RSS Bot by Ramsey Elbasheer https://t.co/AwCwi6iPxp', 'helpless issue https://t.co/7jQE3mW1I0 #AI #MachineLearning #DataScience #ArtificialIntelligence\\n\\nTrending AI/ML Article Identified &amp; Digested via Granola; a Machine-Driven RSS Bot by Ramsey Elbasheer https://t.co/jgQYG2xFHV', 'Artificial intelligence has created new songs by Nirvana and Amy Winehouse. https://t.co/Ev7y4MIuDt #AI #MachineLearning #DataScience #ArtificialIntelligence\\n\\nTrending AI/ML Article Identified &amp; Digested via Granola; a Machine-Driven RSS Bot by Ramsey Elbasheer https://t.co/JohNn9SXox', 'RT @cppsecrets: Check out this new article on @cppsecrets\\n\\nhttps://t.co/cfEuJevMuk\\n\\n#cppsecrets #deeplearning #100DaysOfCode  #Airtel #prog…', 'How Unity Simulation Pro and Unity SystemGraph use AI to train systems https://t.co/ZQA0olDsmX #AI #MachineLearning #DataScience #ArtificialIntelligence\\n\\nTrending AI/ML Article Identified &amp; Digested via Granola; a Machine-Driven RSS Bot by Ramsey Elbasheer https://t.co/9jVuGaBjdr', 'RT @R_Demidchuk: What’s the difference between #DataScience #BigData and Data Analytics?\\xa0\\n\\n#DigitalTransformation #MachineLearning #Artific…', \"The Making of Future Fighter: A Brief Introduction to Where This Game Comes From &amp; Where We're Going\\n\\nhttps://t.co/36jgWpRct9\\n\\n#scifi #fighting #game #pc #gamer #martialarts #indiedev #gamedev #FGC #FutureFighter #AI #artificialintelligence #gamedevelopment #screenshotsaturday\", 'RT @KirkDBorne: Statistics and Machine Learning in #Python (FREE 300-page PDF): https://t.co/yCXhurLSIN…\\n—————\\n#Statistics #MachineLearning…', 'RT @robotsdaily: AI fake-face generators can be rewound to reveal the real faces they trained on\\nhttps://t.co/ELKHAbSmpf\\n@robotsdaily \\n\\n#Ma…', 'RT @KirkDBorne: Get FREE 1000+ page PDF at https://t.co/FOW0eGT58N and explore this interactive #DeepLearning eBook with Multi-Framework Co…', 'RT @hfvidl122: Service by #Nikseam\\n#MachineLearning #5G #DataScience #startup #100DaysOfCode #mumbai #Python #Cybersecurity #BigData #IoT #…', 'RT @robotsdaily: AI fake-face generators can be rewound to reveal the real faces they trained on\\nhttps://t.co/ELKHAbSmpf\\n@robotsdaily \\n\\n#Ma…', 'RT @KirkDBorne: Get FREE 1000+ page PDF at https://t.co/FOW0eGT58N and explore this interactive #DeepLearning eBook with Multi-Framework Co…', 'RT @KirkDBorne: Get a FREE Demo of 112+ end-to-end project solutions that you can use in #MachineLearning and #BigData #DataScience here: h…', 'RT @bamitav: The Promise and Challenges of AI and #MachineLearning for #Cybersecurity!\\n https://t.co/q9iZ9QjE6c\\n\\n#AI #ML #DL #NLP #ALGO #10…', 'RT @bamitav: The Promise and Challenges of AI and #MachineLearning for #Cybersecurity!\\n https://t.co/q9iZ9QjE6c\\n\\n#AI #ML #DL #NLP #ALGO #10…', 'RT @HeinzVHoenen: #AI #ElectricVehicles #Mobility #Innovation #tech \\n\\n13 unusual ways to travel and to have fun too!\\n\\nby @LeonyMerks  rt @R…', 'RT @Paula_Piccard: Artificial Intelligence – less buzzwords, more clarity\\n\\n#MachineLearning #AI #Python #DataScience #BigData\\n#DeepLearning…', 'RT @machinelearnflx: Artificial Intelligence &amp; Machine Learning with Unity3D https://t.co/51wqPDFW0S  #machinelearning #datascience #bigdat…', 'RT @Paula_Piccard: Artificial Intelligence – less buzzwords, more clarity\\n\\n#MachineLearning #AI #Python #DataScience #BigData\\n#DeepLearning…', 'RT @Paula_Piccard: Artificial Intelligence – less buzzwords, more clarity\\n\\n#MachineLearning #AI #Python #DataScience #BigData\\n#DeepLearning…', 'RT @Paula_Piccard: Artificial Intelligence – less buzzwords, more clarity\\n\\n#MachineLearning #AI #Python #DataScience #BigData\\n#DeepLearning…', 'RT @DarrabEducation: #United People Global  Sustainability Leadership the #USA \\n Coverage: Fully Funded\\nDuration: 7 days\\nNationality: Inter…', 'RT @DarrabEducation: #United People Global  Sustainability Leadership the #USA \\n Coverage: Fully Funded\\nDuration: 7 days\\nNationality: Inter…', 'RT @DarrabEducation: #United People Global  Sustainability Leadership the #USA \\n Coverage: Fully Funded\\nDuration: 7 days\\nNationality: Inter…', '#United People Global  Sustainability Leadership the #USA \\n Coverage: Fully Funded\\nDuration: 7 days\\nNationality: International students\\nDeadline 31.12.2021\\nMore:\\nhttps://t.co/hIZfD2GZWN\\n#internships #darrabeducation #education #AI #Python  #java #data  #100DaysOfCode #DataScience', \"The future of #robotics isn't about reinventing human, will be less articulated, of non-human #AI -- it's a machine's world we adapt to; https://t.co/WifyfzyLID\", 'RT @KirkDBorne: 70 Free Online Courses for #DataScience to Advance Your Skills in 2021: https://t.co/h5exMoaa5s via @tut_ml \\n————\\n#BigData…', 'RT @stratorob: Make some goals, organize your week, plan and stay focused. #Passion\\n\\n#StartUp #SundayThoughts #ThinkBigSundayWithMarsha #In…', \"RT @DylanColes13: $NXOPF\\n\\nIt's a cozy feeling knowing NexOptic is partnered with ARM. Approx 70% of the globe uses ARM intellectual propert…\", \"RT @NeuroscienceNew: Researchers describe how specific facial features distinguish a child's face from an adult's face. The findings may he…\", 'RT @JobPreference: NEED a JOB?\\nSign up now https://t.co/rMErDK45VP\\nFREE. NO MIDDLEMEN\\n#Robotics #AIEthics #MachineLearning #AI #Python #Dat…', 'AUTOPILOT BUSINESS by ONPASSIVE 2021❗️\\n\\n✅WELCOME TO THE TRUE MARKETERS MIRACLE!\\nEnjoy the Goldmine of Residual Income for Life!\\nhttps://t.co/CtGcOqjOUu\\n#ONPASSIVE #OFounders #earn #GoFounders #Business #AshMufareh #Innovation #AI #ArtificialIntelligence #Marketing #... https://t.co/7KJv3qxFm9', 'RT @JobPreference: NEED a JOB?\\nSign up now https://t.co/rMErDK45VP\\nFREE. NO MIDDLEMEN\\n#Robotics #AIEthics #MachineLearning #AI #Python #Dat…', 'The Rise of Machine Learning Operations Startups – Pirate Press https://t.co/yOMjpiYI93 #ai #ml #dl', 'RT @ipfconline1: #MachineLearning Algorithms For Beginners with Code Examples in #Python\\n\\nhttps://t.co/15espi8ANY by @towards_AI\\n\\n#Coding #…', 'RT @ipfconline1: #MachineLearning Algorithms For Beginners with Code Examples in #Python\\n\\nhttps://t.co/15espi8ANY by @towards_AI\\n\\n#Coding #…', 'RT @ipfconline1: #MachineLearning Algorithms For Beginners with Code Examples in #Python\\n\\nhttps://t.co/15espi8ANY by @towards_AI\\n\\n#Coding #…', 'RT @futureofprivacy: READ: What are the 10 questions companies and organizations need to ask about #AI Risk? #ArtificialIntelligence  \\n htt…', 'RT @Rootbrian_: Watched Finch. With subtitles. #postapocalyptic #movie #film #finch #AI #whatitmeanstobehuman', 'Make some goals, organize your week, plan and stay focused. #Passion\\n\\n#StartUp #SundayThoughts #ThinkBigSundayWithMarsha #Insurance #success #insurtech #marketing #SuccessTRAIN #JoyTRAIN #FinTech #SmallBiz #AI #Robots #MachineLearning #Goals #Planning #Leadership #Family https://t.co/z8ZDzjuQEa', 'RT @geekinccanada: Digital Transformation: 4 Ways to Build Empathy into Your Processes https://t.co/DrVDxs3x2m #DigitalTransformation #Proc…', 'RT @KirkDBorne: 70 Free Online Courses for #DataScience to Advance Your Skills in 2021: https://t.co/h5exMoaa5s via @tut_ml \\n————\\n#BigData…', 'RT @ipfconline1: #MachineLearning Algorithms For Beginners with Code Examples in #Python\\n\\nhttps://t.co/15espi8ANY by @towards_AI\\n\\n#Coding #…', 'Watched Finch. With subtitles. #postapocalyptic #movie #film #finch #AI #whatitmeanstobehuman', 'RT @1DavidClarke: For good third party risk assessment, which is more important? #sibos via @RiskManagement #dataprotection #privacy #infos…', 'RT @1DavidClarke: For good third party risk assessment, which is more important? #sibos via @RiskManagement #dataprotection #privacy #infos…', 'RT @fikafuntimes: ▶️Considerations for Deploying #MachineLearning Models in Production!\\n\\n#AI #ML #Python #tech #data #javascript #FemTech #…', \"RT @DylanColes13: $NXOPF\\n\\nIt's a cozy feeling knowing NexOptic is partnered with ARM. Approx 70% of the globe uses ARM intellectual propert…\", 'RT @YuHelenYu: Learning about #Database.\\n#100DaysOfCode #DataScience #BigData #AI #womeninSTEM #MachineLearning #IoT #IIoT #PyTorch #Python…', \"@StPetePD @StPetePDChief @ABACJS @nycprobation Effectively realizing the benefits of #AI within the criminal justice sector and avoiding/mitigating the harms for the individual and society requires accountable governance; my remarks focused on where we are and what's ahead.\", 'RT @geekinccanada: Digital Transformation: 4 Ways to Build Empathy into Your Processes https://t.co/DrVDxs3x2m #DigitalTransformation #Proc…', 'RT @AISOMA_AG: Top Machine Learning #Algorithms for Predictions\\n\\nHigher resolution of the table can be downloaded here 👉 https://t.co/Ac4ZO…', 'RT @AINewsFeed: Artificial Intelligence as a Service Market – Major Technology Giants in Buzz Again | IBM, Google,... https://t.co/47Ojk0nv…', 'RT @Sil3ntVip3r: Army-Z by BITCOINZ https://t.co/CNumGBmnCA via @BITCOINZ Community \\n\\n#BigData #Analytics #DataScience #AI #MachineLearning…', \"RT @KirkDBorne: FREE course 'Introduction to #MachineLearning with #Python' at https://t.co/XRHWjoL9FY via @Marktechpost\\n—————\\n#AI #Artific…\", 'RT @AmitChampaneri1: Amazing #TechforGood! #AI-powered #translator from #ASL via @pascal_bornet @PawlowskiMario👇🏽#ML #MachineVision #Health…', 'RT @AmitChampaneri1: Amazing #TechforGood! #AI-powered #translator from #ASL via @pascal_bornet @PawlowskiMario👇🏽#ML #MachineVision #Health…', \"RT @KirkDBorne: FREE course 'Introduction to #MachineLearning with #Python' at https://t.co/XRHWjoL9FY via @Marktechpost\\n—————\\n#AI #Artific…\", 'RT @Grepnetics: Artificial Intelligence and Machine Learning, Cloud Computing, and 5G Will Be the Most Important Technologies in 2022, Says…', 'RT @BalanceOt: YOUR PRIVATE TRADING ASSISTANT 🚀\\n\\n#AI look at hourly charts $ETH #ETH\\n\\nThe downtrend on ETH/USD on the one-hour chart stoppe…', \"RT @KirkDBorne: FREE course 'Introduction to #MachineLearning with #Python' at https://t.co/XRHWjoL9FY via @Marktechpost\\n—————\\n#AI #Artific…\", 'RT @TeamPatriot007: #include&lt;stdio.h&gt;\\n#include&lt;conio.h&gt;\\nvoid main()\\n\\nprintf{\"#AI #PatriotsUnite #DigitalKisan #missionup 🤔 #cod}\\ngetch()\\n#f…', 'ONPASSIVE New Blood On Internet Space❗️\\n🌠Artificial Intelligence Technology\\n🌠Done for You Passive Income... \\nhttps://t.co/eC5t3tZR1I\\n#ONPASSIVE #OFounders #AshMufareh #Innovation #AI #ArtificialIntelligence #Marketing #makemoneyonline #earnmoney #inspire #value https://t.co/CKKCWVkKAT', 'RT @PawlowskiMario: Medical Training and Simulation in #AugmentedReality\\n\\nV/@Ronald_vanLoon \\n\\n#AI #AR #XR #VR #AR #VirtualReality #5G #Heal…', 'RT @1DavidClarke: For good third party risk assessment, which is more important? #sibos via @RiskManagement #dataprotection #privacy #infos…', 'RT @labordeolivier: 13 unusual ways to #travel!\\n#AI #IoT #Meta #EV\\nby @LeonyMerks\\nTY @Ronald_vanLoon\\n\\n@sebbourguignon @tewoz @AshokNellikar…', \"RT @guidaautonoma: #Hyundai's 'Seven' concept EV is a #selfdriving lounge\\n\\nhttps://t.co/i52L4lH7ar\\n#SelfDrivingCars #AI #IoT #5G #Autonomou…\", 'RT @guidaautonoma: #Waymo will help #UPS ship parcels this holiday season with #autonomous trucks\\n\\nhttps://t.co/cDGgxJJozU\\n#SelfDrivingCars…', 'RT @JobPreference: NEED a JOB?\\nSign up now https://t.co/rMErDJMv4h\\nFREE. NO MIDDLEMEN\\n#Robotics #AIEthics #MachineLearning #AI #Python #Dat…', 'RT @JobPreference: NEED a JOB?\\nSign up now https://t.co/rMErDJMv4h\\nFREE. NO MIDDLEMEN\\n#Robotics #AIEthics #MachineLearning #AI #Python #Dat…', 'RT @_Georgeobeid: #AI Can Detect Signals for #MentalHealth Assessment\\n#MachineLearning #NeuroScience #Brain #𝒟𝒾𝑒𝒷𝒪1 #𝒟𝒾𝑒𝒷𝒪37 \\nhttps://t.co/…', 'RT @tipsylabs: Your desire = our duty!\\n\\nTIPSY is LIVE on CMC\\n👉https://t.co/Og5vOS7BzF\\n\\nStay close for the next NFT Collection🔥\\n\\n#metaverse…', 'RT @TeamPatriot007: #include&lt;stdio.h&gt;\\n#include&lt;conio.h&gt;\\nvoid main()\\n\\nprintf{\"#AI #PatriotsUnite #DigitalKisan #missionup 🤔 #cod}\\ngetch()\\n#f…', 'RT @_Georgeobeid: Predicting Traffic Crashes Before They Happen With Artificial Intelligence #AI #Navigation #MachineLearning #𝒟𝒾𝑒𝒷𝒪1 #𝒟𝒾𝑒𝒷…', 'RT @AISOMA_AG: Top Machine Learning #Algorithms for Predictions\\n\\nHigher resolution of the table can be downloaded here 👉 https://t.co/Ac4ZO…', 'RT @KirkDBorne: Statistics and Machine Learning in #Python (FREE 300-page PDF): https://t.co/yCXhurLSIN…\\n—————\\n#Statistics #MachineLearning…', 'RT @_Georgeobeid: #AI Can Detect Signals for #MentalHealth Assessment\\n#MachineLearning #NeuroScience #Brain #𝒟𝒾𝑒𝒷𝒪1 #𝒟𝒾𝑒𝒷𝒪37 \\nhttps://t.co/…', 'RT @KirkDBorne: Statistics and Machine Learning in #Python (FREE 300-page PDF): https://t.co/yCXhurLSIN…\\n—————\\n#Statistics #MachineLearning…', 'RT @KirkDBorne: Follow links for Exploratory Data Analysis resources:\\n1️⃣EDA eBook chapter: 40-page PDF\\n2️⃣@NIST EDA online handbook\\nStart…', 'YOUR PRIVATE TRADING ASSISTANT 🚀\\n\\n#AI look at daily charts $ADA #ADA\\n\\nAs we look on the daily chart, one can observe as the price continues downwards in a downsloping channel from...\\n\\nJust choose your coin and be an expert!\\n#crypto #trading\\n\\nCHECK https://t.co/Gm1Mua8CwN https://t.co/dqWaar810n', 'YOUR PRIVATE TRADING ASSISTANT 🚀\\n\\n#AI look at hourly charts $BNB #BNB\\n\\nThe downtrend on BNB/USD on the one-hour chart stopped at previous two lows in the 516.279872 – 523.650095...\\n\\nJust choose your coin and be an expert!\\n#crypto #trading\\n\\nCHECK https://t.co/Gm1Mua8CwN https://t.co/dccwoApALC', '#AI sheds light on how the #brain processes #language https://t.co/9ZXA2eqUG4 https://t.co/K1dz0mHRJ1', 'RT @CYNAI_ai: Run PyTorch models in the browser using ONNX.js\\nhttps://t.co/S56Un7A6PO\\n#MachineLearning #AI #ONNX #100DaysOfCode #DEVCommuni…', 'RT @tipsylabs: Your desire = our duty!\\n\\nTIPSY is LIVE on CMC\\n👉https://t.co/Og5vOS7BzF\\n\\nStay close for the next NFT Collection🔥\\n\\n#metaverse…', 'RT @_Georgeobeid: #AI Can Detect Signals for #MentalHealth Assessment\\n#MachineLearning #NeuroScience #Brain #𝒟𝒾𝑒𝒷𝒪1 #𝒟𝒾𝑒𝒷𝒪37 \\nhttps://t.co/…', '#AIArtwork generated November 20, 2021 at 04:00PM.\\n\\nSource: https://t.co/jq73SDshph\\nHashtags: #AbstractArt #AI #Art #Artist #Artwork #GAN #GenerativeAdversarialNetwork #Painting https://t.co/0l3jJw6fNJ', 'RT @_Georgeobeid: Predicting Traffic Crashes Before They Happen With Artificial Intelligence #AI #Navigation #MachineLearning #𝒟𝒾𝑒𝒷𝒪1 #𝒟𝒾𝑒𝒷…', '10 AI Project Ideas in Computer Vision - KDnuggets #solutionapproach #computervision #vision #ai #data https://t.co/Cu33I4YqCC', 'Percipion is empowering businesses to enhance their applications by adding use case specific cognitive services. Info: https://t.co/rQQw1AisET #AI #CognitiveAI #Technology #Innovation #DigitalTransformation #Data #NLP #NLU #Analytics #Climate #Business #News #Digital #42774 https://t.co/kaY1DSmtcp', 'RT @CabotAnalysts: The artificial intelligence trend has been a boon for these #stocks, and could be even better as the global #AI marketpl…', 'RT @KirkDBorne: 70 Free Online Courses for #DataScience to Advance Your Skills in 2021: https://t.co/h5exMoaa5s via @tut_ml \\n————\\n#BigData…', 'ICYMI: Read the @HealthTechMag Q&amp;A w/ #healthIT influencer @DrDannySands who shared which top trends healthcare orgs should watch for:\\n👩\\u200d⚕️ Value-based care\\n💻 #Telehealth \\n🤳 Patient #healthtech\\n🤖 #AI https://t.co/rHWX6dGrpt', 'Deep Vision #01054\\n\\n#DeepVision #DeepVisionAI #CNFT #CNFTs #Cardano #CardanoCommunity #NFT #NFTs #NFTArt #AI #ArtificialIntelligence #DigitalArt #Metaverse #VQGan https://t.co/3vpUjWs50Z', 'RT @METAMORF_US: #Analyticship:#BI,#ML,#AI,#BigData,#Analytics,#HiEd:The Library of Congress goes digital https://t.co/ZhxYyPtFdo via @CIOo…', \"RT @KirkDBorne: FREE course 'Introduction to #MachineLearning with #Python' at https://t.co/XRHWjoL9FY via @Marktechpost\\n—————\\n#AI #Artific…\", 'RT @KirkDBorne: The top #DeepLearning package seen at #AI conferences is #PyTorch — see free online courses &amp; tutorials: https://t.co/pmoUj…', 'RT @milocamj: The Rise of Machine Learning Operations Startups – Pirate Press - Pirate Press https://t.co/3BXXJFTwXy #machinelearning #ai #…', 'RT @zeditip: COMPLETE SYSTEM❗️\\n📈For Your Online SUCCESS\\n👀🍀Our Vision Defines The Outcome\\n🌍BIGGER Than You Can Imagine\\n 👇👇👇\\nhttps://t.co/AND…', 'RT @KirkDBorne: FREE DOWNLOAD &gt;&gt; The @Databricks “Big Book of #MachineLearning Use Cases”\\n—————\\n#BigData #DataScience #AI #DeepLearning #Da…', \"STEPS TO SUCCESS WITH #ONPASSIVE IT'S TIME❗️ \\n👧 For Total Financial Freedom... \\n🌄Don't Be Left Behind... \\n💰Welcome to Your Financial Freedom!\\nhttps://t.co/hiDbNWKSCO\\n#ONPASSIVE #earn #GoFounders #Business #AshMufareh #Innovation #AI #ArtificialIntelligence #M... https://t.co/glhwxOmNge\", 'RT @KirkDBorne: The top #DeepLearning package seen at #AI conferences is #PyTorch — see free online courses &amp; tutorials: https://t.co/pmoUj…', \"RT @pierrepinna: I like #AI\\nbut\\nWe live in a totally unequal system\\nwhere AI, sadly, won't be able to do much\\n\\nOnly we humans could change…\", '#Five9 is growing at a rapid rate in Latin America, and its practical #AI and automation solutions have placed it high on the innovation scale. Read on to see the announcement from Frost &amp; Sullivan.\\nhttps://t.co/jAt2oDZ1FL https://t.co/sYJMv0u0eY', 'A Tour of End-to-End Machine Learning Platforms https://t.co/dNvHR3m7nl #DL #AI #ML #DeepLearning  #ArtificialIntelligence #MachineLearning #ComputerVision #AutonomousVehicles #NeuroMorphic #Robotics', 'RT @tradingbotmaker: 🛠️Guide to Automated #NLProc\\n🔗https://t.co/D1DYEEDDqE\\n\\n#BigData #Analytics #DataScience #AI #MachineLearning #IoT #IIo…', 'When in doubt whether to purchase a product or not, customers can download AI-powered virtual assistants that will help make a choice. Are you excited to be friends with such assistants that will become a vital part of online #shopping?\\n\\n#AI #customer #VR\\n\\nCC: @SAP_CX @junjudapi https://t.co/Unxkkg26WQ', 'Rings Genesis #54   #art #nft https://t.co/LgJivqqFRv via @RingsGenesis \\n#ethereum #eth #Bitcoin #btc #crypto #Binance #Polygon #bsc #Bnb #AI #DeFi #AVAX #FTM #solana #Kusama #Polkadot #SOL #KSM #DOT', 'RT @KirkDBorne: 70 Free Online Courses for #DataScience to Advance Your Skills in 2021: https://t.co/h5exMoaa5s via @tut_ml \\n————\\n#BigData…', 'RT @AI_Lisp_HPC0101: HELLO WORLD !!! COMPUTER SCIENCE IS IMPORTANT AND INTERESTING !!!\\n\\n#Microsoft #Linux #Apple #AI #IoT #Technology #Cybe…', 'RT @asifrazzaq1988: Google AI Introduces ‘MetNet-2’: A Probabilistic Weather Model Based On Deep Learning\\nQuick Read: https://t.co/EnPh5tOA…', \"RT @KirkDBorne: FREE course 'Introduction to #MachineLearning with #Python' at https://t.co/XRHWjoL9FY via @Marktechpost\\n—————\\n#AI #Artific…\", 'RT @KirkDBorne: Follow links for Exploratory Data Analysis resources:\\n1️⃣EDA eBook chapter: 40-page PDF\\n2️⃣@NIST EDA online handbook\\nStart…', 'RT @tradingbotmaker: 🛠️Guide to Automated #NLProc\\n🔗https://t.co/D1DYEEDDqE\\n\\n#BigData #Analytics #DataScience #AI #MachineLearning #IoT #IIo…', 'RT @TeamPatriot007: #include&lt;stdio.h&gt;\\n#include&lt;conio.h&gt;\\nvoid main()\\n\\nprintf{\"#AI #PatriotsUnite #DigitalKisan #missionup 🤔 #cod}\\ngetch()\\n#f…', 'RT @nafisalam: #ArtificialIntelligence implementation reaping #benefits but #Responsible #AI is e only way to mitigate #AIrisks-@PwC \\n\\n#Big…']\n"
     ]
    }
   ],
   "source": [
    "# Collect tweets\n",
    "search_words = ['#ai', '#artificial intelligence', '#artificialintelligence']\n",
    "date_since = '2020-11-16'\n",
    "\n",
    "# Since we are purely using this to evaluate the nltk/textblob \n",
    "# for sentiment analysis let's use a sample set of 100\n",
    "sample_tweets = 200\n",
    "tweets = []\n",
    "\n",
    "for search_word in search_words:\n",
    "    _tweet_obj = tw.Cursor(api.search,\n",
    "                           q=search_word,\n",
    "                           lang=\"en\",\n",
    "                           since=date_since, tweet_mode='extended').items(sample_tweets)\n",
    "    for tweet in _tweet_obj:\n",
    "        # When using the extended tweet_mode, the object attr changes to\n",
    "        # full_text\n",
    "        tweets.append(tweet.full_text)\n",
    "    break\n",
    "        \n",
    "print(tweets)"
   ]
  },
  {
   "cell_type": "code",
   "execution_count": 31,
   "metadata": {},
   "outputs": [
    {
     "name": "stdout",
     "output_type": "stream",
     "text": [
      "200\n"
     ]
    }
   ],
   "source": [
    "print(len(tweets))"
   ]
  },
  {
   "cell_type": "code",
   "execution_count": 32,
   "metadata": {},
   "outputs": [
    {
     "name": "stdout",
     "output_type": "stream",
     "text": [
      "A robot out of control.#Programming #IoT #AI #100DaysOfCode #MachineLearning #ML #Airdrop #Python #CloudComputing #Analy…\n",
      "[podcast] Leon Kuperman discusses AI-driven cloud optimization and how organizations can reduce their cloud spending w #A…\n",
      "A simulated video 🎥 of eye 👁 movements via @EasternStyle1 \n",
      "\n",
      "#Programming #AI #100DaysOfCode #MachineLearning #ML #Python #An…\n",
      "TechGirls Leadership Program in the #USA \n",
      "Coverage: Fully Funded\n",
      "Levels: Bachelors \n",
      "Nationality: All\n",
      "Deadline 15.01.20…\n",
      "Deep Vision #01053\n",
      "\n",
      "#DeepVision #DeepVisionAI #CNFT #CNFTs #Cardano #CardanoCommunity #NFT #NFTs #NFTArt #AI #ArtificialInte…\n",
      "Researchers describe how specific facial features distinguish a child's face from an adult's face. The findings may he…\n",
      "Through digital transformation enabled by artificial intelligence (AI), Healthcare companies can tap into underutilize…\n",
      "Greetings from @SpaceTechExpoEU! Thank you all space guys for your interest in our solutions and your attendance at the panel…\n",
      "What is natural language processing (NLP) in artificial intelligence? In NLP processing, an oral speech is converted into te…\n",
      "How will #ArtificialIntelligence &amp; #5G Impact Your Life? \n",
      "\n",
      "@Qualcomm \n",
      "#innovation #NFTs #DataScience #Cloud #Metaverse…\n",
      "How #ArtificialIntelligence Is Revolutionizing #Retail. If you want to be successful in retail, you have to use technolo…\n",
      "#ReinforcementLearning Course! #BigData #Analytics #DataScience #AI #MachineLearning #IoT #IIoT #PyTorch #Python #RStats #…\n",
      "Creators of this fully #Autonomous #EV call it the \"taxi of the future\"\n",
      "by @mashable\n",
      "\n",
      "#AI #ArtificialIntelligence #Tech…\n",
      "On this #AmericaRecyclesDay, here's a look at one of our #AI-guided robots sorting mixed #plastics on a residue line. We h…\n",
      "#Anonymous support legislation to force dangerous sport athletes to sign a contract on self physical and mental damage…\n",
      "A roadmap for DevOps. #Python #BigData #Analytics #AI #DataScience #IoT #IIoT #Azure #Cython #PyTorch #RStats #DotNet #CPP #…\n",
      "Learning about #Database.\n",
      "#100DaysOfCode #DataScience #BigData #AI #womeninSTEM #MachineLearning #IoT #IIoT #PyTorch #Python…\n",
      "#AI-powered #NatureGuardian are now deployed in Lake Neusiedl - Seewinkel National Park to help study local species an…\n",
      "Language based uses\n",
      "#BigData #Analytics #MachineLearning #CyberSecurity #RStats #TensorFlow #javascript #CloudComputin…\n",
      "\"Contrary to conventional wisdom that beneficial applications are years away, quantum computing in finance is here…\n",
      "Service by #Nikseam\n",
      "#MachineLearning #5G #DataScience #startup #100DaysOfCode #mumbai #Python #Cybersecurity #BigData #IoT #…\n",
      "These #NeuralNetworks Know What They’re Doing\n",
      "\n",
      "Results show \"how causality can emerge fr…\n",
      "Which list method is most powerful and why. \n",
      "\n",
      "a) append()\n",
      "b) extend()\n",
      "\n",
      "#knowledge #100DaysOfCode\n",
      "#Python #Coding #code…\n",
      "Sensing muscle movement to transform it into hand &amp; finger actions!🦾\n",
      "\n",
      "#AI #Robotics #Robots #WearableTech #TechForGood \n",
      "@chb…\n",
      "6 Ways #AI-Based Personalization Is Improving the #CustomerExperience\n",
      "#ML #NLP #Robotics #ArtificialIntelligence #CX…\n",
      "What’s the difference between #DataScience #BigData and Data Analytics? \n",
      "\n",
      "#DigitalTransformation #MachineLearning #Artific…\n",
      "h…\n",
      "#AI #ElectricVehicles #Mobility #Innovation #tech \n",
      "\n",
      "13 unusual ways to travel and to have fun too!\n",
      "\n",
      "by @LeonyMerks  rt @R…\n",
      "Artificial Intelligence – less buzzwords, more clarity\n",
      "\n",
      "#MachineLearning #AI #Python #DataScience #BigData\n",
      "#DeepLearning…\n",
      "#United People Global  Sustainability Leadership the #USA \n",
      " Coverage: Fully Funded\n",
      "Duration: 7 days\n",
      "Nationality: Inter…\n",
      "Make some goals, organize your week, plan and stay focused. #Passion\n",
      "\n",
      "#StartUp #SundayThoughts #ThinkBigSundayWithMarsha #In…\n",
      "$NXOPF\n",
      "\n",
      "It's a cozy feeling knowing NexOptic is partnered with ARM. Approx 70% of the globe uses ARM intellectual propert…\n",
      "What are the 10 questions companies and organizations need to ask about #AI Risk? #ArtificialIntelligence  \n",
      " htt…\n",
      "Watched Finch. With subtitles. #postapocalyptic #movie #film #finch #AI #whatitmeanstobehuman\n",
      "For good third party risk assessment, which is more important? #sibos via @RiskManagement #dataprotection #privacy #infos…\n",
      "▶️Considerations for Deploying #MachineLearning Models in Production!\n",
      "\n",
      "#AI #ML #Python #tech #data #javascript #FemTech #…\n",
      "@StPetePD @StPetePDChief @ABACJS @nycprobation Effectively realizing the benefits of #AI within the criminal justice sector and avoiding/mitigating the harms for the individual and society requires accountable governance; my remarks focused on where we are and what's ahead.\n",
      "Amazing #TechforGood! #AI-powered #translator from #ASL via @pascal_bornet @PawlowskiMario👇🏽#ML #MachineVision #Health…\n",
      "Artificial Intelligence and Machine Learning, Cloud Computing, and 5G Will Be the Most Important Technologies in 2022, Says…\n",
      "YOUR PRIVATE TRADING ASSISTANT 🚀\n",
      "\n",
      "#AI look at hourly charts $ETH #ETH\n",
      "\n",
      "The downtrend on ETH/USD on the one-hour chart stoppe…\n",
      "#include&lt;stdio.h&gt;\n",
      "#include&lt;conio.h&gt;\n",
      "void main()\n",
      "\n",
      "printf{\"#AI #PatriotsUnite #DigitalKisan #missionup 🤔 #cod}\n",
      "getch()\n",
      "#f…\n",
      "Medical Training and Simulation in #AugmentedReality\n",
      "\n",
      "V/@Ronald_vanLoon \n",
      "\n",
      "#AI #AR #XR #VR #AR #VirtualReality #5G #Heal…\n",
      "13 unusual ways to #travel!\n",
      "#AI #IoT #Meta #EV\n",
      "by @LeonyMerks\n",
      "TY @Ronald_vanLoon\n",
      "\n",
      "@sebbourguignon @tewoz @AshokNellikar…\n",
      "Predicting Traffic Crashes Before They Happen With Artificial Intelligence #AI #Navigation #MachineLearning #𝒟𝒾𝑒𝒷𝒪1 #𝒟𝒾𝑒𝒷…\n",
      "Follow links for Exploratory Data Analysis resources:\n",
      "1️⃣EDA eBook chapter: 40-page PDF\n",
      "2️⃣@NIST EDA online handbook\n",
      "Start…\n",
      "The artificial intelligence trend has been a boon for these #stocks, and could be even better as the global #AI marketpl…\n",
      "FREE DOWNLOAD &gt;&gt; The @Databricks “Big Book of #MachineLearning Use Cases”\n",
      "—————\n",
      "#BigData #DataScience #AI #DeepLearning #Da…\n",
      "I like #AI\n",
      "but\n",
      "We live in a totally unequal system\n",
      "where AI, sadly, won't be able to do much\n",
      "\n",
      "Only we humans could change…\n",
      "HELLO WORLD !!! COMPUTER SCIENCE IS IMPORTANT AND INTERESTING !!!\n",
      "\n",
      "#Microsoft #Linux #Apple #AI #IoT #Technology #Cybe…\n",
      "#ArtificialIntelligence implementation reaping #benefits but #Responsible #AI is e only way to mitigate #AIrisks-@PwC \n",
      "\n",
      "#Big…\n"
     ]
    },
    {
     "data": {
      "text/html": [
       "<div>\n",
       "<style scoped>\n",
       "    .dataframe tbody tr th:only-of-type {\n",
       "        vertical-align: middle;\n",
       "    }\n",
       "\n",
       "    .dataframe tbody tr th {\n",
       "        vertical-align: top;\n",
       "    }\n",
       "\n",
       "    .dataframe thead th {\n",
       "        text-align: right;\n",
       "    }\n",
       "</style>\n",
       "<table border=\"1\" class=\"dataframe\">\n",
       "  <thead>\n",
       "    <tr style=\"text-align: right;\">\n",
       "      <th></th>\n",
       "      <th>Tweet</th>\n",
       "      <th>Sentiment</th>\n",
       "    </tr>\n",
       "  </thead>\n",
       "  <tbody>\n",
       "    <tr>\n",
       "      <th>0</th>\n",
       "      <td>A robot out of control.#Programming #IoT #AI #...</td>\n",
       "      <td>Neutral</td>\n",
       "    </tr>\n",
       "    <tr>\n",
       "      <th>1</th>\n",
       "      <td>[podcast] Leon Kuperman discusses AI-driven cl...</td>\n",
       "      <td>Positive</td>\n",
       "    </tr>\n",
       "    <tr>\n",
       "      <th>2</th>\n",
       "      <td>A simulated video 🎥 of eye 👁 movements via @Ea...</td>\n",
       "      <td>Neutral</td>\n",
       "    </tr>\n",
       "    <tr>\n",
       "      <th>3</th>\n",
       "      <td>TechGirls Leadership Program in the #USA \\nCov...</td>\n",
       "      <td>Neutral</td>\n",
       "    </tr>\n",
       "    <tr>\n",
       "      <th>4</th>\n",
       "      <td>Deep Vision #01053\\n\\n#DeepVision #DeepVisionA...</td>\n",
       "      <td>Positive</td>\n",
       "    </tr>\n",
       "  </tbody>\n",
       "</table>\n",
       "</div>"
      ],
      "text/plain": [
       "                                               Tweet Sentiment\n",
       "0  A robot out of control.#Programming #IoT #AI #...   Neutral\n",
       "1  [podcast] Leon Kuperman discusses AI-driven cl...  Positive\n",
       "2  A simulated video 🎥 of eye 👁 movements via @Ea...   Neutral\n",
       "3  TechGirls Leadership Program in the #USA \\nCov...   Neutral\n",
       "4  Deep Vision #01053\\n\\n#DeepVision #DeepVisionA...  Positive"
      ]
     },
     "execution_count": 32,
     "metadata": {},
     "output_type": "execute_result"
    }
   ],
   "source": [
    "# First, let's use NLTK's sentiment-analysis across\n",
    "# collected tweets\n",
    "import pandas as pd\n",
    "import nltk\n",
    "import re\n",
    "# nltk.download('vader_lexicon')\n",
    "from nltk.sentiment import SentimentIntensityAnalyzer\n",
    "sia = SentimentIntensityAnalyzer()\n",
    "\n",
    "df = pd.DataFrame(columns=['Tweet', 'Sentiment'])\n",
    "                           \n",
    "for tweet in tweets:\n",
    "    # Remove tweets with urls\n",
    "    if 'https' in tweet:\n",
    "        continue\n",
    "    # Substitute retweet data\n",
    "    tweet = re.sub('RT \\@.*: ', '', tweet, 1)\n",
    "    if (df['Tweet'] == tweet).any():\n",
    "        continue\n",
    "    print(tweet)\n",
    "    score = sia.polarity_scores(tweet)['compound']\n",
    "    if score < 0:\n",
    "        sentiment = 'Negative'\n",
    "    elif score == 0:\n",
    "        sentiment = 'Neutral'\n",
    "    elif score > 0:\n",
    "        sentiment = 'Positive'\n",
    "    # Finally, add the row to the data-frame\n",
    "    df = df.append({'Tweet': tweet, 'Sentiment': sentiment}, ignore_index=True)\n",
    "\n",
    "df.head()"
   ]
  },
  {
   "cell_type": "code",
   "execution_count": 27,
   "metadata": {},
   "outputs": [],
   "source": [
    "df.to_csv('ai_tweets.csv', index=False)"
   ]
  },
  {
   "cell_type": "code",
   "execution_count": 5,
   "metadata": {
    "scrolled": true
   },
   "outputs": [
    {
     "data": {
      "text/html": [
       "<div>\n",
       "<style scoped>\n",
       "    .dataframe tbody tr th:only-of-type {\n",
       "        vertical-align: middle;\n",
       "    }\n",
       "\n",
       "    .dataframe tbody tr th {\n",
       "        vertical-align: top;\n",
       "    }\n",
       "\n",
       "    .dataframe thead th {\n",
       "        text-align: right;\n",
       "    }\n",
       "</style>\n",
       "<table border=\"1\" class=\"dataframe\">\n",
       "  <thead>\n",
       "    <tr style=\"text-align: right;\">\n",
       "      <th></th>\n",
       "      <th>Tweet</th>\n",
       "      <th>NLTK-Sentiment-Analyser</th>\n",
       "      <th>Mturk-1</th>\n",
       "      <th>Mturk-2</th>\n",
       "    </tr>\n",
       "  </thead>\n",
       "  <tbody>\n",
       "    <tr>\n",
       "      <th>0</th>\n",
       "      <td>#Walmart teaming up with @zipline to launch an...</td>\n",
       "      <td>Neutral</td>\n",
       "      <td>Neutral</td>\n",
       "      <td>Neutral</td>\n",
       "    </tr>\n",
       "    <tr>\n",
       "      <th>1</th>\n",
       "      <td>Mathematics is Magic!\\n#AI #MachineLearning #d...</td>\n",
       "      <td>Neutral</td>\n",
       "      <td>Positive</td>\n",
       "      <td>Positive</td>\n",
       "    </tr>\n",
       "    <tr>\n",
       "      <th>2</th>\n",
       "      <td>I Made a Git Cheat-Sheet by @elmiracodes. #Big...</td>\n",
       "      <td>Neutral</td>\n",
       "      <td>Neutral</td>\n",
       "      <td>Positive</td>\n",
       "    </tr>\n",
       "    <tr>\n",
       "      <th>3</th>\n",
       "      <td>Will combination of #AI &amp;amp; ITSM continue to...</td>\n",
       "      <td>Positive</td>\n",
       "      <td>Neutral</td>\n",
       "      <td>Neutral</td>\n",
       "    </tr>\n",
       "    <tr>\n",
       "      <th>4</th>\n",
       "      <td>[#Innovation] This Scottish island has the wor...</td>\n",
       "      <td>Neutral</td>\n",
       "      <td>Neutral</td>\n",
       "      <td>Neutral</td>\n",
       "    </tr>\n",
       "  </tbody>\n",
       "</table>\n",
       "</div>"
      ],
      "text/plain": [
       "                                               Tweet NLTK-Sentiment-Analyser  \\\n",
       "0  #Walmart teaming up with @zipline to launch an...                 Neutral   \n",
       "1  Mathematics is Magic!\\n#AI #MachineLearning #d...                 Neutral   \n",
       "2  I Made a Git Cheat-Sheet by @elmiracodes. #Big...                 Neutral   \n",
       "3  Will combination of #AI &amp; ITSM continue to...                Positive   \n",
       "4  [#Innovation] This Scottish island has the wor...                 Neutral   \n",
       "\n",
       "    Mturk-1   Mturk-2  \n",
       "0   Neutral   Neutral  \n",
       "1  Positive  Positive  \n",
       "2   Neutral  Positive  \n",
       "3   Neutral   Neutral  \n",
       "4   Neutral   Neutral  "
      ]
     },
     "execution_count": 5,
     "metadata": {},
     "output_type": "execute_result"
    }
   ],
   "source": [
    "import pandas as pd\n",
    "# Let's calculate the kappa co-efficient based on the obtained results\n",
    "df_mturks = pd.read_csv('ai_tweets_final.csv')\n",
    "df_mturks.head()"
   ]
  },
  {
   "cell_type": "code",
   "execution_count": 8,
   "metadata": {},
   "outputs": [
    {
     "data": {
      "text/plain": [
       "-0.054117647058823604"
      ]
     },
     "execution_count": 8,
     "metadata": {},
     "output_type": "execute_result"
    }
   ],
   "source": [
    "from sklearn.metrics import cohen_kappa_score\n",
    "cohen_kappa_score(df_mturks['Mturk-1'], df_mturks['Mturk-2'], \n",
    "                  labels=['Positive', 'Negative', 'Neutral'])\n",
    "\n",
    "# The manual calculation coroborates with the result of cohen_kappa_score()\n",
    "# A negative score shows a disagrement between the two Turkers."
   ]
  },
  {
   "cell_type": "code",
   "execution_count": 9,
   "metadata": {},
   "outputs": [
    {
     "data": {
      "text/plain": [
       "0.04622871046228705"
      ]
     },
     "execution_count": 9,
     "metadata": {},
     "output_type": "execute_result"
    }
   ],
   "source": [
    "# Repeat this for other combinations\n",
    "cohen_kappa_score(df_mturks['NLTK-Sentiment-Analyser'], df_mturks['Mturk-1'], \n",
    "                  labels=['Positive', 'Negative', 'Neutral'])"
   ]
  },
  {
   "cell_type": "code",
   "execution_count": 10,
   "metadata": {},
   "outputs": [
    {
     "data": {
      "text/plain": [
       "-0.1454545454545455"
      ]
     },
     "execution_count": 10,
     "metadata": {},
     "output_type": "execute_result"
    }
   ],
   "source": [
    "cohen_kappa_score(df_mturks['NLTK-Sentiment-Analyser'], df_mturks['Mturk-2'], \n",
    "                  labels=['Positive', 'Negative', 'Neutral'])"
   ]
  },
  {
   "cell_type": "code",
   "execution_count": null,
   "metadata": {},
   "outputs": [],
   "source": []
  }
 ],
 "metadata": {
  "kernelspec": {
   "display_name": "Python 3",
   "language": "python",
   "name": "python3"
  },
  "language_info": {
   "codemirror_mode": {
    "name": "ipython",
    "version": 3
   },
   "file_extension": ".py",
   "mimetype": "text/x-python",
   "name": "python",
   "nbconvert_exporter": "python",
   "pygments_lexer": "ipython3",
   "version": "3.8.3"
  }
 },
 "nbformat": 4,
 "nbformat_minor": 4
}

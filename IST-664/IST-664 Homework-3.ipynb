{
 "cells": [
  {
   "cell_type": "code",
   "execution_count": 1,
   "metadata": {},
   "outputs": [
    {
     "name": "stdout",
     "output_type": "stream",
     "text": [
      "[The Tragedie of Julius Caesar by William Shakespe\n",
      "[The Tragedie of Hamlet by William Shakespeare 159\n"
     ]
    }
   ],
   "source": [
    "# HW-3\n",
    "# Finding adverb and adjective phrases, and computing basic statistics\n",
    "\n",
    "# importing required nltk libraries\n",
    "import nltk\n",
    "from nltk import sent_tokenize\n",
    "\n",
    "# In HW-1, I used books written by Shakespeare - Caesar and Hamlet. We will continue exploratory \n",
    "# sentiment analysis on the same books\n",
    "nltk.corpus.gutenberg.fileids()\n",
    "\n",
    "# Get Shakespeare books in the Gutenberh corpus\n",
    "shakespeare_books = [book for book in nltk.corpus.gutenberg.fileids( ) \\\n",
    "                     if 'shakespeare' in book]\n",
    "\n",
    "# Book-1: Caesar (Genre: Tragedy)\n",
    "caesar = nltk.corpus.gutenberg.raw(shakespeare_books[0])\n",
    "\n",
    "# Book-2: Hamlet (Genre: Tragedy/Comedy)\n",
    "hamlet = nltk.corpus.gutenberg.raw(shakespeare_books[1])\n",
    "\n",
    "print(caesar[:50])\n",
    "print(hamlet[:50])"
   ]
  },
  {
   "cell_type": "code",
   "execution_count": 2,
   "metadata": {},
   "outputs": [
    {
     "name": "stdout",
     "output_type": "stream",
     "text": [
      "['[The Tragedie of Julius Caesar by William Shakespeare 1599]\\n\\n\\nActus Primus.', 'Scoena Prima.', 'Enter Flauius, Murellus, and certaine Commoners ouer the Stage.', 'Flauius.', 'Hence: home you idle Creatures, get you home:\\nIs this a Holiday?', 'What, know you not\\n(Being Mechanicall) you ought not walke\\nVpon a labouring day, without the signe\\nOf your Profession?', 'Speake, what Trade art thou?', 'Car.', 'Why Sir, a Carpenter\\n\\n   Mur.', 'Where is thy Leather Apron, and thy Rule?']\n",
      "['[The Tragedie of Hamlet by William Shakespeare 1599]\\n\\n\\nActus Primus.', 'Scoena Prima.', 'Enter Barnardo and Francisco two Centinels.', 'Barnardo.', \"Who's there?\", 'Fran.', 'Nay answer me: Stand & vnfold\\nyour selfe\\n\\n   Bar.', 'Long liue the King\\n\\n   Fran.', 'Barnardo?', 'Bar.']\n"
     ]
    }
   ],
   "source": [
    "# Separate the text into sentences first\n",
    "caesar_sentences = nltk.sent_tokenize(caesar)\n",
    "print(caesar_sentences[:10])\n",
    "\n",
    "hamlet_sentences = nltk.sent_tokenize(hamlet)\n",
    "print(hamlet_sentences[:10])"
   ]
  },
  {
   "cell_type": "code",
   "execution_count": 3,
   "metadata": {},
   "outputs": [
    {
     "name": "stdout",
     "output_type": "stream",
     "text": [
      "[['Flauius.', Sentiment(polarity=0.0, subjectivity=0.0)], ['Hence: home you idle Creatures, get you home:\\nIs this a Holiday?', Sentiment(polarity=0.0, subjectivity=0.0)], ['What, know you not\\n(Being Mechanicall) you ought not walke\\nVpon a labouring day, without the signe\\nOf your Profession?', Sentiment(polarity=0.0, subjectivity=0.0)], ['Speake, what Trade art thou?', Sentiment(polarity=0.0, subjectivity=0.0)], ['Car.', Sentiment(polarity=0.0, subjectivity=0.0)], ['Why Sir, a Carpenter\\n\\n   Mur.', Sentiment(polarity=0.0, subjectivity=0.0)], ['Where is thy Leather Apron, and thy Rule?', Sentiment(polarity=0.0, subjectivity=0.0)], ['What dost thou with thy best Apparrell on?', Sentiment(polarity=1.0, subjectivity=0.3)], ['You sir, what Trade are you?', Sentiment(polarity=0.0, subjectivity=0.0)]]\n",
      "[['Barnardo.', Sentiment(polarity=0.0, subjectivity=0.0)], [\"Who's there?\", Sentiment(polarity=0.0, subjectivity=0.0)], ['Fran.', Sentiment(polarity=0.0, subjectivity=0.0)], ['Nay answer me: Stand & vnfold\\nyour selfe\\n\\n   Bar.', Sentiment(polarity=0.0, subjectivity=0.0)], ['Long liue the King\\n\\n   Fran.', Sentiment(polarity=-0.05, subjectivity=0.4)], ['Barnardo?', Sentiment(polarity=0.0, subjectivity=0.0)], ['Bar.', Sentiment(polarity=0.0, subjectivity=0.0)], ['He\\n\\n   Fran.', Sentiment(polarity=0.0, subjectivity=0.0)], ['You come most carefully vpon your houre\\n\\n   Bar.', Sentiment(polarity=0.2, subjectivity=0.75)]]\n",
      "Sentence Hence: home you idle Creatures, get you home:\n",
      "Is this a Holiday? has polarity 0.0 and subjectivity 0.0\n"
     ]
    }
   ],
   "source": [
    "from textblob import TextBlob\n",
    "\n",
    "# Get polarity/subjectivity for each sent in both corpora\n",
    "caesar_sentiment = [[sent, TextBlob(sent).sentiment] for sent in caesar_sentences[2:]]\n",
    "print(caesar_sentiment[1:10])\n",
    "\n",
    "hamlet_sentiment = [[sent, TextBlob(sent).sentiment] for sent in hamlet_sentences[2:]]\n",
    "print(hamlet_sentiment[1:10])\n",
    "\n",
    "# The raw data here is in the form of a list(we are using a list instead of \n",
    "# tuple so we have the flexibility to add items in future):\n",
    "#. <sentence>, sentiment(polarity=<>, subjectivity=<>)\n",
    "# Correspondingly, we will translate the sentiment range (-1, 0, 1) to follows:\n",
    "#.  -1 -> 0 as Negative\n",
    "#.  0 as Neutral\n",
    "#.  0 -> 1 as Positive\n",
    "\n",
    "# NOTE:\n",
    "# This can be obtained from the sentence using the index 1 & accessing the\n",
    "# polarity/subjectivity using object.polarity() or object.subjectivity().\n",
    "\n",
    "# For example:\n",
    "sent = caesar_sentiment[2][0]\n",
    "polarity = caesar_sentiment[2][1].polarity\n",
    "subjectivity = caesar_sentiment[2][1].subjectivity\n",
    "\n",
    "print('Sentence %s has polarity %s and subjectivity %s' %(sent, polarity, subjectivity))"
   ]
  },
  {
   "cell_type": "code",
   "execution_count": 4,
   "metadata": {},
   "outputs": [
    {
     "name": "stdout",
     "output_type": "stream",
     "text": [
      "['Hence: home you idle Creatures, get you home:\\nIs this a Holiday?', Sentiment(polarity=0.0, subjectivity=0.0), 'Neutral']\n",
      "[\"Who's there?\", Sentiment(polarity=0.0, subjectivity=0.0), 'Neutral']\n"
     ]
    }
   ],
   "source": [
    "# Next we will translate the polarity and subjectivity index to the tags we want to see.\n",
    "import copy\n",
    "\n",
    "def translate_sentiment(sent_blob):\n",
    "    '''\n",
    "    Given a sentence, derive its sentiment\n",
    "    '''\n",
    "    if sent_blob[1].polarity < 0:\n",
    "        sent_blob.append('Negative')\n",
    "    elif sent_blob[1].polarity == 0:\n",
    "        sent_blob.append('Neutral')\n",
    "    elif sent_blob[1].polarity > 0:\n",
    "        sent_blob.append('Positive')\n",
    "    return sent_blob\n",
    "\n",
    "print(translate_sentiment(caesar_sentiment[2]))\n",
    "print(translate_sentiment(hamlet_sentiment[2]))"
   ]
  },
  {
   "cell_type": "code",
   "execution_count": 5,
   "metadata": {},
   "outputs": [
    {
     "data": {
      "text/html": [
       "<div>\n",
       "<style scoped>\n",
       "    .dataframe tbody tr th:only-of-type {\n",
       "        vertical-align: middle;\n",
       "    }\n",
       "\n",
       "    .dataframe tbody tr th {\n",
       "        vertical-align: top;\n",
       "    }\n",
       "\n",
       "    .dataframe thead th {\n",
       "        text-align: right;\n",
       "    }\n",
       "</style>\n",
       "<table border=\"1\" class=\"dataframe\">\n",
       "  <thead>\n",
       "    <tr style=\"text-align: right;\">\n",
       "      <th></th>\n",
       "      <th>Sentence</th>\n",
       "      <th>TextBlob-sentiment(raw)</th>\n",
       "      <th>Sentiment</th>\n",
       "    </tr>\n",
       "  </thead>\n",
       "  <tbody>\n",
       "    <tr>\n",
       "      <th>0</th>\n",
       "      <td>Enter Flauius, Murellus, and certaine Commoner...</td>\n",
       "      <td>(0.0, 0.0)</td>\n",
       "      <td>Neutral</td>\n",
       "    </tr>\n",
       "    <tr>\n",
       "      <th>1</th>\n",
       "      <td>Flauius.</td>\n",
       "      <td>(0.0, 0.0)</td>\n",
       "      <td>Neutral</td>\n",
       "    </tr>\n",
       "    <tr>\n",
       "      <th>2</th>\n",
       "      <td>Hence: home you idle Creatures, get you home:\\...</td>\n",
       "      <td>(0.0, 0.0)</td>\n",
       "      <td>Neutral</td>\n",
       "    </tr>\n",
       "    <tr>\n",
       "      <th>3</th>\n",
       "      <td>What, know you not\\n(Being Mechanicall) you ou...</td>\n",
       "      <td>(0.0, 0.0)</td>\n",
       "      <td>Neutral</td>\n",
       "    </tr>\n",
       "    <tr>\n",
       "      <th>4</th>\n",
       "      <td>Speake, what Trade art thou?</td>\n",
       "      <td>(0.0, 0.0)</td>\n",
       "      <td>Neutral</td>\n",
       "    </tr>\n",
       "  </tbody>\n",
       "</table>\n",
       "</div>"
      ],
      "text/plain": [
       "                                            Sentence TextBlob-sentiment(raw)  \\\n",
       "0  Enter Flauius, Murellus, and certaine Commoner...              (0.0, 0.0)   \n",
       "1                                           Flauius.              (0.0, 0.0)   \n",
       "2  Hence: home you idle Creatures, get you home:\\...              (0.0, 0.0)   \n",
       "3  What, know you not\\n(Being Mechanicall) you ou...              (0.0, 0.0)   \n",
       "4                       Speake, what Trade art thou?              (0.0, 0.0)   \n",
       "\n",
       "  Sentiment  \n",
       "0   Neutral  \n",
       "1   Neutral  \n",
       "2   Neutral  \n",
       "3   Neutral  \n",
       "4   Neutral  "
      ]
     },
     "execution_count": 5,
     "metadata": {},
     "output_type": "execute_result"
    }
   ],
   "source": [
    "# Let's make a data-frame comprising all the above data\n",
    "import pandas as pd\n",
    "\n",
    "def create_df(textblob_raw):\n",
    "    df = pd.DataFrame(columns=['Sentence', 'TextBlob-sentiment(raw)', 'Sentiment'])\n",
    "    for blob in textblob_raw:\n",
    "        new_blob = translate_sentiment(blob)\n",
    "        row = {'Sentence': new_blob[0],\n",
    "               'TextBlob-sentiment(raw)': new_blob[1],\n",
    "               'Sentiment': new_blob[2]\n",
    "        }\n",
    "        df = df.append(row, ignore_index=True)\n",
    "    return df\n",
    "\n",
    "df_caesar = create_df(caesar_sentiment)\n",
    "df_caesar.head()"
   ]
  },
  {
   "cell_type": "code",
   "execution_count": 6,
   "metadata": {},
   "outputs": [
    {
     "data": {
      "text/html": [
       "<div>\n",
       "<style scoped>\n",
       "    .dataframe tbody tr th:only-of-type {\n",
       "        vertical-align: middle;\n",
       "    }\n",
       "\n",
       "    .dataframe tbody tr th {\n",
       "        vertical-align: top;\n",
       "    }\n",
       "\n",
       "    .dataframe thead th {\n",
       "        text-align: right;\n",
       "    }\n",
       "</style>\n",
       "<table border=\"1\" class=\"dataframe\">\n",
       "  <thead>\n",
       "    <tr style=\"text-align: right;\">\n",
       "      <th></th>\n",
       "      <th>Sentence</th>\n",
       "      <th>TextBlob-sentiment(raw)</th>\n",
       "      <th>Sentiment</th>\n",
       "    </tr>\n",
       "  </thead>\n",
       "  <tbody>\n",
       "    <tr>\n",
       "      <th>0</th>\n",
       "      <td>Enter Barnardo and Francisco two Centinels.</td>\n",
       "      <td>(0.0, 0.0)</td>\n",
       "      <td>Neutral</td>\n",
       "    </tr>\n",
       "    <tr>\n",
       "      <th>1</th>\n",
       "      <td>Barnardo.</td>\n",
       "      <td>(0.0, 0.0)</td>\n",
       "      <td>Neutral</td>\n",
       "    </tr>\n",
       "    <tr>\n",
       "      <th>2</th>\n",
       "      <td>Who's there?</td>\n",
       "      <td>(0.0, 0.0)</td>\n",
       "      <td>Neutral</td>\n",
       "    </tr>\n",
       "    <tr>\n",
       "      <th>3</th>\n",
       "      <td>Fran.</td>\n",
       "      <td>(0.0, 0.0)</td>\n",
       "      <td>Neutral</td>\n",
       "    </tr>\n",
       "    <tr>\n",
       "      <th>4</th>\n",
       "      <td>Nay answer me: Stand &amp; vnfold\\nyour selfe\\n\\n ...</td>\n",
       "      <td>(0.0, 0.0)</td>\n",
       "      <td>Neutral</td>\n",
       "    </tr>\n",
       "  </tbody>\n",
       "</table>\n",
       "</div>"
      ],
      "text/plain": [
       "                                            Sentence TextBlob-sentiment(raw)  \\\n",
       "0        Enter Barnardo and Francisco two Centinels.              (0.0, 0.0)   \n",
       "1                                          Barnardo.              (0.0, 0.0)   \n",
       "2                                       Who's there?              (0.0, 0.0)   \n",
       "3                                              Fran.              (0.0, 0.0)   \n",
       "4  Nay answer me: Stand & vnfold\\nyour selfe\\n\\n ...              (0.0, 0.0)   \n",
       "\n",
       "  Sentiment  \n",
       "0   Neutral  \n",
       "1   Neutral  \n",
       "2   Neutral  \n",
       "3   Neutral  \n",
       "4   Neutral  "
      ]
     },
     "execution_count": 6,
     "metadata": {},
     "output_type": "execute_result"
    }
   ],
   "source": [
    "df_hamlet = create_df(hamlet_sentiment)\n",
    "df_hamlet.head()"
   ]
  },
  {
   "cell_type": "code",
   "execution_count": 7,
   "metadata": {},
   "outputs": [
    {
     "data": {
      "image/png": "[encoded data removed]",
      "text/plain": [
       "<Figure size 576x360 with 1 Axes>"
      ]
     },
     "metadata": {
      "needs_background": "light"
     },
     "output_type": "display_data"
    },
    {
     "data": {
      "image/png": "[encoded data removed]",
      "text/plain": [
       "<Figure size 576x360 with 1 Axes>"
      ]
     },
     "metadata": {
      "needs_background": "light"
     },
     "output_type": "display_data"
    }
   ],
   "source": [
    "# Make a bar-plot of sentiment-counts across both the corpora\n",
    "\n",
    "import matplotlib.pyplot as plt\n",
    "import seaborn as sns\n",
    "\n",
    "def plot_bar_graph(corpus_name, label_groups):\n",
    "    plt.figure(figsize=(8,5))\n",
    "    ax = sns.barplot(x=\"Sentiment\", y=\"counts\", data=label_groups)\n",
    "    ax.set_xticklabels(ax.get_xticklabels(), rotation=0)\n",
    "    ax.set_title(label=\"%s\" %corpus_name)\n",
    "    plt.show()\n",
    "\n",
    "\n",
    "caesar_labels = df_caesar.groupby('Sentiment').size().reset_index(name='counts')\n",
    "plot_bar_graph('Caesar corpus - Sentiment Analysis', caesar_labels)\n",
    "\n",
    "hamlet_labels = df_hamlet.groupby('Sentiment').size().reset_index(name='counts')\n",
    "plot_bar_graph('Hamlet corpus - Sentiment Analysis', hamlet_labels)"
   ]
  },
  {
   "cell_type": "code",
   "execution_count": 8,
   "metadata": {},
   "outputs": [],
   "source": [
    "# Also, write a csv with this data\n",
    "df_summary = pd.DataFrame(columns=['Book', 'Negative', 'Neutral', 'Positive'])\n",
    "\n",
    "df_summary = df_summary.append({'Book': 'Caesar',\n",
    "                               'Negative': df_caesar.loc[0][1],\n",
    "                               'Neutral': df_caesar.loc[1][1],\n",
    "                               'Positive': df_caesar.loc[2][1]}, ignore_index=True)\n",
    "\n",
    "df_summary = df_summary.append({'Book': 'Hamlet',\n",
    "                               'Negative': df_hamlet.loc[0][1],\n",
    "                               'Neutral': df_hamlet.loc[1][1],\n",
    "                               'Positive': df_hamlet.loc[2][1]}, ignore_index=True)\n",
    "\n",
    "df_summary.head()\n",
    "df_summary.to_csv('new_data.csv', index=False)\n",
    "\n",
    "# See sample output of the csv file:\n",
    "# $ less new_data.csv \n",
    "# Book,Negative,Neutral,Positive\n",
    "# Caesar,157,1101,332\n",
    "# Hamlet,222,1640,491"
   ]
  },
  {
   "cell_type": "code",
   "execution_count": 9,
   "metadata": {},
   "outputs": [
    {
     "name": "stdout",
     "output_type": "stream",
     "text": [
      "('Enter Flauius, Murellus, and certaine Commoners ouer the Stage.', 'Neutral')\n"
     ]
    },
    {
     "data": {
      "text/plain": [
       "('Enter Barnardo and Francisco two Centinels.', 'Neutral')"
      ]
     },
     "execution_count": 9,
     "metadata": {},
     "output_type": "execute_result"
    }
   ],
   "source": [
    "# Starting the classification task\n",
    "\n",
    "# Consolidate the data-frame and create a list with:\n",
    "# [ (<sentence>, <sentiment)] structure\n",
    "\n",
    "caesar_docs = []\n",
    "# iterating over the dataset and extracting the information sought\n",
    "for i in range(0, len(df_caesar['Sentiment'])):\n",
    "    caesar_docs.append((df_caesar['Sentence'][i], df_caesar['Sentiment'][i]))\n",
    "\n",
    "# Printing the output for validation\n",
    "print(caesar_docs[0])\n",
    "\n",
    "# Repeating the above for hamlet too\n",
    "hamlet_docs = []\n",
    "# iterating over the dataset and extracting the information sought\n",
    "for i in range(0, len(df_hamlet['Sentiment'])):\n",
    "    hamlet_docs.append((df_hamlet['Sentence'][i], df_hamlet['Sentiment'][i]))\n",
    "\n",
    "# Printing the output for validation\n",
    "hamlet_docs[0]"
   ]
  },
  {
   "cell_type": "code",
   "execution_count": 10,
   "metadata": {},
   "outputs": [
    {
     "name": "stdout",
     "output_type": "stream",
     "text": [
      "['I', 'the', 'and', 'to', 'you', 'of', 'not', 'a', 'is', 'And']\n"
     ]
    }
   ],
   "source": [
    "# Defining set of words that will be used for features\n",
    "import re\n",
    "\n",
    "# We'll find the 2000 most common words and used them as an important feature of the whole corpus\n",
    "def unigram_freq(docs):\n",
    "    all_words = []\n",
    "    # Write a regex to pull only the word portion & leave \n",
    "    # out any punctuation marks etc.\n",
    "    for (sentence, category) in docs:\n",
    "        for word in sentence.split():\n",
    "            try:\n",
    "                all_words.append(re.findall(r'\\w+', word)[0])\n",
    "            except IndexError:\n",
    "                pass\n",
    "    top_words = nltk.FreqDist(all_words)\n",
    "    most_common_words = top_words.most_common(2000)\n",
    "    word_features = [word for (word,count) in most_common_words]\n",
    "    return all_words, word_features\n",
    "\n",
    "caesar_all_words, caesar_word_features = unigram_freq(caesar_docs)\n",
    "hamlet_all_words, hamlet_word_features = unigram_freq(hamlet_docs)\n",
    "\n",
    "# Examine some word-features:\n",
    "print(caesar_word_features[:10])"
   ]
  },
  {
   "cell_type": "code",
   "execution_count": 11,
   "metadata": {},
   "outputs": [
    {
     "name": "stdout",
     "output_type": "stream",
     "text": [
      "Length of feature set for Caesar = 1590\n",
      "Length of feature set for Hamlet = 2353\n"
     ]
    }
   ],
   "source": [
    "# now we will use that list of most frequent words in the entire corpus\n",
    "# to iterate over each sentence and check if any of those words are present\n",
    "# in that way, we will see if this unigram corpus feature is present on that particular sentence\n",
    "# using Boolean logic that matches values and returns 'True' or 'False'\n",
    "# we do this by defining a Python \"function,\" i.e.a piece of code writen to be reused\n",
    "def document_features(document, word_features):\n",
    "    document_words = set(document)\n",
    "    #we open a Pytnon dictionary instead of a list\n",
    "    features = {}\n",
    "    for word in word_features:\n",
    "        #checking if the word from word_features matches a word in the document\n",
    "        features['contains({})'.format(word)] = (word in document_words)\n",
    "    return features\n",
    "\n",
    "caesar_featuresets = [(document_features(d, caesar_word_features), c) for (d, c) in caesar_docs]\n",
    "hamlet_featuresets = [(document_features(d, hamlet_word_features), c) for (d, c) in hamlet_docs]\n",
    "\n",
    "\n",
    "print(\"Length of feature set for Caesar = %d\" %len(caesar_featuresets))\n",
    "print(\"Length of feature set for Hamlet = %d\" %len(hamlet_featuresets))"
   ]
  },
  {
   "cell_type": "code",
   "execution_count": 39,
   "metadata": {},
   "outputs": [
    {
     "name": "stdout",
     "output_type": "stream",
     "text": [
      "({'contains(I)': False, 'contains(the)': False, 'contains(and)': False, 'contains(to)': False, 'contains(you)': False, 'contains(of)': False, 'contains(not)': False, 'contains(a)': True, 'contains(is)': False, 'contains(And)': False, 'contains(in)': False, 'contains(that)': False, 'contains(my)': False, 'contains(Caesar)': False, 'contains(me)': False, 'contains(it)': False, 'contains(him)': False, 'contains(Brutus)': False, 'contains(Bru)': False, 'contains(his)': False, 'contains(this)': False, 'contains(your)': False, 'contains(be)': False, 'contains(with)': False, 'contains(he)': False, 'contains(will)': False, 'contains(haue)': False, 'contains(for)': False, 'contains(do)': False, 'contains(so)': False, 'contains(shall)': False, 'contains(Cassi)': False, 'contains(thou)': False, 'contains(as)': False, 'contains(are)': False, 'contains(all)': False, 'contains(That)': False, 'contains(Cassius)': False, 'contains(we)': False, 'contains(by)': False, 'contains(then)': False, 'contains(our)': False, 'contains(on)': False, 'contains(To)': False, 'contains(The)': False, 'contains(Antony)': False, 'contains(But)': False, 'contains(What)': False, 'contains(O)': False, 'contains(but)': False, 'contains(no)': False, 'contains(know)': False, 'contains(did)': False, 'contains(was)': False, 'contains(Enter)': False, 'contains(vs)': False, 'contains(them)': False, 'contains(what)': False, 'contains(For)': False, 'contains(men)': False, 'contains(their)': False, 'contains(at)': False, 'contains(If)': False, 'contains(thee)': False, 'contains(man)': False, 'contains(am)': False, 'contains(come)': False, 'contains(You)': False, 'contains(good)': False, 'contains(Ant)': False, 'contains(He)': False, 'contains(thy)': False, 'contains(from)': False, 'contains(they)': False, 'contains(Lord)': False, 'contains(well)': False, 'contains(day)': False, 'contains(let)': False, 'contains(heere)': False, 'contains(would)': False, 'contains(selfe)': False, 'contains(now)': False, 'contains(Caes)': False, 'contains(Noble)': False, 'contains(when)': False, 'contains(Rome)': False, 'contains(Caesars)': False, 'contains(Cask)': False, 'contains(should)': False, 'contains(Brut)': False, 'contains(or)': False, 'contains(Why)': False, 'contains(vpon)': False, 'contains(some)': False, 'contains(may)': False, 'contains(there)': False, 'contains(heare)': False, 'contains(Will)': False, 'contains(were)': False, 'contains(say)': False, 'contains(As)': False, 'contains(see)': False, 'contains(Caska)': False, 'contains(tell)': False, 'contains(like)': False, 'contains(these)': False, 'contains(more)': False, 'contains(It)': False, 'contains(one)': False, 'contains(vp)': False, 'contains(an)': False, 'contains(must)': False, 'contains(go)': False, 'contains(So)': False, 'contains(too)': False, 'contains(such)': False, 'contains(if)': False, 'contains(When)': False, 'contains(doth)': False, 'contains(Let)': False, 'contains(hath)': False, 'contains(Then)': False, 'contains(much)': False, 'contains(feare)': False, 'contains(Luc)': False, 'contains(A)': False, 'contains(out)': False, 'contains(yet)': False, 'contains(euery)': False, 'contains(speake)': False, 'contains(hand)': False, 'contains(any)': False, 'contains(loue)': False, 'contains(death)': False, 'contains(Cinna)': False, 'contains(Lucius)': False, 'contains(great)': False, 'contains(Gods)': False, 'contains(This)': False, 'contains(No)': False, 'contains(Messala)': False, 'contains(time)': False, 'contains(Which)': False, 'contains(Now)': False, 'contains(Come)': False, 'contains(Is)': False, 'contains(which)': False, 'contains(make)': False, 'contains(downe)': False, 'contains(Friends)': False, 'contains(had)': False, 'contains(Titinius)': False, 'contains(done)': False, 'contains(Octauius)': False, 'contains(Exeunt)': False, 'contains(Who)': False, 'contains(giue)': False, 'contains(Good)': False, 'contains(They)': False, 'contains(Cas)': False, 'contains(In)': False, 'contains(How)': False, 'contains(My)': False, 'contains(take)': False, 'contains(stand)': False, 'contains(night)': False, 'contains(Haue)': False, 'contains(beare)': False, 'contains(mine)': False, 'contains(word)': False, 'contains(There)': False, 'contains(wrong)': False, 'contains(Where)': False, 'contains(blood)': False, 'contains(till)': False, 'contains(most)': False, 'contains(off)': False, 'contains(looke)': False, 'contains(thinke)': False, 'contains(hee)': False, 'contains(With)': False, 'contains(Night)': False, 'contains(forth)': False, 'contains(All)': False, 'contains(1)': False, 'contains(2)': False, 'contains(Messa)': False, 'contains(art)': False, 'contains(Heere)': False, 'contains(leaue)': False, 'contains(againe)': False, 'contains(By)': False, 'contains(could)': False, 'contains(true)': False, 'contains(Romans)': False, 'contains(thing)': False, 'contains(Shall)': False, 'contains(heart)': False, 'contains(Octa)': False, 'contains(Of)': False, 'contains(Sir)': False, 'contains(Capitoll)': False, 'contains(finde)': False, 'contains(Decius)': False, 'contains(Friend)': False, 'contains(fire)': False, 'contains(can)': False, 'contains(about)': False, 'contains(things)': False, 'contains(made)': False, 'contains(Did)': False, 'contains(place)': False, 'contains(Por)': False, 'contains(3)': False, 'contains(4)': False, 'contains(Thou)': False, 'contains(liue)': False, 'contains(euer)': False, 'contains(many)': False, 'contains(put)': False, 'contains(Be)': False, 'contains(Yet)': False, 'contains(morrow)': False, 'contains(dead)': False, 'contains(stay)': False, 'contains(nor)': False, 'contains(way)': False, 'contains(where)': False, 'contains(away)': False, 'contains(Stand)': False, 'contains(once)': False, 'contains(part)': False, 'contains(shew)': False, 'contains(name)': False, 'contains(World)': False, 'contains(Marke)': False, 'contains(hast)': False, 'contains(Roman)': False, 'contains(hands)': False, 'contains(cause)': False, 'contains(Our)': False, 'contains(how)': False, 'contains(dye)': False, 'contains(Mark)': False, 'contains(Lucillius)': False, 'contains(follow)': False, 'contains(comes)': False, 'contains(Ile)': False, 'contains(Portia)': False, 'contains(eyes)': False, 'contains(himselfe)': False, 'contains(other)': False, 'contains(We)': False, 'contains(Giue)': False, 'contains(thus)': False, 'contains(better)': False, 'contains(Are)': False, 'contains(Sword)': False, 'contains(Metellus)': False, 'contains(Boy)': False, 'contains(Caius)': False, 'contains(home)': False, 'contains(Vpon)': False, 'contains(best)': False, 'contains(bad)': False, 'contains(Your)': False, 'contains(Do)': False, 'contains(else)': False, 'contains(Peace)': False, 'contains(March)': False, 'contains(Spirit)': False, 'contains(very)': False, 'contains(might)': False, 'contains(neuer)': False, 'contains(fell)': False, 'contains(Exit)': False, 'contains(bid)': False, 'contains(tis)': False, 'contains(Brother)': False, 'contains(Cato)': False, 'contains(Pindarus)': False, 'contains(her)': False, 'contains(fall)': False, 'contains(Go)': False, 'contains(Cicero)': False, 'contains(Sooth)': False, 'contains(still)': False, 'contains(face)': False, 'contains(Tis)': False, 'contains(Honor)': False, 'contains(body)': False, 'contains(sicke)': False, 'contains(answer)': False, 'contains(words)': False, 'contains(Crowne)': False, 'contains(backe)': False, 'contains(owne)': False, 'contains(doe)': False, 'contains(Trebonius)': False, 'contains(house)': False, 'contains(first)': False, 'contains(Honourable)': False, 'contains(Ser)': False, 'contains(Publius)': False, 'contains(Master)': False, 'contains(Philippi)': False, 'contains(vse)': False, 'contains(gone)': False, 'contains(hearts)': False, 'contains(matter)': False, 'contains(keepe)': False, 'contains(Calphurnia)': False, 'contains(after)': False, 'contains(before)': False, 'contains(Cass)': False, 'contains(Nor)': False, 'contains(hold)': False, 'contains(life)': False, 'contains(selues)': False, 'contains(meete)': False, 'contains(meane)': False, 'contains(Thy)': False, 'contains(who)': False, 'contains(Euen)': False, 'contains(full)': False, 'contains(strong)': False, 'contains(beares)': False, 'contains(within)': False, 'contains(mighty)': False, 'contains(Fellow)': False, 'contains(into)': False, 'contains(flye)': False, 'contains(ho)': False, 'contains(run)': False, 'contains(sayes)': False, 'contains(meanes)': False, 'contains(worthy)': False, 'contains(gentle)': False, 'contains(common)': False, 'contains(enough)': False, 'contains(rest)': False, 'contains(sure)': False, 'contains(vnto)': False, 'contains(send)': False, 'contains(Most)': False, 'contains(Cymber)': False, 'contains(bring)': False, 'contains(hence)': False, 'contains(bloody)': False, 'contains(Ligarius)': False, 'contains(Wee)': False, 'contains(Traitors)': False, 'contains(Strato)': False, 'contains(get)': False, 'contains(Speake)': False, 'contains(directly)': False, 'contains(worke)': False, 'contains(hard)': False, 'contains(Countrymen)': False, 'contains(Not)': False, 'contains(Loue)': False, 'contains(strange)': False, 'contains(loues)': False, 'contains(turne)': False, 'contains(heard)': False, 'contains(dangerous)': False, 'contains(generall)': False, 'contains(yours)': False, 'contains(rather)': False, 'contains(seene)': False, 'contains(sleepe)': False, 'contains(last)': False, 'contains(cry)': False, 'contains(minde)': False, 'contains(please)': False, 'contains(change)': False, 'contains(vile)': False, 'contains(set)': False, 'contains(two)': False, 'contains(hoe)': False, 'contains(kill)': False, 'contains(Looke)': False, 'contains(along)': False, 'contains(Lepidus)': False, 'contains(yong)': False, 'contains(Tent)': False, 'contains(Poet)': False, 'contains(Enemy)': False, 'contains(Volumnius)': False, 'contains(ouer)': False, 'contains(streets)': False, 'contains(saw)': False, 'contains(appeare)': False, 'contains(mou)': False, 'contains(These)': False, 'contains(onely)': False, 'contains(therefore)': False, 'contains(wish)': False, 'contains(seeke)': False, 'contains(Or)': False, 'contains(His)': False, 'contains(vnder)': False, 'contains(Men)': False, 'contains(deere)': False, 'contains(nothing)': False, 'contains(thought)': False, 'contains(said)': False, 'contains(high)': False, 'contains(Senators)': False, 'contains(Such)': False, 'contains(being)': False, 'contains(people)': False, 'contains(beene)': False, 'contains(meet)': False, 'contains(wee)': False, 'contains(euen)': False, 'contains(why)': False, 'contains(Reasons)': False, 'contains(three)': False, 'contains(awake)': False, 'contains(call)': False, 'contains(lye)': False, 'contains(against)': False, 'contains(Cin)': False, 'contains(houre)': False, 'contains(talke)': False, 'contains(end)': False, 'contains(Senate)': False, 'contains(Art)': False, 'contains(Letters)': False, 'contains(Ambitious)': False, 'contains(Army)': False, 'contains(Alarum)': False, 'contains(certaine)': False, 'contains(walke)': False, 'contains(Trade)': False, 'contains(sir)': False, 'contains(respect)': False, 'contains(indeed)': False, 'contains(Nay)': False, 'contains(leade)': False, 'contains(Pompeyes)': False, 'contains(weepe)': False, 'contains(Set)': False, 'contains(Ides)': False, 'contains(pray)': False, 'contains(further)': False, 'contains(Therefore)': False, 'contains(cannot)': False, 'contains(new)': False, 'contains(both)': False, 'contains(cold)': False, 'contains(marke)': False, 'contains(shake)': False, 'contains(same)': False, 'contains(Alas)': False, 'contains(alone)': False, 'contains(Like)': False, 'contains(together)': False, 'contains(em)': False, 'contains(went)': False, 'contains(patience)': False, 'contains(Sonne)': False, 'contains(weake)': False, 'contains(fashion)': False, 'contains(themselues)': False, 'contains(offer)': False, 'contains(durst)': False, 'contains(came)': False, 'contains(cut)': False, 'contains(farewell)': False, 'contains(dayes)': False, 'contains(Thunder)': False, 'contains(left)': False, 'contains(Spirits)': False, 'contains(while)': False, 'contains(redresse)': False, 'contains(farre)': False, 'contains(stirre)': False, 'contains(neere)': False, 'contains(found)': False, 'contains(reade)': False, 'contains(none)': False, 'contains(hither)': False, 'contains(pardon)': False, 'contains(going)': False, 'contains(Seruant)': False, 'contains(Deci)': False, 'contains(Hath)': False, 'contains(satisfied)': False, 'contains(Country)': False, 'contains(lou)': False, 'contains(Funerall)': False, 'contains(Gold)': False, 'contains(Lucil)': False, 'contains(ill)': False, 'contains(Must)': False, 'contains(Claudio)': False, 'contains(Ghost)': False, 'contains(Field)': False, 'contains(tane)': False, 'contains(Clit)': False, 'contains(Flauius)': False, 'contains(Mur)': False, 'contains(Fla)': False, 'contains(old)': False, 'contains(passe)': False, 'contains(Tyber)': False, 'contains(poore)': False, 'contains(Into)': False, 'contains(perceiue)': False, 'contains(speakes)': False, 'contains(Calp)': False, 'contains(Antonio)': False, 'contains(course)': False, 'contains(remember)': False, 'contains(Ha)': False, 'contains(Bid)': False, 'contains(peace)': False, 'contains(presse)': False, 'contains(Tongue)': False, 'contains(look)': False, 'contains(Tell)': False, 'contains(eye)': False, 'contains(since)': False, 'contains(long)': False, 'contains(Well)': False, 'contains(angry)': False, 'contains(ere)': False, 'contains(times)': False, 'contains(note)': False, 'contains(through)': False, 'contains(smile)': False, 'contains(right)': False, 'contains(thrice)': False, 'contains(Market)': False, 'contains(sicknesse)': False, 'contains(spoke)': False, 'contains(those)': False, 'contains(another)': False, 'contains(aliue)': False, 'contains(worth)': False, 'contains(seuerall)': False, 'contains(brought)': False, 'contains(Heauen)': False, 'contains(burne)': False, 'contains(Vnto)': False, 'contains(Heauens)': False, 'contains(Dagger)': False, 'contains(Neuer)': False, 'contains(power)': False, 'contains(base)': False, 'contains(Some)': False, 'contains(friend)': False, 'contains(Am)': False, 'contains(Yes)': False, 'contains(Statue)': False, 'contains(little)': False, 'contains(hide)': False, 'contains(welcome)': False, 'contains(fit)': False, 'contains(seeme)': False, 'contains(resolu)': False, 'contains(ore)': False, 'contains(Flatterers)': False, 'contains(fetch)': False, 'contains(ye)': False, 'contains(Heart)': False, 'contains(Cai)': False, 'contains(fight)': False, 'contains(she)': False, 'contains(reason)': False, 'contains(blame)': False, 'contains(Madam)': False, 'contains(side)': False, 'contains(suite)': False, 'contains(voyce)': False, 'contains(Blood)': False, 'contains(Fly)': False, 'contains(Pulpit)': False, 'contains(honour)': False, 'contains(Instrument)': False, 'contains(pitty)': False, 'contains(deed)': False, 'contains(Marcus)': False, 'contains(wounds)': False, 'contains(Enemies)': False, 'contains(offended)': False, 'contains(Souldier)': False, 'contains(Tit)': False, 'contains(Titin)': False, 'contains(Clitus)': False, 'contains(ought)': False, 'contains(without)': False, 'contains(signe)': False, 'contains(Cob)': False, 'contains(knaue)': False, 'contains(mee)': False, 'contains(weare)': False, 'contains(Triumph)': False, 'contains(grace)': False, 'contains(worse)': False, 'contains(Pompey)': False, 'contains(light)': False, 'contains(See)': False, 'contains(tongue)': False, 'contains(Ceremonies)': False, 'contains(Musicke)': False, 'contains(Manet)': False, 'contains(number)': False, 'contains(King)': False, 'contains(borne)': False, 'contains(free)': False, 'contains(Flood)': False, 'contains(Coward)': False, 'contains(feeble)': False, 'contains(temper)': False, 'contains(world)': False, 'contains(beleeue)': False, 'contains(Masters)': False, 'contains(growne)': False, 'contains(Age)': False, 'contains(State)': False, 'contains(present)': False, 'contains(lay)': False, 'contains(glad)': False, 'contains(thinkes)': False, 'contains(giuen)': False, 'contains(Would)': False, 'contains(lookes)': False, 'contains(spirit)': False, 'contains(behold)': False, 'contains(chanc)': False, 'contains(sad)': False, 'contains(honest)': False, 'contains(bee)': False, 'contains(almost)': False, 'contains(taken)': False, 'contains(stab)': False, 'contains(lesse)': False, 'contains(heads)': False, 'contains(newes)': False, 'contains(Fare)': False, 'contains(fellow)': False, 'contains(Mettle)': False, 'contains(giues)': False, 'contains(mindes)': False, 'contains(Ambition)': False, 'contains(endure)': False, 'contains(Cic)': False, 'contains(Earth)': False, 'contains(Clouds)': False, 'contains(sight)': False, 'contains(point)': False, 'contains(purpose)': False, 'contains(Farewell)': False, 'contains(Those)': False, 'contains(knowne)': False, 'contains(faults)': False, 'contains(dreadfull)': False, 'contains(Their)': False, 'contains(monstrous)': False, 'contains(fearefull)': False, 'contains(here)': False, 'contains(yee)': False, 'contains(pleasure)': False, 'contains(Bond)': False, 'contains(goes)': False, 'contains(Noblest)': False, 'contains(Vertue)': False, 'contains(Actus)': False, 'contains(least)': False, 'contains(preuent)': False, 'contains(tooke)': False, 'contains(halfe)': False, 'contains(wilt)': False, 'contains(Conspirators)': False, 'contains(Know)': False, 'contains(breake)': False, 'contains(bed)': False, 'contains(doubt)': False, 'contains(Should)': False, 'contains(head)': False, 'contains(Treb)': False, 'contains(Clocke)': False, 'contains(Whether)': False, 'contains(does)': False, 'contains(health)': False, 'contains(dare)': False, 'contains(Wife)': False, 'contains(Woman)': False, 'contains(speak)': False, 'contains(Had)': False, 'contains(Iulius)': False, 'contains(foorth)': False, 'contains(Say)': False, 'contains(Pardon)': False, 'contains(Cynna)': False, 'contains(straight)': False, 'contains(Hearke)': False, 'contains(winde)': False, 'contains(thine)': False, 'contains(enterprize)': False, 'contains(read)': False, 'contains(constant)': False, 'contains(presently)': False, 'contains(Low)': False, 'contains(Swords)': False, 'contains(red)': False, 'contains(gaue)': False, 'contains(ground)': False, 'contains(lies)': False, 'contains(shalt)': False, 'contains(Plebeians)': False, 'contains(Fortune)': False, 'contains(sake)': False, 'contains(Mutiny)': False, 'contains(Away)': False, 'contains(Heare)': False, 'contains(On)': False, 'contains(wisely)': False, 'contains(deny)': False, 'contains(Legions)': False, 'contains(Generals)': False, 'contains(Gowne)': False, 'contains(Var)': False, 'contains(Battaile)': False, 'contains(Stra)': False, 'contains(Hence)': False, 'contains(idle)': False, 'contains(Being)': False, 'contains(hope)': False, 'contains(safe)': False, 'contains(beseech)': False, 'contains(Truly)': False, 'contains(matters)': False, 'contains(proper)': False, 'contains(wherefore)': False, 'contains(reioyce)': False, 'contains(Conquest)': False, 'contains(brings)': False, 'contains(cruell)': False, 'contains(oft)': False, 'contains(Windowes)': False, 'contains(Yea)': False, 'contains(patient)': False, 'contains(shout)': False, 'contains(Shores)': False, 'contains(fault)': False, 'contains(sort)': False, 'contains(teares)': False, 'contains(kisse)': False, 'contains(Images)': False, 'contains(May)': False, 'contains(pluckt)': False, 'contains(ordinary)': False, 'contains(Soothsayer)': False, 'contains(touch)': False, 'contains(noyse)': False, 'contains(Cry)': False, 'contains(turn)': False, 'contains(late)': False, 'contains(trouble)': False, 'contains(construe)': False, 'contains(buried)': False, 'contains(Can)': False, 'contains(Laughter)': False, 'contains(Flourish)': False, 'contains(People)': False, 'contains(toward)': False, 'contains(Death)': False, 'contains(Thinke)': False, 'contains(awe)': False, 'contains(yonder)': False, 'contains(become)': False, 'contains(God)': False, 'contains(bend)': False, 'contains(loose)': False, 'contains(write)': False, 'contains(Palme)': False, 'contains(Honors)': False, 'contains(huge)': False, 'contains(Graues)': False, 'contains(Fates)': False, 'contains(mouth)': False, 'contains(soone)': False, 'contains(Roome)': False, 'contains(Th)': False, 'contains(consider)': False, 'contains(Both)': False, 'contains(Till)': False, 'contains(Vnder)': False, 'contains(Traine)': False, 'contains(Plucke)': False, 'contains(Conference)': False, 'contains(Quite)': False, 'contains(smiles)': False, 'contains(greater)': False, 'contains(eare)': False, 'contains(second)': False, 'contains(Was)': False, 'contains(manner)': False, 'contains(told)': False, 'contains(thinking)': False, 'contains(fingers)': False, 'contains(refus)': False, 'contains(Ayre)': False, 'contains(goe)': False, 'contains(amisse)': False, 'contains(stood)': False, 'contains(Mothers)': False, 'contains(Doe)': False, 'contains(Enterprize)': False, 'contains(forme)': False, 'contains(From)': False, 'contains(humor)': False, 'contains(opinion)': False, 'contains(wherein)': False, 'contains(Lightning)': False, 'contains(stare)': False, 'contains(Hand)': False, 'contains(Besides)': False, 'contains(ha)': False, 'contains(Lyon)': False, 'contains(hundred)': False, 'contains(streetes)': False, 'contains(sit)': False, 'contains(Indeed)': False, 'contains(Romane)': False, 'contains(walk)': False, 'contains(crosse)': False, 'contains(tempt)': False, 'contains(kinde)': False, 'contains(Old)': False, 'contains(Fooles)': False, 'contains(Children)': False, 'contains(Ancestors)': False, 'contains(Therein)': False, 'contains(Poore)': False, 'contains(haste)': False, 'contains(trash)': False, 'contains(led)': False, 'contains(Hold)': False, 'contains(already)': False, 'contains(close)': False, 'contains(content)': False, 'contains(parts)': False, 'contains(Call)': False, 'contains(Get)': False, 'contains(graunt)': False, 'contains(truth)': False, 'contains(proofe)': False, 'contains(turnes)': False, 'contains(runne)': False, 'contains(Taper)': False, 'contains(Bed)': False, 'contains(sleep)': False, 'contains(strike)': False, 'contains(Thus)': False, 'contains(mans)': False, 'contains(promise)': False, 'contains(Dreame)': False, 'contains(desire)': False, 'contains(Conspiracie)': False, 'contains(Sunne)': False, 'contains(Oath)': False, 'contains(Soules)': False, 'contains(drop)': False, 'contains(Cowards)': False, 'contains(neede)': False, 'contains(Honesty)': False, 'contains(sound)': False, 'contains(Metel)': False, 'contains(commend)': False, 'contains(deeds)': False, 'contains(held)': False, 'contains(Gentlemen)': False, 'contains(Constancie)': False, 'contains(rise)': False, 'contains(foote)': False, 'contains(withall)': False, 'contains(Make)': False, 'contains(greefe)': False, 'contains(Within)': False, 'contains(honourable)': False, 'contains(visit)': False, 'contains(braue)': False, 'contains(Warre)': False, 'contains(Battell)': False, 'contains(dying)': False, 'contains(Whose)': False, 'contains(valiant)': False, 'contains(taste)': False, 'contains(shame)': False, 'contains(knowes)': False, 'contains(happy)': False, 'contains(priuate)': False, 'contains(wife)': False, 'contains(Welcome)': False, 'contains(Stay)': False, 'contains(doest)': False, 'contains(Run)': False, 'contains(bin)': False, 'contains(Lady)': False, 'contains(About)': False, 'contains(harme)': False, 'contains(Read)': False, 'contains(Sirra)': False, 'contains(Popillius)': False, 'contains(sodaine)': False, 'contains(ready)': False, 'contains(An)': False, 'contains(sweet)': False, 'contains(begge)': False, 'contains(Liberty)': False, 'contains(Freedome)': False, 'contains(fast)': False, 'contains(House)': False, 'contains(Wise)': False, 'contains(Valiant)': False, 'contains(liuing)': False, 'contains(Though)': False, 'contains(businesse)': False, 'contains(receiue)': False, 'contains(thoughts)': False, 'contains(Hart)': False, 'contains(regard)': False, 'contains(consent)': False, 'contains(permission)': False, 'contains(aduantage)': False, 'contains(speech)': False, 'contains(Prepare)': False, 'contains(Reuenge)': False, 'contains(hot)': False, 'contains(Ple)': False, 'contains(publike)': False, 'contains(Iudge)': False, 'contains(Free)': False, 'contains(though)': False, 'contains(depart)': False, 'contains(Beare)': False, 'contains(Villaines)': False, 'contains(round)': False, 'contains(ran)': False, 'contains(dy)': False, 'contains(greefes)': False, 'contains(dwell)': False, 'contains(breefely)': False, 'contains(truly)': False, 'contains(answered)': False, 'contains(Teare)': False, 'contains(Lep)': False, 'contains(eares)': False, 'contains(Powers)': False, 'contains(friendly)': False, 'contains(Sardis)': False, 'contains(hart)': False, 'contains(Mother)': False, 'contains(Nothing)': False, 'contains(Wine)': False, 'contains(tydings)': False, 'contains(Nature)': False, 'contains(Varrus)': False, 'contains(sirs)': False, 'contains(ride)': False, 'contains(Alarums)': False, 'contains(Pind)': False, 'contains(Dardanius)': False, 'contains(Dard)': False, 'contains(Murellus)': False, 'contains(Commoners)': False, 'contains(Creatures)': False, 'contains(Leather)': False, 'contains(dost)': False, 'contains(Cobl)': False, 'contains(Cobler)': False, 'contains(Answer)': False, 'contains(soules)': False, 'contains(mean)': False, 'contains(shooes)': False, 'contains(danger)': False, 'contains(indeede)': False, 'contains(Holyday)': False, 'contains(Wherefore)': False, 'contains(Chariot)': False, 'contains(stones)': False, 'contains(Infants)': False, 'contains(Armes)': False, 'contains(vnderneath)': False, 'contains(bankes)': False, 'contains(houses)': False, 'contains(knees)': False, 'contains(Ingratitude)': False, 'contains(streame)': False, 'contains(exalted)': False, 'contains(towards)': False, 'contains(Lupercall)': False, 'contains(hung)': False, 'contains(driue)': False, 'contains(thicke)': False, 'contains(growing)': False, 'contains(wing)': False, 'contains(aboue)': False, 'contains(Cæsar)': False, 'contains(speed)': False, 'contains(holy)': False, 'contains(Ceremony)': False, 'contains(calles)': False, 'contains(Beware)': False, 'contains(bids)': False, 'contains(beware)': False, 'contains(throng)': False, 'contains(Speak)': False, 'contains(order)': False, 'contains(obserue)': False, 'contains(Ouer)': False, 'contains(deceiu)': False, 'contains(Countenance)': False, 'contains(perhaps)': False, 'contains(shewes)': False, 'contains(Brest)': False, 'contains(sees)': False, 'contains(iust)': False, 'contains(immortall)': False, 'contains(speaking)': False, 'contains(groaning)': False, 'contains(Ages)': False, 'contains(yoake)': False, 'contains(dangers)': False, 'contains(discouer)': False, 'contains(iealous)': False, 'contains(fawne)': False, 'contains(Shout)': False, 'contains(choose)': False, 'contains(i)': True, 'contains(vertue)': False, 'contains(fauour)': False, 'contains(saide)': False, 'contains(Point)': False, 'contains(lusty)': False, 'contains(aside)': False, 'contains(Helpe)': False, 'contains(sinke)': False, 'contains(Creature)': False, 'contains(nod)': False, 'contains(colour)': False, 'contains(whose)': False, 'contains(grone)': False, 'contains(drinke)': False, 'contains(start)': False, 'contains(narrow)': False, 'contains(sometime)': False, 'contains(Starres)': False, 'contains(Yours)': False, 'contains(faire)': False, 'contains(Name)': False, 'contains(heauy)': False, 'contains(names)': False, 'contains(lost)': False, 'contains(breed)': False, 'contains(Walkes)': False, 'contains(Fathers)': False, 'contains(Diuell)': False, 'contains(ayme)': False, 'contains(heereafter)': False, 'contains(intreat)': False, 'contains(Conditions)': False, 'contains(strucke)': False, 'contains(proceeded)': False, 'contains(spot)': False, 'contains(pale)': False, 'contains(Lookes)': False, 'contains(fiery)': False, 'contains(crost)': False, 'contains(leane)': False, 'contains(reades)': False, 'contains(ease)': False, 'contains(fear)': False, 'contains(aske)': False, 'contains(Foolerie)': False, 'contains(twas)': False, 'contains(neyther)': False, 'contains(offered)': False, 'contains(third)': False, 'contains(laugh)': False, 'contains(Falling)': False, 'contains(ope)': False, 'contains(Hell)': False, 'contains(cryed)': False, 'contains(Soule)': False, 'contains(Greeke)': False, 'contains(effect)': False, 'contains(ne)': False, 'contains(silence)': False, 'contains(blunt)': False, 'contains(Schoole)': False, 'contains(bold)': False, 'contains(Honorable)': False, 'contains(dispos)': False, 'contains(throw)': False, 'contains(holds)': False, 'contains(sway)': False, 'contains(riu)': False, 'contains(swell)': False, 'contains(Ciuill)': False, 'contains(strife)': False, 'contains(destruction)': False, 'contains(swore)': False, 'contains(yesterday)': False, 'contains(Prodigies)': False, 'contains(Comes)': False, 'contains(Send)': False, 'contains(knew)': False, 'contains(vnbraced)': False, 'contains(seem)': False, 'contains(open)': False, 'contains(tremble)': False, 'contains(mightie)': False, 'contains(sparkes)': False, 'contains(Life)': False, 'contains(cast)': False, 'contains(wonder)': False, 'contains(impatience)': False, 'contains(Ghosts)': False, 'contains(Beasts)': False, 'contains(qualitie)': False, 'contains(pre)': False, 'contains(Instruments)': False, 'contains(personall)': False, 'contains(Limbes)': False, 'contains(gouern)': False, 'contains(sufferance)': False, 'contains(Sea)': False, 'contains(saue)': False, 'contains(Italy)': False, 'contains(Bondage)': False, 'contains(deliuer)': False, 'contains(Tyrants)': False, 'contains(ayre)': False, 'contains(strength)': False, 'contains(Tyrant)': False, 'contains(Begin)': False, 'contains(serues)': False, 'contains(Before)': False, 'contains(willing)': False, 'contains(Porch)': False, 'contains(walking)': False, 'contains(terrible)': False, 'contains(Gate)': False, 'contains(incorporate)': False, 'contains(sights)': False, 'contains(Paper)': False, 'contains(Window)': False, 'contains(bestow)': False, 'contains(ours)': False, 'contains(Offence)': False, 'contains(need)': False, 'contains(spurne)': False, 'contains(crown)': False, 'contains(nature)': False, 'contains(question)': False, 'contains(More)': False, 'contains(Reason)': False, 'contains(Ambitions)': False, 'contains(Ladder)': False, 'contains(vpward)': False, 'contains(Face)': False, 'contains(grow)': False, 'contains(Flint)': False, 'contains(Letter)': False, 'contains(c)': True, 'contains(often)': False, 'contains(Knocke)': False, 'contains(slept)': False, 'contains(state)': False, 'contains(Brow)': False, 'contains(preuention)': False, 'contains(whisper)': False, 'contains(lyes)': False, 'contains(East)': False, 'contains(Day)': False, 'contains(confesse)': False, 'contains(higher)': False, 'contains(sweare)': False, 'contains(betimes)': False, 'contains(each)': False, 'contains(women)': False, 'contains(secret)': False, 'contains(Priests)': False, 'contains(wrongs)': False, 'contains(past)': False, 'contains(mens)': False, 'contains(rul)': False, 'contains(wildenesse)': False, 'contains(begin)': False, 'contains(vrg)': False, 'contains(Butchers)': False, 'contains(alas)': False, 'contains(bleed)': False, 'contains(Hounds)': False, 'contains(Hearts)': False, 'contains(Stirre)': False, 'contains(Rage)': False, 'contains(Murderers)': False, 'contains(Arme)': False, 'contains(Opinion)': False, 'contains(Fantasie)': False, 'contains(Dreames)': False, 'contains(Augurers)': False, 'contains(Lyons)': False, 'contains(humour)': False, 'contains(bent)': False, 'contains(eight)': False, 'contains(vttermost)': False, 'contains(Met)': False, 'contains(morning)': False, 'contains(fresh)': False, 'contains(purposes)': False, 'contains(asleepe)': False, 'contains(care)': False, 'contains(drawes)': False, 'contains(condition)': False, 'contains(armes)': False, 'contains(sucke)': False, 'contains(Morning)': False, 'contains(steale)': False, 'contains(vnfold)': False, 'contains(seuen)': False, 'contains(Secrets)': False, 'contains(comfort)': False, 'contains(droppes)': False, 'contains(knockes)': False, 'contains(bosome)': False, 'contains(exploit)': False, 'contains(bow)': False, 'contains(Braue)': False, 'contains(impossible)': False, 'contains(peece)': False, 'contains(whole)': False, 'contains(sufficeth)': False, 'contains(leads)': False, 'contains(Princes)': False, 'contains(deaths)': False, 'contains(Seeing)': False, 'contains(knee)': False, 'contains(false)': False, 'contains(Lye)': False, 'contains(stretcht)': False, 'contains(Because)': False, 'contains(She)': False, 'contains(smiling)': False, 'contains(bathe)': False, 'contains(euils)': False, 'contains(render)': False, 'contains(Loe)': False, 'contains(yeeld)': False, 'contains(Pub)': False, 'contains(thanke)': False, 'contains(prepare)': False, 'contains(store)': False, 'contains(Remember)': False, 'contains(wine)': False, 'contains(Artemidorus)': False, 'contains(defend)': False, 'contains(Louer)': False, 'contains(teeth)': False, 'contains(prythee)': False, 'contains(agen)': False, 'contains(tweene)': False, 'contains(Sutors)': False, 'contains(At)': False, 'contains(clocke)': False, 'contains(intended)': False, 'contains(None)': False, 'contains(chance)': False, 'contains(street)': False, 'contains(heeles)': False, 'contains(speede)': False, 'contains(merry)': False, 'contains(Haile)': False, 'contains(humble)': False, 'contains(touches)': False, 'contains(seru)': False, 'contains(mad)': False, 'contains(vrge)': False, 'contains(Popil)': False, 'contains(thriue)': False, 'contains(Lena)': False, 'contains(makes)': False, 'contains(slay)': False, 'contains(preferre)': False, 'contains(quality)': False, 'contains(Curre)': False, 'contains(banish)': False, 'contains(lowe)': False, 'contains(mooue)': False, 'contains(One)': False, 'contains(Motion)': False, 'contains(Wilt)': False, 'contains(Olympus)': False, 'contains(kneele)': False, 'contains(Dyes)': False, 'contains(proclaime)': False, 'contains(Dec)': False, 'contains(abide)': False, 'contains(deede)': False, 'contains(pleasures)': False, 'contains(yeares)': False, 'contains(fearing)': False, 'contains(o)': True, 'contains(vnknowne)': False, 'contains(Mighty)': False, 'contains(Royall)': False, 'contains(deseru)': False, 'contains(Faith)': False, 'contains(Dost)': False, 'contains(Glories)': False, 'contains(rich)': False, 'contains(whil)': False, 'contains(Liue)': False, 'contains(yeeres)': False, 'contains(apt)': False, 'contains(bleeding)': False, 'contains(reuerence)': False, 'contains(Onely)': False, 'contains(beside)': False, 'contains(credit)': False, 'contains(Either)': False, 'contains(bay)': False, 'contains(contented)': False, 'contains(Rites)': False, 'contains(ended)': False, 'contains(Tide)': False, 'contains(shed)': False, 'contains(Obiects)': False, 'contains(familiar)': False, 'contains(Buriall)': False, 'contains(Octauio)': False, 'contains(comming)': False, 'contains(sorrow)': False, 'contains(mourning)': False, 'contains(try)': False, 'contains(issue)': False, 'contains(According)': False, 'contains(Audience)': False, 'contains(friends)': False, 'contains(rendred)': False, 'contains(Countrey)': False, 'contains(Louers)': False, 'contains(Beleeue)': False, 'contains(demand)': False, 'contains(Slaues)': False, 'contains(slew)': False, 'contains(Bondman)': False, 'contains(Body)': False, 'contains(Bring)': False, 'contains(Crown)': False, 'contains(Corpes)': False, 'contains(Speech)': False, 'contains(beholding)': False, 'contains(rid)': False, 'contains(bury)': False, 'contains(euill)': False, 'contains(liues)': False, 'contains(bones)': False, 'contains(fled)': False, 'contains(y)': False, 'contains(begins)': False, 'contains(Seale)': False, 'contains(Commons)': False, 'contains(Testament)': False, 'contains(haire)': False, 'contains(stabb)': False, 'contains(compell)': False, 'contains(Ring)': False, 'contains(roome)': False, 'contains(Mantle)': False, 'contains(ouercame)': False, 'contains(wel)': False, 'contains(Steele)': False, 'contains(doores)': False, 'contains(Whil)': False, 'contains(reueng)': False, 'contains(plaine)': False, 'contains(writ)': False, 'contains(poor)': False, 'contains(moue)': False, 'contains(Wherein)': False, 'contains(seuenty)': False, 'contains(Drachmaes)': False, 'contains(abroad)': False, 'contains(Brands)': False, 'contains(Take)': False, 'contains(charge)': False, 'contains(something)': False, 'contains(married)': False, 'contains(Batchellor)': False, 'contains(peeces)': False, 'contains(Conspirator)': False, 'contains(die)': False, 'contains(prickt)': False, 'contains(slight)': False, 'contains(Asse)': False, 'contains(swet)': False, 'contains(hauing)': False, 'contains(Horse)': False, 'contains(Drum)': False, 'contains(Pin)': False, 'contains(gallant)': False, 'contains(Spurre)': False, 'contains(softly)': False, 'contains(Commanders)': False, 'contains(appear)': False, 'contains(condemn)': False, 'contains(Bribes)': False, 'contains(offence)': False, 'contains(itching)': False, 'contains(sell)': False, 'contains(Chasticement)': False, 'contains(Iustice)': False, 'contains(indure)': False, 'contains(forget)': False, 'contains(practice)': False, 'contains(rash)': False, 'contains(break)': False, 'contains(Bondmen)': False, 'contains(Humour)': False, 'contains(Mirth)': False, 'contains(Better)': False, 'contains(liu)': False, 'contains(sorry)': False, 'contains(raise)': False, 'contains(pay)': False, 'contains(Mine)': False, 'contains(worst)': False, 'contains(loued)': False, 'contains(forgetfull)': False, 'contains(Hee)': False, 'contains(Philosophy)': False, 'contains(Mess)': False, 'contains(proscription)': False, 'contains(marching)': False, 'contains(Souldiers)': False, 'contains(added)': False, 'contains(affayres)': False, 'contains(bound)': False, 'contains(duty)': False, 'contains(com)': False, 'contains(Awake)': False, 'contains(Clau)': False, 'contains(blowes)': False, 'contains(strokes)': False, 'contains(hearke)': False, 'contains(Generall)': False, 'contains(partly)': False, 'contains(Ensigne)': False, 'contains(Two)': False, 'contains(Soldiers)': False, 'contains(parting)': False, 'contains(Ride)': False, 'contains(push)': False, 'contains(Tents)': False, 'contains(Flye)': False, 'contains(Hill)': False, 'contains(spurres)': False, 'contains(Troopes)': False, 'contains(ioy)': False, 'contains(Prisoner)': False, 'contains(Hilts)': False, 'contains(Mistrust)': False, 'contains(successe)': False, 'contains(Error)': False, 'contains(thrusting)': False, 'contains(slaine)': False, 'contains(Countries)': False, 'contains(dyest)': False, 'contains(Sold)': False, 'contains(assure)': False, 'contains(Volum)': False, 'contains(Cly)': False, 'contains(attaine)': False, 'contains(Stage)': False, 'contains(Holiday)': False, 'contains(Mechanicall)': False, 'contains(labouring)': False, 'contains(Profession)': False, 'contains(Car)': False, 'contains(Carpenter)': False, 'contains(Apron)': False, 'contains(Rule)': False, 'contains(Apparrell)': False, 'contains(Truely)': False, 'contains(fine)': False, 'contains(Workman)': False, 'contains(Conscience)': False, 'contains(Mender)': False, 'contains(naughty)': False, 'contains(mend)': False, 'contains(Mend)': False, 'contains(sawcy)': False, 'contains(Cobble)': False, 'contains(Aule)': False, 'contains(meddle)': False, 'contains(Tradesmans)': False, 'contains(womens)': False, 'contains(withal)': False, 'contains(Surgeon)': False, 'contains(recouer)': False, 'contains(trod)': False, 'contains(Neats)': False, 'contains(handy)': False, 'contains(Shop)': False, 'contains(Tributaries)': False, 'contains(Captiue)': False, 'contains(bonds)': False, 'contains(Wheeles)': False, 'contains(Blockes)': False, 'contains(senslesse)': False, 'contains(Knew)': False, 'contains(climb)': False, 'contains(Walles)': False, 'contains(Battlements)': False, 'contains(Towres)': False, 'contains(Chimney)': False, 'contains(tops)': False, 'contains(sate)': False, 'contains(expectation)': False, 'contains(Vniuersall)': False, 'contains(trembled)': False, 'contains(replication)': False, 'contains(sounds)': False, 'contains(Made)': False, 'contains(Concaue)': False, 'contains(attyre)': False, 'contains(cull)': False, 'contains(strew)': False, 'contains(Flowers)': False, 'contains(Runne)': False, 'contains(Pray)': False, 'contains(intermit)': False, 'contains(plague)': False, 'contains(needs)': False, 'contains(Assemble)': False, 'contains(Draw)': False, 'contains(Channell)': False, 'contains(lowest)': False, 'contains(basest)': False, 'contains(mettle)': False, 'contains(vanish)': False, 'contains(guiltinesse)': False, 'contains(Disrobe)': False, 'contains(deckt)': False, 'contains(Feast)': False, 'contains(Trophees)': False, 'contains(Vulgar)': False, 'contains(Feathers)': False, 'contains(pitch)': False, 'contains(soare)': False, 'contains(view)': False, 'contains(seruile)': False, 'contains(fearefulnesse)': False, 'contains(Course)': False, 'contains(Forget)': False, 'contains(Elders)': False, 'contains(Barren)': False, 'contains(touched)': False, 'contains(chace)': False, 'contains(Shake)': False, 'contains(sterrile)': False, 'contains(curse)': False, 'contains(perform)': False, 'contains(shriller)': False, 'contains(Br)': False, 'contains(sayst)': False, 'contains(Dreamer)': False, 'contains(Passe)': False, 'contains(Sennet)': False, 'contains(Gamesom)': False, 'contains(lacke)': False, 'contains(quicke)': False, 'contains(hinder)': False, 'contains(desires)': False, 'contains(gentlenesse)': False, 'contains(wont)': False, 'contains(stubborne)': False, 'contains(veyl)': False, 'contains(Meerely)': False, 'contains(Vexed)': False, 'contains(passions)': False, 'contains(difference)': False, 'contains(Conceptions)': False, 'contains(soyle)': False, 'contains(Behauiours)': False, 'contains(greeu)': False, 'contains(Among)': False, 'contains(neglect)': False, 'contains(warre)': False, 'contains(Forgets)': False, 'contains(mistook)': False, 'contains(passion)': False, 'contains(whereof)': False, 'contains(Thoughts)': False, 'contains(value)': False, 'contains(Cogitations)': False, 'contains(reflection)': False, 'contains(lamented)': False, 'contains(Mirrors)': False, 'contains(hidden)': False, 'contains(worthinesse)': False, 'contains(shadow)': False, 'contains(Except)': False, 'contains(Leade)': False, 'contains(prepar)': False, 'contains(Reflection)': False, 'contains(Glasse)': False, 'contains(modestly)': False, 'contains(Were)': False, 'contains(stale)': False, 'contains(Oathes)': False, 'contains(Protester)': False, 'contains(hugge)': False, 'contains(scandall)': False, 'contains(professe)': False, 'contains(Banquetting)': False, 'contains(Rout)': False, 'contains(Showting)': False, 'contains(impart)': False, 'contains(indifferently)': False, 'contains(outward)': False, 'contains(subiect)': False, 'contains(Story)': False, 'contains(single)': False, 'contains(liefe)': False, 'contains(Thing)': False, 'contains(fed)': False, 'contains(Endure)': False, 'contains(Winters)': False, 'contains(Rawe)': False, 'contains(Gustie)': False, 'contains(troubled)': False, 'contains(chafing)': False, 'contains(Dar)': False, 'contains(Leape)': False, 'contains(swim)': False, 'contains(Accoutred)': False, 'contains(plunged)': False, 'contains(Torrent)': False, 'contains(roar)': False, 'contains(buffet)': False, 'contains(Sinewes)': False, 'contains(throwing)': False, 'contains(stemming)': False, 'contains(Controuersie)': False, 'contains(arriue)': False, 'contains(propos)': False, 'contains(cride)': False, 'contains(Aeneas)': False, 'contains(Ancestor)': False, 'contains(Flames)': False, 'contains(Troy)': False, 'contains(shoulder)': False, 'contains(Anchyses)': False, 'contains(waues)': False, 'contains(tyred)': False, 'contains(Man)': False, 'contains(wretched)': False, 'contains(carelesly)': False, 'contains(Feauer)': False, 'contains(Spaine)': False, 'contains(Fit)': False, 'contains(lippes)': False, 'contains(Eye)': False, 'contains(Lustre)': False, 'contains(Speeches)': False, 'contains(Bookes)': False, 'contains(cried)': False, 'contains(Girle)': False, 'contains(Ye)': False, 'contains(amaze)': False, 'contains(Maiesticke)': False, 'contains(Another)': False, 'contains(applauses)': False, 'contains(heap)': False, 'contains(bestride)': False, 'contains(Colossus)': False, 'contains(petty)': False, 'contains(Walke)': False, 'contains(legges)': False, 'contains(peepe)': False, 'contains(dishonourable)': False, 'contains(Selues)': False, 'contains(vnderlings)': False, 'contains(sounded)': False, 'contains(Write)': False, 'contains(Sound)': False, 'contains(aswell)': False, 'contains(Weigh)': False, 'contains(Coniure)': False, 'contains(meate)': False, 'contains(feede)': False, 'contains(sham)': False, 'contains(Bloods)': False, 'contains(fam)': False, 'contains(talk)': False, 'contains(wide)': False, 'contains(incompast)': False, 'contains(brook)': False, 'contains(eternall)': False, 'contains(easily)': False, 'contains(recount)': False, 'contains(moou)': False, 'contains(chew)': False, 'contains(Villager)': False, 'contains(repute)': False, 'contains(Games)': False, 'contains(returning)': False, 'contains(Sleeue)': False, 'contains(sowre)': False, 'contains(glow)': False, 'contains(brow)': False, 'contains(chidden)': False, 'contains(Cheeke)': False, 'contains(Ferret)': False, 'contains(fat)': False, 'contains(Sleeke)': False, 'contains(Yond)': False, 'contains(has)': False, 'contains(hungry)': False, 'contains(Feare)': False, 'contains(fatter)': False, 'contains(lyable)': False, 'contains(auoyd)': False, 'contains(spare)': False, 'contains(Obseruer)': False, 'contains(Deeds)': False, 'contains(Playes)': False, 'contains(heares)': False, 'contains(Seldome)': False, 'contains(mock)': False, 'contains(scorn)': False, 'contains(Whiles)': False, 'contains(alwayes)': False, 'contains(deafe)': False, 'contains(truely)': False, 'contains(think)': False, 'contains(Sennit)': False, 'contains(pul)': False, 'contains(cloake)': False, 'contains(shouting)': False, 'contains(shouted)': False, 'contains(marry)': False, 'contains(euerie)': False, 'contains(gentler)': False, 'contains(putting)': False, 'contains(Neighbors)': False, 'contains(showted)': False, 'contains(hang)': False, 'contains(meere)': False, 'contains(sawe)': False, 'contains(Coronets)': False, 'contains(faine)': False, 'contains(loath)': False, 'contains(rabblement)': False, 'contains(howted)': False, 'contains(clapp)': False, 'contains(chopt)': False, 'contains(threw)': False, 'contains(vppe)': False, 'contains(sweatie)': False, 'contains(vttered)': False, 'contains(deale)': False, 'contains(stinking)': False, 'contains(breath)': False, 'contains(because)': False, 'contains(choaked)': False, 'contains(swoonded)': False, 'contains(opening)': False, 'contains(Lippes)': False, 'contains(receyuing)': False, 'contains(soft)': False, 'contains(swound)': False, 'contains(foam)': False, 'contains(speechlesse)': False, 'contains(tag)': False, 'contains(clap)': False, 'contains(hisse)': False, 'contains(according)': False, 'contains(pleas)': False, 'contains(displeas)': False, 'contains(Players)': False, 'contains(Theatre)': False, 'contains(Marry)': False, 'contains(perceiu)': False, 'contains(Heard)': False, 'contains(Doublet)': False, 'contains(Throat)': False, 'contains(Occupation)': False, 'contains(among)': False, 'contains(Rogues)': False, 'contains(desir)': False, 'contains(Worships)': False, 'contains(infirmitie)': False, 'contains(Three)': False, 'contains(foure)': False, 'contains(Wenches)': False, 'contains(Alasse)': False, 'contains(forgaue)': False, 'contains(heed)': False, 'contains(vnderstood)': False, 'contains(smil)': False, 'contains(shooke)': False, 'contains(Murrellus)': False, 'contains(pulling)': False, 'contains(Scarffes)': False, 'contains(suppe)': False, 'contains(promis)': False, 'contains(Dine)': False, 'contains(Dinner)': False, 'contains(eating)': False, 'contains(expect)': False, 'contains(quick)': False, 'contains(execution)': False, 'contains(puts)': False, 'contains(tardie)': False, 'contains(Rudenesse)': False, 'contains(Sawce)': False, 'contains(Wit)': False, 'contains(stomacke)': False, 'contains(disgest)': False, 'contains(Appetite)': False, 'contains(wait)': False, 'contains(wrought)': False, 'contains(likes)': False, 'contains(firme)': False, 'contains(seduc)': False, 'contains(Hands)': False, 'contains(Citizens)': False, 'contains(Writings)': False, 'contains(tending)': False, 'contains(obscurely)': False, 'contains(glanced)': False, 'contains(seat)': False, 'contains(breathlesse)': False, 'contains(Shakes)': False, 'contains(vnfirme)': False, 'contains(Tempests)': False, 'contains(scolding)': False, 'contains(Winds)': False, 'contains(knottie)': False, 'contains(Oakes)': False, 'contains(ambitious)': False, 'contains(Ocean)': False, 'contains(rage)': False, 'contains(foame)': False, 'contains(threatning)': False, 'contains(Tempest)': False, 'contains(Eyther)': False, 'contains(sawcie)': False, 'contains(Incenses)': False, 'contains(wonderfull)': False, 'contains(slaue)': False, 'contains(Held)': False, 'contains(flame)': False, 'contains(twentie)': False, 'contains(Torches)': False, 'contains(ioyn)': False, 'contains(sensible)': False, 'contains(remain)': False, 'contains(vnscorch)': False, 'contains(Against)': False, 'contains(met)': False, 'contains(glaz)': False, 'contains(surly)': False, 'contains(Without)': False, 'contains(annoying)': False, 'contains(drawne)': False, 'contains(heape)': False, 'contains(gastly)': False, 'contains(Women)': False, 'contains(Transformed)': False, 'contains(Bird)': False, 'contains(Noone)': False, 'contains(Howting)': False, 'contains(shreeking)': False, 'contains(conioyntly)': False, 'contains(Naturall)': False, 'contains(portentous)': False, 'contains(Clymate)': False, 'contains(disposed)': False, 'contains(Cleane)': False, 'contains(disturbed)': False, 'contains(Skie)': False, 'contains(Voyce)': False, 'contains(Eare)': False, 'contains(pleasing)': False, 'contains(menace)': False, 'contains(Submitting)': False, 'contains(perillous)': False, 'contains(bar)': False, 'contains(Bosome)': False, 'contains(blew)': False, 'contains(flash)': False, 'contains(tokens)': False, 'contains(Heraulds)': False, 'contains(astonish)': False, 'contains(dull)': False, 'contains(want)': False, 'contains(gaze)': False, 'contains(Fires)': False, 'contains(gliding)': False, 'contains(Birds)': False, 'contains(calculate)': False, 'contains(Ordinance)': False, 'contains(Natures)': False, 'contains(Faculties)': False, 'contains(infus)': False, 'contains(warning)': False, 'contains(Thunders)': False, 'contains(Lightens)': False, 'contains(opens)': False, 'contains(roares)': False, 'contains(mightier)': False, 'contains(action)': False, 'contains(prodigious)': False, 'contains(eruptions)': False, 'contains(Thewes)': False, 'contains(woe)': False, 'contains(spirits)': False, 'contains(Womanish)': False, 'contains(Meane)': False, 'contains(establish)': False, 'contains(Land)': False, 'contains(defeat)': False, 'contains(Stonie)': False, 'contains(Tower)': False, 'contains(Walls)': False, 'contains(beaten)': False, 'contains(Brasse)': False, 'contains(Dungeon)': False, 'contains(Linkes)': False, 'contains(Iron)': False, 'contains(retentiue)': False, 'contains(wearie)': False, 'contains(worldly)': False, 'contains(Barres)': False, 'contains(lacks)': False, 'contains(dismisse)': False, 'contains(besides)': False, 'contains(Tyrannie)': False, 'contains(cancell)': False, 'contains(Captiuitie)': False, 'contains(Wolfe)': False, 'contains(Sheepe)': False, 'contains(Hindes)': False, 'contains(Strawes)': False, 'contains(Rubbish)': False, 'contains(Offall)': False, 'contains(illuminate)': False, 'contains(oh)': False, 'contains(Griefe)': False, 'contains(answere)': False, 'contains(arm)': False, 'contains(indifferent)': False, 'contains(flearing)': False, 'contains(factious)': False, 'contains(Griefes)': False, 'contains(foot)': False, 'contains(farthest)': False, 'contains(Bargaine)': False, 'contains(minded)': False, 'contains(consequence)': False, 'contains(Complexion)': False, 'contains(Element)': False, 'contains(Fauors)': False, 'contains(Worke)': False, 'contains(bloodie)': False, 'contains(fierie)': False, 'contains(Attempts)': False, 'contains(winne)': False, 'contains(party)': False, 'contains(Pretors)': False, 'contains(Chayre)': False, 'contains(Waxe)': False, 'contains(Repaire)': False, 'contains(hie)': False, 'contains(Papers)': False, 'contains(repayre)': False, 'contains(Theater)': False, 'contains(alreadie)': False, 'contains(entire)': False, 'contains(next)': False, 'contains(encounter)': False, 'contains(yeelds)': False, 'contains(sits)': False, 'contains(Peoples)': False, 'contains(richest)': False, 'contains(Alchymie)': False, 'contains(Worthinesse)': False, 'contains(Him)': False, 'contains(conceited)': False}, 'Neutral')\n"
     ]
    }
   ],
   "source": [
    "print(caesar_featuresets[0])"
   ]
  },
  {
   "cell_type": "code",
   "execution_count": 1,
   "metadata": {},
   "outputs": [
    {
     "ename": "NameError",
     "evalue": "name 'caesar_featuresets' is not defined",
     "output_type": "error",
     "traceback": [
      "\u001b[0;31m---------------------------------------------------------------------------\u001b[0m",
      "\u001b[0;31mNameError\u001b[0m                                 Traceback (most recent call last)",
      "\u001b[0;32m<ipython-input-1-facbda0be679>\u001b[0m in \u001b[0;36m<module>\u001b[0;34m\u001b[0m\n\u001b[1;32m     21\u001b[0m     \u001b[0;32mreturn\u001b[0m  \u001b[0mclassifier\u001b[0m\u001b[0;34m,\u001b[0m \u001b[0macc1\u001b[0m\u001b[0;34m\u001b[0m\u001b[0;34m\u001b[0m\u001b[0m\n\u001b[1;32m     22\u001b[0m \u001b[0;34m\u001b[0m\u001b[0m\n\u001b[0;32m---> 23\u001b[0;31m \u001b[0m_\u001b[0m\u001b[0;34m,\u001b[0m \u001b[0mcaesar_acc\u001b[0m \u001b[0;34m=\u001b[0m \u001b[0mml_nb\u001b[0m\u001b[0;34m(\u001b[0m\u001b[0mcaesar_featuresets\u001b[0m\u001b[0;34m)\u001b[0m\u001b[0;34m\u001b[0m\u001b[0;34m\u001b[0m\u001b[0m\n\u001b[0m\u001b[1;32m     24\u001b[0m \u001b[0m_\u001b[0m\u001b[0;34m,\u001b[0m \u001b[0mhamlet_acc\u001b[0m \u001b[0;34m=\u001b[0m \u001b[0mml_nb\u001b[0m\u001b[0;34m(\u001b[0m\u001b[0mhamlet_featuresets\u001b[0m\u001b[0;34m)\u001b[0m\u001b[0;34m\u001b[0m\u001b[0;34m\u001b[0m\u001b[0m\n\u001b[1;32m     25\u001b[0m \u001b[0;34m\u001b[0m\u001b[0m\n",
      "\u001b[0;31mNameError\u001b[0m: name 'caesar_featuresets' is not defined"
     ]
    }
   ],
   "source": [
    "# Using k-folds = 5 we will fairly randomize the train & test data\n",
    "\n",
    "import numpy as np\n",
    "from sklearn.model_selection import KFold\n",
    "\n",
    "def ml_nb(featuresets):\n",
    "    kf = KFold(n_splits = 8)\n",
    "    sum = 0\n",
    "\n",
    "    for train, test in kf.split(featuresets):\n",
    "        train_data = np.array(featuresets)[train]\n",
    "        test_data = np.array(featuresets)[test]\n",
    "        classifier = nltk.NaiveBayesClassifier.train(train_data)\n",
    "        sum += nltk.classify.accuracy(classifier, test_data)\n",
    "        \n",
    "        \n",
    "\n",
    "    #storing the score in a variable \n",
    "    acc1 = sum/5\n",
    "    \n",
    "    return  classifier, acc1\n",
    "\n",
    "_, caesar_acc = ml_nb(caesar_featuresets)\n",
    "_, hamlet_acc = ml_nb(hamlet_featuresets)\n",
    "\n",
    "print('Accuracy for unigram feature-sets on Caesar corpus %s' %caesar_acc)\n",
    "print('Accuracy for unigram feature-sets on Hamlet corpus %s' %hamlet_acc)"
   ]
  },
  {
   "cell_type": "code",
   "execution_count": 13,
   "metadata": {},
   "outputs": [
    {
     "name": "stdout",
     "output_type": "stream",
     "text": [
      "[('Ghost', 'I'), ('Ghost', 'Messa'), ('Ghost', 'Thy'), ('Ghost', 'To'), ('Ghosts', 'Why')]\n",
      "[('Ham', 'Rest'), ('Ham', 'Safely'), ('Ham', 'Saw'), ('Ham', 'Seemes'), ('Ham', 'Slanders')]\n"
     ]
    }
   ],
   "source": [
    "# Since the accuracy is low, let's also try this with a \n",
    "# bi-gram featureset\n",
    "\n",
    "# Re-using the code to clean-up\n",
    "from nltk.collocations import *\n",
    "import re\n",
    "\n",
    "def bigram_freq(all_words):\n",
    "    #data cleaning and preprocessing\n",
    "    stopwords = nltk.corpus.stopwords.words('english')\n",
    "\n",
    "    #creating bigrams features for the corpus and applying cleaning steps\n",
    "    bigram_measures = nltk.collocations.BigramAssocMeasures()\n",
    "    finder = BigramCollocationFinder.from_words(all_words)\n",
    "    finder.apply_word_filter(lambda w: w in stopwords)\n",
    "    scored = finder.score_ngrams(bigram_measures.raw_freq)\n",
    "    \n",
    "    #extracting clean bigrams (no frequency information)\n",
    "    bigram_features = [bigram for (bigram, count) in scored[:2000]]\n",
    "    \n",
    "    return bigram_features\n",
    "\n",
    "\n",
    "caesar_word_bi_features = bigram_freq(caesar_all_words)\n",
    "hamlet_word_bi_features = bigram_freq(hamlet_all_words)  \n",
    "\n",
    "# Examine a few bigram high-freq words\n",
    "print(caesar_word_bi_features[-5:])\n",
    "print(hamlet_word_bi_features[-5:])"
   ]
  },
  {
   "cell_type": "code",
   "execution_count": 14,
   "metadata": {},
   "outputs": [],
   "source": [
    "def bi_document_features(document, bigram_features):\n",
    "    document_words = list(nltk.bigrams(document))\n",
    "    features = {}\n",
    "    for word in bigram_features:\n",
    "        #boolean logic will return 'True' if there is a match, or 'False' if not\n",
    "        features['contains({})'.format(word)] = (word in document_words)\n",
    "    return features\n",
    "\n",
    "# applying the function to our documents\n",
    "caesar_featuresets2 = [(bi_document_features(d, caesar_word_bi_features), c) for (d, c) in caesar_docs]\n",
    "hamlet_featuresets2 = [(bi_document_features(d, hamlet_word_bi_features), c) for (d, c) in hamlet_docs]"
   ]
  },
  {
   "cell_type": "code",
   "execution_count": 40,
   "metadata": {},
   "outputs": [
    {
     "name": "stdout",
     "output_type": "stream",
     "text": [
      "Length of feature set (bigram) for Caesar = 1590\n",
      "Length of feature set (bigram) for Hamlet = 2353\n",
      "({\"contains(('I', 'haue'))\": False, \"contains(('I', 'know'))\": False, \"contains(('Cassi', 'I'))\": False, \"contains(('I', 'shall'))\": False, \"contains(('Bru', 'I'))\": False, \"contains(('Mark', 'Antony'))\": False, \"contains(('let', 'vs'))\": False, \"contains(('Marke', 'Antony'))\": False, \"contains(('And', 'I'))\": False, \"contains(('Lord', 'Bru'))\": False, \"contains(('I', 'feare'))\": False, \"contains(('Caesar', 'Caes'))\": False, \"contains(('Enter', 'Brutus'))\": False, \"contains(('For', 'I'))\": False, \"contains(('Noble', 'Brutus'))\": False, \"contains(('Bru', 'O'))\": False, \"contains(('I', 'may'))\": False, \"contains(('You', 'shall'))\": False, \"contains(('haue', 'done'))\": False, \"contains(('thou', 'art'))\": False, \"contains(('Antony', 'Ant'))\": False, \"contains(('Caesar', 'And'))\": False, \"contains(('Caesar', 'I'))\": False, \"contains(('Enter', 'Lucius'))\": False, \"contains(('I', 'say'))\": False, \"contains(('I', 'would'))\": False, \"contains(('If', 'I'))\": False, \"contains(('Luc', 'I'))\": False, \"contains(('Bru', 'What'))\": False, \"contains(('Bru', 'Why'))\": False, \"contains(('Bru', 'You'))\": False, \"contains(('Caes', 'What'))\": False, \"contains(('Caesar', 'shall'))\": False, \"contains(('Cask', 'Why'))\": False, \"contains(('Good', 'morrow'))\": False, \"contains(('I', 'thinke'))\": False, \"contains(('My', 'Lord'))\": False, \"contains(('O', 'Caesar'))\": False, \"contains(('That', 'I'))\": False, \"contains(('art', 'thou'))\": False, \"contains(('euery', 'man'))\": False, \"contains(('haue', 'I'))\": False, \"contains(('haue', 'seene'))\": False, \"contains(('would', 'haue'))\": False, \"contains(('Am', 'I'))\": False, \"contains(('And', 'let'))\": False, \"contains(('Bru', 'Good'))\": False, \"contains(('Bru', 'No'))\": False, \"contains(('Brutus', 'I'))\": False, \"contains(('Caius', 'Cassius'))\": False, \"contains(('Caius', 'Ligarius'))\": False, \"contains(('Cask', 'I'))\": False, \"contains(('Decius', 'Brutus'))\": False, \"contains(('Enter', 'Antony'))\": False, \"contains(('Exeunt', 'Enter'))\": False, \"contains(('Good', 'night'))\": False, \"contains(('Honourable', 'men'))\": False, \"contains(('I', 'could'))\": False, \"contains(('I', 'must'))\": False, \"contains(('I', 'tell'))\": False, \"contains(('If', 'thou'))\": False, \"contains(('Messala', 'Messa'))\": False, \"contains(('Metellus', 'Cymber'))\": False, \"contains(('Must', 'I'))\": False, \"contains(('O', 'Cassius'))\": False, \"contains(('To', 'see'))\": False, \"contains(('You', 'haue'))\": False, \"contains(('fell', 'downe'))\": False, \"contains(('haue', 'heard'))\": False, \"contains(('mine', 'owne'))\": False, \"contains(('shall', 'finde'))\": False, \"contains(('thou', 'hast'))\": False, \"contains(('And', 'tell'))\": False, \"contains(('Antony', 'shall'))\": False, \"contains(('Bru', 'He'))\": False, \"contains(('Brutus', 'The'))\": False, \"contains(('But', 'I'))\": False, \"contains(('Caesar', 'doth'))\": False, \"contains(('Caesar', 'hath'))\": False, \"contains(('Caesar', 'thou'))\": False, \"contains(('Cassi', 'Brutus'))\": False, \"contains(('Cassi', 'O'))\": False, \"contains(('Cassi', 'What'))\": False, \"contains(('Cassius', 'Cassi'))\": False, \"contains(('Cinna', 'I'))\": False, \"contains(('Did', 'I'))\": False, \"contains(('Exeunt', 'Manet'))\": False, \"contains(('For', 'Brutus'))\": False, \"contains(('Honourable', 'man'))\": False, \"contains(('I', 'doe'))\": False, \"contains(('I', 'loue'))\": False, \"contains(('I', 'offended'))\": False, \"contains(('I', 'pray'))\": False, \"contains(('Lucius', 'Luc'))\": False, \"contains(('My', 'heart'))\": False, \"contains(('Noble', 'Antony'))\": False, \"contains(('Noble', 'Caesar'))\": False, \"contains(('Por', 'I'))\": False, \"contains(('Shall', 'I'))\": False, \"contains(('That', 'Caesar'))\": False, \"contains(('Thou', 'hast'))\": False, \"contains(('You', 'know'))\": False, \"contains(('euery', 'one'))\": False, \"contains(('great', 'Caesar'))\": False, \"contains(('haue', 'beene'))\": False, \"contains(('hee', 'put'))\": False, \"contains(('mine', 'eyes'))\": False, \"contains(('part', 'I'))\": False, \"contains(('say', 'I'))\": False, \"contains(('shall', 'I'))\": False, \"contains(('shall', 'haue'))\": False, \"contains(('tell', 'thee'))\": False, \"contains(('yong', 'Octauius'))\": False, \"contains(('Alarum', 'Enter'))\": False, \"contains(('All', 'Peace'))\": False, \"contains(('Ambitious', 'And'))\": False, \"contains(('And', 'Brutus'))\": False, \"contains(('And', 'bid'))\": False, \"contains(('And', 'bring'))\": False, \"contains(('Ant', 'This'))\": False, \"contains(('Antony', 'Bru'))\": False, \"contains(('Art', 'thou'))\": False, \"contains(('Brother', 'Cassius'))\": False, \"contains(('Bru', 'Euen'))\": False, \"contains(('Bru', 'That'))\": False, \"contains(('Bru', 'The'))\": False, \"contains(('Brut', 'I'))\": False, \"contains(('Brut', 'What'))\": False, \"contains(('Brutus', 'And'))\": False, \"contains(('Brutus', 'Bru'))\": False, \"contains(('Brutus', 'Cassius'))\": False, \"contains(('Brutus', 'Enter'))\": False, \"contains(('Brutus', 'sayes'))\": False, \"contains(('Brutus', 'thou'))\": False, \"contains(('But', 'heere'))\": False, \"contains(('But', 'wherefore'))\": False, \"contains(('Caes', 'I'))\": False, \"contains(('Caes', 'The'))\": False, \"contains(('Caesar', 'For'))\": False, \"contains(('Caesar', 'lou'))\": False, \"contains(('Cas', 'And'))\": False, \"contains(('Cask', 'You'))\": False, \"contains(('Cassi', 'A'))\": False, \"contains(('Cassi', 'Caska'))\": False, \"contains(('Cassi', 'No'))\": False, \"contains(('Cassi', 'Then'))\": False, \"contains(('Cassi', 'Will'))\": False, \"contains(('Cassius', 'Caska'))\": False, \"contains(('Come', 'downe'))\": False, \"contains(('Come', 'hither'))\": False, \"contains(('Did', 'thou'))\": False, \"contains(('Enter', 'Brut'))\": False, \"contains(('Enter', 'Caesar'))\": False, \"contains(('Enter', 'Cassius'))\": False, \"contains(('Exeunt', 'Actus'))\": False, \"contains(('He', 'shall'))\": False, \"contains(('I', 'cannot'))\": False, \"contains(('I', 'come'))\": False, \"contains(('I', 'found'))\": False, \"contains(('I', 'graunt'))\": False, \"contains(('I', 'heare'))\": False, \"contains(('I', 'perceiue'))\": False, \"contains(('It', 'may'))\": False, \"contains(('It', 'shall'))\": False, \"contains(('Let', 'vs'))\": False, \"contains(('Lord', 'Brut'))\": False, \"contains(('Lord', 'Caes'))\": False, \"contains(('Lord', 'Cassi'))\": False, \"contains(('Luc', 'My'))\": False, \"contains(('March', 'Caes'))\": False, \"contains(('Marcus', 'Brutus'))\": False, \"contains(('Market', 'place'))\": False, \"contains(('Most', 'Noble'))\": False, \"contains(('No', 'Caesar'))\": False, \"contains(('O', 'ye'))\": False, \"contains(('Octauius', 'Antony'))\": False, \"contains(('Peace', 'hoe'))\": False, \"contains(('Rome', 'Ant'))\": False, \"contains(('Say', 'I'))\": False, \"contains(('Ser', 'He'))\": False, \"contains(('Ser', 'I'))\": False, \"contains(('Shall', 'Rome'))\": False, \"contains(('So', 'I'))\": False, \"contains(('Stand', 'ho'))\": False, \"contains(('That', 'euery'))\": False, \"contains(('The', 'Enemy'))\": False, \"contains(('The', 'Gods'))\": False, \"contains(('The', 'Noble'))\": False, \"contains(('Thou', 'art'))\": False, \"contains(('To', 'euery'))\": False, \"contains(('We', 'must'))\": False, \"contains(('Wee', 'heare'))\": False, \"contains(('Will', 'Ant'))\": False, \"contains(('You', 'wrong'))\": False, \"contains(('come', 'downe'))\": False, \"contains(('comes', 'vpon'))\": False, \"contains(('enough', 'To'))\": False, \"contains(('giue', 'place'))\": False, \"contains(('go', 'forth'))\": False, \"contains(('good', 'Messala'))\": False, \"contains(('good', 'night'))\": False, \"contains(('hast', 'thou'))\": False, \"contains(('loue', 'Caesar'))\": False, \"contains(('man', 'I'))\": False, \"contains(('man', 'That'))\": False, \"contains(('meete', 'againe'))\": False, \"contains(('men', 'And'))\": False, \"contains(('mighty', 'Caesar'))\": False, \"contains(('owne', 'part'))\": False, \"contains(('shall', 'say'))\": False, \"contains(('shall', 'see'))\": False, \"contains(('shall', 'speake'))\": False, \"contains(('thou', 'shalt'))\": False, \"contains(('thou', 'sleep'))\": False, \"contains(('thy', 'Instrument'))\": False, \"contains(('vpon', 'vs'))\": False, \"contains(('vs', 'heare'))\": False, \"contains(('ye', 'Gods'))\": False, \"contains(('yet', 'I'))\": False, \"contains(('1', 'I'))\": False, \"contains(('1', 'O'))\": False, \"contains(('1', 'Peace'))\": False, \"contains(('1', 'Wee'))\": False, \"contains(('2', 'Peace'))\": False, \"contains(('2', 'Roome'))\": False, \"contains(('2', 'That'))\": False, \"contains(('3', 'Let'))\": False, \"contains(('A', 'Woman'))\": False, \"contains(('A', 'man'))\": False, \"contains(('All', 'The'))\": False, \"contains(('And', 'Caesar'))\": False, \"contains(('And', 'Men'))\": False, \"contains(('And', 'come'))\": False, \"contains(('And', 'heere'))\": False, \"contains(('And', 'leaue'))\": False, \"contains(('And', 'looke'))\": False, \"contains(('And', 'say'))\": False, \"contains(('And', 'see'))\": False, \"contains(('And', 'shew'))\": False, \"contains(('And', 'since'))\": False, \"contains(('And', 'therefore'))\": False, \"contains(('Ant', 'Caesar'))\": False, \"contains(('Ant', 'I'))\": False, \"contains(('Ant', 'Octauius'))\": False, \"contains(('Ant', 'So'))\": False, \"contains(('Ant', 'Where'))\": False, \"contains(('Ant', 'Why'))\": False, \"contains(('Ant', 'You'))\": False, \"contains(('Antonio', 'Ant'))\": False, \"contains(('Antony', '2'))\": False, \"contains(('Antony', 'Brutus'))\": False, \"contains(('Antony', 'By'))\": False, \"contains(('Antony', 'Octauius'))\": False, \"contains(('Army', 'Octa'))\": False, \"contains(('Batchellor', '2'))\": False, \"contains(('Because', 'I'))\": False, \"contains(('Boy', 'I'))\": False, \"contains(('Boy', 'Lucius'))\": False, \"contains(('Brother', 'Bru'))\": False, \"contains(('Bru', 'A'))\": False, \"contains(('Bru', 'By'))\": False, \"contains(('Bru', 'Cassius'))\": False, \"contains(('Bru', 'Farewell'))\": False, \"contains(('Bru', 'Go'))\": False, \"contains(('Bru', 'It'))\": False, \"contains(('Bru', 'Lucillius'))\": False, \"contains(('Bru', 'Lucius'))\": False, \"contains(('Bru', 'Now'))\": False, \"contains(('Bru', 'Stand'))\": False, \"contains(('Bru', 'Where'))\": False, \"contains(('Bru', 'Yes'))\": False, \"contains(('Brut', 'And'))\": False, \"contains(('Brut', 'Come'))\": False, \"contains(('Brut', 'Get'))\": False, \"contains(('Brut', 'He'))\": False, \"contains(('Brut', 'Peace'))\": False, \"contains(('Brut', 'Tis'))\": False, \"contains(('Brut', 'Why'))\": False, \"contains(('Brutus', '3'))\": False, \"contains(('Brutus', 'As'))\": False, \"contains(('Brutus', 'If'))\": False, \"contains(('Brutus', 'Messala'))\": False, \"contains(('Brutus', 'That'))\": False, \"contains(('Brutus', 'hath'))\": False, \"contains(('Brutus', 'loue'))\": False, \"contains(('Brutus', 'sake'))\": False, \"contains(('Brutus', 'sicke'))\": False, \"contains(('But', 'Brutus'))\": False, \"contains(('But', 'tis'))\": False, \"contains(('But', 'yet'))\": False, \"contains(('Caes', 'And'))\": False, \"contains(('Caes', 'Calphurnia'))\": False, \"contains(('Caes', 'Set'))\": False, \"contains(('Caesar', 'Ant'))\": False, \"contains(('Caesar', 'Bru'))\": False, \"contains(('Caesar', 'But'))\": False, \"contains(('Caesar', 'Cassi'))\": False, \"contains(('Caesar', 'If'))\": False, \"contains(('Caesar', 'The'))\": False, \"contains(('Caesar', 'You'))\": False, \"contains(('Caesar', 'fell'))\": False, \"contains(('Caesars', 'Funerall'))\": False, \"contains(('Caesars', 'Spirit'))\": False, \"contains(('Caesars', 'Will'))\": False, \"contains(('Caesars', 'body'))\": False, \"contains(('Caesars', 'death'))\": False, \"contains(('Caesars', 'house'))\": False, \"contains(('Caesars', 'wounds'))\": False, \"contains(('Cas', 'Ha'))\": False, \"contains(('Cas', 'How'))\": False, \"contains(('Cas', 'The'))\": False, \"contains(('Cask', 'A'))\": False, \"contains(('Cask', 'He'))\": False, \"contains(('Cask', 'Indeed'))\": False, \"contains(('Cask', 'No'))\": False, \"contains(('Caska', 'Decius'))\": False, \"contains(('Caska', 'I'))\": False, \"contains(('Cass', 'This'))\": False, \"contains(('Cassi', 'And'))\": False, \"contains(('Cassi', 'Come'))\": False, \"contains(('Cassi', 'Do'))\": False, \"contains(('Cassi', 'Good'))\": False, \"contains(('Cassi', 'Is'))\": False, \"contains(('Cassi', 'Messala'))\": False, \"contains(('Cassi', 'So'))\": False, \"contains(('Cassi', 'Stand'))\": False, \"contains(('Cassi', 'That'))\": False, \"contains(('Cassi', 'This'))\": False, \"contains(('Cassi', 'Who'))\": False, \"contains(('Cassi', 'Why'))\": False, \"contains(('Cassi', 'You'))\": False, \"contains(('Cassius', 'Are'))\": False, \"contains(('Cassius', 'Bru'))\": False, \"contains(('Cassius', 'For'))\": False, \"contains(('Cassius', 'He'))\": False, \"contains(('Cassius', 'I'))\": False, \"contains(('Cassius', 'If'))\": False, \"contains(('Cassius', 'The'))\": False, \"contains(('Cassius', 'go'))\": False, \"contains(('Cato', 'hoe'))\": False, \"contains(('Ceremonies', 'It'))\": False, \"contains(('Cic', 'Good'))\": False, \"contains(('Ciuill', 'strife'))\": False, \"contains(('Clit', 'What'))\": False, \"contains(('Clitus', 'Clit'))\": False, \"contains(('Cly', 'Fly'))\": False, \"contains(('Cob', 'Truly'))\": False, \"contains(('Come', 'Antony'))\": False, \"contains(('Countries', 'Friend'))\": False, \"contains(('Crowne', 'offer'))\": False, \"contains(('Dardanius', 'Dard'))\": False, \"contains(('Dost', 'thou'))\": False, \"contains(('Drum', 'Enter'))\": False, \"contains(('Enemies', 'And'))\": False, \"contains(('Enter', 'Cinna'))\": False, \"contains(('Enter', 'Pindarus'))\": False, \"contains(('Enter', 'Portia'))\": False, \"contains(('Enter', 'Titinius'))\": False, \"contains(('Exeunt', 'Alarum'))\": False, \"contains(('Falling', 'sicknesse'))\": False, \"contains(('For', 'certaine'))\": False, \"contains(('For', 'euer'))\": False, \"contains(('Friends', 'I'))\": False, \"contains(('Gods', 'defend'))\": False, \"contains(('Gold', 'To'))\": False, \"contains(('Good', 'Friends'))\": False, \"contains(('Ha', 'Who'))\": False, \"contains(('Haile', 'Caesar'))\": False, \"contains(('He', 'lies'))\": False, \"contains(('He', 'loues'))\": False, \"contains(('He', 'sayes'))\": False, \"contains(('He', 'thinkes'))\": False, \"contains(('He', 'would'))\": False, \"contains(('Hearke', 'thee'))\": False, \"contains(('Heauen', 'I'))\": False, \"contains(('Heere', 'comes'))\": False, \"contains(('Hounds', 'And'))\": False, \"contains(('How', 'I'))\": False, \"contains(('How', 'many'))\": False, \"contains(('I', 'Brutus'))\": False, \"contains(('I', 'Caska'))\": False, \"contains(('I', 'Cassi'))\": False, \"contains(('I', 'blame'))\": False, \"contains(('I', 'dare'))\": False, \"contains(('I', 'durst'))\": False, \"contains(('I', 'dwell'))\": False, \"contains(('I', 'giue'))\": False, \"contains(('I', 'go'))\": False, \"contains(('I', 'heard'))\": False, \"contains(('I', 'held'))\": False, \"contains(('I', 'honour'))\": False, \"contains(('I', 'hope'))\": False, \"contains(('I', 'lou'))\": False, \"contains(('I', 'might'))\": False, \"contains(('I', 'neuer'))\": False, \"contains(('I', 'prythee'))\": False, \"contains(('I', 'rather'))\": False, \"contains(('I', 'saw'))\": False, \"contains(('I', 'see'))\": False, \"contains(('I', 'slew'))\": False, \"contains(('I', 'stand'))\": False, \"contains(('I', 'take'))\": False, \"contains(('I', 'told'))\": False, \"contains(('I', 'wish'))\": False, \"contains(('I', 'wrong'))\": False, \"contains(('If', 'Brutus'))\": False, \"contains(('If', 'Caesar'))\": False, \"contains(('In', 'euery'))\": False, \"contains(('Iulius', 'Caesar'))\": False, \"contains(('Lady', 'Por'))\": False, \"contains(('Lepidus', 'Ant'))\": False, \"contains(('Liberty', 'Freedome'))\": False, \"contains(('Lightning', 'Enter'))\": False, \"contains(('Lord', 'Brutus'))\": False, \"contains(('Lord', 'I'))\": False, \"contains(('Lord', 'flye'))\": False, \"contains(('Low', 'Alarums'))\": False, \"contains(('Luc', 'Heere'))\": False, \"contains(('Luc', 'No'))\": False, \"contains(('Luc', 'Sir'))\": False, \"contains(('Luc', 'The'))\": False, \"contains(('Madam', 'Por'))\": False, \"contains(('Manet', 'Brutus'))\": False, \"contains(('Marcus', 'Cato'))\": False, \"contains(('Messa', 'Is'))\": False, \"contains(('Most', 'like'))\": False, \"contains(('My', 'selfe'))\": False, \"contains(('Nay', 'I'))\": False, \"contains(('Night', 'And'))\": False, \"contains(('No', 'Cassius'))\": False, \"contains(('No', 'Sir'))\": False, \"contains(('Noble', 'Cassius'))\": False, \"contains(('Noble', 'Roman'))\": False, \"contains(('Now', 'I'))\": False, \"contains(('O', 'Brutus'))\": False, \"contains(('O', 'I'))\": False, \"contains(('O', 'World'))\": False, \"contains(('O', 'pardon'))\": False, \"contains(('Octa', 'Come'))\": False, \"contains(('Octa', 'So'))\": False, \"contains(('Or', 'else'))\": False, \"contains(('Peace', 'ho'))\": False, \"contains(('Philippi', 'Brut'))\": False, \"contains(('Philippi', 'heere'))\": False, \"contains(('Plucke', 'downe'))\": False, \"contains(('Pompeyes', 'Porch'))\": False, \"contains(('Popillius', 'Lena'))\": False, \"contains(('Por', 'Brutus'))\": False, \"contains(('Por', 'Is'))\": False, \"contains(('Portia', 'Por'))\": False, \"contains(('Portia', 'go'))\": False, \"contains(('Publius', 'Cymber'))\": False, \"contains(('Ride', 'ride'))\": False, \"contains(('Roman', 'beares'))\": False, \"contains(('Rome', 'As'))\": False, \"contains(('Rome', 'I'))\": False, \"contains(('Rome', 'c'))\": False, \"contains(('Senate', 'house'))\": False, \"contains(('Seruant', 'Bru'))\": False, \"contains(('Seruant', 'Ser'))\": False, \"contains(('Sir', 'Brut'))\": False, \"contains(('So', 'let'))\": False, \"contains(('So', 'well'))\": False, \"contains(('Sooth', 'Beware'))\": False, \"contains(('Sooth', 'Madam'))\": False, \"contains(('Spirit', 'And'))\": False, \"contains(('Spirits', 'To'))\": False, \"contains(('Stand', 'Stand'))\": False, \"contains(('Stand', 'fast'))\": False, \"contains(('Statue', 'Which'))\": False, \"contains(('Stra', 'I'))\": False, \"contains(('Strato', 'Stra'))\": False, \"contains(('Such', 'men'))\": False, \"contains(('That', 'euer'))\": False, \"contains(('The', 'Heauens'))\": False, \"contains(('The', 'Will'))\": False, \"contains(('The', 'heart'))\": False, \"contains(('The', 'name'))\": False, \"contains(('Then', 'I'))\": False, \"contains(('Therein', 'yee'))\": False, \"contains(('They', 'could'))\": False, \"contains(('They', 'meane'))\": False, \"contains(('Tis', 'good'))\": False, \"contains(('Titinius', 'And'))\": False, \"contains(('To', 'begge'))\": False, \"contains(('To', 'finde'))\": False, \"contains(('To', 'make'))\": False, \"contains(('To', 'thinke'))\": False, \"contains(('To', 'walke'))\": False, \"contains(('Trade', 'art'))\": False, \"contains(('Trebonius', 'Cynna'))\": False, \"contains(('Truly', 'sir'))\": False, \"contains(('Volumnius', 'Thou'))\": False, \"contains(('We', 'shall'))\": False, \"contains(('Wee', 'burne'))\": False, \"contains(('What', 'Brutus'))\": False, \"contains(('What', 'man'))\": False, \"contains(('What', 'mean'))\": False, \"contains(('What', 'said'))\": False, \"contains(('What', 'sayes'))\": False, \"contains(('What', 'shall'))\": False, \"contains(('When', 'Caesar'))\": False, \"contains(('When', 'Caesars'))\": False, \"contains(('Where', 'I'))\": False, \"contains(('Which', 'like'))\": False, \"contains(('Who', 'else'))\": False, \"contains(('Why', 'I'))\": False, \"contains(('Will', 'I'))\": False, \"contains(('Wilt', 'thou'))\": False, \"contains(('Yet', 'Brutus'))\": False, \"contains(('Yet', 'I'))\": False, \"contains(('againe', 'I'))\": False, \"contains(('bad', 'strokes'))\": False, \"contains(('best', 'Friends'))\": False, \"contains(('blood', 'That'))\": False, \"contains(('cause', 'Why'))\": False, \"contains(('comes', 'heere'))\": False, \"contains(('day', 'We'))\": False, \"contains(('dead', 'And'))\": False, \"contains(('dead', 'Cas'))\": False, \"contains(('death', 'shall'))\": False, \"contains(('doe', 'know'))\": False, \"contains(('doth', 'beare'))\": False, \"contains(('doth', 'desire'))\": False, \"contains(('ere', 'day'))\": False, \"contains(('euer', 'farewell'))\": False, \"contains(('euery', 'Roman'))\": False, \"contains(('euery', 'thing'))\": False, \"contains(('farre', 'As'))\": False, \"contains(('feare', 'And'))\": False, \"contains(('feare', 'I'))\": False, \"contains(('fearefull', 'Night'))\": False, \"contains(('fearing', 'death'))\": False, \"contains(('finde', 'time'))\": False, \"contains(('forth', 'Cassi'))\": False, \"contains(('full', 'well'))\": False, \"contains(('gallant', 'shew'))\": False, \"contains(('gentle', 'Brutus'))\": False, \"contains(('gentle', 'Friends'))\": False, \"contains(('get', 'thee'))\": False, \"contains(('go', 'vp'))\": False, \"contains(('going', '3'))\": False, \"contains(('good', 'Boy'))\": False, \"contains(('good', 'Brother'))\": False, \"contains(('good', 'Brutus'))\": False, \"contains(('good', 'Cassius'))\": False, \"contains(('good', 'morrow'))\": False, \"contains(('graunt', 'I'))\": False, \"contains(('great', 'men'))\": False, \"contains(('hand', 'I'))\": False, \"contains(('harme', 'intended'))\": False, \"contains(('hath', 'Caesar'))\": False, \"contains(('hath', 'chanc'))\": False, \"contains(('hath', 'done'))\": False, \"contains(('hath', 'left'))\": False, \"contains(('haue', 'mou'))\": False, \"contains(('haue', 'said'))\": False, \"contains(('haue', 'spoke'))\": False, \"contains(('haue', 'taken'))\": False, \"contains(('haue', 'thought'))\": False, \"contains(('hearts', 'I'))\": False, \"contains(('heere', 'Bru'))\": False, \"contains(('heere', 'I'))\": False, \"contains(('heere', 'againe'))\": False, \"contains(('heere', 'comes'))\": False, \"contains(('hence', 'Cas'))\": False, \"contains(('ho', 'Bru'))\": False, \"contains(('hold', 'thee'))\": False, \"contains(('hold', 'vp'))\": False, \"contains(('hope', 'I'))\": False, \"contains(('ill', 'temper'))\": False, \"contains(('indeed', 'Sir'))\": False, \"contains(('itching', 'Palme'))\": False, \"contains(('know', 'That'))\": False, \"contains(('loue', 'To'))\": False, \"contains(('make', 'sicke'))\": False, \"contains(('make', 'vs'))\": False, \"contains(('man', 'directly'))\": False, \"contains(('man', 'else'))\": False, \"contains(('many', 'times'))\": False, \"contains(('married', 'man'))\": False, \"contains(('meet', 'That'))\": False, \"contains(('men', 'The'))\": False, \"contains(('mighty', 'Gods'))\": False, \"contains(('mine', 'Honor'))\": False, \"contains(('morrow', 'Cask'))\": False, \"contains(('much', 'vpon'))\": False, \"contains(('must', 'I'))\": False, \"contains(('must', 'dye'))\": False, \"contains(('neuer', 'till'))\": False, \"contains(('newes', 'Pind'))\": False, \"contains(('nothing', 'else'))\": False, \"contains(('offended', 'I'))\": False, \"contains(('offended', 'Who'))\": False, \"contains(('one', 'Exeunt'))\": False, \"contains(('one', 'another'))\": False, \"contains(('one', 'doth'))\": False, \"contains(('one', 'man'))\": False, \"contains(('patient', 'till'))\": False, \"contains(('place', 'And'))\": False, \"contains(('ride', 'Messala'))\": False, \"contains(('right', 'hand'))\": False, \"contains(('say', 'Brutus'))\": False, \"contains(('see', 'thee'))\": False, \"contains(('see', 'thy'))\": False, \"contains(('selfe', 'I'))\": False, \"contains(('selfe', 'To'))\": False, \"contains(('selfe', 'Which'))\": False, \"contains(('selfe', 'haue'))\": False, \"contains(('shall', 'go'))\": False, \"contains(('shall', 'make'))\": False, \"contains(('shall', 'meete'))\": False, \"contains(('shall', 'please'))\": False, \"contains(('sicke', 'And'))\": False, \"contains(('sleep', 'awake'))\": False, \"contains(('stand', 'vp'))\": False, \"contains(('stay', 'heere'))\": False, \"contains(('streetes', 'And'))\": False, \"contains(('strike', 'redresse'))\": False, \"contains(('successe', 'hath'))\": False, \"contains(('suite', 'That'))\": False, \"contains(('tell', 'vs'))\": False, \"contains(('thee', 'Musicke'))\": False, \"contains(('thee', 'well'))\": False, \"contains(('third', 'time'))\": False, \"contains(('thou', 'doest'))\": False, \"contains(('thou', 'dyest'))\": False, \"contains(('thou', 'heere'))\": False, \"contains(('thou', 'wilt'))\": False, \"contains(('thy', 'Lord'))\": False, \"contains(('thy', 'Master'))\": False, \"contains(('thy', 'hand'))\": False, \"contains(('thy', 'selfe'))\": False, \"contains(('till', 'another'))\": False, \"contains(('tis', 'true'))\": False, \"contains(('together', 'Bru'))\": False, \"contains(('vs', 'Cassi'))\": False, \"contains(('vs', 'haue'))\": False, \"contains(('vse', 'And'))\": False, \"contains(('well', 'For'))\": False, \"contains(('well', 'I'))\": False, \"contains(('well', 'That'))\": False, \"contains(('well', 'made'))\": False, \"contains(('wilt', 'thou'))\": False, \"contains(('withall', 'A'))\": False, \"contains(('without', 'cause'))\": False, \"contains(('wrong', 'I'))\": False, \"contains(('yee', 'Gods'))\": False, \"contains(('yeeres', 'I'))\": False, \"contains(('yet', 'ere'))\": False, \"contains(('yet', 'haue'))\": False, \"contains(('yet', 'vnknowne'))\": False, \"contains(('yong', 'Cato'))\": False, \"contains(('1', 'As'))\": False, \"contains(('1', 'Bring'))\": False, \"contains(('1', 'If'))\": False, \"contains(('1', 'Ile'))\": False, \"contains(('1', 'Me'))\": False, \"contains(('1', 'Neuer'))\": False, \"contains(('1', 'Stand'))\": False, \"contains(('1', 'Stay'))\": False, \"contains(('1', 'Teare'))\": False, \"contains(('1', 'This'))\": False, \"contains(('1', 'What'))\": False, \"contains(('2', 'Answer'))\": False, \"contains(('2', 'Descend'))\": False, \"contains(('2', 'Giue'))\": False, \"contains(('2', 'Go'))\": False, \"contains(('2', 'I'))\": False, \"contains(('2', 'If'))\": False, \"contains(('2', 'O'))\": False, \"contains(('2', 'Ple'))\": False, \"contains(('2', 'Poore'))\": False, \"contains(('2', 'They'))\": False, \"contains(('2', 'We'))\": False, \"contains(('2', 'Wee'))\": False, \"contains(('2', 'Whether'))\": False, \"contains(('3', 'Away'))\": False, \"contains(('3', 'Ha'))\": False, \"contains(('3', 'He'))\": False, \"contains(('3', 'I'))\": False, \"contains(('3', 'Nay'))\": False, \"contains(('3', 'O'))\": False, \"contains(('3', 'Ple'))\": False, \"contains(('3', 'Plucke'))\": False, \"contains(('3', 'Teare'))\": False, \"contains(('3', 'The'))\": False, \"contains(('3', 'There'))\": False, \"contains(('3', 'Where'))\": False, \"contains(('3', 'You'))\": False, \"contains(('3', 'Your'))\": False, \"contains(('4', 'A'))\": False, \"contains(('4', 'Are'))\": False, \"contains(('4', 'Caesars'))\": False, \"contains(('4', 'For'))\": False, \"contains(('4', 'I'))\": False, \"contains(('4', 'It'))\": False, \"contains(('4', 'Mark'))\": False, \"contains(('4', 'Now'))\": False, \"contains(('4', 'O'))\": False, \"contains(('4', 'Plucke'))\": False, \"contains(('4', 'Read'))\": False, \"contains(('4', 'Teare'))\": False, \"contains(('4', 'They'))\": False, \"contains(('4', 'Twere'))\": False, \"contains(('4', 'Wee'))\": False, \"contains(('4', 'What'))\": False, \"contains(('A', 'Canopy'))\": False, \"contains(('A', 'Curse'))\": False, \"contains(('A', 'Flatterers'))\": False, \"contains(('A', 'Foe'))\": False, \"contains(('A', 'Friend'))\": False, \"contains(('A', 'Lionnesse'))\": False, \"contains(('A', 'Ring'))\": False, \"contains(('A', 'Romane'))\": False, \"contains(('A', 'Sooth'))\": False, \"contains(('A', 'Trade'))\": False, \"contains(('A', 'barren'))\": False, \"contains(('A', 'common'))\": False, \"contains(('A', 'friend'))\": False, \"contains(('A', 'friendly'))\": False, \"contains(('A', 'hot'))\": False, \"contains(('A', 'little'))\": False, \"contains(('A', 'peece'))\": False, \"contains(('A', 'peeuish'))\": False, \"contains(('A', 'prize'))\": False, \"contains(('A', 'shrew'))\": False, \"contains(('A', 'word'))\": False, \"contains(('A', 'wretched'))\": False, \"contains(('Aboue', 'O'))\": False, \"contains(('About', 'seeke'))\": False, \"contains(('Abuse', 'If'))\": False, \"contains(('Accents', 'yet'))\": False, \"contains(('Acte', 'You'))\": False, \"contains(('Actus', 'Quartus'))\": False, \"contains(('Actus', 'Quintus'))\": False, \"contains(('Actus', 'Secundus'))\": False, \"contains(('Actus', 'Tertius'))\": False, \"contains(('Adder', 'And'))\": False, \"contains(('Addition', 'Mess'))\": False, \"contains(('Affabilitie', 'For'))\": False, \"contains(('Affections', 'sway'))\": False, \"contains(('Age', 'Bru'))\": False, \"contains(('Age', 'since'))\": False, \"contains(('Age', 'thou'))\": False, \"contains(('Ages', 'hence'))\": False, \"contains(('Ages', 'yoake'))\": False, \"contains(('Alarum', 'Cry'))\": False, \"contains(('Alarum', 'Let'))\": False, \"contains(('Alarum', 'Retreat'))\": False, \"contains(('Alarum', 'still'))\": False, \"contains(('Alarums', 'Cato'))\": False, \"contains(('Alarums', 'Enter'))\": False, \"contains(('Alarums', 'It'))\": False, \"contains(('Alas', 'good'))\": False, \"contains(('Alas', 'thou'))\": False, \"contains(('Alasse', 'good'))\": False, \"contains(('Alchymie', 'Will'))\": False, \"contains(('All', 'Come'))\": False, \"contains(('All', 'Liue'))\": False, \"contains(('All', 'Most'))\": False, \"contains(('All', 'None'))\": False, \"contains(('All', 'Stand'))\": False, \"contains(('All', 'Wee'))\": False, \"contains(('All', 'disconsolate'))\": False, \"contains(('All', 'pitty'))\": False, \"contains(('Ambition', 'Who'))\": False, \"contains(('Ambition', 'Yet'))\": False, \"contains(('Ambition', 'shall'))\": False, \"contains(('Ambitions', 'Ladder'))\": False, \"contains(('Ambitions', 'debt'))\": False, \"contains(('Ambitious', '1'))\": False, \"contains(('Ambitious', 'I'))\": False, \"contains(('Ambitious', 'If'))\": False, \"contains(('Ambitious', 'When'))\": False, \"contains(('An', 'Friends'))\": False, \"contains(('An', 'In'))\": False, \"contains(('An', 'humble'))\": False, \"contains(('Ancestor', 'Did'))\": False, \"contains(('Ancestors', '3'))\": False, \"contains(('Ancestors', 'But'))\": False, \"contains(('Anchyses', 'beare'))\": False, \"contains(('And', 'Beares'))\": False, \"contains(('And', 'Caesars'))\": False, \"contains(('And', 'Cassius'))\": False, \"contains(('And', 'Chasticement'))\": False, \"contains(('And', 'Friends'))\": False, \"contains(('And', 'Ghosts'))\": False, \"contains(('And', 'Graues'))\": False, \"contains(('And', 'Nature'))\": False, \"contains(('And', 'bad'))\": False, \"contains(('And', 'bayed'))\": False, \"contains(('And', 'beare'))\": False, \"contains(('And', 'bow'))\": False, \"contains(('And', 'buy'))\": False, \"contains(('And', 'call'))\": False, \"contains(('And', 'cast'))\": False, \"contains(('And', 'common'))\": False, \"contains(('And', 'constant'))\": False, \"contains(('And', 'could'))\": False, \"contains(('And', 'dangers'))\": False, \"contains(('And', 'dip'))\": False, \"contains(('And', 'drawing'))\": False, \"contains(('And', 'dreadfull'))\": False, \"contains(('And', 'driue'))\": False, \"contains(('And', 'drop'))\": False, \"contains(('And', 'dy'))\": False, \"contains(('And', 'dying'))\": False, \"contains(('And', 'euery'))\": False, \"contains(('And', 'euils'))\": False, \"contains(('And', 'fawn'))\": False, \"contains(('And', 'fearefull'))\": False, \"contains(('And', 'gentle'))\": False, \"contains(('And', 'graze'))\": False, \"contains(('And', 'greefe'))\": False, \"contains(('And', 'greeuously'))\": False, \"contains(('And', 'groaning'))\": False, \"contains(('And', 'halfe'))\": False, \"contains(('And', 'hauing'))\": False, \"contains(('And', 'hearke'))\": False, \"contains(('And', 'honest'))\": False, \"contains(('And', 'keepe'))\": False, \"contains(('And', 'kill'))\": False, \"contains(('And', 'know'))\": False, \"contains(('And', 'make'))\": False, \"contains(('And', 'may'))\": False, \"contains(('And', 'none'))\": False, \"contains(('And', 'open'))\": False, \"contains(('And', 'part'))\": False, \"contains(('And', 'partly'))\": False, \"contains(('And', 'pitty'))\": False, \"contains(('And', 'presently'))\": False, \"contains(('And', 'publike'))\": False, \"contains(('And', 'reason'))\": False, \"contains(('And', 'sell'))\": False, \"contains(('And', 'sodaine'))\": False, \"contains(('And', 'something'))\": False, \"contains(('And', 'stemming'))\": False, \"contains(('And', 'straite'))\": False, \"contains(('And', 'sure'))\": False, \"contains(('And', 'swim'))\": False, \"contains(('And', 'swimme'))\": False, \"contains(('And', 'talke'))\": False, \"contains(('And', 'tempt'))\": False, \"contains(('And', 'things'))\": False, \"contains(('And', 'thither'))\": False, \"contains(('And', 'though'))\": False, \"contains(('And', 'thus'))\": False, \"contains(('And', 'tooke'))\": False, \"contains(('And', 'touch'))\": False, \"contains(('And', 'turne'))\": False, \"contains(('And', 'vpon'))\": False, \"contains(('And', 'watch'))\": False, \"contains(('And', 'wauing'))\": False, \"contains(('And', 'whether'))\": False, \"contains(('And', 'yesterday'))\": False, \"contains(('Angel', 'Iudge'))\": False, \"contains(('Another', 'generall'))\": False, \"contains(('Answer', 'euery'))\": False, \"contains(('Ant', 'And'))\": False, \"contains(('Ant', 'Be'))\": False, \"contains(('Ant', 'Belike'))\": False, \"contains(('Ant', 'But'))\": False, \"contains(('Ant', 'Cæsar'))\": False, \"contains(('Ant', 'Feare'))\": False, \"contains(('Ant', 'For'))\": False, \"contains(('Ant', 'Good'))\": False, \"contains(('Ant', 'Haue'))\": False, \"contains(('Ant', 'He'))\": False, \"contains(('Ant', 'Heare'))\": False, \"contains(('Ant', 'Heere'))\": False, \"contains(('Ant', 'If'))\": False, \"contains(('Ant', 'Moreouer'))\": False, \"contains(('Ant', 'Nay'))\": False, \"contains(('Ant', 'No'))\": False, \"contains(('Ant', 'Not'))\": False, \"contains(('Ant', 'Now'))\": False, \"contains(('Ant', 'O'))\": False, \"contains(('Ant', 'Old'))\": False, \"contains(('Ant', 'Pardon'))\": False, \"contains(('Ant', 'Post'))\": False, \"contains(('Ant', 'Stay'))\": False, \"contains(('Ant', 'That'))\": False, \"contains(('Ant', 'Therefore'))\": False, \"contains(('Ant', 'These'))\": False, \"contains(('Ant', 'Thy'))\": False, \"contains(('Ant', 'Tut'))\": False, \"contains(('Ant', 'Villains'))\": False, \"contains(('Ant', 'Will'))\": False, \"contains(('Ant', 'Yet'))\": False, \"contains(('Antonies', 'Ser'))\": False, \"contains(('Antonio', 'Send'))\": False, \"contains(('Antonio', 'To'))\": False, \"contains(('Antonio', 'way'))\": False, \"contains(('Antony', '3'))\": False, \"contains(('Antony', '4'))\": False, \"contains(('Antony', 'All'))\": False, \"contains(('Antony', 'And'))\": False, \"contains(('Antony', 'Begge'))\": False, \"contains(('Antony', 'Cassi'))\": False, \"contains(('Antony', 'Come'))\": False, \"contains(('Antony', 'Do'))\": False, \"contains(('Antony', 'Haue'))\": False, \"contains(('Antony', 'Lep'))\": False, \"contains(('Antony', 'Lepidus'))\": False, \"contains(('Antony', 'Let'))\": False, \"contains(('Antony', 'May'))\": False, \"contains(('Antony', 'O'))\": False, \"contains(('Antony', 'Our'))\": False, \"contains(('Antony', 'See'))\": False, \"contains(('Antony', 'The'))\": False, \"contains(('Antony', 'Titin'))\": False, \"contains(('Antony', 'Treb'))\": False, \"contains(('Antony', 'Welcome'))\": False, \"contains(('Antony', 'Would'))\": False, \"contains(('Antony', 'You'))\": False, \"contains(('Antony', 'away'))\": False, \"contains(('Antony', 'bid'))\": False, \"contains(('Antony', 'go'))\": False, \"contains(('Antony', 'haue'))\": False, \"contains(('Antony', 'heere'))\": False, \"contains(('Antony', 'making'))\": False, \"contains(('Antony', 'offer'))\": False, \"contains(('Antony', 'speake'))\": False, \"contains(('Antony', 'thinke'))\": False, \"contains(('Any', 'exploit'))\": False, \"contains(('Apes', 'And'))\": False, \"contains(('Apparition', 'It'))\": False, \"contains(('Appetite', 'Brut'))\": False, \"contains(('Are', 'come'))\": False, \"contains(('Are', 'full'))\": False, \"contains(('Are', 'leuying'))\": False, \"contains(('Are', 'much'))\": False, \"contains(('Are', 'rid'))\": False, \"contains(('Are', 'yet'))\": False, \"contains(('Arme', 'When'))\": False, \"contains(('Armies', 'heere'))\": False, \"contains(('Army', 'Bru'))\": False, \"contains(('Army', 'Cassi'))\": False, \"contains(('Army', 'Titinius'))\": False, \"contains(('Army', 'lies'))\": False, \"contains(('Art', 'Delay'))\": False, \"contains(('Art', 'Haile'))\": False, \"contains(('Art', 'O'))\": False, \"contains(('Artemidorus', 'Caesar'))\": False, \"contains(('Artemidorus', 'Heere'))\": False, \"contains(('Artimedorus', 'Publius'))\": False, \"contains(('As', 'Caesar'))\": False, \"contains(('As', 'Caesars'))\": False, \"contains(('As', 'Cassius'))\": False, \"contains(('As', 'I'))\": False, \"contains(('As', 'Pompey'))\": False, \"contains(('As', 'deere'))\": False, \"contains(('As', 'doth'))\": False, \"contains(('As', 'easily'))\": False, \"contains(('As', 'fire'))\": False, \"contains(('As', 'heere'))\": False, \"contains(('As', 'huge'))\": False, \"contains(('As', 'lowe'))\": False, \"contains(('As', 'proper'))\": False, \"contains(('As', 'rushing'))\": False, \"contains(('As', 'thou'))\": False, \"contains(('As', 'tydings'))\": False, \"contains(('As', 'well'))\": False, \"contains(('Asse', 'beares'))\": False, \"contains(('At', 'mine'))\": False, \"contains(('Attempts', 'Am'))\": False, \"contains(('Attendants', 'absent'))\": False, \"contains(('Audience', 'Cassi'))\": False, \"contains(('Audience', 'friends'))\": False, \"contains(('Augurers', 'May'))\": False, \"contains(('Augurers', 'Ser'))\": False, \"contains(('Aule', 'I'))\": False, \"contains(('Awake', 'Claudio'))\": False, \"contains(('Awake', 'Var'))\": False, \"contains(('Away', 'away'))\": False, \"contains(('Away', 'go'))\": False, \"contains(('Away', 'slight'))\": False, \"contains(('Ayre', 'Cassi'))\": False, \"contains(('Ayre', 'Horsses'))\": False, \"contains(('Ayre', 'To'))\": False, \"contains(('Backe', 'Lookes'))\": False, \"contains(('Banquetting', 'To'))\": False, \"contains(('Bargaine', 'made'))\": False, \"contains(('Barke', 'The'))\": False, \"contains(('Barren', 'touched'))\": False, \"contains(('Barres', 'Neuer'))\": False, \"contains(('Basis', 'lye'))\": False, \"contains(('Bastard', 'doth'))\": False, \"contains(('Bastardie', 'If'))\": False, \"contains(('Batchellour', 'Then'))\": False, \"contains(('Battaile', 'Ant'))\": False, \"contains(('Battaile', 'You'))\": False, \"contains(('Battaile', 'softly'))\": False, \"contains(('Battell', 'hurtled'))\": False, \"contains(('Battlements', 'To'))\": False, \"contains(('Be', 'angry'))\": False, \"contains(('Be', 'factious'))\": False, \"contains(('Be', 'gone'))\": False, \"contains(('Be', 'hung'))\": False, \"contains(('Be', 'neere'))\": False, \"contains(('Be', 'patient'))\": False, \"contains(('Be', 'ready'))\": False, \"contains(('Be', 'thou'))\": False, \"contains(('Be', 'well'))\": False, \"contains(('Beast', 'without'))\": False, \"contains(('Beasts', 'And'))\": False, \"contains(('Beauty', 'By'))\": False, \"contains(('Bed', 'And'))\": False, \"contains(('Bed', 'Giues'))\": False, \"contains(('Bed', 'againe'))\": False, \"contains(('Bees', 'And'))\": False, \"contains(('Beggers', 'dye'))\": False, \"contains(('Behauiours', 'But'))\": False, \"contains(('Being', 'Mechanicall'))\": False, \"contains(('Being', 'crost'))\": False, \"contains(('Benches', '4'))\": False, \"contains(('Benefit', 'So'))\": False, \"contains(('Besides', 'I'))\": False, \"contains(('Better', 'Bru'))\": False, \"contains(('Better', 'Did'))\": False, \"contains(('Bid', 'euery'))\": False, \"contains(('Billes', 'Vnto'))\": False, \"contains(('Billow', 'And'))\": False, \"contains(('Blood', 'I'))\": False, \"contains(('Blood', 'Ouer'))\": False, \"contains(('Blood', 'Yea'))\": False, \"contains(('Bloods', 'When'))\": False, \"contains(('Body', '2'))\": False, \"contains(('Body', 'mourn'))\": False, \"contains(('Bold', 'Royall'))\": False, \"contains(('Bond', 'Then'))\": False, \"contains(('Bondman', 'If'))\": False, \"contains(('Bondmen', 'kissing'))\": False, \"contains(('Bondmen', 'tremble'))\": False, \"contains(('Bones', 'would'))\": False, \"contains(('Bookes', 'Alas'))\": False, \"contains(('Both', 'Did'))\": False, \"contains(('Both', 'It'))\": False, \"contains(('Both', 'meete'))\": False, \"contains(('Boy', 'That'))\": False, \"contains(('Boy', 'good'))\": False, \"contains(('Boy', 'heard'))\": False, \"contains(('Boy', 'run'))\": False, \"contains(('Boy', 'stand'))\": False, \"contains(('Br', 'A'))\": False, \"contains(('Brands', 'fire'))\": False, \"contains(('Brands', 'hoe'))\": False, \"contains(('Brasse', 'Nor'))\": False, \"contains(('Braue', 'Sonne'))\": False, \"contains(('Braue', 'Titinius'))\": False, \"contains(('Breake', 'vp'))\": False, \"contains(('Breast', 'Within'))\": False, \"contains(('Breefely', 'I'))\": False, \"contains(('Bribes', 'And'))\": False, \"contains(('Bribes', 'heere'))\": False, \"contains(('Brother', 'Cassi'))\": False, \"contains(('Brother', 'Check'))\": False, \"contains(('Brother', 'This'))\": False, \"contains(('Brother', 'Tit'))\": False, \"contains(('Brothers', 'temper'))\": False, \"contains(('Brow', 'Thy'))\": False, \"contains(('Bru', 'Alas'))\": False, \"contains(('Bru', 'All'))\": False, \"contains(('Bru', 'And'))\": False, \"contains(('Bru', 'Another'))\": False, \"contains(('Bru', 'Are'))\": False, \"contains(('Bru', 'Away'))\": False, \"contains(('Bru', 'Be'))\": False, \"contains(('Bru', 'Beare'))\": False, \"contains(('Bru', 'But'))\": False, \"contains(('Bru', 'Caesar'))\": False, \"contains(('Bru', 'Caius'))\": False, \"contains(('Bru', 'Did'))\": False, \"contains(('Bru', 'Do'))\": False, \"contains(('Bru', 'Euery'))\": False, \"contains(('Bru', 'Farwell'))\": False, \"contains(('Bru', 'Fates'))\": False, \"contains(('Bru', 'Follow'))\": False, \"contains(('Bru', 'For'))\": False, \"contains(('Bru', 'Get'))\": False, \"contains(('Bru', 'Giue'))\": False, \"contains(('Bru', 'Grant'))\": False, \"contains(('Bru', 'Heare'))\": False, \"contains(('Bru', 'Hearke'))\": False, \"contains(('Bru', 'Hence'))\": False, \"contains(('Bru', 'Ho'))\": False, \"contains(('Bru', 'How'))\": False, \"contains(('Bru', 'If'))\": False, \"contains(('Bru', 'Impatient'))\": False, \"contains(('Bru', 'Into'))\": False, \"contains(('Bru', 'Iudge'))\": False, \"contains(('Bru', 'Kneele'))\": False, \"contains(('Bru', 'Let'))\": False, \"contains(('Bru', 'Looke'))\": False, \"contains(('Bru', 'Mark'))\": False, \"contains(('Bru', 'My'))\": False, \"contains(('Bru', 'Nothing'))\": False, \"contains(('Bru', 'Onely'))\": False, \"contains(('Bru', 'Or'))\": False, \"contains(('Bru', 'Our'))\": False, \"contains(('Bru', 'Peace'))\": False, \"contains(('Bru', 'People'))\": False, \"contains(('Bru', 'Portia'))\": False, \"contains(('Bru', 'Prepare'))\": False, \"contains(('Bru', 'Remember'))\": False, \"contains(('Bru', 'Ride'))\": False, \"contains(('Bru', 'She'))\": False, \"contains(('Bru', 'Sheath'))\": False, \"contains(('Bru', 'Sleepe'))\": False, \"contains(('Bru', 'Soft'))\": False, \"contains(('Bru', 'Speak'))\": False, \"contains(('Bru', 'Such'))\": False, \"contains(('Bru', 'Talke'))\": False, \"contains(('Bru', 'Tell'))\": False, \"contains(('Bru', 'Then'))\": False, \"contains(('Bru', 'Therein'))\": False, \"contains(('Bru', 'They'))\": False, \"contains(('Bru', 'Thou'))\": False, \"contains(('Bru', 'Thy'))\": False, \"contains(('Bru', 'Titinius'))\": False, \"contains(('Bru', 'Vnder'))\": False, \"contains(('Bru', 'Was'))\": False, \"contains(('Bru', 'Well'))\": False, \"contains(('Bru', 'When'))\": False, \"contains(('Bru', 'With'))\": False, \"contains(('Bru', 'Words'))\": False, \"contains(('Bru', 'Yet'))\": False, \"contains(('Bru', 'Your'))\": False, \"contains(('Brut', 'Caesar'))\": False, \"contains(('Brut', 'Cass'))\": False, \"contains(('Brut', 'Cassius'))\": False, \"contains(('Brut', 'Doe'))\": False, \"contains(('Brut', 'Hearke'))\": False, \"contains(('Brut', 'Ile'))\": False, \"contains(('Brut', 'Is'))\": False, \"contains(('Brut', 'It'))\": False, \"contains(('Brut', 'Let'))\": False, \"contains(('Brut', 'Looke'))\": False, \"contains(('Brut', 'Nay'))\": False, \"contains(('Brut', 'No'))\": False, \"contains(('Brut', 'Not'))\": False, \"contains(('Brut', 'Sit'))\": False, \"contains(('Brut', 'The'))\": False, \"contains(('Brut', 'They'))\": False, \"contains(('Brut', 'Well'))\": False, \"contains(('Brute', 'Then'))\": False, \"contains(('Brutus', '1'))\": False, \"contains(('Brutus', 'Antony'))\": False, \"contains(('Brutus', 'Boy'))\": False, \"contains(('Brutus', 'Brut'))\": False, \"contains(('Brutus', 'Can'))\": False, \"contains(('Brutus', 'Cassi'))\": False, \"contains(('Brutus', 'Come'))\": False, \"contains(('Brutus', 'Dardanius'))\": False, \"contains(('Brutus', 'Deare'))\": False, \"contains(('Brutus', 'Dec'))\": False, \"contains(('Brutus', 'Harlot'))\": False, \"contains(('Brutus', 'Hath'))\": False, \"contains(('Brutus', 'He'))\": False, \"contains(('Brutus', 'Hee'))\": False, \"contains(('Brutus', 'Is'))\": False, \"contains(('Brutus', 'Ligarius'))\": False, \"contains(('Brutus', 'Luc'))\": False, \"contains(('Brutus', 'Lucillius'))\": False, \"contains(('Brutus', 'Marcus'))\": False, \"contains(('Brutus', 'No'))\": False, \"contains(('Brutus', 'Statue'))\": False, \"contains(('Brutus', 'Stole'))\": False, \"contains(('Brutus', 'Sword'))\": False, \"contains(('Brutus', 'Then'))\": False, \"contains(('Brutus', 'Thorough'))\": False, \"contains(('Brutus', 'To'))\": False, \"contains(('Brutus', 'Well'))\": False, \"contains(('Brutus', 'Were'))\": False, \"contains(('Brutus', 'When'))\": False, \"contains(('Brutus', 'Within'))\": False, \"contains(('Brutus', 'You'))\": False, \"contains(('Brutus', 'baite'))\": False, \"contains(('Brutus', 'bid'))\": False, \"contains(('Brutus', 'bootlesse'))\": False, \"contains(('Brutus', 'come'))\": False, \"contains(('Brutus', 'doe'))\": False, \"contains(('Brutus', 'earnes'))\": False, \"contains(('Brutus', 'friend'))\": False, \"contains(('Brutus', 'gaue'))\": False, \"contains(('Brutus', 'growes'))\": False, \"contains(('Brutus', 'haue'))\": False, \"contains(('Brutus', 'heere'))\": False, \"contains(('Brutus', 'leads'))\": False, \"contains(('Brutus', 'like'))\": False, \"contains(('Brutus', 'liue'))\": False, \"contains(('Brutus', 'liuing'))\": False, \"contains(('Brutus', 'loues'))\": False, \"contains(('Brutus', 'make'))\": False, \"contains(('Brutus', 'makes'))\": False, \"contains(('Brutus', 'may'))\": False, \"contains(('Brutus', 'none'))\": False, \"contains(('Brutus', 'onely'))\": False, \"contains(('Brutus', 'power'))\": False, \"contains(('Brutus', 'rose'))\": False, \"contains(('Brutus', 'shall'))\": False, \"contains(('Brutus', 'speake'))\": False, \"contains(('Brutus', 'speakes'))\": False, \"contains(('Brutus', 'spoke'))\": False, \"contains(('Brutus', 'stabb'))\": False, \"contains(('Brutus', 'take'))\": False, \"contains(('Brutus', 'thanke'))\": False, \"contains(('Brutus', 'thrusting'))\": False, \"contains(('Brutus', 'tis'))\": False, \"contains(('Brutus', 'tongue'))\": False, \"contains(('Brutus', 'tooke'))\": False, \"contains(('Brutus', 'wrong'))\": False, \"contains(('Buriall', 'Enter'))\": False, \"contains(('Buriall', 'Within'))\": False, \"contains(('Businesse', 'Either'))\": False, \"contains(('But', 'Cassius'))\": False, \"contains(('But', 'Lepidus'))\": False, \"contains(('But', 'Life'))\": False, \"contains(('But', 'alas'))\": False, \"contains(('But', 'beare'))\": False, \"contains(('But', 'cold'))\": False, \"contains(('But', 'ere'))\": False, \"contains(('But', 'hee'))\": False, \"contains(('But', 'hold'))\": False, \"contains(('But', 'hollow'))\": False, \"contains(('But', 'honors'))\": False, \"contains(('But', 'indeede'))\": False, \"contains(('But', 'keepe'))\": False, \"contains(('But', 'kil'))\": False, \"contains(('But', 'let'))\": False, \"contains(('But', 'men'))\": False, \"contains(('But', 'neuer'))\": False, \"contains(('But', 'oh'))\": False, \"contains(('But', 'since'))\": False, \"contains(('But', 'soft'))\": False, \"contains(('But', 'speake'))\": False, \"contains(('But', 'woe'))\": False, \"contains(('But', 'yesterday'))\": False, \"contains(('Butchers', 'Caius'))\": False, \"contains(('Butchers', 'Thou'))\": False, \"contains(('By', 'Heauen'))\": False, \"contains(('By', 'meanes'))\": False, \"contains(('Caes', 'Antonio'))\": False, \"contains(('Caes', 'Are'))\": False, \"contains(('Caes', 'Bid'))\": False, \"contains(('Caes', 'Caesar'))\": False, \"contains(('Caes', 'Cowards'))\": False, \"contains(('Caes', 'Doth'))\": False, \"contains(('Caes', 'Et'))\": False, \"contains(('Caes', 'Forget'))\": False, \"contains(('Caes', 'Go'))\": False, \"contains(('Caes', 'Good'))\": False, \"contains(('Caes', 'Ha'))\": False, \"contains(('Caes', 'He'))\": False, \"contains(('Caes', 'Hence'))\": False, \"contains(('Caes', 'How'))\": False, \"contains(('Caes', 'Let'))\": False, \"contains(('Caes', 'Mark'))\": False, \"contains(('Caes', 'Shall'))\": False, \"contains(('Caes', 'Stand'))\": False, \"contains(('Caes', 'Welcome'))\": False, \"contains(('Caes', 'Who'))\": False, \"contains(('Caes', 'Would'))\": False, \"contains(('Caesar', '3'))\": False, \"contains(('Caesar', '4'))\": False, \"contains(('Caesar', 'Antony'))\": False, \"contains(('Caesar', 'Brutus'))\": False, \"contains(('Caesar', 'Caesar'))\": False, \"contains(('Caesar', 'Calp'))\": False, \"contains(('Caesar', 'Cas'))\": False, \"contains(('Caesar', 'Come'))\": False, \"contains(('Caesar', 'Desiring'))\": False, \"contains(('Caesar', 'Dost'))\": False, \"contains(('Caesar', 'Dyes'))\": False, \"contains(('Caesar', 'Friends'))\": False, \"contains(('Caesar', 'Haue'))\": False, \"contains(('Caesar', 'He'))\": False, \"contains(('Caesar', 'How'))\": False, \"contains(('Caesar', 'It'))\": False, \"contains(('Caesar', 'Let'))\": False, \"contains(('Caesar', 'Metellus'))\": False, \"contains(('Caesar', 'Nor'))\": False, \"contains(('Caesar', 'Now'))\": False, \"contains(('Caesar', 'O'))\": False, \"contains(('Caesar', 'Read'))\": False, \"contains(('Caesar', 'Should'))\": False, \"contains(('Caesar', 'Speake'))\": False, \"contains(('Caesar', 'Think'))\": False, \"contains(('Caesar', 'To'))\": False, \"contains(('Caesar', 'What'))\": False, \"contains(('Caesar', 'Who'))\": False, \"contains(('Caesar', 'Why'))\": False, \"contains(('Caesar', 'answer'))\": False, \"contains(('Caesar', 'beares'))\": False, \"contains(('Caesar', 'beware'))\": False, \"contains(('Caesar', 'bleed'))\": False, \"contains(('Caesar', 'carelesly'))\": False, \"contains(('Caesar', 'cride'))\": False, \"contains(('Caesar', 'dead'))\": False, \"contains(('Caesar', 'fall'))\": False, \"contains(('Caesar', 'feede'))\": False, \"contains(('Caesar', 'followed'))\": False, \"contains(('Caesar', 'ha'))\": False, \"contains(('Caesar', 'hard'))\": False, \"contains(('Caesar', 'hast'))\": False, \"contains(('Caesar', 'hide'))\": False, \"contains(('Caesar', 'home'))\": False, \"contains(('Caesar', 'honour'))\": False, \"contains(('Caesar', 'lesse'))\": False, \"contains(('Caesar', 'let'))\": False, \"contains(('Caesar', 'liu'))\": False, \"contains(('Caesar', 'lookes'))\": False, \"contains(('Caesar', 'marke'))\": False, \"contains(('Caesar', 'may'))\": False, \"contains(('Caesar', 'might'))\": False, \"contains(('Caesar', 'must'))\": False, \"contains(('Caesar', 'neerer'))\": False, \"contains(('Caesar', 'neuer'))\": False, \"contains(('Caesar', 'pardon'))\": False, \"contains(('Caesar', 'passe'))\": False, \"contains(('Caesar', 'put'))\": False, \"contains(('Caesar', 'read'))\": False, \"contains(('Caesar', 'reade'))\": False, \"contains(('Caesar', 'refus'))\": False, \"contains(('Caesar', 'saide'))\": False, \"contains(('Caesar', 'saw'))\": False, \"contains(('Caesar', 'sayes'))\": False, \"contains(('Caesar', 'seat'))\": False, \"contains(('Caesar', 'seeme'))\": False, \"contains(('Caesar', 'send'))\": False, \"contains(('Caesar', 'speakes'))\": False, \"contains(('Caesar', 'speaking'))\": False, \"contains(('Caesar', 'swound'))\": False, \"contains(('Caesar', 'thus'))\": False, \"contains(('Caesar', 'tis'))\": False, \"contains(('Caesar', 'wee'))\": False, \"contains(('Caesar', 'yet'))\": False, \"contains(('Caesars', 'Ambition'))\": False, \"contains(('Caesars', 'Angel'))\": False, \"contains(('Caesars', 'Arme'))\": False, \"contains(('Caesars', 'Corpes'))\": False, \"contains(('Caesars', 'Friends'))\": False, \"contains(('Caesars', 'Glories'))\": False, \"contains(('Caesars', 'Images'))\": False, \"contains(('Caesars', 'Seale'))\": False, \"contains(('Caesars', 'Should'))\": False, \"contains(('Caesars', 'Trophees'))\": False, \"contains(('Caesars', 'Vesture'))\": False, \"contains(('Caesars', 'better'))\": False, \"contains(('Caesars', 'blood'))\": False, \"contains(('Caesars', 'bowels'))\": False, \"contains(('Caesars', 'brow'))\": False, \"contains(('Caesars', 'deaths'))\": False, \"contains(('Caesars', 'eare'))\": False, \"contains(('Caesars', 'feete'))\": False, \"contains(('Caesars', 'head'))\": False, \"contains(('Caesars', 'heart'))\": False, \"contains(('Caesars', 'three'))\": False, \"contains(('Caesars', 'wife'))\": False, \"contains(('Caesars', 'wing'))\": False, \"contains(('Cai', 'But'))\": False, \"contains(('Cai', 'By'))\": False, \"contains(('Cai', 'I'))\": False, \"contains(('Cai', 'Set'))\": False, \"contains(('Cai', 'Vouchsafe'))\": False, \"contains(('Caius', 'I'))\": False, \"contains(('Caius', 'To'))\": False, \"contains(('Caius', 'We'))\": False, \"contains(('Cal', 'What'))\": False, \"contains(('Call', 'Claudio'))\": False, \"contains(('Calp', 'Alas'))\": False, \"contains(('Calp', 'Caesar'))\": False, \"contains(('Calp', 'Heere'))\": False, \"contains(('Calp', 'Say'))\": False, \"contains(('Calp', 'When'))\": False, \"contains(('Calphurnia', 'Cal'))\": False, \"contains(('Calphurnia', 'Calp'))\": False, \"contains(('Calphurnia', 'Cask'))\": False, \"contains(('Calphurnia', 'Cheeke'))\": False, \"contains(('Calphurnia', 'Dreame'))\": False, \"contains(('Calphurnia', 'I'))\": False, \"contains(('Calphurnia', 'Portia'))\": False, \"contains(('Calphurnia', 'heere'))\": False, \"contains(('Came', 'smiling'))\": False, \"contains(('Campe', 'Least'))\": False, \"contains(('Can', 'I'))\": False, \"contains(('Canst', 'thou'))\": False, \"contains(('Capitoll', '3'))\": False, \"contains(('Capitoll', 'A'))\": False, \"contains(('Capitoll', 'Being'))\": False, \"contains(('Capitoll', 'Cas'))\": False, \"contains(('Capitoll', 'Exit'))\": False, \"contains(('Capitoll', 'I'))\": False, \"contains(('Capitoll', 'Luc'))\": False, \"contains(('Capitoll', 'Popil'))\": False, \"contains(('Capitoll', 'Por'))\": False, \"contains(('Capitoll', 'Sooth'))\": False, \"contains(('Capitoll', 'The'))\": False, \"contains(('Capitoll', 'This'))\": False, \"contains(('Capitoll', 'directly'))\": False, \"contains(('Captiue', 'bonds'))\": False, \"contains(('Captiues', 'home'))\": False, \"contains(('Captiuitie', 'Cassi'))\": False, \"contains(('Car', 'Why'))\": False, \"contains(('Cares', 'doe'))\": False, \"contains(('Carkasse', 'fit'))\": False, \"contains(('Carpenter', 'Mur'))\": False, \"contains(('Carrion', 'men'))\": False, \"contains(('Cas', 'Away'))\": False, \"contains(('Cas', 'Beare'))\": False, \"contains(('Cas', 'But'))\": False, \"contains(('Cas', 'Decius'))\": False, \"contains(('Cas', 'I'))\": False, \"contains(('Cas', 'My'))\": False, \"contains(('Cas', 'Nay'))\": False, \"contains(('Cas', 'O'))\": False, \"contains(('Cas', 'Of'))\": False, \"contains(('Cas', 'Then'))\": False, \"contains(('Cas', 'Therefore'))\": False, \"contains(('Cas', 'Yet'))\": False, \"contains(('Cask', 'Are'))\": False, \"contains(('Cask', 'Bid'))\": False, \"contains(('Cask', 'But'))\": False, \"contains(('Cask', 'Doe'))\": False, \"contains(('Cask', 'Farewell'))\": False, \"contains(('Cask', 'Go'))\": False, \"contains(('Cask', 'Let'))\": False, \"contains(('Cask', 'Marry'))\": False, \"contains(('Cask', 'Nay'))\": False, \"contains(('Cask', 'O'))\": False, \"contains(('Cask', 'Peace'))\": False, \"contains(('Cask', 'So'))\": False, \"contains(('Cask', 'Speake'))\": False, \"contains(('Cask', 'Tis'))\": False, \"contains(('Cask', 'Who'))\": False, \"contains(('Cask', 'Your'))\": False, \"contains(('Caska', 'And'))\": False, \"contains(('Caska', 'Caius'))\": False, \"contains(('Caska', 'Cask'))\": False, \"contains(('Caska', 'Caska'))\": False, \"contains(('Caska', 'Stand'))\": False, \"contains(('Caska', 'This'))\": False, \"contains(('Caska', 'Trebonius'))\": False, \"contains(('Caska', 'brought'))\": False, \"contains(('Caska', 'haue'))\": False, \"contains(('Caska', 'like'))\": False, \"contains(('Caska', 'made'))\": False, \"contains(('Caska', 'name'))\": False, \"contains(('Caska', 'one'))\": False, \"contains(('Caska', 'tell'))\": False, \"contains(('Cass', 'But'))\": False, \"contains(('Cass', 'Cassi'))\": False, \"contains(('Cass', 'I'))\": False, \"contains(('Cass', 'Portia'))\": False, \"contains(('Cass', 'Shall'))\": False, \"contains(('Cass', 'When'))\": False, \"contains(('Cass', 'Yes'))\": False, \"contains(('Cass', 'You'))\": False, \"contains(('Cassi', 'Am'))\": False, \"contains(('Cassi', 'Antony'))\": False, \"contains(('Cassi', 'As'))\": False, \"contains(('Cassi', 'Be'))\": False, \"contains(('Cassi', 'But'))\": False, \"contains(('Cassi', 'Chasticement'))\": False, \"contains(('Cassi', 'Cicero'))\": False, \"contains(('Cassi', 'Did'))\": False, \"contains(('Cassi', 'Fellow'))\": False, \"contains(('Cassi', 'Flatterers'))\": False, \"contains(('Cassi', 'For'))\": False, \"contains(('Cassi', 'Go'))\": False, \"contains(('Cassi', 'Hath'))\": False, \"contains(('Cassi', 'Haue'))\": False, \"contains(('Cassi', 'He'))\": False, \"contains(('Cassi', 'Heare'))\": False, \"contains(('Cassi', 'Him'))\": False, \"contains(('Cassi', 'In'))\": False, \"contains(('Cassi', 'Let'))\": False, \"contains(('Cassi', 'Mark'))\": False, \"contains(('Cassi', 'Most'))\": False, \"contains(('Cassi', 'Now'))\": False, \"contains(('Cassi', 'Pardon'))\": False, \"contains(('Cassi', 'Pindarus'))\": False, \"contains(('Cassi', 'Some'))\": False, \"contains(('Cassi', 'Stoop'))\": False, \"contains(('Cassi', 'There'))\": False, \"contains(('Cassi', 'They'))\": False, \"contains(('Cassi', 'Those'))\": False, \"contains(('Cassi', 'Tis'))\": False, \"contains(('Cassi', 'Titinius'))\": False, \"contains(('Cassi', 'To'))\": False, \"contains(('Cassi', 'Trebonius'))\": False, \"contains(('Cassi', 'Vrge'))\": False, \"contains(('Cassi', 'Where'))\": False, \"contains(('Cassi', 'Your'))\": False, \"contains(('Cassius', 'Be'))\": False, \"contains(('Cassius', 'Bid'))\": False, \"contains(('Cassius', 'Brutus'))\": False, \"contains(('Cassius', 'By'))\": False, \"contains(('Cassius', 'Dagger'))\": False, \"contains(('Cassius', 'Did'))\": False, \"contains(('Cassius', 'Drinkes'))\": False, \"contains(('Cassius', 'Enter'))\": False, \"contains(('Cassius', 'Farre'))\": False, \"contains(('Cassius', 'Good'))\": False, \"contains(('Cassius', 'Honors'))\": False, \"contains(('Cassius', 'Legions'))\": False, \"contains(('Cassius', 'Messa'))\": False, \"contains(('Cassius', 'Should'))\": False, \"contains(('Cassius', 'Sword'))\": False, \"contains(('Cassius', 'That'))\": False, \"contains(('Cassius', 'Therein'))\": False, \"contains(('Cassius', 'Tis'))\": False, \"contains(('Cassius', 'To'))\": False, \"contains(('Cassius', 'Var'))\": False, \"contains(('Cassius', 'borne'))\": False, \"contains(('Cassius', 'burne'))\": False, \"contains(('Cassius', 'come'))\": False, \"contains(('Cassius', 'day'))\": False, \"contains(('Cassius', 'enlarge'))\": False, \"contains(('Cassius', 'fall'))\": False, \"contains(('Cassius', 'first'))\": False, \"contains(('Cassius', 'flye'))\": False, \"contains(('Cassius', 'liu'))\": False, \"contains(('Cassius', 'might'))\": False, \"contains(('Cassius', 'neere'))\": False, \"contains(('Cassius', 'still'))\": False, \"contains(('Cassius', 'wrong'))\": False, \"contains(('Cassius', 'yet'))\": False, \"contains(('Cato', 'Braue'))\": False, \"contains(('Cato', 'Daughter'))\": False, \"contains(('Cato', 'He'))\": False, \"contains(('Cato', 'Lucillius'))\": False, \"contains(('Cato', 'Sonne'))\": False, \"contains(('Cato', 'Strato'))\": False, \"contains(('Cato', 'What'))\": False, \"contains(('Cato', 'art'))\": False, \"contains(('Cato', 'let'))\": False, \"contains(('Cauerne', 'darke'))\": False, \"contains(('Cautelous', 'Old'))\": False, \"contains(('Ceremonies', 'Mur'))\": False, \"contains(('Ceremonies', 'Yet'))\": False, \"contains(('Ceremony', 'There'))\": False, \"contains(('Chaire', 'Wee'))\": False, \"contains(('Channell', 'till'))\": False, \"contains(('Charge', 'Make'))\": False, \"contains(('Chariot', 'Wheeles'))\": False, \"contains(('Chasticement', 'Bru'))\": False, \"contains(('Chasticement', 'doth'))\": False, \"contains(('Chayre', 'Where'))\": False, \"contains(('Check', 'like'))\": False, \"contains(('Childe', 'Why'))\": False, \"contains(('Children', 'Be'))\": False, \"contains(('Children', 'calculate'))\": False, \"contains(('Children', 'stare'))\": False, \"contains(('Chimney', 'tops'))\": False, \"contains(('Choller', 'Shall'))\": False, \"contains(('Cic', 'Indeed'))\": False, \"contains(('Cic', 'Why'))\": False, \"contains(('Cicero', 'Brutus'))\": False, \"contains(('Cicero', 'Cic'))\": False, \"contains(('Cicero', 'Enter'))\": False, \"contains(('Cicero', 'Exit'))\": False, \"contains(('Cicero', 'I'))\": False, \"contains(('Cicero', 'Lookes'))\": False, \"contains(('Cicero', 'Shall'))\": False, \"contains(('Cicero', 'one'))\": False, \"contains(('Cicero', 'say'))\": False, \"contains(('Cimber', 'let'))\": False, \"contains(('Cin', 'Be'))\": False, \"contains(('Cin', 'Caska'))\": False, \"contains(('Cin', 'Heere'))\": False, \"contains(('Cin', 'I'))\": False, \"contains(('Cin', 'Liberty'))\": False, \"contains(('Cin', 'O'))\": False, \"contains(('Cin', 'What'))\": False, \"contains(('Cinna', '1'))\": False, \"contains(('Cinna', 'All'))\": False, \"contains(('Cinna', 'As'))\": False, \"contains(('Cinna', 'Breefely'))\": False, \"contains(('Cinna', 'Caska'))\": False, \"contains(('Cinna', 'Cinna'))\": False, \"contains(('Cinna', 'Come'))\": False, \"contains(('Cinna', 'Directly'))\": False, \"contains(('Cinna', 'Metellus'))\": False, \"contains(('Cinna', 'O'))\": False, \"contains(('Cinna', 'To'))\": False, \"contains(('Cinna', 'Truly'))\": False, \"contains(('Cinna', 'Yes'))\": False, \"contains(('Cinna', 'plucke'))\": False, \"contains(('Cinna', 'take'))\": False, \"contains(('Citizens', 'Writings'))\": False, \"contains(('Clamors', 'Bru'))\": False, \"contains(('Clau', 'My'))\": False, \"contains(('Clau', 'Nor'))\": False, \"contains(('Claudio', 'Enter'))\": False, \"contains(('Claudio', 'Fellow'))\": False, \"contains(('Claudio', 'Luc'))\": False, \"contains(('Claudio', 'Sirs'))\": False, \"contains(('Claudio', 'Var'))\": False, \"contains(('Climber', 'vpward'))\": False, \"contains(('Clit', 'Ile'))\": False, \"contains(('Clit', 'Now'))\": False, \"contains(('Clit', 'O'))\": False, \"contains(('Clit', 'Statillius'))\": False, \"contains(('Clitus', 'Strato'))\": False, \"contains(('Clitus', 'looke'))\": False, \"contains(('Clitus', 'slaying'))\": False, \"contains(('Cloakes', 'That'))\": False, \"contains(('Clocke', 'Bru'))\": False, \"contains(('Clocke', 'Cas'))\": False, \"contains(('Clocke', 'hath'))\": False, \"contains(('Clocke', 'strikes'))\": False, \"contains(('Closet', 'Sir'))\": False, \"contains(('Closset', 'tis'))\": False, \"contains(('Clouds', 'But'))\": False, \"contains(('Clouds', 'In'))\": False, \"contains(('Clouds', 'scorning'))\": False, \"contains(('Clowds', 'Dewes'))\": False, \"contains(('Coarse', 'Had'))\": False, \"contains(('Cob', 'A'))\": False, \"contains(('Cob', 'Why'))\": False, \"contains(('Cobl', 'Nay'))\": False, \"contains(('Cobl', 'Truely'))\": False, \"contains(('Cobler', 'Mur'))\": False, \"contains(('Cobler', 'art'))\": False, \"contains(('Coffers', 'fill'))\": False, \"contains(('Cogitations', 'Tell'))\": False, \"contains(('Cognisance', 'This'))\": False, \"contains(('Come', 'Brands'))\": False, \"contains(('Come', 'Caska'))\": False, \"contains(('Come', 'Cassius'))\": False, \"contains(('Come', 'I'))\": False, \"contains(('Come', 'come'))\": False, \"contains(('Come', 'ho'))\": False, \"contains(('Come', 'home'))\": False, \"contains(('Come', 'poore'))\": False, \"contains(('Come', 'therefore'))\": False, \"contains(('Comes', 'Caesar'))\": False, \"contains(('Comets', 'seen'))\": False, \"contains(('Commanders', 'Prepare'))\": False, \"contains(('Commanders', 'leade'))\": False, \"contains(('Comment', 'Bru'))\": False, \"contains(('Commoners', 'See'))\": False, \"contains(('Commoners', 'ouer'))\": False, \"contains(('Commons', 'Octa'))\": False, \"contains(('Commons', 'heare'))\": False, \"contains(('Companion', 'hence'))\": False, \"contains(('Concaue', 'Shores'))\": False, \"contains(('Conceptions', 'onely'))\": False, \"contains(('Condition', 'I'))\": False, \"contains(('Conditions', 'Bru'))\": False, \"contains(('Conference', 'As'))\": False, \"contains(('Conference', 'Let'))\": False, \"contains(('Conquest', 'brings'))\": False, \"contains(('Conquest', 'shall'))\": False, \"contains(('Conquest', 'stretcht'))\": False, \"contains(('Conquests', 'Glories'))\": False, \"contains(('Conspiracie', 'Hide'))\": False, \"contains(('Conspiracie', 'Sham'))\": False, \"contains(('Conspiracie', 'The'))\": False, \"contains(('Conspirator', '4'))\": False, \"contains(('Conspirator', 'Cinna'))\": False, \"contains(('Conspirators', 'Ant'))\": False, \"contains(('Conspirators', 'Cassius'))\": False, \"contains(('Conspirators', 'When'))\": False, \"contains(('Conspirators', 'saue'))\": False, \"contains(('Constancie', 'And'))\": False, \"contains(('Constancie', 'Giuing'))\": False, \"contains(('Contribution', 'The'))\": False, \"contains(('Contriuer', 'And'))\": False, \"contains(('Controuersie', 'But'))\": False, \"contains(('Couetous', 'To'))\": False, \"contains(('Councell', 'How'))\": False, \"contains(('Counsels', 'I'))\": False, \"contains(('Countenance', 'Meerely'))\": False, \"contains(('Countenance', 'like'))\": False, \"contains(('Countrey', 'If'))\": False, \"contains(('Country', '1'))\": False, \"contains(('Country', '2'))\": False, \"contains(('Country', 'O'))\": False, \"contains(('Country', 'Pindarus'))\": False, \"contains(('Country', 'liberty'))\": False, \"contains(('Countrymen', 'My'))\": False, \"contains(('Countrymen', 'Octa'))\": False, \"contains(('Countrymen', 'Then'))\": False, \"contains(('Countrymen', 'What'))\": False, \"contains(('Countrymen', 'lend'))\": False, \"contains(('Countrymen', 'let'))\": False, \"contains(('Countrymen', 'yet'))\": False, \"contains(('Courage', 'But'))\": False, \"contains(('Course', 'Calphurnia'))\": False, \"contains(('Coward', 'lippes'))\": False, \"contains(('Cowardice', 'Caesar'))\": False, \"contains(('Cowards', 'dye'))\": False, \"contains(('Creatures', 'get'))\": False, \"contains(('Crown', 'Therefore'))\": False, \"contains(('Crowne', 'Cask'))\": False, \"contains(('Crowne', 'Which'))\": False, \"contains(('Crowne', 'neyther'))\": False, \"contains(('Crowne', 'yet'))\": False, \"contains(('Cry', 'Caesar'))\": False, \"contains(('Cry', 'hauocke'))\": False, \"contains(('Cry', 'within'))\": False, \"contains(('Crying', 'long'))\": False, \"contains(('Cup', 'I'))\": False, \"contains(('Curre', 'behinde'))\": False, \"contains(('Curse', 'shall'))\": False, \"contains(('Cymber', 'Brut'))\": False, \"contains(('Cymber', 'Caes'))\": False, \"contains(('Cymber', 'Cassi'))\": False, \"contains(('Cymber', 'Decius'))\": False, \"contains(('Cymber', 'These'))\": False, \"contains(('Cymber', 'may'))\": False, \"contains(('Cymber', 'throwes'))\": False, \"contains(('Cyn', 'No'))\": False, \"contains(('Cynicke', 'rime'))\": False, \"contains(('Cynna', 'Antony'))\": False, \"contains(('Cynna', 'trust'))\": False, \"contains(('Dagger', 'And'))\": False, \"contains(('Dagger', 'Be'))\": False, \"contains(('Daggers', 'haue'))\": False, \"contains(('Danger', 'knowes'))\": False, \"contains(('Dangers', 'come'))\": False, \"contains(('Dar', 'thou'))\": False, \"contains(('Dard', 'O'))\": False, \"contains(('Dard', 'Shall'))\": False, \"contains(('Dard', 'To'))\": False, \"contains(('Dardanius', 'Clitus'))\": False, \"contains(('Darts', 'inuenomed'))\": False, \"contains(('Daughter', 'Thinke'))\": False, \"contains(('Day', 'Cask'))\": False, \"contains(('Day', 'breake'))\": False, \"contains(('Dec', 'And'))\": False, \"contains(('Dec', 'What'))\": False, \"contains(('Deci', 'Caesar'))\": False, \"contains(('Deci', 'I'))\": False, \"contains(('Deci', 'Most'))\": False, \"contains(('Deci', 'This'))\": False, \"contains(('Deci', 'Trebonius'))\": False, \"contains(('Deci', 'Where'))\": False, \"contains(('Decius', 'Calp'))\": False, \"contains(('Decius', 'Cicero'))\": False, \"contains(('Decius', 'Cinna'))\": False, \"contains(('Decius', 'Great'))\": False, \"contains(('Decius', 'Heere'))\": False, \"contains(('Decius', 'Here'))\": False, \"contains(('Decius', 'House'))\": False, \"contains(('Decius', 'Metellus'))\": False, \"contains(('Decius', 'Neuer'))\": False, \"contains(('Decius', 'Shall'))\": False, \"contains(('Decius', 'go'))\": False, \"contains(('Decius', 'well'))\": False, \"contains(('Decree', 'Into'))\": False, \"contains(('Deere', 'stroken'))\": False, \"contains(('Defiance', 'Traitors'))\": False, \"contains(('Depart', 'vntouch'))\": False, \"contains(('Descend', '3'))\": False, \"contains(('Desiring', 'thee'))\": False, \"contains(('Did', 'Cicero'))\": False, \"contains(('Did', 'loose'))\": False, \"contains(('Did', 'neede'))\": False, \"contains(('Did', 'run'))\": False, \"contains(('Dies', 'Alarum'))\": False, \"contains(('Dignities', 'Bru'))\": False, \"contains(('Dinner', 'worth'))\": False, \"contains(('Directly', 'I'))\": False, \"contains(('Dish', 'fit'))\": False, \"contains(('Dishonor', 'shall'))\": False, \"contains(('Diuell', 'That'))\": False, \"contains(('Do', 'grace'))\": False, \"contains(('Do', 'kisse'))\": False, \"contains(('Do', 'stand'))\": False, \"contains(('Doers', 'Enter'))\": False, \"contains(('Doing', 'himselfe'))\": False, \"contains(('Domesticke', 'Fury'))\": False, \"contains(('Doomesday', 'Bru'))\": False, \"contains(('Doore', 'Who'))\": False, \"contains(('Drachmaes', '2'))\": False, \"contains(('Dreame', 'The'))\": False, \"contains(('Dreamer', 'let'))\": False, \"contains(('Dreames', 'If'))\": False, \"contains(('Drinkes', 'Cas'))\": False, \"contains(('Durst', 'I'))\": False, \"contains(('Dwell', 'I'))\": False, \"contains(('Dyes', 'Alarum'))\": False, \"contains(('Dyes', 'Cin'))\": False, \"contains(('Eagles', 'fell'))\": False, \"contains(('Eares', 'And'))\": False, \"contains(('Earth', 'Haue'))\": False, \"contains(('Earth', 'Shakes'))\": False, \"contains(('Earth', 'That'))\": False, \"contains(('East', 'Stands'))\": False, \"contains(('East', 'doth'))\": False, \"contains(('Either', 'led'))\": False, \"contains(('Elder', 'Souldier'))\": False, \"contains(('Elders', 'say'))\": False, \"contains(('Element', 'Is'))\": False, \"contains(('Elements', 'So'))\": False, \"contains(('Else', 'shall'))\": False, \"contains(('Emulation', 'If'))\": False, \"contains(('Enemie', 'seeke'))\": False, \"contains(('Enemies', 'Go'))\": False, \"contains(('Enemies', 'haue'))\": False, \"contains(('Enemy', 'Cinna'))\": False, \"contains(('Enemy', 'Shall'))\": False, \"contains(('Enemy', 'This'))\": False, \"contains(('Enemy', 'Tit'))\": False, \"contains(('Enemy', 'comes'))\": False, \"contains(('Enemy', 'encreaseth'))\": False, \"contains(('Enemy', 'marching'))\": False, \"contains(('Enemy', 'would'))\": False, \"contains(('Enfranchisement', 'Bru'))\": False, \"contains(('Ensigne', 'Two'))\": False, \"contains(('Ensigne', 'heere'))\": False, \"contains(('Enter', 'Artemidorus'))\": False, \"contains(('Enter', 'Boy'))\": False, \"contains(('Enter', 'Calphurnia'))\": False, \"contains(('Enter', 'Caska'))\": False, \"contains(('Enter', 'Cassi'))\": False, \"contains(('Enter', 'Decius'))\": False, \"contains(('Enter', 'Enter'))\": False, \"contains(('Enter', 'Flauius'))\": False, \"contains(('Enter', 'Iulius'))\": False, \"contains(('Enter', 'Mark'))\": False, \"contains(('Enter', 'Octauio'))\": False, \"contains(('Enter', 'Octauius'))\": False, \"contains(('Enter', 'Seruant'))\": False, \"contains(('Enter', 'Souldiers'))\": False, \"contains(('Enter', 'Thunder'))\": False, \"contains(('Enter', 'Trebonius'))\": False, \"contains(('Enter', 'Varrus'))\": False, \"contains(('Enterprize', 'How'))\": False, \"contains(('Enterprize', 'Nor'))\": False, \"contains(('Enterprize', 'Of'))\": False, \"contains(('Entrailes', 'Low'))\": False, \"contains(('Enuious', 'Which'))\": False, \"contains(('Enuy', 'afterwards'))\": False, \"contains(('Epicurus', 'strong'))\": False, \"contains(('Ere', 'I'))\": False, \"contains(('Error', 'Melancholies'))\": False, \"contains(('Error', 'soone'))\": False, \"contains(('Et', 'Tu'))\": False, \"contains(('Euer', 'note'))\": False, \"contains(('Euery', 'thing'))\": False, \"contains(('Except', 'immortall'))\": False, \"contains(('Exeunt', 'Alarums'))\": False, \"contains(('Exeunt', 'Caesar'))\": False, \"contains(('Exeunt', 'Drum'))\": False, \"contains(('Exeunt', 'Giue'))\": False, \"contains(('Exeunt', 'Thunder'))\": False, \"contains(('Exeunt', 'omnes'))\": False, \"contains(('Exit', '1'))\": False, \"contains(('Exit', 'Brutus'))\": False, \"contains(('Exit', 'Cicero'))\": False, \"contains(('Exit', 'Cinna'))\": False, \"contains(('Exit', 'Enter'))\": False, \"contains(('Exit', 'Lepidus'))\": False, \"contains(('Exit', 'Octauius'))\": False, \"contains(('Exit', 'Plebeians'))\": False, \"contains(('Exit', 'Poet'))\": False, \"contains(('Exit', 'Por'))\": False, \"contains(('Exit', 'Portia'))\": False, \"contains(('Exit', 'Seruant'))\": False, \"contains(('Exorcist', 'hast'))\": False, \"contains(('Expedition', 'toward'))\": False, \"contains(('Eye', 'whose'))\": False, \"contains(('FINIS', 'THE'))\": False, \"contains(('Face', 'But'))\": False, \"contains(('Faces', 'buried'))\": False, \"contains(('Faction', 'O'))\": False, \"contains(('Faculties', 'To'))\": False, \"contains(('Faith', 'But'))\": False, \"contains(('Faith', 'So'))\": False, \"contains(('Falles', 'shrewdly'))\": False, \"contains(('Fantasie', 'I'))\": False, \"contains(('Fantasies', 'Which'))\": False, \"contains(('Fare', 'thee'))\": False, \"contains(('Farewell', 'Cicero'))\": False, \"contains(('Farewell', 'good'))\": False, \"contains(('Farwell', 'euery'))\": False, \"contains(('Fast', 'asleepe'))\": False, \"contains(('Fates', 'The'))\": False, \"contains(('Fathers', 'mindes'))\": False, \"contains(('Fathers', 'say'))\": False, \"contains(('Fault', 'And'))\": False, \"contains(('Fauors', 'like'))\": False, \"contains(('Feathers', 'pluckt'))\": False, \"contains(('Fellow', 'Cob'))\": False, \"contains(('Fellow', 'Enter'))\": False, \"contains(('Fellow', 'Thou'))\": False, \"contains(('Fellow', 'come'))\": False, \"contains(('Fellow', 'hence'))\": False, \"contains(('Fellow', 'one'))\": False, \"contains(('Fellow', 'wilt'))\": False, \"contains(('Field', 'I'))\": False, \"contains(('Field', 'If'))\": False, \"contains(('Field', 'Labio'))\": False, \"contains(('Field', 'Octa'))\": False, \"contains(('Field', 'This'))\": False, \"contains(('Fierce', 'fiery'))\": False, \"contains(('Fill', 'Lucius'))\": False, \"contains(('Firmament', 'The'))\": False, \"contains(('First', 'Marcus'))\": False, \"contains(('Fla', 'But'))\": False, \"contains(('Fla', 'Go'))\": False, \"contains(('Fla', 'It'))\": False, \"contains(('Fla', 'Thou'))\": False, \"contains(('Fla', 'What'))\": False, \"contains(('Flatterer', 'That'))\": False, \"contains(('Flatterers', 'But'))\": False, \"contains(('Flatterers', 'Cassi'))\": False, \"contains(('Flatterers', 'He'))\": False, \"contains(('Flatterers', 'Now'))\": False, \"contains(('Flatterers', 'would'))\": False, \"contains(('Flauio', 'set'))\": False, \"contains(('Flauius', 'Bru'))\": False, \"contains(('Flauius', 'Caes'))\": False, \"contains(('Flauius', 'Hence'))\": False, \"contains(('Flauius', 'Murellus'))\": False, \"contains(('Flint', 'I'))\": False, \"contains(('Flint', 'beares'))\": False, \"contains(('Flood', 'And'))\": False, \"contains(('Flood', 'But'))\": False, \"contains(('Flood', 'leades'))\": False, \"contains(('Flourish', 'Bru'))\": False, \"contains(('Flourish', 'Enter'))\": False, \"contains(('Fly', 'flye'))\": False, \"contains(('Fly', 'ore'))\": False, \"contains(('Flye', 'flye'))\": False, \"contains(('Flye', 'therefore'))\": False, \"contains(('Foes', 'Most'))\": False, \"contains(('Foole', 'That'))\": False, \"contains(('Foolerie', 'I'))\": False, \"contains(('Foolerie', 'yet'))\": False, \"contains(('Fooles', 'Companion'))\": False, \"contains(('Fooles', 'I'))\": False, \"contains(('For', 'Antony'))\": False, \"contains(('For', 'Cassius'))\": False, \"contains(('For', 'Tinctures'))\": False, \"contains(('For', 'feare'))\": False, \"contains(('For', 'let'))\": False, \"contains(('For', 'looke'))\": False, \"contains(('For', 'mine'))\": False, \"contains(('For', 'piercing'))\": False, \"contains(('For', 'shame'))\": False, \"contains(('For', 'taking'))\": False, \"contains(('For', 'wee'))\": False, \"contains(('Formes', 'Windowes'))\": False, \"contains(('Formost', 'man'))\": False, \"contains(('Fortunate', 'I'))\": False, \"contains(('Fortune', 'Honor'))\": False, \"contains(('Fortune', 'Omitted'))\": False, \"contains(('Fray', 'And'))\": False, \"contains(('Free', 'As'))\": False, \"contains(('Freedome', 'Tyranny'))\": False, \"contains(('Fret', 'till'))\": False, \"contains(('Friend', 'Cassi'))\": False, \"contains(('Friend', 'I'))\": False, \"contains(('Friend', 'Know'))\": False, \"contains(('Friend', 'Speake'))\": False, \"contains(('Friend', 'chew'))\": False, \"contains(('Friend', 'cooling'))\": False, \"contains(('Friend', 'demand'))\": False, \"contains(('Friend', 'faithfull'))\": False, \"contains(('Friend', 'tane'))\": False, \"contains(('Friends', 'Be'))\": False, \"contains(('Friends', 'Let'))\": False, \"contains(('Friends', 'Or'))\": False, \"contains(('Friends', 'Our'))\": False, \"contains(('Friends', 'Romans'))\": False, \"contains(('Friends', 'disperse'))\": False, \"contains(('Friends', 'go'))\": False, \"contains(('Friends', 'infirmities'))\": False, \"contains(('Friends', 'let'))\": False, \"contains(('Friends', 'made'))\": False, \"contains(('Friends', 'shall'))\": False, \"contains(('Friends', 'sweet'))\": False, \"contains(('Funerall', '1'))\": False, \"contains(('Funerall', 'And'))\": False, \"contains(('Funerall', 'Bru'))\": False, \"contains(('Funerall', 'He'))\": False, \"contains(('Funerall', 'Know'))\": False, \"contains(('Funerall', 'speech'))\": False, \"contains(('Funerals', 'shall'))\": False, \"contains(('Gamesom', 'I'))\": False, \"contains(('Gate', 'He'))\": False, \"contains(('Gaue', 'signe'))\": False, \"contains(('Generall', 'Brutus'))\": False, \"contains(('Generall', 'Cassi'))\": False, \"contains(('Generals', 'The'))\": False, \"contains(('Generals', 'There'))\": False, \"contains(('Generals', 'would'))\": False, \"contains(('Gentle', 'knaue'))\": False, \"contains(('Gentlemen', 'looke'))\": False, \"contains(('Ghost', 'I'))\": False, \"contains(('Ghost', 'Messa'))\": False, \"contains(('Ghost', 'Thy'))\": False, \"contains(('Ghost', 'To'))\": False, \"contains(('Ghosts', 'Why'))\": False}, 'Neutral')\n"
     ]
    }
   ],
   "source": [
    "print(\"Length of feature set (bigram) for Caesar = %d\" %len(caesar_featuresets2))\n",
    "print(\"Length of feature set (bigram) for Hamlet = %d\" %len(hamlet_featuresets2))\n",
    "print(caesar_featuresets2[0])"
   ]
  },
  {
   "cell_type": "code",
   "execution_count": 16,
   "metadata": {},
   "outputs": [
    {
     "name": "stdout",
     "output_type": "stream",
     "text": [
      "Accuracy for bigram feature-sets on Caesar corpus 0.6924528301886792\n",
      "Accuracy for bigram feature-sets on Hamlet corpus 0.6969941726521209\n"
     ]
    }
   ],
   "source": [
    "# Check the accuracy via the k-folds method\n",
    "caesar_classifier2, caesar_acc2 = ml_nb(caesar_featuresets2)\n",
    "hamlet_classifier2, hamlet_acc2 = ml_nb(hamlet_featuresets2)\n",
    "\n",
    "print('Accuracy for bigram feature-sets on Caesar corpus %s' %caesar_acc2)\n",
    "print('Accuracy for bigram feature-sets on Hamlet corpus %s' %hamlet_acc2)\n",
    "\n",
    "# NOTE:\n",
    "# Save the corresponding classifier object since we have better results ~70% \n",
    "# for both corpura"
   ]
  },
  {
   "cell_type": "code",
   "execution_count": 38,
   "metadata": {},
   "outputs": [
    {
     "name": "stdout",
     "output_type": "stream",
     "text": [
      "----Caesar predictions ----\n",
      "                                            Sentence    Book pos-sent  \\\n",
      "0  Layest thou thy Leaden Mace vpon my Boy,\\nThat...  Caesar        0   \n",
      "1  Gentle knaue good night:\\nI will not do thee s...  Caesar        0   \n",
      "2  Let me see, let me see; is not the Leafe turn'...  Caesar        0   \n",
      "3                              Heere it is I thinke.  Caesar        0   \n",
      "4                         Enter the Ghost of Caesar.  Caesar        0   \n",
      "\n",
      "  neg-sent neutral-sent  \n",
      "0        1            0  \n",
      "1        1            0  \n",
      "2        1            0  \n",
      "3        1            0  \n",
      "4        0            1  \n",
      "----Hamlet predictions ----\n",
      "                                            Sentence    Book pos-sent  \\\n",
      "0  So that with ease,\\nOr with a little shuffling...  Hamlet        0   \n",
      "1                                      I will doo't.  Hamlet        0   \n",
      "2  And for that purpose Ile annoint my Sword:\\nI ...  Hamlet        0   \n",
      "3  Let's further thinke of this,\\nWeigh what conu...  Hamlet        0   \n",
      "4                                      Enter Queene.  Hamlet        0   \n",
      "\n",
      "  neg-sent neutral-sent  \n",
      "0        0            1  \n",
      "1        0            1  \n",
      "2        1            0  \n",
      "3        0            1  \n",
      "4        0            1  \n"
     ]
    }
   ],
   "source": [
    "# Write classifier predictions to a csv\n",
    "# Form a test_data with bottom 20% of sentences\n",
    "\n",
    "def create_predictions_csv(book_name, classifer, book_sentences, bi_features):\n",
    "    test_len = int(0.2 * len(book_sentences))\n",
    "    sentences = book_sentences[-test_len:]\n",
    "\n",
    "    df_predict = pd.DataFrame(columns=['Sentence', 'Book', 'pos-sent', 'neg-sent', 'neutral-sent'])\n",
    "\n",
    "    for sents in sentences:\n",
    "        senti = caesar_classifier2.classify(bi_document_features(nltk.word_tokenize(sents), bi_features))\n",
    "        #adding items to the counter as they are classified\n",
    "        if senti.lower() == 'positive':\n",
    "            df_predict = df_predict.append({'Sentence': sents,\n",
    "                                            'Book': book_name, \n",
    "                                            'pos-sent': 1,\n",
    "                                            'neg-sent': 0,\n",
    "                                            'neutral-sent': 0}, ignore_index=True)\n",
    "\n",
    "        elif senti.lower() == 'negative':\n",
    "            df_predict = df_predict.append({'Sentence': sents,\n",
    "                                            'Book': book_name,\n",
    "                                            'pos-sent': 0,\n",
    "                                            'neg-sent': 1,\n",
    "                                            'neutral-sent': 0}, ignore_index=True)\n",
    "\n",
    "        else:\n",
    "            df_predict = df_predict.append({'Sentence': sents,\n",
    "                                            'Book': book_name,\n",
    "                                            'pos-sent': 0,\n",
    "                                            'neg-sent': 0,\n",
    "                                            'neutral-sent': 1}, ignore_index=True)\n",
    "\n",
    "    df_predict.to_csv('predictions.csv', index=False, mode='a')\n",
    "    print(df_predict.head())\n",
    "\n",
    "print('----Caesar predictions ----')\n",
    "create_predictions_csv('Caesar', caesar_classifier2, caesar_sentences, \n",
    "                       caesar_word_bi_features) \n",
    "print('----Hamlet predictions ----')\n",
    "create_predictions_csv('Hamlet', hamlet_classifier2, hamlet_sentences, \n",
    "                       hamlet_word_bi_features) "
   ]
  },
  {
   "cell_type": "code",
   "execution_count": 37,
   "metadata": {},
   "outputs": [],
   "source": [
    "# Next, let's analyze the top-50 adjective phrases, adverb phrases\n",
    "# & verb phrases in both the positive and negative sentences.\n",
    "\n",
    "caesar_sent_pos = []\n",
    "caesar_sent_neg = []\n",
    "caesar_sent_neu = []\n",
    "\n",
    "for sent, Sentiment in caesar_docs:\n",
    "    if Sentiment == 'Positive':\n",
    "        caesar_sent_pos.append(sent)\n",
    "    elif Sentiment == 'Negative':\n",
    "        caesar_sent_neg.append(sent)\n",
    "    elif Sentiment == 'Neutral':\n",
    "        caesar_sent_neu.append(sent)\n",
    "\n",
    "\n",
    "# Walk the positive/negative sentences and word tokenize it, before running\n",
    "# it through the pos_tag()\n",
    "caesar_tokens_pos = [nltk.word_tokenize(sent) for sent in caesar_sent_pos]\n",
    "caesar_tags_pos = [nltk.pos_tag(token) for token in caesar_tokens_pos]\n",
    "\n",
    "caesar_tokens_neg = [nltk.word_tokenize(sent) for sent in caesar_sent_neg]\n",
    "caesar_tags_neg = [nltk.pos_tag(token) for token in caesar_tokens_neg] "
   ]
  },
  {
   "cell_type": "code",
   "execution_count": null,
   "metadata": {
    "collapsed": true
   },
   "outputs": [],
   "source": [
    "# Utilizing code from HW-2, we will now call the same functions for \n",
    "# the analytics \n",
    "\n",
    "def top_tokens(taggedtext, pos_list):\n",
    "    _tokens = []\n",
    "    _words = []\n",
    "    for sentence in taggedtext:\n",
    "        for word, pos in sentence:\n",
    "            if pos in pos_list: \n",
    "                if len(word)>1:\n",
    "                    _tokens.append(word)\n",
    "    freq_pos = nltk.FreqDist(_tokens)\n",
    "\n",
    "    for word, freq in freq_pos.most_common(50):\n",
    "        print(word,freq)\n",
    "        _words.append(word)\n",
    "    return(_words)\n",
    "        \n",
    "# Stats for Caesar data:\n",
    "# Top 50 adjective tokens\n",
    "print('Top 50 Adjective tokens (positive):')\n",
    "adj_pos = top_tokens(caesar_tags_pos, ['JJ', 'JJR', 'JJS'])\n",
    "\n",
    "print('Top 50 Adjective tokens (negative):')\n",
    "adj_neg = top_tokens(caesar_tags_neg, ['JJ', 'JJR', 'JJS'])\n",
    "\n",
    "# Top 50 adverb tokens\n",
    "print('Top 50 Adverb tokens (positive):')\n",
    "adv_pos = top_tokens(caesar_tags_pos, ['RB', 'RBR', 'RBS'])\n",
    "\n",
    "print('Top 50 Adverb tokens (negative):')\n",
    "adv_neg = top_tokens(caesar_tags_neg, ['RB', 'RBR', 'RBS'])\n",
    "\n",
    "print('Top 50 Noun tokens: (positive)')\n",
    "noun_pos = top_tokens(caesar_tags_pos, ['NN', 'NNS', 'NNP', 'NNPS']) #Noun, Noun-plural, Noun-Proper, Noun-Proper-plural\n",
    "print('Top 50 Noun tokens: (negative)')\n",
    "noun_neg = top_tokens(caesar_tags_neg, ['NN', 'NNS', 'NNP', 'NNPS'])\n",
    "\n",
    "\n",
    "print('\\nTop 50 Verb tokens: (positive)')\n",
    "ver_pos = top_tokens(caesar_tags_pos, ['VB', 'VBD', 'VBG', 'VBP', 'VBZ']) # Verb, Verb-past-tense, Verb-present participle,\n",
    "                                                              # Verb-past participle, singular present (non-3rd)\n",
    "                                                              # singular present (3rd)\n",
    "print('Top 50 Verb tokens: (negative)')\n",
    "ver_neg = top_tokens(caesar_tags_neg, ['VB', 'VBD', 'VBG', 'VBP', 'VBZ'])"
   ]
  },
  {
   "cell_type": "code",
   "execution_count": null,
   "metadata": {},
   "outputs": [],
   "source": [
    "hamlet_sent_pos = []\n",
    "hamlet_sent_neg = []\n",
    "hamlet_sent_neu = []\n",
    "\n",
    "for sent, Sentiment in hamlet_docs:\n",
    "    if Sentiment == 'Positive':\n",
    "        hamlet_sent_pos.append(sent)\n",
    "    elif Sentiment == 'Negative':\n",
    "        hamlet_sent_neg.append(sent)\n",
    "    elif Sentiment == 'Neutral':\n",
    "        hamlet_sent_neu.append(sent)\n",
    "\n",
    "\n",
    "# Walk the positive/negative sentences and word tokenize it, before running\n",
    "# it through the pos_tag()\n",
    "hamlet_tokens_pos = [nltk.word_tokenize(sent) for sent in hamlet_sent_pos]\n",
    "hamlet_tags_pos = [nltk.pos_tag(token) for token in hamlet_tokens_pos]\n",
    "\n",
    "hamlet_tokens_neg = [nltk.word_tokenize(sent) for sent in hamlet_sent_neg]\n",
    "hamlet_tags_neg = [nltk.pos_tag(token) for token in hamlet_tokens_neg] "
   ]
  },
  {
   "cell_type": "code",
   "execution_count": null,
   "metadata": {},
   "outputs": [],
   "source": [
    "# Stats for Hamlet data:\n",
    "# Top 50 adjective tokens\n",
    "print('Top 50 Adjective tokens (positive):')\n",
    "h_adj_pos = top_tokens(hamlet_tags_pos, ['JJ', 'JJR', 'JJS'])\n",
    "\n",
    "print('Top 50 Adjective tokens (negative):')\n",
    "h_adj_neg = top_tokens(hamlet_tags_neg, ['JJ', 'JJR', 'JJS'])\n",
    "\n",
    "# Top 50 adverb tokens\n",
    "print('Top 50 Adverb tokens (positive):')\n",
    "h_adv_pos = top_tokens(hamlet_tags_pos, ['RB', 'RBR', 'RBS'])\n",
    "\n",
    "print('Top 50 Adverb tokens (negative):')\n",
    "h_adv_neg = top_tokens(hamlet_tags_neg, ['RB', 'RBR', 'RBS'])\n",
    "\n",
    "print('Top 50 Noun tokens: (positive)')\n",
    "h_noun_pos = top_tokens(hamlet_tags_pos, ['NN', 'NNS', 'NNP', 'NNPS']) #Noun, Noun-plural, Noun-Proper, Noun-Proper-plural\n",
    "print('Top 50 Noun tokens: (negative)')\n",
    "h_noun_neg = top_tokens(hamlet_tags_neg, ['NN', 'NNS', 'NNP', 'NNPS'])\n",
    "\n",
    "\n",
    "print('\\nTop 50 Verb tokens: (positive)')\n",
    "h_verb_pos = top_tokens(hamlet_tags_pos, ['VB', 'VBD', 'VBG', 'VBP', 'VBZ']) # Verb, Verb-past-tense, Verb-present participle,\n",
    "                                                              # Verb-past participle, singular present (non-3rd)\n",
    "                                                              # singular present (3rd)\n",
    "print('Top 50 Verb tokens: (negative)')\n",
    "h_verb_neg = top_tokens(hamlet_tags_neg, ['VB', 'VBD', 'VBG', 'VBP', 'VBZ'])"
   ]
  },
  {
   "cell_type": "code",
   "execution_count": null,
   "metadata": {},
   "outputs": [],
   "source": [
    "print(set(adj_pos) - set(h_adj_pos))\n",
    "print(set(adj_neg) - set(h_adj_neg))\n",
    "print(set(h_adj_neg) - set(adj_neg))\n",
    "print(set(noun_pos) - set(h_noun_pos))\n",
    "print(set(h_noun_pos) - set(noun_pos))\n",
    "print(set(h_verb_neg) - set(ver_neg))\n",
    "print(set(ver_neg) - set(h_verb_neg))"
   ]
  }
 ],
 "metadata": {
  "kernelspec": {
   "display_name": "Python 3",
   "language": "python",
   "name": "python3"
  },
  "language_info": {
   "codemirror_mode": {
    "name": "ipython",
    "version": 3
   },
   "file_extension": ".py",
   "mimetype": "text/x-python",
   "name": "python",
   "nbconvert_exporter": "python",
   "pygments_lexer": "ipython3",
   "version": "3.8.3"
  }
 },
 "nbformat": 4,
 "nbformat_minor": 2
}

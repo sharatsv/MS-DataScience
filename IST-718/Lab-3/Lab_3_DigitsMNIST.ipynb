{
  "nbformat": 4,
  "nbformat_minor": 0,
  "metadata": {
    "colab": {
      "name": "Lab-3-DigitsMNIST.ipynb",
      "provenance": [],
      "collapsed_sections": []
    },
    "kernelspec": {
      "name": "python3",
      "display_name": "Python 3"
    },
    "widgets": {
      "application/vnd.jupyter.widget-state+json": {
        "9490315267364728a68687defbfd7978": {
          "model_module": "@jupyter-widgets/controls",
          "model_name": "HBoxModel",
          "state": {
            "_view_name": "HBoxView",
            "_dom_classes": [],
            "_model_name": "HBoxModel",
            "_view_module": "@jupyter-widgets/controls",
            "_model_module_version": "1.5.0",
            "_view_count": null,
            "_view_module_version": "1.5.0",
            "box_style": "",
            "layout": "IPY_MODEL_917a47ae5230434e9f75382936764d69",
            "_model_module": "@jupyter-widgets/controls",
            "children": [
              "IPY_MODEL_68857c01291e49da87459d7b8b5f443f",
              "IPY_MODEL_927a7905d1f343d2886cdbf1c00d2166"
            ]
          }
        },
        "917a47ae5230434e9f75382936764d69": {
          "model_module": "@jupyter-widgets/base",
          "model_name": "LayoutModel",
          "state": {
            "_view_name": "LayoutView",
            "grid_template_rows": null,
            "right": null,
            "justify_content": null,
            "_view_module": "@jupyter-widgets/base",
            "overflow": null,
            "_model_module_version": "1.2.0",
            "_view_count": null,
            "flex_flow": null,
            "width": null,
            "min_width": null,
            "border": null,
            "align_items": null,
            "bottom": null,
            "_model_module": "@jupyter-widgets/base",
            "top": null,
            "grid_column": null,
            "overflow_y": null,
            "overflow_x": null,
            "grid_auto_flow": null,
            "grid_area": null,
            "grid_template_columns": null,
            "flex": null,
            "_model_name": "LayoutModel",
            "justify_items": null,
            "grid_row": null,
            "max_height": null,
            "align_content": null,
            "visibility": null,
            "align_self": null,
            "height": null,
            "min_height": null,
            "padding": null,
            "grid_auto_rows": null,
            "grid_gap": null,
            "max_width": null,
            "order": null,
            "_view_module_version": "1.2.0",
            "grid_template_areas": null,
            "object_position": null,
            "object_fit": null,
            "grid_auto_columns": null,
            "margin": null,
            "display": null,
            "left": null
          }
        },
        "68857c01291e49da87459d7b8b5f443f": {
          "model_module": "@jupyter-widgets/controls",
          "model_name": "FloatProgressModel",
          "state": {
            "_view_name": "ProgressView",
            "style": "IPY_MODEL_452d90a44ca84279bf14083376ec0616",
            "_dom_classes": [],
            "description": "",
            "_model_name": "FloatProgressModel",
            "bar_style": "success",
            "max": 9912422,
            "_view_module": "@jupyter-widgets/controls",
            "_model_module_version": "1.5.0",
            "value": 9912422,
            "_view_count": null,
            "_view_module_version": "1.5.0",
            "orientation": "horizontal",
            "min": 0,
            "description_tooltip": null,
            "_model_module": "@jupyter-widgets/controls",
            "layout": "IPY_MODEL_c408cfb2cfc247c59176615b704330ac"
          }
        },
        "927a7905d1f343d2886cdbf1c00d2166": {
          "model_module": "@jupyter-widgets/controls",
          "model_name": "HTMLModel",
          "state": {
            "_view_name": "HTMLView",
            "style": "IPY_MODEL_bdfde11797d94f9da12af1ea8cabfe41",
            "_dom_classes": [],
            "description": "",
            "_model_name": "HTMLModel",
            "placeholder": "​",
            "_view_module": "@jupyter-widgets/controls",
            "_model_module_version": "1.5.0",
            "value": " 9913344/? [06:26&lt;00:00, 25675.94it/s]",
            "_view_count": null,
            "_view_module_version": "1.5.0",
            "description_tooltip": null,
            "_model_module": "@jupyter-widgets/controls",
            "layout": "IPY_MODEL_c8fdb80a3dbe4044867ece8e2272c334"
          }
        },
        "452d90a44ca84279bf14083376ec0616": {
          "model_module": "@jupyter-widgets/controls",
          "model_name": "ProgressStyleModel",
          "state": {
            "_view_name": "StyleView",
            "_model_name": "ProgressStyleModel",
            "description_width": "initial",
            "_view_module": "@jupyter-widgets/base",
            "_model_module_version": "1.5.0",
            "_view_count": null,
            "_view_module_version": "1.2.0",
            "bar_color": null,
            "_model_module": "@jupyter-widgets/controls"
          }
        },
        "c408cfb2cfc247c59176615b704330ac": {
          "model_module": "@jupyter-widgets/base",
          "model_name": "LayoutModel",
          "state": {
            "_view_name": "LayoutView",
            "grid_template_rows": null,
            "right": null,
            "justify_content": null,
            "_view_module": "@jupyter-widgets/base",
            "overflow": null,
            "_model_module_version": "1.2.0",
            "_view_count": null,
            "flex_flow": null,
            "width": null,
            "min_width": null,
            "border": null,
            "align_items": null,
            "bottom": null,
            "_model_module": "@jupyter-widgets/base",
            "top": null,
            "grid_column": null,
            "overflow_y": null,
            "overflow_x": null,
            "grid_auto_flow": null,
            "grid_area": null,
            "grid_template_columns": null,
            "flex": null,
            "_model_name": "LayoutModel",
            "justify_items": null,
            "grid_row": null,
            "max_height": null,
            "align_content": null,
            "visibility": null,
            "align_self": null,
            "height": null,
            "min_height": null,
            "padding": null,
            "grid_auto_rows": null,
            "grid_gap": null,
            "max_width": null,
            "order": null,
            "_view_module_version": "1.2.0",
            "grid_template_areas": null,
            "object_position": null,
            "object_fit": null,
            "grid_auto_columns": null,
            "margin": null,
            "display": null,
            "left": null
          }
        },
        "bdfde11797d94f9da12af1ea8cabfe41": {
          "model_module": "@jupyter-widgets/controls",
          "model_name": "DescriptionStyleModel",
          "state": {
            "_view_name": "StyleView",
            "_model_name": "DescriptionStyleModel",
            "description_width": "",
            "_view_module": "@jupyter-widgets/base",
            "_model_module_version": "1.5.0",
            "_view_count": null,
            "_view_module_version": "1.2.0",
            "_model_module": "@jupyter-widgets/controls"
          }
        },
        "c8fdb80a3dbe4044867ece8e2272c334": {
          "model_module": "@jupyter-widgets/base",
          "model_name": "LayoutModel",
          "state": {
            "_view_name": "LayoutView",
            "grid_template_rows": null,
            "right": null,
            "justify_content": null,
            "_view_module": "@jupyter-widgets/base",
            "overflow": null,
            "_model_module_version": "1.2.0",
            "_view_count": null,
            "flex_flow": null,
            "width": null,
            "min_width": null,
            "border": null,
            "align_items": null,
            "bottom": null,
            "_model_module": "@jupyter-widgets/base",
            "top": null,
            "grid_column": null,
            "overflow_y": null,
            "overflow_x": null,
            "grid_auto_flow": null,
            "grid_area": null,
            "grid_template_columns": null,
            "flex": null,
            "_model_name": "LayoutModel",
            "justify_items": null,
            "grid_row": null,
            "max_height": null,
            "align_content": null,
            "visibility": null,
            "align_self": null,
            "height": null,
            "min_height": null,
            "padding": null,
            "grid_auto_rows": null,
            "grid_gap": null,
            "max_width": null,
            "order": null,
            "_view_module_version": "1.2.0",
            "grid_template_areas": null,
            "object_position": null,
            "object_fit": null,
            "grid_auto_columns": null,
            "margin": null,
            "display": null,
            "left": null
          }
        },
        "9e86a93738f746589c3ee12d09840aef": {
          "model_module": "@jupyter-widgets/controls",
          "model_name": "HBoxModel",
          "state": {
            "_view_name": "HBoxView",
            "_dom_classes": [],
            "_model_name": "HBoxModel",
            "_view_module": "@jupyter-widgets/controls",
            "_model_module_version": "1.5.0",
            "_view_count": null,
            "_view_module_version": "1.5.0",
            "box_style": "",
            "layout": "IPY_MODEL_5ce4d34281744cf08a58114eaa332682",
            "_model_module": "@jupyter-widgets/controls",
            "children": [
              "IPY_MODEL_f56efb88aa434db1a387e8642d73ba41",
              "IPY_MODEL_0a279c45786349f98153117918fc112d"
            ]
          }
        },
        "5ce4d34281744cf08a58114eaa332682": {
          "model_module": "@jupyter-widgets/base",
          "model_name": "LayoutModel",
          "state": {
            "_view_name": "LayoutView",
            "grid_template_rows": null,
            "right": null,
            "justify_content": null,
            "_view_module": "@jupyter-widgets/base",
            "overflow": null,
            "_model_module_version": "1.2.0",
            "_view_count": null,
            "flex_flow": null,
            "width": null,
            "min_width": null,
            "border": null,
            "align_items": null,
            "bottom": null,
            "_model_module": "@jupyter-widgets/base",
            "top": null,
            "grid_column": null,
            "overflow_y": null,
            "overflow_x": null,
            "grid_auto_flow": null,
            "grid_area": null,
            "grid_template_columns": null,
            "flex": null,
            "_model_name": "LayoutModel",
            "justify_items": null,
            "grid_row": null,
            "max_height": null,
            "align_content": null,
            "visibility": null,
            "align_self": null,
            "height": null,
            "min_height": null,
            "padding": null,
            "grid_auto_rows": null,
            "grid_gap": null,
            "max_width": null,
            "order": null,
            "_view_module_version": "1.2.0",
            "grid_template_areas": null,
            "object_position": null,
            "object_fit": null,
            "grid_auto_columns": null,
            "margin": null,
            "display": null,
            "left": null
          }
        },
        "f56efb88aa434db1a387e8642d73ba41": {
          "model_module": "@jupyter-widgets/controls",
          "model_name": "FloatProgressModel",
          "state": {
            "_view_name": "ProgressView",
            "style": "IPY_MODEL_53c47cd69b4f474d890c4c3625961fef",
            "_dom_classes": [],
            "description": "",
            "_model_name": "FloatProgressModel",
            "bar_style": "success",
            "max": 28881,
            "_view_module": "@jupyter-widgets/controls",
            "_model_module_version": "1.5.0",
            "value": 28881,
            "_view_count": null,
            "_view_module_version": "1.5.0",
            "orientation": "horizontal",
            "min": 0,
            "description_tooltip": null,
            "_model_module": "@jupyter-widgets/controls",
            "layout": "IPY_MODEL_170e10639f7d4e9da94b55857939b14b"
          }
        },
        "0a279c45786349f98153117918fc112d": {
          "model_module": "@jupyter-widgets/controls",
          "model_name": "HTMLModel",
          "state": {
            "_view_name": "HTMLView",
            "style": "IPY_MODEL_7be16f7a4e2d4fa8a1356da588365255",
            "_dom_classes": [],
            "description": "",
            "_model_name": "HTMLModel",
            "placeholder": "​",
            "_view_module": "@jupyter-widgets/controls",
            "_model_module_version": "1.5.0",
            "value": " 29696/? [01:42&lt;00:00, 288.47it/s]",
            "_view_count": null,
            "_view_module_version": "1.5.0",
            "description_tooltip": null,
            "_model_module": "@jupyter-widgets/controls",
            "layout": "IPY_MODEL_dd7b3d225b7d4d8aae3c616167a2e797"
          }
        },
        "53c47cd69b4f474d890c4c3625961fef": {
          "model_module": "@jupyter-widgets/controls",
          "model_name": "ProgressStyleModel",
          "state": {
            "_view_name": "StyleView",
            "_model_name": "ProgressStyleModel",
            "description_width": "initial",
            "_view_module": "@jupyter-widgets/base",
            "_model_module_version": "1.5.0",
            "_view_count": null,
            "_view_module_version": "1.2.0",
            "bar_color": null,
            "_model_module": "@jupyter-widgets/controls"
          }
        },
        "170e10639f7d4e9da94b55857939b14b": {
          "model_module": "@jupyter-widgets/base",
          "model_name": "LayoutModel",
          "state": {
            "_view_name": "LayoutView",
            "grid_template_rows": null,
            "right": null,
            "justify_content": null,
            "_view_module": "@jupyter-widgets/base",
            "overflow": null,
            "_model_module_version": "1.2.0",
            "_view_count": null,
            "flex_flow": null,
            "width": null,
            "min_width": null,
            "border": null,
            "align_items": null,
            "bottom": null,
            "_model_module": "@jupyter-widgets/base",
            "top": null,
            "grid_column": null,
            "overflow_y": null,
            "overflow_x": null,
            "grid_auto_flow": null,
            "grid_area": null,
            "grid_template_columns": null,
            "flex": null,
            "_model_name": "LayoutModel",
            "justify_items": null,
            "grid_row": null,
            "max_height": null,
            "align_content": null,
            "visibility": null,
            "align_self": null,
            "height": null,
            "min_height": null,
            "padding": null,
            "grid_auto_rows": null,
            "grid_gap": null,
            "max_width": null,
            "order": null,
            "_view_module_version": "1.2.0",
            "grid_template_areas": null,
            "object_position": null,
            "object_fit": null,
            "grid_auto_columns": null,
            "margin": null,
            "display": null,
            "left": null
          }
        },
        "7be16f7a4e2d4fa8a1356da588365255": {
          "model_module": "@jupyter-widgets/controls",
          "model_name": "DescriptionStyleModel",
          "state": {
            "_view_name": "StyleView",
            "_model_name": "DescriptionStyleModel",
            "description_width": "",
            "_view_module": "@jupyter-widgets/base",
            "_model_module_version": "1.5.0",
            "_view_count": null,
            "_view_module_version": "1.2.0",
            "_model_module": "@jupyter-widgets/controls"
          }
        },
        "dd7b3d225b7d4d8aae3c616167a2e797": {
          "model_module": "@jupyter-widgets/base",
          "model_name": "LayoutModel",
          "state": {
            "_view_name": "LayoutView",
            "grid_template_rows": null,
            "right": null,
            "justify_content": null,
            "_view_module": "@jupyter-widgets/base",
            "overflow": null,
            "_model_module_version": "1.2.0",
            "_view_count": null,
            "flex_flow": null,
            "width": null,
            "min_width": null,
            "border": null,
            "align_items": null,
            "bottom": null,
            "_model_module": "@jupyter-widgets/base",
            "top": null,
            "grid_column": null,
            "overflow_y": null,
            "overflow_x": null,
            "grid_auto_flow": null,
            "grid_area": null,
            "grid_template_columns": null,
            "flex": null,
            "_model_name": "LayoutModel",
            "justify_items": null,
            "grid_row": null,
            "max_height": null,
            "align_content": null,
            "visibility": null,
            "align_self": null,
            "height": null,
            "min_height": null,
            "padding": null,
            "grid_auto_rows": null,
            "grid_gap": null,
            "max_width": null,
            "order": null,
            "_view_module_version": "1.2.0",
            "grid_template_areas": null,
            "object_position": null,
            "object_fit": null,
            "grid_auto_columns": null,
            "margin": null,
            "display": null,
            "left": null
          }
        },
        "a7560cc9cf3b4eec9da0ed176feed05d": {
          "model_module": "@jupyter-widgets/controls",
          "model_name": "HBoxModel",
          "state": {
            "_view_name": "HBoxView",
            "_dom_classes": [],
            "_model_name": "HBoxModel",
            "_view_module": "@jupyter-widgets/controls",
            "_model_module_version": "1.5.0",
            "_view_count": null,
            "_view_module_version": "1.5.0",
            "box_style": "",
            "layout": "IPY_MODEL_78f91b84ac284da183e46ea9d03746be",
            "_model_module": "@jupyter-widgets/controls",
            "children": [
              "IPY_MODEL_d478b40a661547f3be05011d32f4bca7",
              "IPY_MODEL_41aa2de34e164e3d8efd1948c60d0919"
            ]
          }
        },
        "78f91b84ac284da183e46ea9d03746be": {
          "model_module": "@jupyter-widgets/base",
          "model_name": "LayoutModel",
          "state": {
            "_view_name": "LayoutView",
            "grid_template_rows": null,
            "right": null,
            "justify_content": null,
            "_view_module": "@jupyter-widgets/base",
            "overflow": null,
            "_model_module_version": "1.2.0",
            "_view_count": null,
            "flex_flow": null,
            "width": null,
            "min_width": null,
            "border": null,
            "align_items": null,
            "bottom": null,
            "_model_module": "@jupyter-widgets/base",
            "top": null,
            "grid_column": null,
            "overflow_y": null,
            "overflow_x": null,
            "grid_auto_flow": null,
            "grid_area": null,
            "grid_template_columns": null,
            "flex": null,
            "_model_name": "LayoutModel",
            "justify_items": null,
            "grid_row": null,
            "max_height": null,
            "align_content": null,
            "visibility": null,
            "align_self": null,
            "height": null,
            "min_height": null,
            "padding": null,
            "grid_auto_rows": null,
            "grid_gap": null,
            "max_width": null,
            "order": null,
            "_view_module_version": "1.2.0",
            "grid_template_areas": null,
            "object_position": null,
            "object_fit": null,
            "grid_auto_columns": null,
            "margin": null,
            "display": null,
            "left": null
          }
        },
        "d478b40a661547f3be05011d32f4bca7": {
          "model_module": "@jupyter-widgets/controls",
          "model_name": "FloatProgressModel",
          "state": {
            "_view_name": "ProgressView",
            "style": "IPY_MODEL_b6e6cd1740a7430ba3a880f6a07abeb1",
            "_dom_classes": [],
            "description": "",
            "_model_name": "FloatProgressModel",
            "bar_style": "success",
            "max": 1648877,
            "_view_module": "@jupyter-widgets/controls",
            "_model_module_version": "1.5.0",
            "value": 1648877,
            "_view_count": null,
            "_view_module_version": "1.5.0",
            "orientation": "horizontal",
            "min": 0,
            "description_tooltip": null,
            "_model_module": "@jupyter-widgets/controls",
            "layout": "IPY_MODEL_7c0e1b8f1a6d4773b1ef1debe35df821"
          }
        },
        "41aa2de34e164e3d8efd1948c60d0919": {
          "model_module": "@jupyter-widgets/controls",
          "model_name": "HTMLModel",
          "state": {
            "_view_name": "HTMLView",
            "style": "IPY_MODEL_0b1e9debc1ce48d3808a69891df6de01",
            "_dom_classes": [],
            "description": "",
            "_model_name": "HTMLModel",
            "placeholder": "​",
            "_view_module": "@jupyter-widgets/controls",
            "_model_module_version": "1.5.0",
            "value": " 1649664/? [00:51&lt;00:00, 32141.00it/s]",
            "_view_count": null,
            "_view_module_version": "1.5.0",
            "description_tooltip": null,
            "_model_module": "@jupyter-widgets/controls",
            "layout": "IPY_MODEL_26009f122c984536ab1c8c06aeefd6d7"
          }
        },
        "b6e6cd1740a7430ba3a880f6a07abeb1": {
          "model_module": "@jupyter-widgets/controls",
          "model_name": "ProgressStyleModel",
          "state": {
            "_view_name": "StyleView",
            "_model_name": "ProgressStyleModel",
            "description_width": "initial",
            "_view_module": "@jupyter-widgets/base",
            "_model_module_version": "1.5.0",
            "_view_count": null,
            "_view_module_version": "1.2.0",
            "bar_color": null,
            "_model_module": "@jupyter-widgets/controls"
          }
        },
        "7c0e1b8f1a6d4773b1ef1debe35df821": {
          "model_module": "@jupyter-widgets/base",
          "model_name": "LayoutModel",
          "state": {
            "_view_name": "LayoutView",
            "grid_template_rows": null,
            "right": null,
            "justify_content": null,
            "_view_module": "@jupyter-widgets/base",
            "overflow": null,
            "_model_module_version": "1.2.0",
            "_view_count": null,
            "flex_flow": null,
            "width": null,
            "min_width": null,
            "border": null,
            "align_items": null,
            "bottom": null,
            "_model_module": "@jupyter-widgets/base",
            "top": null,
            "grid_column": null,
            "overflow_y": null,
            "overflow_x": null,
            "grid_auto_flow": null,
            "grid_area": null,
            "grid_template_columns": null,
            "flex": null,
            "_model_name": "LayoutModel",
            "justify_items": null,
            "grid_row": null,
            "max_height": null,
            "align_content": null,
            "visibility": null,
            "align_self": null,
            "height": null,
            "min_height": null,
            "padding": null,
            "grid_auto_rows": null,
            "grid_gap": null,
            "max_width": null,
            "order": null,
            "_view_module_version": "1.2.0",
            "grid_template_areas": null,
            "object_position": null,
            "object_fit": null,
            "grid_auto_columns": null,
            "margin": null,
            "display": null,
            "left": null
          }
        },
        "0b1e9debc1ce48d3808a69891df6de01": {
          "model_module": "@jupyter-widgets/controls",
          "model_name": "DescriptionStyleModel",
          "state": {
            "_view_name": "StyleView",
            "_model_name": "DescriptionStyleModel",
            "description_width": "",
            "_view_module": "@jupyter-widgets/base",
            "_model_module_version": "1.5.0",
            "_view_count": null,
            "_view_module_version": "1.2.0",
            "_model_module": "@jupyter-widgets/controls"
          }
        },
        "26009f122c984536ab1c8c06aeefd6d7": {
          "model_module": "@jupyter-widgets/base",
          "model_name": "LayoutModel",
          "state": {
            "_view_name": "LayoutView",
            "grid_template_rows": null,
            "right": null,
            "justify_content": null,
            "_view_module": "@jupyter-widgets/base",
            "overflow": null,
            "_model_module_version": "1.2.0",
            "_view_count": null,
            "flex_flow": null,
            "width": null,
            "min_width": null,
            "border": null,
            "align_items": null,
            "bottom": null,
            "_model_module": "@jupyter-widgets/base",
            "top": null,
            "grid_column": null,
            "overflow_y": null,
            "overflow_x": null,
            "grid_auto_flow": null,
            "grid_area": null,
            "grid_template_columns": null,
            "flex": null,
            "_model_name": "LayoutModel",
            "justify_items": null,
            "grid_row": null,
            "max_height": null,
            "align_content": null,
            "visibility": null,
            "align_self": null,
            "height": null,
            "min_height": null,
            "padding": null,
            "grid_auto_rows": null,
            "grid_gap": null,
            "max_width": null,
            "order": null,
            "_view_module_version": "1.2.0",
            "grid_template_areas": null,
            "object_position": null,
            "object_fit": null,
            "grid_auto_columns": null,
            "margin": null,
            "display": null,
            "left": null
          }
        },
        "7ec6d9f54908471dae2344136af9f9a2": {
          "model_module": "@jupyter-widgets/controls",
          "model_name": "HBoxModel",
          "state": {
            "_view_name": "HBoxView",
            "_dom_classes": [],
            "_model_name": "HBoxModel",
            "_view_module": "@jupyter-widgets/controls",
            "_model_module_version": "1.5.0",
            "_view_count": null,
            "_view_module_version": "1.5.0",
            "box_style": "",
            "layout": "IPY_MODEL_12a0a839327c4178a34dda2e86b32f01",
            "_model_module": "@jupyter-widgets/controls",
            "children": [
              "IPY_MODEL_d57bddbecba345f1a41f499658da27de",
              "IPY_MODEL_807df53fa7ca4f9380ff12049dd09e77"
            ]
          }
        },
        "12a0a839327c4178a34dda2e86b32f01": {
          "model_module": "@jupyter-widgets/base",
          "model_name": "LayoutModel",
          "state": {
            "_view_name": "LayoutView",
            "grid_template_rows": null,
            "right": null,
            "justify_content": null,
            "_view_module": "@jupyter-widgets/base",
            "overflow": null,
            "_model_module_version": "1.2.0",
            "_view_count": null,
            "flex_flow": null,
            "width": null,
            "min_width": null,
            "border": null,
            "align_items": null,
            "bottom": null,
            "_model_module": "@jupyter-widgets/base",
            "top": null,
            "grid_column": null,
            "overflow_y": null,
            "overflow_x": null,
            "grid_auto_flow": null,
            "grid_area": null,
            "grid_template_columns": null,
            "flex": null,
            "_model_name": "LayoutModel",
            "justify_items": null,
            "grid_row": null,
            "max_height": null,
            "align_content": null,
            "visibility": null,
            "align_self": null,
            "height": null,
            "min_height": null,
            "padding": null,
            "grid_auto_rows": null,
            "grid_gap": null,
            "max_width": null,
            "order": null,
            "_view_module_version": "1.2.0",
            "grid_template_areas": null,
            "object_position": null,
            "object_fit": null,
            "grid_auto_columns": null,
            "margin": null,
            "display": null,
            "left": null
          }
        },
        "d57bddbecba345f1a41f499658da27de": {
          "model_module": "@jupyter-widgets/controls",
          "model_name": "FloatProgressModel",
          "state": {
            "_view_name": "ProgressView",
            "style": "IPY_MODEL_da50d62065b04455992a1e0ee1301bcf",
            "_dom_classes": [],
            "description": "",
            "_model_name": "FloatProgressModel",
            "bar_style": "success",
            "max": 4542,
            "_view_module": "@jupyter-widgets/controls",
            "_model_module_version": "1.5.0",
            "value": 4542,
            "_view_count": null,
            "_view_module_version": "1.5.0",
            "orientation": "horizontal",
            "min": 0,
            "description_tooltip": null,
            "_model_module": "@jupyter-widgets/controls",
            "layout": "IPY_MODEL_f76b7f5cfffc4d6f9ef4b99447cb3aff"
          }
        },
        "807df53fa7ca4f9380ff12049dd09e77": {
          "model_module": "@jupyter-widgets/controls",
          "model_name": "HTMLModel",
          "state": {
            "_view_name": "HTMLView",
            "style": "IPY_MODEL_4a2c519d537841f69e325c3bb8e469d4",
            "_dom_classes": [],
            "description": "",
            "_model_name": "HTMLModel",
            "placeholder": "​",
            "_view_module": "@jupyter-widgets/controls",
            "_model_module_version": "1.5.0",
            "value": " 5120/? [26:22&lt;00:00,  3.24it/s]",
            "_view_count": null,
            "_view_module_version": "1.5.0",
            "description_tooltip": null,
            "_model_module": "@jupyter-widgets/controls",
            "layout": "IPY_MODEL_f2054b9c8d1046e59e77485944c69c9e"
          }
        },
        "da50d62065b04455992a1e0ee1301bcf": {
          "model_module": "@jupyter-widgets/controls",
          "model_name": "ProgressStyleModel",
          "state": {
            "_view_name": "StyleView",
            "_model_name": "ProgressStyleModel",
            "description_width": "initial",
            "_view_module": "@jupyter-widgets/base",
            "_model_module_version": "1.5.0",
            "_view_count": null,
            "_view_module_version": "1.2.0",
            "bar_color": null,
            "_model_module": "@jupyter-widgets/controls"
          }
        },
        "f76b7f5cfffc4d6f9ef4b99447cb3aff": {
          "model_module": "@jupyter-widgets/base",
          "model_name": "LayoutModel",
          "state": {
            "_view_name": "LayoutView",
            "grid_template_rows": null,
            "right": null,
            "justify_content": null,
            "_view_module": "@jupyter-widgets/base",
            "overflow": null,
            "_model_module_version": "1.2.0",
            "_view_count": null,
            "flex_flow": null,
            "width": null,
            "min_width": null,
            "border": null,
            "align_items": null,
            "bottom": null,
            "_model_module": "@jupyter-widgets/base",
            "top": null,
            "grid_column": null,
            "overflow_y": null,
            "overflow_x": null,
            "grid_auto_flow": null,
            "grid_area": null,
            "grid_template_columns": null,
            "flex": null,
            "_model_name": "LayoutModel",
            "justify_items": null,
            "grid_row": null,
            "max_height": null,
            "align_content": null,
            "visibility": null,
            "align_self": null,
            "height": null,
            "min_height": null,
            "padding": null,
            "grid_auto_rows": null,
            "grid_gap": null,
            "max_width": null,
            "order": null,
            "_view_module_version": "1.2.0",
            "grid_template_areas": null,
            "object_position": null,
            "object_fit": null,
            "grid_auto_columns": null,
            "margin": null,
            "display": null,
            "left": null
          }
        },
        "4a2c519d537841f69e325c3bb8e469d4": {
          "model_module": "@jupyter-widgets/controls",
          "model_name": "DescriptionStyleModel",
          "state": {
            "_view_name": "StyleView",
            "_model_name": "DescriptionStyleModel",
            "description_width": "",
            "_view_module": "@jupyter-widgets/base",
            "_model_module_version": "1.5.0",
            "_view_count": null,
            "_view_module_version": "1.2.0",
            "_model_module": "@jupyter-widgets/controls"
          }
        },
        "f2054b9c8d1046e59e77485944c69c9e": {
          "model_module": "@jupyter-widgets/base",
          "model_name": "LayoutModel",
          "state": {
            "_view_name": "LayoutView",
            "grid_template_rows": null,
            "right": null,
            "justify_content": null,
            "_view_module": "@jupyter-widgets/base",
            "overflow": null,
            "_model_module_version": "1.2.0",
            "_view_count": null,
            "flex_flow": null,
            "width": null,
            "min_width": null,
            "border": null,
            "align_items": null,
            "bottom": null,
            "_model_module": "@jupyter-widgets/base",
            "top": null,
            "grid_column": null,
            "overflow_y": null,
            "overflow_x": null,
            "grid_auto_flow": null,
            "grid_area": null,
            "grid_template_columns": null,
            "flex": null,
            "_model_name": "LayoutModel",
            "justify_items": null,
            "grid_row": null,
            "max_height": null,
            "align_content": null,
            "visibility": null,
            "align_self": null,
            "height": null,
            "min_height": null,
            "padding": null,
            "grid_auto_rows": null,
            "grid_gap": null,
            "max_width": null,
            "order": null,
            "_view_module_version": "1.2.0",
            "grid_template_areas": null,
            "object_position": null,
            "object_fit": null,
            "grid_auto_columns": null,
            "margin": null,
            "display": null,
            "left": null
          }
        }
      }
    }
  },
  "cells": [
    {
      "cell_type": "code",
      "metadata": {
        "colab": {
          "base_uri": "https://localhost:8080/"
        },
        "id": "QBRaIhH1RWX5",
        "outputId": "8c7d9db6-0f83-4e7c-8c79-2fec9c9b2398"
      },
      "source": [
        "'''\n",
        "IST-718: Lab 3 Homework\n",
        "-----------------------\n",
        "Implement at least two approaches for classifying the digits\n",
        "'''\n",
        "\n",
        "# Part-1: Build a CNN using PyTorch\n",
        "\n",
        "import numpy as np\n",
        "import pandas as pd\n",
        "import matplotlib.pyplot as plt\n",
        "\n",
        "import torch\n",
        "import torch.nn as nn  # Has all the essential pkgs for nueral-nets\n",
        "from torch.autograd import Variable\n",
        "\n",
        "import torchvision\n",
        "import torchvision.transforms as transforms\n",
        "from torch.utils.data import Dataset, DataLoader\n",
        "from sklearn.metrics import confusion_matrix\n",
        "\n",
        "device = torch.device(\"cuda:0\" if torch.cuda.is_available() else \"cpu\")\n",
        "\n",
        "# Check if we got the GPU\n",
        "print(device)"
      ],
      "execution_count": 11,
      "outputs": [
        {
          "output_type": "stream",
          "text": [
            "cuda:0\n"
          ],
          "name": "stdout"
        }
      ]
    },
    {
      "cell_type": "code",
      "metadata": {
        "colab": {
          "base_uri": "https://localhost:8080/",
          "height": 437,
          "referenced_widgets": [
            "9490315267364728a68687defbfd7978",
            "917a47ae5230434e9f75382936764d69",
            "68857c01291e49da87459d7b8b5f443f",
            "927a7905d1f343d2886cdbf1c00d2166",
            "452d90a44ca84279bf14083376ec0616",
            "c408cfb2cfc247c59176615b704330ac",
            "bdfde11797d94f9da12af1ea8cabfe41",
            "c8fdb80a3dbe4044867ece8e2272c334",
            "9e86a93738f746589c3ee12d09840aef",
            "5ce4d34281744cf08a58114eaa332682",
            "f56efb88aa434db1a387e8642d73ba41",
            "0a279c45786349f98153117918fc112d",
            "53c47cd69b4f474d890c4c3625961fef",
            "170e10639f7d4e9da94b55857939b14b",
            "7be16f7a4e2d4fa8a1356da588365255",
            "dd7b3d225b7d4d8aae3c616167a2e797",
            "a7560cc9cf3b4eec9da0ed176feed05d",
            "78f91b84ac284da183e46ea9d03746be",
            "d478b40a661547f3be05011d32f4bca7",
            "41aa2de34e164e3d8efd1948c60d0919",
            "b6e6cd1740a7430ba3a880f6a07abeb1",
            "7c0e1b8f1a6d4773b1ef1debe35df821",
            "0b1e9debc1ce48d3808a69891df6de01",
            "26009f122c984536ab1c8c06aeefd6d7",
            "7ec6d9f54908471dae2344136af9f9a2",
            "12a0a839327c4178a34dda2e86b32f01",
            "d57bddbecba345f1a41f499658da27de",
            "807df53fa7ca4f9380ff12049dd09e77",
            "da50d62065b04455992a1e0ee1301bcf",
            "f76b7f5cfffc4d6f9ef4b99447cb3aff",
            "4a2c519d537841f69e325c3bb8e469d4",
            "f2054b9c8d1046e59e77485944c69c9e"
          ]
        },
        "id": "MXPBJ1VuUAPt",
        "outputId": "393d9284-5e16-4fe5-e732-2f5d365324e4"
      },
      "source": [
        "# Get the Fashion MNIST data from torchvision\n",
        "train_set = torchvision.datasets.MNIST(\"./data_mnist\", download=True, transform=\n",
        "                                       transforms.Compose([transforms.ToTensor()]))\n",
        "test_set = torchvision.datasets.MNIST(\"./data_mnist\", download=True, train=False, transform=\n",
        "                                      transforms.Compose([transforms.ToTensor()])) \n",
        "\n",
        "# Load the Fashion MNIST data\n",
        "train_loader = torch.utils.data.DataLoader(train_set, \n",
        "                                           batch_size=100)\n",
        "test_loader = torch.utils.data.DataLoader(test_set,\n",
        "                                          batch_size=100)"
      ],
      "execution_count": 12,
      "outputs": [
        {
          "output_type": "stream",
          "text": [
            "Downloading http://yann.lecun.com/exdb/mnist/train-images-idx3-ubyte.gz to ./data_mnist/MNIST/raw/train-images-idx3-ubyte.gz\n"
          ],
          "name": "stdout"
        },
        {
          "output_type": "display_data",
          "data": {
            "application/vnd.jupyter.widget-view+json": {
              "model_id": "9490315267364728a68687defbfd7978",
              "version_minor": 0,
              "version_major": 2
            },
            "text/plain": [
              "HBox(children=(FloatProgress(value=0.0, max=9912422.0), HTML(value='')))"
            ]
          },
          "metadata": {
            "tags": []
          }
        },
        {
          "output_type": "stream",
          "text": [
            "\n",
            "Extracting ./data_mnist/MNIST/raw/train-images-idx3-ubyte.gz to ./data_mnist/MNIST/raw\n",
            "Downloading http://yann.lecun.com/exdb/mnist/train-labels-idx1-ubyte.gz to ./data_mnist/MNIST/raw/train-labels-idx1-ubyte.gz\n"
          ],
          "name": "stdout"
        },
        {
          "output_type": "display_data",
          "data": {
            "application/vnd.jupyter.widget-view+json": {
              "model_id": "9e86a93738f746589c3ee12d09840aef",
              "version_minor": 0,
              "version_major": 2
            },
            "text/plain": [
              "HBox(children=(FloatProgress(value=0.0, max=28881.0), HTML(value='')))"
            ]
          },
          "metadata": {
            "tags": []
          }
        },
        {
          "output_type": "stream",
          "text": [
            "\n",
            "Extracting ./data_mnist/MNIST/raw/train-labels-idx1-ubyte.gz to ./data_mnist/MNIST/raw\n",
            "Downloading http://yann.lecun.com/exdb/mnist/t10k-images-idx3-ubyte.gz to ./data_mnist/MNIST/raw/t10k-images-idx3-ubyte.gz\n"
          ],
          "name": "stdout"
        },
        {
          "output_type": "display_data",
          "data": {
            "application/vnd.jupyter.widget-view+json": {
              "model_id": "a7560cc9cf3b4eec9da0ed176feed05d",
              "version_minor": 0,
              "version_major": 2
            },
            "text/plain": [
              "HBox(children=(FloatProgress(value=0.0, max=1648877.0), HTML(value='')))"
            ]
          },
          "metadata": {
            "tags": []
          }
        },
        {
          "output_type": "stream",
          "text": [
            "\n",
            "Extracting ./data_mnist/MNIST/raw/t10k-images-idx3-ubyte.gz to ./data_mnist/MNIST/raw\n",
            "Downloading http://yann.lecun.com/exdb/mnist/t10k-labels-idx1-ubyte.gz to ./data_mnist/MNIST/raw/t10k-labels-idx1-ubyte.gz\n"
          ],
          "name": "stdout"
        },
        {
          "output_type": "display_data",
          "data": {
            "application/vnd.jupyter.widget-view+json": {
              "model_id": "7ec6d9f54908471dae2344136af9f9a2",
              "version_minor": 0,
              "version_major": 2
            },
            "text/plain": [
              "HBox(children=(FloatProgress(value=0.0, max=4542.0), HTML(value='')))"
            ]
          },
          "metadata": {
            "tags": []
          }
        },
        {
          "output_type": "stream",
          "text": [
            "\n",
            "Extracting ./data_mnist/MNIST/raw/t10k-labels-idx1-ubyte.gz to ./data_mnist/MNIST/raw\n",
            "Processing...\n",
            "Done!\n"
          ],
          "name": "stdout"
        },
        {
          "output_type": "stream",
          "text": [
            "/usr/local/lib/python3.7/dist-packages/torchvision/datasets/mnist.py:479: UserWarning: The given NumPy array is not writeable, and PyTorch does not support non-writeable tensors. This means you can write to the underlying (supposedly non-writeable) NumPy array using the tensor. You may want to copy the array to protect its data or make it writeable before converting it to a tensor. This type of warning will be suppressed for the rest of this program. (Triggered internally at  /pytorch/torch/csrc/utils/tensor_numpy.cpp:143.)\n",
            "  return torch.from_numpy(parsed.astype(m[2], copy=False)).view(*s)\n"
          ],
          "name": "stderr"
        }
      ]
    },
    {
      "cell_type": "code",
      "metadata": {
        "colab": {
          "base_uri": "https://localhost:8080/"
        },
        "id": "kCcPD0qEY6-m",
        "outputId": "42263e9c-c22c-412f-b9a2-704cd12aae1e"
      },
      "source": [
        "# Validate size of data (we expect to have 60k MNIST images in the train-set)\n",
        "print('Train images - %d' %len(train_set))\n",
        "\n",
        "# Validate size of data (we expect to have 10k MNIST images in the test-set)\n",
        "print('Test set - %d' %len(test_set))\n",
        "\n",
        "sample = next(iter(train_loader))\n",
        "sample[0].size()"
      ],
      "execution_count": 14,
      "outputs": [
        {
          "output_type": "stream",
          "text": [
            "Train images - 60000\n",
            "Test set - 10000\n"
          ],
          "name": "stdout"
        },
        {
          "output_type": "execute_result",
          "data": {
            "text/plain": [
              "torch.Size([100, 1, 28, 28])"
            ]
          },
          "metadata": {
            "tags": []
          },
          "execution_count": 14
        }
      ]
    },
    {
      "cell_type": "code",
      "metadata": {
        "colab": {
          "base_uri": "https://localhost:8080/",
          "height": 282
        },
        "id": "uw_a0P-2ZF0E",
        "outputId": "c6ace26c-e279-444e-c72f-188799786c20"
      },
      "source": [
        "# Explore the data\n",
        "image, label = next(iter(train_set))\n",
        "plt.imshow(image.squeeze(), cmap=\"gray\")"
      ],
      "execution_count": 16,
      "outputs": [
        {
          "output_type": "stream",
          "text": [
            "5\n"
          ],
          "name": "stdout"
        },
        {
          "output_type": "display_data",
          "data": {
            "image/png": "[encoded data removed]",
            "text/plain": [
              "<Figure size 432x288 with 1 Axes>"
            ]
          },
          "metadata": {
            "tags": [],
            "needs_background": "light"
          }
        }
      ]
    },
    {
      "cell_type": "code",
      "metadata": {
        "colab": {
          "base_uri": "https://localhost:8080/",
          "height": 156
        },
        "id": "pdi99LR8ZZhp",
        "outputId": "3490900e-e4e1-4954-8208-712a02e12f66"
      },
      "source": [
        "demo_loader = torch.utils.data.DataLoader(train_set, batch_size=10)\n",
        "\n",
        "batch = next(iter(demo_loader))\n",
        "images, labels = batch\n",
        "\n",
        "grid = torchvision.utils.make_grid(images, nrow=10)\n",
        "\n",
        "plt.figure(figsize=(15, 20))\n",
        "plt.imshow(np.transpose(grid, (1, 2, 0)))"
      ],
      "execution_count": 17,
      "outputs": [
        {
          "output_type": "execute_result",
          "data": {
            "text/plain": [
              "<matplotlib.image.AxesImage at 0x7f5d46cfc150>"
            ]
          },
          "metadata": {
            "tags": []
          },
          "execution_count": 17
        },
        {
          "output_type": "display_data",
          "data": {
            "image/png": "[encoded data removed]",
            "text/plain": [
              "<Figure size 1080x1440 with 1 Axes>"
            ]
          },
          "metadata": {
            "tags": [],
            "needs_background": "light"
          }
        }
      ]
    },
    {
      "cell_type": "code",
      "metadata": {
        "id": "8fAMN594Zlx0"
      },
      "source": [
        "'''\n",
        "Setting up CNN\n",
        "--------------\n",
        "(1) Two Sequential layers. Each consists:\n",
        "  - Convolution stage:\n",
        "     - with kernel size of 3 * 3, padding = 1  and 0 respectively \n",
        "     - stride 1\n",
        "  - Normalization stage\n",
        "  - Detector stage\n",
        "     - Activation function: ReLU (Rectified linear activation function)\n",
        "  - Pooling stage (Max pooling)\n",
        "     - with kernel size of 2 * 2\n",
        "     - stride 2\n",
        "\n",
        "(2) Fully connected or dense layers\n",
        "  - 3x Fully connected layers with different in/out features\n",
        "\n",
        "(3) Dropout layer that has class probability p = 0.25\n",
        "\n",
        "All the functionality is given in forward method that defines the forward \n",
        "pass of CNN\n",
        "\n",
        "NOTE: We don't use a softmax/sigmoid activation on the output layer and instead \n",
        "allow Pytorch to apply the built-in Cross-entropy function\n",
        "''' \n",
        "\n",
        "class CNN(nn.Module):\n",
        "    \n",
        "    def __init__(self):\n",
        "        super(CNN, self).__init__()\n",
        "        \n",
        "        # First convolutional layer\n",
        "        self.layer1 = nn.Sequential(\n",
        "            nn.Conv2d(in_channels=1, out_channels=32, kernel_size=3, padding=1),\n",
        "            nn.BatchNorm2d(32),\n",
        "            nn.ReLU(),\n",
        "            nn.MaxPool2d(kernel_size=2, stride=2)\n",
        "        )\n",
        "        \n",
        "        # Second convoultional layer\n",
        "        self.layer2 = nn.Sequential(\n",
        "            nn.Conv2d(in_channels=32, out_channels=64, kernel_size=3),\n",
        "            nn.BatchNorm2d(64),\n",
        "            nn.ReLU(),\n",
        "            nn.MaxPool2d(2)\n",
        "        )\n",
        "        \n",
        "        # Define the fully-connected/dense layers\n",
        "        self.fc1 = nn.Linear(in_features=64*6*6, out_features=600)\n",
        "        \n",
        "        # Adjust the weights and the bias via a Dropout layer\n",
        "        self.drop = nn.Dropout2d(0.25)\n",
        " \n",
        "        self.fc2 = nn.Linear(in_features=600, out_features=120)\n",
        "        \n",
        "        # Define a final dense layer with outputs equal to number of labels\n",
        "        self.fc3 = nn.Linear(in_features=120, out_features=10)\n",
        "        \n",
        "    def forward(self, x):\n",
        "        out = self.layer1(x)\n",
        "        out = self.layer2(out)\n",
        "        out = out.view(out.size(0), -1)\n",
        "        out = self.fc1(out)\n",
        "        out = self.drop(out)\n",
        "        out = self.fc2(out)\n",
        "        out = self.fc3(out)\n",
        "        \n",
        "        return out"
      ],
      "execution_count": 23,
      "outputs": []
    },
    {
      "cell_type": "code",
      "metadata": {
        "colab": {
          "base_uri": "https://localhost:8080/"
        },
        "id": "X6R1dzj5ZuF6",
        "outputId": "67a5abb2-6af1-4d5d-df5f-9a6cfdf69853"
      },
      "source": [
        "model = CNN()\n",
        "model.to(device)\n",
        "\n",
        "error = nn.CrossEntropyLoss()\n",
        "\n",
        "# Adjust the amount of weights that are updated by error gradient\n",
        "learning_rate = 0.001\n",
        "\n",
        "# torch.optim offers various optimizers like SGM, Adam etc.\n",
        "optimizer = torch.optim.Adam(model.parameters(), lr=learning_rate)\n",
        "\n",
        "# Check the final model\n",
        "print(model)"
      ],
      "execution_count": 22,
      "outputs": [
        {
          "output_type": "stream",
          "text": [
            "CNN(\n",
            "  (layer1): Sequential(\n",
            "    (0): Conv2d(1, 32, kernel_size=(3, 3), stride=(1, 1), padding=(1, 1))\n",
            "    (1): BatchNorm2d(32, eps=1e-05, momentum=0.1, affine=True, track_running_stats=True)\n",
            "    (2): ReLU()\n",
            "    (3): MaxPool2d(kernel_size=2, stride=2, padding=0, dilation=1, ceil_mode=False)\n",
            "  )\n",
            "  (layer2): Sequential(\n",
            "    (0): Conv2d(32, 64, kernel_size=(3, 3), stride=(1, 1))\n",
            "    (1): BatchNorm2d(64, eps=1e-05, momentum=0.1, affine=True, track_running_stats=True)\n",
            "    (2): ReLU()\n",
            "    (3): MaxPool2d(kernel_size=2, stride=2, padding=0, dilation=1, ceil_mode=False)\n",
            "  )\n",
            "  (fc1): Linear(in_features=2304, out_features=600, bias=True)\n",
            "  (drop): Dropout2d(p=0.5, inplace=False)\n",
            "  (fc2): Linear(in_features=600, out_features=120, bias=True)\n",
            "  (fc3): Linear(in_features=120, out_features=10, bias=True)\n",
            ")\n"
          ],
          "name": "stdout"
        }
      ]
    },
    {
      "cell_type": "code",
      "metadata": {
        "colab": {
          "base_uri": "https://localhost:8080/"
        },
        "id": "XQAzhz2yahoE",
        "outputId": "73bd21de-364f-455b-ddff-5a532d3b554f"
      },
      "source": [
        "import timeit\n",
        "\n",
        "def run_cnn_model():\n",
        "    # Training the network and testing it on the test dataset\n",
        "    num_epochs = 5\n",
        "    count = 0\n",
        "\n",
        "    # Lists for visualization of loss and accuracy \n",
        "    loss_list = []\n",
        "    iteration_list = []\n",
        "    accuracy_list = []\n",
        "\n",
        "    # Lists for knowing classwise accuracy\n",
        "    predictions_list = []\n",
        "    labels_list = []\n",
        "    for epoch in range(num_epochs):\n",
        "        for images, labels in train_loader:\n",
        "            # Transfering images and labels to GPU if available\n",
        "            images, labels = images.to(device), labels.to(device)\n",
        "    \n",
        "            train = Variable(images.view(100, 1, 28, 28))\n",
        "            labels = Variable(labels)\n",
        "        \n",
        "            # Forward pass \n",
        "            outputs = model(train)\n",
        "            loss = error(outputs, labels)\n",
        "        \n",
        "            # Initializing a gradient as 0 so there is no mixing of gradient among the batches\n",
        "            optimizer.zero_grad()\n",
        "        \n",
        "            # Propagating the error backward\n",
        "            loss.backward()\n",
        "        \n",
        "            # Optimizing the parameters\n",
        "            optimizer.step()\n",
        "    \n",
        "            count += 1\n",
        "    \n",
        "        # Testing the model\n",
        "            if not (count % 50):   \n",
        "                total = 0\n",
        "                correct = 0\n",
        "\n",
        "                for images, labels in test_loader:\n",
        "                    images, labels = images.to(device), labels.to(device)\n",
        "                    labels_list.append(labels)\n",
        "            \n",
        "                    # Wrap the tensor with Variable() to easily compute gradient\n",
        "                    test = Variable(images.view(100, 1, 28, 28))\n",
        "            \n",
        "                    outputs = model(test)\n",
        "            \n",
        "                    predictions = torch.max(outputs, 1)[1].to(device)\n",
        "                    predictions_list.append(predictions)\n",
        "                    correct += (predictions == labels).sum()\n",
        "                    total += len(labels)\n",
        "            \n",
        "                accuracy = correct * 100 / total\n",
        "                loss_list.append(loss.data)\n",
        "                iteration_list.append(count)\n",
        "                accuracy_list.append(accuracy)\n",
        "        \n",
        "            if not (count % 500):\n",
        "                print(\"Iteration: {}, Loss: {}, Accuracy: {}%\".format(count, loss.data, accuracy))\n",
        "        \n",
        "    return(iteration_list, loss_list, accuracy_list)\n",
        "\n",
        "# Setup constructs for timeit module\n",
        "SETUP_CODE = '''\n",
        "from __main__ import run_cnn_model\n",
        "'''\n",
        "TEST_CODE = '''\n",
        "iteration_list, loss_list, accuracy_list = run_cnn_model()\n",
        "'''\n",
        "\n",
        "#  Run the model using timeit()\n",
        "timeit.timeit(setup=SETUP_CODE, stmt=TEST_CODE, number=1)"
      ],
      "execution_count": 24,
      "outputs": [
        {
          "output_type": "stream",
          "text": [
            "Iteration: 500, Loss: 0.20407743752002716, Accuracy: 94.55999755859375%\n",
            "Iteration: 1000, Loss: 0.1611713171005249, Accuracy: 97.04999542236328%\n",
            "Iteration: 1500, Loss: 0.15159371495246887, Accuracy: 97.72000122070312%\n",
            "Iteration: 2000, Loss: 0.01575990952551365, Accuracy: 98.22000122070312%\n",
            "Iteration: 2500, Loss: 0.0031221627723425627, Accuracy: 98.54999542236328%\n",
            "Iteration: 3000, Loss: 0.13699766993522644, Accuracy: 98.93999481201172%\n"
          ],
          "name": "stdout"
        },
        {
          "output_type": "execute_result",
          "data": {
            "text/plain": [
              "66.11543390500015"
            ]
          },
          "metadata": {
            "tags": []
          },
          "execution_count": 24
        }
      ]
    },
    {
      "cell_type": "code",
      "metadata": {
        "colab": {
          "base_uri": "https://localhost:8080/"
        },
        "id": "2w0IJvYTbN5b",
        "outputId": "22c251f4-57c5-4efb-e506-0a95ebaf2bd6"
      },
      "source": [
        "# Calculate the accuracy per class\n",
        "class_correct = [0. for _ in range(10)]\n",
        "total_correct = [0. for _ in range(10)]\n",
        "\n",
        "with torch.no_grad():\n",
        "    for images, labels in test_loader:\n",
        "        images, labels = images.to(device), labels.to(device)\n",
        "        test = Variable(images)\n",
        "        outputs = model(test)\n",
        "        predicted = torch.max(outputs, 1)[1]\n",
        "        c = (predicted == labels).squeeze()\n",
        "        \n",
        "        for i in range(100):\n",
        "            label = labels[i]\n",
        "            class_correct[label] += c[i].item()\n",
        "            total_correct[label] += 1\n",
        "        \n",
        "for i in range(10):\n",
        "    print(\"Accuracy of {}: {:.2f}%\".format(i, class_correct[i] * 100 / total_correct[i]))"
      ],
      "execution_count": 25,
      "outputs": [
        {
          "output_type": "stream",
          "text": [
            "Accuracy of 0: 99.49%\n",
            "Accuracy of 1: 99.74%\n",
            "Accuracy of 2: 99.13%\n",
            "Accuracy of 3: 99.11%\n",
            "Accuracy of 4: 98.37%\n",
            "Accuracy of 5: 99.10%\n",
            "Accuracy of 6: 98.64%\n",
            "Accuracy of 7: 98.54%\n",
            "Accuracy of 8: 99.18%\n",
            "Accuracy of 9: 98.71%\n"
          ],
          "name": "stdout"
        }
      ]
    },
    {
      "cell_type": "code",
      "metadata": {
        "colab": {
          "base_uri": "https://localhost:8080/"
        },
        "id": "mNR8oiZYbrkC",
        "outputId": "63a0d3af-737e-4c4d-d563-184b95b4e846"
      },
      "source": [
        "# Part-2: Build a Multi-layer Perceptron model using Keras\n",
        "\n",
        "import tensorflow as tf\n",
        "from tensorflow import keras\n",
        "from tensorflow.keras.datasets import mnist\n",
        "from tensorflow.keras.models import Sequential\n",
        "from tensorflow.keras.layers import Dense\n",
        "from tensorflow.keras.layers import Dropout\n",
        "from tensorflow.keras.layers import Flatten\n",
        "from tensorflow.keras.layers import Conv2D\n",
        "from tensorflow.keras.layers import MaxPooling2D\n",
        "from tensorflow.keras import utils\n",
        "from tensorflow.keras import backend as K\n",
        "K.image_data_format()\n",
        "\n",
        "(x_train, y_train), (x_test, y_test) = mnist.load_data()\n",
        "\n",
        "print('Rows: %d, columns: %d' % (x_train.shape[0], x_train.shape[1]))\n",
        "print('Rows: %d, columns: %d' % (x_test.shape[0], x_test.shape[1]))"
      ],
      "execution_count": 66,
      "outputs": [
        {
          "output_type": "stream",
          "text": [
            "Rows: 60000, columns: 28\n",
            "Rows: 10000, columns: 28\n"
          ],
          "name": "stdout"
        }
      ]
    },
    {
      "cell_type": "code",
      "metadata": {
        "colab": {
          "base_uri": "https://localhost:8080/",
          "height": 303
        },
        "id": "NDD73FkNlf8C",
        "outputId": "7020d7f3-a196-4825-eac6-35ac38e10e1d"
      },
      "source": [
        "# sample 25 mnist digits from train dataset\n",
        "indexes = np.random.randint(0, x_train.shape[0], size=25)\n",
        "images = x_train[indexes]\n",
        "labels = y_train[indexes]\n",
        "\n",
        "\n",
        "# plot the 25 mnist digits\n",
        "plt.figure(figsize=(5,5))\n",
        "for i in range(len(indexes)):\n",
        "    plt.subplot(5, 5, i + 1)\n",
        "    image = images[i]\n",
        "    plt.imshow(image, cmap='gray')\n",
        "    plt.axis('off')\n",
        "    \n",
        "plt.show()\n",
        "plt.savefig(\"mnist-samples.png\")\n",
        "plt.close('all')"
      ],
      "execution_count": 67,
      "outputs": [
        {
          "output_type": "display_data",
          "data": {
            "image/png": "[encoded data removed]",
            "text/plain": [
              "<Figure size 360x360 with 25 Axes>"
            ]
          },
          "metadata": {
            "tags": [],
            "needs_background": "light"
          }
        }
      ]
    },
    {
      "cell_type": "code",
      "metadata": {
        "colab": {
          "base_uri": "https://localhost:8080/"
        },
        "id": "WWcm4J5-gjON",
        "outputId": "1324d8e8-561d-4a0a-e8b1-267f81a76593"
      },
      "source": [
        "# convert to one-hot vector\n",
        "y_train = to_categorical(y_train)\n",
        "y_test = to_categorical(y_test)\n",
        "\n",
        "# image dimensions (assumed square)\n",
        "image_size = x_train.shape[1]\n",
        "input_size = image_size * image_size\n",
        "input_size"
      ],
      "execution_count": 68,
      "outputs": [
        {
          "output_type": "execute_result",
          "data": {
            "text/plain": [
              "784"
            ]
          },
          "metadata": {
            "tags": []
          },
          "execution_count": 68
        }
      ]
    },
    {
      "cell_type": "code",
      "metadata": {
        "colab": {
          "base_uri": "https://localhost:8080/"
        },
        "id": "iTUC6bf6rYEK",
        "outputId": "80d4b32a-3c70-40e8-b051-c57dec2fd2fb"
      },
      "source": [
        "# resize and normalize\n",
        "x_train = np.reshape(x_train, [-1, input_size])\n",
        "x_train = x_train.astype('float32') / 255\n",
        "x_test = np.reshape(x_test, [-1, input_size])\n",
        "x_test = x_test.astype('float32') / 255\n",
        "\n",
        "print(x_train.shape, y_train.shape)"
      ],
      "execution_count": 69,
      "outputs": [
        {
          "output_type": "stream",
          "text": [
            "(60000, 784) (60000, 10)\n"
          ],
          "name": "stdout"
        }
      ]
    },
    {
      "cell_type": "code",
      "metadata": {
        "id": "E-83FAHIda7v"
      },
      "source": [
        "NUM_CATEGORIES = 10\n",
        "\n",
        "# Build the model\n",
        "mlp_model = Sequential()\n",
        "\n",
        "mlp_model.add(Dense(512, input_dim = input_size))\n",
        "mlp_model.add(Activation('relu'))\n",
        "\n",
        "mlp_model.add(Dense(512))\n",
        "mlp_model.add(Activation('relu'))\n",
        "\n",
        "mlp_model.add(Dense(512))\n",
        "mlp_model.add(Activation('relu'))\n",
        "\n",
        "mlp_model.add(Dense(NUM_CATEGORIES))\n",
        "mlp_model.add(Activation('softmax'))\n",
        "\n",
        "# compile it - categorical crossentropy is for multiple choice classification\n",
        "mlp_model.compile(optimizer='rmsprop',\n",
        "                  loss='categorical_crossentropy',\n",
        "                  metrics=['accuracy'])"
      ],
      "execution_count": 70,
      "outputs": []
    },
    {
      "cell_type": "code",
      "metadata": {
        "colab": {
          "base_uri": "https://localhost:8080/"
        },
        "id": "_IWgHJ0adfjA",
        "outputId": "eaa4904d-315d-4ade-ca09-bdd23d1602fe"
      },
      "source": [
        "# Train and validate the model\n",
        "def run_mlp_model():\n",
        "  mlp_model.fit(x_train, y_train,\n",
        "            epochs = 5,\n",
        "            batch_size = 100,\n",
        "            validation_data = (x_test, y_test))\n",
        "  \n",
        "  \n",
        "# Setup constructs for timeit module\n",
        "SETUP_CODE = '''\n",
        "from __main__ import run_mlp_model\n",
        "'''\n",
        "TEST_CODE = '''\n",
        "mlp_model = run_mlp_model()\n",
        "'''\n",
        "\n",
        "#  Run the model using timeit()\n",
        "timeit.timeit(setup=SETUP_CODE, stmt=TEST_CODE, number=1)"
      ],
      "execution_count": 79,
      "outputs": [
        {
          "output_type": "stream",
          "text": [
            "Epoch 1/5\n",
            "600/600 [==============================] - 2s 3ms/step - loss: 0.0168 - accuracy: 0.9980 - val_loss: 0.2919 - val_accuracy: 0.9828\n",
            "Epoch 2/5\n",
            "600/600 [==============================] - 2s 3ms/step - loss: 0.0160 - accuracy: 0.9977 - val_loss: 0.3380 - val_accuracy: 0.9834\n",
            "Epoch 3/5\n",
            "600/600 [==============================] - 2s 3ms/step - loss: 0.0141 - accuracy: 0.9983 - val_loss: 0.4064 - val_accuracy: 0.9818\n",
            "Epoch 4/5\n",
            "600/600 [==============================] - 2s 3ms/step - loss: 0.0202 - accuracy: 0.9978 - val_loss: 0.3362 - val_accuracy: 0.9823\n",
            "Epoch 5/5\n",
            "600/600 [==============================] - 2s 3ms/step - loss: 0.0145 - accuracy: 0.9980 - val_loss: 0.4664 - val_accuracy: 0.9796\n",
            "Epoch 1/5\n",
            "600/600 [==============================] - 2s 3ms/step - loss: 0.0158 - accuracy: 0.9980 - val_loss: 0.4610 - val_accuracy: 0.9833\n",
            "Epoch 2/5\n",
            "600/600 [==============================] - 2s 3ms/step - loss: 0.0192 - accuracy: 0.9981 - val_loss: 0.3343 - val_accuracy: 0.9847\n",
            "Epoch 3/5\n",
            "600/600 [==============================] - 2s 3ms/step - loss: 0.0132 - accuracy: 0.9982 - val_loss: 0.3919 - val_accuracy: 0.9844\n",
            "Epoch 4/5\n",
            "600/600 [==============================] - 2s 3ms/step - loss: 0.0135 - accuracy: 0.9981 - val_loss: 0.3757 - val_accuracy: 0.9843\n",
            "Epoch 5/5\n",
            "600/600 [==============================] - 2s 3ms/step - loss: 0.0142 - accuracy: 0.9985 - val_loss: 0.4344 - val_accuracy: 0.9834\n"
          ],
          "name": "stdout"
        }
      ]
    },
    {
      "cell_type": "code",
      "metadata": {
        "colab": {
          "base_uri": "https://localhost:8080/",
          "height": 821
        },
        "id": "B7x3YrGEveId",
        "outputId": "84613fa4-a34d-4ed2-bd3f-b72c0ec0ea7a"
      },
      "source": [
        "# Run the model/validation again to plot the train vs validation accuracy\n",
        "history = mlp_model.fit(x_train, y_train,\n",
        "            epochs = 5,\n",
        "            batch_size = 100,\n",
        "            validation_data = (x_test, y_test))\n",
        "\n",
        "def plot_train_curve(history):\n",
        "    colors = ['#e66101','#fdb863','#b2abd2','#5e3c99']\n",
        "    accuracy = history.history['accuracy']\n",
        "    val_accuracy = history.history['val_accuracy']\n",
        "    loss = history.history['loss']\n",
        "    val_loss = history.history['val_loss']\n",
        "    epochs = range(len(accuracy))\n",
        "    with plt.style.context(\"ggplot\"):\n",
        "        plt.figure(figsize=(8, 8/1.618))\n",
        "        plt.plot(epochs, accuracy, marker='o', c=colors[3], label='Training accuracy')\n",
        "        plt.plot(epochs, val_accuracy, c=colors[0], label='Validation accuracy')\n",
        "        plt.title('Training and validation accuracy')\n",
        "        plt.legend()\n",
        "        plt.figure(figsize=(8, 8/1.618))\n",
        "        plt.plot(epochs, loss, marker='o', c=colors[3], label='Training loss')\n",
        "        plt.plot(epochs, val_loss, c=colors[0], label='Validation loss')\n",
        "        plt.title('Training and validation loss')\n",
        "        plt.legend()\n",
        "        plt.show()\n",
        "    \n",
        "plot_train_curve(history)"
      ],
      "execution_count": 81,
      "outputs": [
        {
          "output_type": "stream",
          "text": [
            "Epoch 1/5\n",
            "600/600 [==============================] - 2s 3ms/step - loss: 0.0133 - accuracy: 0.9987 - val_loss: 0.4651 - val_accuracy: 0.9835\n",
            "Epoch 2/5\n",
            "600/600 [==============================] - 2s 3ms/step - loss: 0.0164 - accuracy: 0.9982 - val_loss: 0.4629 - val_accuracy: 0.9838\n",
            "Epoch 3/5\n",
            "600/600 [==============================] - 2s 3ms/step - loss: 0.0114 - accuracy: 0.9987 - val_loss: 0.5062 - val_accuracy: 0.9805\n",
            "Epoch 4/5\n",
            "600/600 [==============================] - 2s 3ms/step - loss: 0.0116 - accuracy: 0.9988 - val_loss: 0.5054 - val_accuracy: 0.9821\n",
            "Epoch 5/5\n",
            "600/600 [==============================] - 2s 3ms/step - loss: 0.0082 - accuracy: 0.9990 - val_loss: 0.5360 - val_accuracy: 0.9848\n"
          ],
          "name": "stdout"
        },
        {
          "output_type": "display_data",
          "data": {
            "image/png": "[encoded data removed]",
            "text/plain": [
              "<Figure size 576x355.995 with 1 Axes>"
            ]
          },
          "metadata": {
            "tags": []
          }
        },
        {
          "output_type": "display_data",
          "data": {
            "image/png": "[encoded data removed]",
            "text/plain": [
              "<Figure size 576x355.995 with 1 Axes>"
            ]
          },
          "metadata": {
            "tags": []
          }
        }
      ]
    },
    {
      "cell_type": "code",
      "metadata": {
        "id": "eke0AeTRxq0D"
      },
      "source": [
        "# Adding a couple of drop-layers to see any improvement\n",
        "'''\n",
        "A neural network has the property to memorize the characteristics of training data. This is called overfitting.\n",
        "In such a case, the network fails to generalize when subject to the test data.\n",
        "To avoid this tendency, the model uses a regularizing layer or function. A commonly used regularizing layer is referred to as a Dropout layer.\n",
        "Given a dropout rate (dropout=0.45), the Dropout layer randomly removes the fraction of units from participating in the next layer. \n",
        "For example, if the first layer has 256 units, after dropout=0.45 is applied, only (1 - 0.45) * 256 units = 140 units from layer 1 participate in layer 2.\n",
        "The Dropout layer makes neural networks robust to unforeseen input data because the network is trained to predict correctly, even if some units are missing.\n",
        "'''\n",
        "\n",
        "# Build the model\n",
        "mlp_model = Sequential()\n",
        "\n",
        "mlp_model.add(Dense(512, input_dim = input_size))\n",
        "mlp_model.add(Activation('relu'))\n",
        "\n",
        "# Adding a new drop-out layer\n",
        "mlp_model.add(Dropout(0.15))\n",
        "\n",
        "mlp_model.add(Dense(512))\n",
        "mlp_model.add(Activation('relu'))\n",
        "\n",
        "# Adding a new drop-out layer\n",
        "mlp_model.add(Dropout(0.15))\n",
        "\n",
        "mlp_model.add(Dense(512))\n",
        "mlp_model.add(Activation('relu'))\n",
        "\n",
        "mlp_model.add(Dense(NUM_CATEGORIES))\n",
        "mlp_model.add(Activation('softmax'))\n",
        "\n",
        "# compile it - categorical crossentropy is for multiple choice classification\n",
        "mlp_model.compile(optimizer='rmsprop',\n",
        "                  loss='categorical_crossentropy',\n",
        "                  metrics=['accuracy'])"
      ],
      "execution_count": 83,
      "outputs": []
    },
    {
      "cell_type": "code",
      "metadata": {
        "colab": {
          "base_uri": "https://localhost:8080/",
          "height": 821
        },
        "id": "wLqIoF3NzDW4",
        "outputId": "96a42286-9f2c-4369-e66f-07874a1bd095"
      },
      "source": [
        "# Run the model and validation\n",
        "history = mlp_model.fit(x_train, y_train,\n",
        "            epochs = 5,\n",
        "            batch_size = 100,\n",
        "            validation_data = (x_test, y_test))\n",
        "\n",
        "# Finally, plot the train vs validation accuracy\n",
        "plot_train_curve(history)"
      ],
      "execution_count": 84,
      "outputs": [
        {
          "output_type": "stream",
          "text": [
            "Epoch 1/5\n",
            "600/600 [==============================] - 3s 3ms/step - loss: 0.4284 - accuracy: 0.8628 - val_loss: 0.1554 - val_accuracy: 0.9556\n",
            "Epoch 2/5\n",
            "600/600 [==============================] - 2s 3ms/step - loss: 0.1092 - accuracy: 0.9681 - val_loss: 0.0991 - val_accuracy: 0.9721\n",
            "Epoch 3/5\n",
            "600/600 [==============================] - 2s 3ms/step - loss: 0.0771 - accuracy: 0.9769 - val_loss: 0.0774 - val_accuracy: 0.9789\n",
            "Epoch 4/5\n",
            "600/600 [==============================] - 2s 3ms/step - loss: 0.0701 - accuracy: 0.9809 - val_loss: 0.0847 - val_accuracy: 0.9779\n",
            "Epoch 5/5\n",
            "600/600 [==============================] - 2s 3ms/step - loss: 0.0619 - accuracy: 0.9831 - val_loss: 0.0890 - val_accuracy: 0.9774\n"
          ],
          "name": "stdout"
        },
        {
          "output_type": "display_data",
          "data": {
            "image/png": "[encoded data removed]",
            "text/plain": [
              "<Figure size 576x355.995 with 1 Axes>"
            ]
          },
          "metadata": {
            "tags": []
          }
        },
        {
          "output_type": "display_data",
          "data": {
            "image/png": "[encoded data removed]",
            "text/plain": [
              "<Figure size 576x355.995 with 1 Axes>"
            ]
          },
          "metadata": {
            "tags": []
          }
        }
      ]
    }
  ]
}
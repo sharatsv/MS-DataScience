{
 "cells": [
  {
   "cell_type": "code",
   "execution_count": 39,
   "metadata": {},
   "outputs": [
    {
     "data": {
      "text/html": [
       "<div>\n",
       "<style scoped>\n",
       "    .dataframe tbody tr th:only-of-type {\n",
       "        vertical-align: middle;\n",
       "    }\n",
       "\n",
       "    .dataframe tbody tr th {\n",
       "        vertical-align: top;\n",
       "    }\n",
       "\n",
       "    .dataframe thead th {\n",
       "        text-align: right;\n",
       "    }\n",
       "</style>\n",
       "<table border=\"1\" class=\"dataframe\">\n",
       "  <thead>\n",
       "    <tr style=\"text-align: right;\">\n",
       "      <th></th>\n",
       "      <th>Friends</th>\n",
       "      <th>Time Online</th>\n",
       "    </tr>\n",
       "  </thead>\n",
       "  <tbody>\n",
       "    <tr>\n",
       "      <th>0</th>\n",
       "      <td>8</td>\n",
       "      <td>375</td>\n",
       "    </tr>\n",
       "    <tr>\n",
       "      <th>1</th>\n",
       "      <td>14</td>\n",
       "      <td>657</td>\n",
       "    </tr>\n",
       "    <tr>\n",
       "      <th>2</th>\n",
       "      <td>7</td>\n",
       "      <td>484</td>\n",
       "    </tr>\n",
       "    <tr>\n",
       "      <th>3</th>\n",
       "      <td>7</td>\n",
       "      <td>381</td>\n",
       "    </tr>\n",
       "    <tr>\n",
       "      <th>4</th>\n",
       "      <td>10</td>\n",
       "      <td>589</td>\n",
       "    </tr>\n",
       "  </tbody>\n",
       "</table>\n",
       "</div>"
      ],
      "text/plain": [
       "   Friends  Time Online\n",
       "0        8          375\n",
       "1       14          657\n",
       "2        7          484\n",
       "3        7          381\n",
       "4       10          589"
      ]
     },
     "execution_count": 39,
     "metadata": {},
     "output_type": "execute_result"
    }
   ],
   "source": [
    "import pandas as pd\n",
    "import matplotlib.pyplot as plt\n",
    "import seaborn as sns\n",
    "\n",
    "# Exploring a small data of the Time Spent Online example\n",
    "df = pd.read_csv('friends.csv', delim_whitespace = True, names=['Friends', 'Time Online'])\n",
    "df.head()"
   ]
  },
  {
   "cell_type": "code",
   "execution_count": 45,
   "metadata": {},
   "outputs": [
    {
     "data": {
      "image/png": "[encoded data removed]",
      "text/plain": [
       "<Figure size 432x288 with 1 Axes>"
      ]
     },
     "metadata": {
      "needs_background": "light"
     },
     "output_type": "display_data"
    },
    {
     "data": {
      "image/png": "[encoded data removed]",
      "text/plain": [
       "<Figure size 432x288 with 1 Axes>"
      ]
     },
     "metadata": {
      "needs_background": "light"
     },
     "output_type": "display_data"
    }
   ],
   "source": [
    "# Plot friends vs Time Online\n",
    "sns.swarmplot(x=\"Friends\", y=\"Time Online\", data=df)\n",
    "plt.show()\n",
    "\n",
    "# Also, do a bar-plot to visualize this\n",
    "sns.barplot(x=\"Friends\", y=\"Time Online\", data=df)\n",
    "plt.show()\n",
    "\n",
    "# Both these charts show that there no direct correlation or linear relationship\n",
    "# between number of friends one may have and the amount of time spent online."
   ]
  },
  {
   "cell_type": "code",
   "execution_count": 47,
   "metadata": {},
   "outputs": [
    {
     "name": "stdout",
     "output_type": "stream",
     "text": [
      " Train dataframe: \n",
      "     Friends  Time Online  runiform\n",
      "1        14          657  0.622109\n",
      "2         7          484  0.437728\n",
      "3         7          381  0.785359\n",
      "4        10          589  0.779976\n",
      "7         3          319  0.801872\n",
      "8         8          433  0.958139\n",
      "9         9          529  0.875933\n",
      "10        5          311  0.357817\n",
      "\n",
      " Test dataframe: \n",
      "    Friends  Time Online  runiform\n",
      "0        8          375  0.191519\n",
      "5        8          394  0.272593\n",
      "6       12          476  0.276464\n",
      "\n",
      " Accuracy Prediction:\n",
      " 0.0\n"
     ]
    },
    {
     "name": "stderr",
     "output_type": "stream",
     "text": [
      "<ipython-input-47-2c36d6e53aa9>:25: DataConversionWarning: A column-vector y was passed when a 1d array was expected. Please change the shape of y to (n_samples,), for example using ravel().\n",
      "  rf_model_fit = rf_model_maker.fit(x_train, y_train)\n"
     ]
    }
   ],
   "source": [
    "# Explore a machine-learning model through the Random-Forest algorithm\n",
    "# Not expecting to yield good prediction accuracy - small dataset (10-values)\n",
    "\n",
    "import numpy as np  \n",
    "from scipy.stats import uniform  \n",
    "from sklearn.ensemble import RandomForestRegressor\n",
    "from sklearn import metrics\n",
    "\n",
    "# Split the data into test/train\n",
    "np.random.seed(1234)\n",
    "df['runiform'] = uniform.rvs(loc = 0, scale = 1, size = len(df))\n",
    "df_train = df[df['runiform'] >= 0.33]\n",
    "df_test = df[df['runiform'] < 0.33]\n",
    "\n",
    "# Examine the train/test dataframes\n",
    "print(' Train dataframe: \\n', df_train)\n",
    "print('\\n Test dataframe: \\n', df_test)\n",
    "\n",
    "# Introduce the Random-Forest algorithm\n",
    "rf_model_maker = RandomForestRegressor(random_state = 10)\n",
    "y_train = df_train.loc[:, ['Time Online']]\n",
    "x_train = df_train.loc[:, ['Friends']]\n",
    "\n",
    "# Fit the model\n",
    "rf_model_fit = rf_model_maker.fit(x_train, y_train)\n",
    "\n",
    "# Predict and check for accuracy\n",
    "x_test = df_test.loc[:, ['Friends']]\n",
    "y_pred = rf_model_fit.predict(x_test)\n",
    "y_test = np.array(df_test['Time Online'])\n",
    "\n",
    "accuracy = metrics.accuracy_score(y_test, y_pred.astype(int))\n",
    "print('\\n Accuracy Prediction:\\n', accuracy)"
   ]
  },
  {
   "cell_type": "code",
   "execution_count": null,
   "metadata": {},
   "outputs": [],
   "source": []
  }
 ],
 "metadata": {
  "kernelspec": {
   "display_name": "Python 3",
   "language": "python",
   "name": "python3"
  },
  "language_info": {
   "codemirror_mode": {
    "name": "ipython",
    "version": 3
   },
   "file_extension": ".py",
   "mimetype": "text/x-python",
   "name": "python",
   "nbconvert_exporter": "python",
   "pygments_lexer": "ipython3",
   "version": "3.8.3"
  }
 },
 "nbformat": 4,
 "nbformat_minor": 4
}
